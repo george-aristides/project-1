{
 "cells": [
  {
   "cell_type": "code",
   "execution_count": 2,
   "id": "b1896595-1b63-4cd8-a707-051c839eb08a",
   "metadata": {},
   "outputs": [],
   "source": [
    "import pandas as pd\n",
    "import re\n",
    "import seaborn as sns\n",
    "import matplotlib.pyplot as plt\n",
    "import plotly.express as px\n",
    "from geopy.geocoders import Nominatim\n",
    "import time"
   ]
  },
  {
   "cell_type": "markdown",
   "id": "5116fefc-4c77-4d7d-8891-2a03bf6b8e73",
   "metadata": {},
   "source": [
    "## Intital Breakdown of Data"
   ]
  },
  {
   "cell_type": "code",
   "execution_count": 4,
   "id": "0d855a57-1e54-4c8e-af5d-a703e264bb35",
   "metadata": {},
   "outputs": [
    {
     "data": {
      "text/html": [
       "<div>\n",
       "<style scoped>\n",
       "    .dataframe tbody tr th:only-of-type {\n",
       "        vertical-align: middle;\n",
       "    }\n",
       "\n",
       "    .dataframe tbody tr th {\n",
       "        vertical-align: top;\n",
       "    }\n",
       "\n",
       "    .dataframe thead th {\n",
       "        text-align: right;\n",
       "    }\n",
       "</style>\n",
       "<table border=\"1\" class=\"dataframe\">\n",
       "  <thead>\n",
       "    <tr style=\"text-align: right;\">\n",
       "      <th></th>\n",
       "      <th>tbl</th>\n",
       "      <th>Year</th>\n",
       "      <th>quarter</th>\n",
       "      <th>citymarketid_1</th>\n",
       "      <th>citymarketid_2</th>\n",
       "      <th>city1</th>\n",
       "      <th>city2</th>\n",
       "      <th>airportid_1</th>\n",
       "      <th>airportid_2</th>\n",
       "      <th>airport_1</th>\n",
       "      <th>...</th>\n",
       "      <th>fare</th>\n",
       "      <th>carrier_lg</th>\n",
       "      <th>large_ms</th>\n",
       "      <th>fare_lg</th>\n",
       "      <th>carrier_low</th>\n",
       "      <th>lf_ms</th>\n",
       "      <th>fare_low</th>\n",
       "      <th>Geocoded_City1</th>\n",
       "      <th>Geocoded_City2</th>\n",
       "      <th>tbl1apk</th>\n",
       "    </tr>\n",
       "  </thead>\n",
       "  <tbody>\n",
       "    <tr>\n",
       "      <th>0</th>\n",
       "      <td>Table1a</td>\n",
       "      <td>2021</td>\n",
       "      <td>3</td>\n",
       "      <td>30135</td>\n",
       "      <td>33195</td>\n",
       "      <td>Allentown/Bethlehem/Easton, PA</td>\n",
       "      <td>Tampa, FL (Metropolitan Area)</td>\n",
       "      <td>10135</td>\n",
       "      <td>14112</td>\n",
       "      <td>ABE</td>\n",
       "      <td>...</td>\n",
       "      <td>81.43</td>\n",
       "      <td>G4</td>\n",
       "      <td>1.0000</td>\n",
       "      <td>81.43</td>\n",
       "      <td>G4</td>\n",
       "      <td>1.0000</td>\n",
       "      <td>81.43</td>\n",
       "      <td>NaN</td>\n",
       "      <td>NaN</td>\n",
       "      <td>202131013514112ABEPIE</td>\n",
       "    </tr>\n",
       "    <tr>\n",
       "      <th>1</th>\n",
       "      <td>Table1a</td>\n",
       "      <td>2021</td>\n",
       "      <td>3</td>\n",
       "      <td>30135</td>\n",
       "      <td>33195</td>\n",
       "      <td>Allentown/Bethlehem/Easton, PA</td>\n",
       "      <td>Tampa, FL (Metropolitan Area)</td>\n",
       "      <td>10135</td>\n",
       "      <td>15304</td>\n",
       "      <td>ABE</td>\n",
       "      <td>...</td>\n",
       "      <td>208.93</td>\n",
       "      <td>DL</td>\n",
       "      <td>0.4659</td>\n",
       "      <td>219.98</td>\n",
       "      <td>UA</td>\n",
       "      <td>0.1193</td>\n",
       "      <td>154.11</td>\n",
       "      <td>NaN</td>\n",
       "      <td>NaN</td>\n",
       "      <td>202131013515304ABETPA</td>\n",
       "    </tr>\n",
       "    <tr>\n",
       "      <th>2</th>\n",
       "      <td>Table1a</td>\n",
       "      <td>2021</td>\n",
       "      <td>3</td>\n",
       "      <td>30140</td>\n",
       "      <td>30194</td>\n",
       "      <td>Albuquerque, NM</td>\n",
       "      <td>Dallas/Fort Worth, TX</td>\n",
       "      <td>10140</td>\n",
       "      <td>11259</td>\n",
       "      <td>ABQ</td>\n",
       "      <td>...</td>\n",
       "      <td>184.56</td>\n",
       "      <td>WN</td>\n",
       "      <td>0.9968</td>\n",
       "      <td>184.44</td>\n",
       "      <td>WN</td>\n",
       "      <td>0.9968</td>\n",
       "      <td>184.44</td>\n",
       "      <td>NaN</td>\n",
       "      <td>NaN</td>\n",
       "      <td>202131014011259ABQDAL</td>\n",
       "    </tr>\n",
       "    <tr>\n",
       "      <th>3</th>\n",
       "      <td>Table1a</td>\n",
       "      <td>2021</td>\n",
       "      <td>3</td>\n",
       "      <td>30140</td>\n",
       "      <td>30194</td>\n",
       "      <td>Albuquerque, NM</td>\n",
       "      <td>Dallas/Fort Worth, TX</td>\n",
       "      <td>10140</td>\n",
       "      <td>11298</td>\n",
       "      <td>ABQ</td>\n",
       "      <td>...</td>\n",
       "      <td>182.64</td>\n",
       "      <td>AA</td>\n",
       "      <td>0.9774</td>\n",
       "      <td>183.09</td>\n",
       "      <td>AA</td>\n",
       "      <td>0.9774</td>\n",
       "      <td>183.09</td>\n",
       "      <td>NaN</td>\n",
       "      <td>NaN</td>\n",
       "      <td>202131014011298ABQDFW</td>\n",
       "    </tr>\n",
       "    <tr>\n",
       "      <th>4</th>\n",
       "      <td>Table1a</td>\n",
       "      <td>2021</td>\n",
       "      <td>3</td>\n",
       "      <td>30140</td>\n",
       "      <td>30466</td>\n",
       "      <td>Albuquerque, NM</td>\n",
       "      <td>Phoenix, AZ</td>\n",
       "      <td>10140</td>\n",
       "      <td>14107</td>\n",
       "      <td>ABQ</td>\n",
       "      <td>...</td>\n",
       "      <td>177.11</td>\n",
       "      <td>WN</td>\n",
       "      <td>0.6061</td>\n",
       "      <td>184.49</td>\n",
       "      <td>AA</td>\n",
       "      <td>0.3939</td>\n",
       "      <td>165.77</td>\n",
       "      <td>NaN</td>\n",
       "      <td>NaN</td>\n",
       "      <td>202131014014107ABQPHX</td>\n",
       "    </tr>\n",
       "    <tr>\n",
       "      <th>5</th>\n",
       "      <td>Table1a</td>\n",
       "      <td>2021</td>\n",
       "      <td>3</td>\n",
       "      <td>30140</td>\n",
       "      <td>30721</td>\n",
       "      <td>Albuquerque, NM</td>\n",
       "      <td>Boston, MA (Metropolitan Area)</td>\n",
       "      <td>10140</td>\n",
       "      <td>10721</td>\n",
       "      <td>ABQ</td>\n",
       "      <td>...</td>\n",
       "      <td>324.97</td>\n",
       "      <td>AA</td>\n",
       "      <td>0.4263</td>\n",
       "      <td>323.73</td>\n",
       "      <td>WN</td>\n",
       "      <td>0.1609</td>\n",
       "      <td>298.20</td>\n",
       "      <td>NaN</td>\n",
       "      <td>NaN</td>\n",
       "      <td>202131014010721ABQBOS</td>\n",
       "    </tr>\n",
       "    <tr>\n",
       "      <th>6</th>\n",
       "      <td>Table1a</td>\n",
       "      <td>2021</td>\n",
       "      <td>3</td>\n",
       "      <td>30140</td>\n",
       "      <td>30721</td>\n",
       "      <td>Albuquerque, NM</td>\n",
       "      <td>Boston, MA (Metropolitan Area)</td>\n",
       "      <td>10140</td>\n",
       "      <td>13296</td>\n",
       "      <td>ABQ</td>\n",
       "      <td>...</td>\n",
       "      <td>315.90</td>\n",
       "      <td>WN</td>\n",
       "      <td>0.7285</td>\n",
       "      <td>270.42</td>\n",
       "      <td>WN</td>\n",
       "      <td>0.7285</td>\n",
       "      <td>270.42</td>\n",
       "      <td>NaN</td>\n",
       "      <td>NaN</td>\n",
       "      <td>202131014013296ABQMHT</td>\n",
       "    </tr>\n",
       "    <tr>\n",
       "      <th>7</th>\n",
       "      <td>Table1a</td>\n",
       "      <td>2021</td>\n",
       "      <td>3</td>\n",
       "      <td>30140</td>\n",
       "      <td>30721</td>\n",
       "      <td>Albuquerque, NM</td>\n",
       "      <td>Boston, MA (Metropolitan Area)</td>\n",
       "      <td>10140</td>\n",
       "      <td>14307</td>\n",
       "      <td>ABQ</td>\n",
       "      <td>...</td>\n",
       "      <td>329.22</td>\n",
       "      <td>WN</td>\n",
       "      <td>0.5415</td>\n",
       "      <td>271.60</td>\n",
       "      <td>WN</td>\n",
       "      <td>0.5415</td>\n",
       "      <td>271.60</td>\n",
       "      <td>NaN</td>\n",
       "      <td>NaN</td>\n",
       "      <td>202131014014307ABQPVD</td>\n",
       "    </tr>\n",
       "    <tr>\n",
       "      <th>8</th>\n",
       "      <td>Table1a</td>\n",
       "      <td>2021</td>\n",
       "      <td>3</td>\n",
       "      <td>30140</td>\n",
       "      <td>30852</td>\n",
       "      <td>Albuquerque, NM</td>\n",
       "      <td>Washington, DC (Metropolitan Area)</td>\n",
       "      <td>10140</td>\n",
       "      <td>10821</td>\n",
       "      <td>ABQ</td>\n",
       "      <td>...</td>\n",
       "      <td>255.89</td>\n",
       "      <td>WN</td>\n",
       "      <td>0.7212</td>\n",
       "      <td>244.89</td>\n",
       "      <td>WN</td>\n",
       "      <td>0.7212</td>\n",
       "      <td>244.89</td>\n",
       "      <td>NaN</td>\n",
       "      <td>NaN</td>\n",
       "      <td>202131014010821ABQBWI</td>\n",
       "    </tr>\n",
       "    <tr>\n",
       "      <th>9</th>\n",
       "      <td>Table1a</td>\n",
       "      <td>2021</td>\n",
       "      <td>3</td>\n",
       "      <td>30140</td>\n",
       "      <td>30852</td>\n",
       "      <td>Albuquerque, NM</td>\n",
       "      <td>Washington, DC (Metropolitan Area)</td>\n",
       "      <td>10140</td>\n",
       "      <td>11278</td>\n",
       "      <td>ABQ</td>\n",
       "      <td>...</td>\n",
       "      <td>291.16</td>\n",
       "      <td>AA</td>\n",
       "      <td>0.4404</td>\n",
       "      <td>296.88</td>\n",
       "      <td>WN</td>\n",
       "      <td>0.3197</td>\n",
       "      <td>247.20</td>\n",
       "      <td>NaN</td>\n",
       "      <td>NaN</td>\n",
       "      <td>202131014011278ABQDCA</td>\n",
       "    </tr>\n",
       "    <tr>\n",
       "      <th>10</th>\n",
       "      <td>Table1a</td>\n",
       "      <td>2021</td>\n",
       "      <td>3</td>\n",
       "      <td>30140</td>\n",
       "      <td>30852</td>\n",
       "      <td>Albuquerque, NM</td>\n",
       "      <td>Washington, DC (Metropolitan Area)</td>\n",
       "      <td>10140</td>\n",
       "      <td>12264</td>\n",
       "      <td>ABQ</td>\n",
       "      <td>...</td>\n",
       "      <td>343.58</td>\n",
       "      <td>UA</td>\n",
       "      <td>0.5646</td>\n",
       "      <td>382.06</td>\n",
       "      <td>WN</td>\n",
       "      <td>0.1402</td>\n",
       "      <td>266.61</td>\n",
       "      <td>NaN</td>\n",
       "      <td>NaN</td>\n",
       "      <td>202131014012264ABQIAD</td>\n",
       "    </tr>\n",
       "    <tr>\n",
       "      <th>11</th>\n",
       "      <td>Table1a</td>\n",
       "      <td>2021</td>\n",
       "      <td>3</td>\n",
       "      <td>30140</td>\n",
       "      <td>30977</td>\n",
       "      <td>Albuquerque, NM</td>\n",
       "      <td>Chicago, IL</td>\n",
       "      <td>10140</td>\n",
       "      <td>13232</td>\n",
       "      <td>ABQ</td>\n",
       "      <td>...</td>\n",
       "      <td>231.66</td>\n",
       "      <td>WN</td>\n",
       "      <td>0.9934</td>\n",
       "      <td>230.85</td>\n",
       "      <td>WN</td>\n",
       "      <td>0.9934</td>\n",
       "      <td>230.85</td>\n",
       "      <td>NaN</td>\n",
       "      <td>NaN</td>\n",
       "      <td>202131014013232ABQMDW</td>\n",
       "    </tr>\n",
       "    <tr>\n",
       "      <th>12</th>\n",
       "      <td>Table1a</td>\n",
       "      <td>2021</td>\n",
       "      <td>3</td>\n",
       "      <td>30140</td>\n",
       "      <td>30977</td>\n",
       "      <td>Albuquerque, NM</td>\n",
       "      <td>Chicago, IL</td>\n",
       "      <td>10140</td>\n",
       "      <td>13930</td>\n",
       "      <td>ABQ</td>\n",
       "      <td>...</td>\n",
       "      <td>241.25</td>\n",
       "      <td>AA</td>\n",
       "      <td>0.6869</td>\n",
       "      <td>229.41</td>\n",
       "      <td>AA</td>\n",
       "      <td>0.6869</td>\n",
       "      <td>229.41</td>\n",
       "      <td>NaN</td>\n",
       "      <td>NaN</td>\n",
       "      <td>202131014013930ABQORD</td>\n",
       "    </tr>\n",
       "    <tr>\n",
       "      <th>13</th>\n",
       "      <td>Table1a</td>\n",
       "      <td>2021</td>\n",
       "      <td>3</td>\n",
       "      <td>30140</td>\n",
       "      <td>31453</td>\n",
       "      <td>Albuquerque, NM</td>\n",
       "      <td>Houston, TX</td>\n",
       "      <td>10140</td>\n",
       "      <td>12191</td>\n",
       "      <td>ABQ</td>\n",
       "      <td>...</td>\n",
       "      <td>203.93</td>\n",
       "      <td>WN</td>\n",
       "      <td>0.9712</td>\n",
       "      <td>203.44</td>\n",
       "      <td>WN</td>\n",
       "      <td>0.9712</td>\n",
       "      <td>203.44</td>\n",
       "      <td>NaN</td>\n",
       "      <td>NaN</td>\n",
       "      <td>202131014012191ABQHOU</td>\n",
       "    </tr>\n",
       "    <tr>\n",
       "      <th>14</th>\n",
       "      <td>Table1a</td>\n",
       "      <td>2021</td>\n",
       "      <td>3</td>\n",
       "      <td>30140</td>\n",
       "      <td>31453</td>\n",
       "      <td>Albuquerque, NM</td>\n",
       "      <td>Houston, TX</td>\n",
       "      <td>10140</td>\n",
       "      <td>12266</td>\n",
       "      <td>ABQ</td>\n",
       "      <td>...</td>\n",
       "      <td>232.85</td>\n",
       "      <td>UA</td>\n",
       "      <td>0.8512</td>\n",
       "      <td>235.69</td>\n",
       "      <td>WN</td>\n",
       "      <td>0.0447</td>\n",
       "      <td>213.54</td>\n",
       "      <td>NaN</td>\n",
       "      <td>NaN</td>\n",
       "      <td>202131014012266ABQIAH</td>\n",
       "    </tr>\n",
       "    <tr>\n",
       "      <th>15</th>\n",
       "      <td>Table1a</td>\n",
       "      <td>2021</td>\n",
       "      <td>3</td>\n",
       "      <td>30140</td>\n",
       "      <td>31703</td>\n",
       "      <td>Albuquerque, NM</td>\n",
       "      <td>New York City, NY (Metropolitan Area)</td>\n",
       "      <td>10140</td>\n",
       "      <td>11618</td>\n",
       "      <td>ABQ</td>\n",
       "      <td>...</td>\n",
       "      <td>342.13</td>\n",
       "      <td>UA</td>\n",
       "      <td>0.3845</td>\n",
       "      <td>382.33</td>\n",
       "      <td>AA</td>\n",
       "      <td>0.3324</td>\n",
       "      <td>296.40</td>\n",
       "      <td>NaN</td>\n",
       "      <td>NaN</td>\n",
       "      <td>202131014011618ABQEWR</td>\n",
       "    </tr>\n",
       "    <tr>\n",
       "      <th>16</th>\n",
       "      <td>Table1a</td>\n",
       "      <td>2021</td>\n",
       "      <td>3</td>\n",
       "      <td>30140</td>\n",
       "      <td>31703</td>\n",
       "      <td>Albuquerque, NM</td>\n",
       "      <td>New York City, NY (Metropolitan Area)</td>\n",
       "      <td>10140</td>\n",
       "      <td>12197</td>\n",
       "      <td>ABQ</td>\n",
       "      <td>...</td>\n",
       "      <td>356.92</td>\n",
       "      <td>DL</td>\n",
       "      <td>0.6154</td>\n",
       "      <td>358.24</td>\n",
       "      <td>AA</td>\n",
       "      <td>0.3462</td>\n",
       "      <td>350.22</td>\n",
       "      <td>NaN</td>\n",
       "      <td>NaN</td>\n",
       "      <td>202131014012197ABQHPN</td>\n",
       "    </tr>\n",
       "    <tr>\n",
       "      <th>17</th>\n",
       "      <td>Table1a</td>\n",
       "      <td>2021</td>\n",
       "      <td>3</td>\n",
       "      <td>30140</td>\n",
       "      <td>31703</td>\n",
       "      <td>Albuquerque, NM</td>\n",
       "      <td>New York City, NY (Metropolitan Area)</td>\n",
       "      <td>10140</td>\n",
       "      <td>12391</td>\n",
       "      <td>ABQ</td>\n",
       "      <td>...</td>\n",
       "      <td>240.10</td>\n",
       "      <td>WN</td>\n",
       "      <td>0.8049</td>\n",
       "      <td>220.94</td>\n",
       "      <td>WN</td>\n",
       "      <td>0.8049</td>\n",
       "      <td>220.94</td>\n",
       "      <td>NaN</td>\n",
       "      <td>NaN</td>\n",
       "      <td>202131014012391ABQISP</td>\n",
       "    </tr>\n",
       "    <tr>\n",
       "      <th>18</th>\n",
       "      <td>Table1a</td>\n",
       "      <td>2021</td>\n",
       "      <td>3</td>\n",
       "      <td>30140</td>\n",
       "      <td>31703</td>\n",
       "      <td>Albuquerque, NM</td>\n",
       "      <td>New York City, NY (Metropolitan Area)</td>\n",
       "      <td>10140</td>\n",
       "      <td>12478</td>\n",
       "      <td>ABQ</td>\n",
       "      <td>...</td>\n",
       "      <td>251.78</td>\n",
       "      <td>B6</td>\n",
       "      <td>0.8338</td>\n",
       "      <td>234.07</td>\n",
       "      <td>B6</td>\n",
       "      <td>0.8338</td>\n",
       "      <td>234.07</td>\n",
       "      <td>NaN</td>\n",
       "      <td>NaN</td>\n",
       "      <td>202131014012478ABQJFK</td>\n",
       "    </tr>\n",
       "    <tr>\n",
       "      <th>19</th>\n",
       "      <td>Table1a</td>\n",
       "      <td>2021</td>\n",
       "      <td>3</td>\n",
       "      <td>30140</td>\n",
       "      <td>31703</td>\n",
       "      <td>Albuquerque, NM</td>\n",
       "      <td>New York City, NY (Metropolitan Area)</td>\n",
       "      <td>10140</td>\n",
       "      <td>12953</td>\n",
       "      <td>ABQ</td>\n",
       "      <td>...</td>\n",
       "      <td>295.22</td>\n",
       "      <td>AA</td>\n",
       "      <td>0.5013</td>\n",
       "      <td>302.37</td>\n",
       "      <td>WN</td>\n",
       "      <td>0.2145</td>\n",
       "      <td>229.04</td>\n",
       "      <td>NaN</td>\n",
       "      <td>NaN</td>\n",
       "      <td>202131014012953ABQLGA</td>\n",
       "    </tr>\n",
       "    <tr>\n",
       "      <th>20</th>\n",
       "      <td>Table1a</td>\n",
       "      <td>2021</td>\n",
       "      <td>3</td>\n",
       "      <td>30140</td>\n",
       "      <td>31703</td>\n",
       "      <td>Albuquerque, NM</td>\n",
       "      <td>New York City, NY (Metropolitan Area)</td>\n",
       "      <td>10140</td>\n",
       "      <td>15070</td>\n",
       "      <td>ABQ</td>\n",
       "      <td>...</td>\n",
       "      <td>427.50</td>\n",
       "      <td>AA</td>\n",
       "      <td>1.0000</td>\n",
       "      <td>427.50</td>\n",
       "      <td>AA</td>\n",
       "      <td>1.0000</td>\n",
       "      <td>427.50</td>\n",
       "      <td>NaN</td>\n",
       "      <td>NaN</td>\n",
       "      <td>202131014015070ABQSWF</td>\n",
       "    </tr>\n",
       "    <tr>\n",
       "      <th>21</th>\n",
       "      <td>Table1a</td>\n",
       "      <td>2021</td>\n",
       "      <td>3</td>\n",
       "      <td>30140</td>\n",
       "      <td>32457</td>\n",
       "      <td>Albuquerque, NM</td>\n",
       "      <td>San Francisco, CA (Metropolitan Area)</td>\n",
       "      <td>10140</td>\n",
       "      <td>13796</td>\n",
       "      <td>ABQ</td>\n",
       "      <td>...</td>\n",
       "      <td>194.36</td>\n",
       "      <td>WN</td>\n",
       "      <td>0.9638</td>\n",
       "      <td>193.20</td>\n",
       "      <td>WN</td>\n",
       "      <td>0.9638</td>\n",
       "      <td>193.20</td>\n",
       "      <td>NaN</td>\n",
       "      <td>NaN</td>\n",
       "      <td>202131014013796ABQOAK</td>\n",
       "    </tr>\n",
       "    <tr>\n",
       "      <th>22</th>\n",
       "      <td>Table1a</td>\n",
       "      <td>2021</td>\n",
       "      <td>3</td>\n",
       "      <td>30140</td>\n",
       "      <td>32457</td>\n",
       "      <td>Albuquerque, NM</td>\n",
       "      <td>San Francisco, CA (Metropolitan Area)</td>\n",
       "      <td>10140</td>\n",
       "      <td>14771</td>\n",
       "      <td>ABQ</td>\n",
       "      <td>...</td>\n",
       "      <td>246.07</td>\n",
       "      <td>UA</td>\n",
       "      <td>0.6493</td>\n",
       "      <td>255.54</td>\n",
       "      <td>WN</td>\n",
       "      <td>0.1346</td>\n",
       "      <td>221.69</td>\n",
       "      <td>NaN</td>\n",
       "      <td>NaN</td>\n",
       "      <td>202131014014771ABQSFO</td>\n",
       "    </tr>\n",
       "    <tr>\n",
       "      <th>23</th>\n",
       "      <td>Table1a</td>\n",
       "      <td>2021</td>\n",
       "      <td>3</td>\n",
       "      <td>30140</td>\n",
       "      <td>32457</td>\n",
       "      <td>Albuquerque, NM</td>\n",
       "      <td>San Francisco, CA (Metropolitan Area)</td>\n",
       "      <td>10140</td>\n",
       "      <td>14831</td>\n",
       "      <td>ABQ</td>\n",
       "      <td>...</td>\n",
       "      <td>209.22</td>\n",
       "      <td>WN</td>\n",
       "      <td>0.6566</td>\n",
       "      <td>200.07</td>\n",
       "      <td>WN</td>\n",
       "      <td>0.6566</td>\n",
       "      <td>200.07</td>\n",
       "      <td>NaN</td>\n",
       "      <td>NaN</td>\n",
       "      <td>202131014014831ABQSJC</td>\n",
       "    </tr>\n",
       "    <tr>\n",
       "      <th>24</th>\n",
       "      <td>Table1a</td>\n",
       "      <td>2021</td>\n",
       "      <td>3</td>\n",
       "      <td>30140</td>\n",
       "      <td>32575</td>\n",
       "      <td>Albuquerque, NM</td>\n",
       "      <td>Los Angeles, CA (Metropolitan Area)</td>\n",
       "      <td>10140</td>\n",
       "      <td>10800</td>\n",
       "      <td>ABQ</td>\n",
       "      <td>...</td>\n",
       "      <td>205.45</td>\n",
       "      <td>WN</td>\n",
       "      <td>0.6592</td>\n",
       "      <td>205.43</td>\n",
       "      <td>AA</td>\n",
       "      <td>0.2430</td>\n",
       "      <td>196.01</td>\n",
       "      <td>NaN</td>\n",
       "      <td>NaN</td>\n",
       "      <td>202131014010800ABQBUR</td>\n",
       "    </tr>\n",
       "    <tr>\n",
       "      <th>25</th>\n",
       "      <td>Table1a</td>\n",
       "      <td>2021</td>\n",
       "      <td>3</td>\n",
       "      <td>30140</td>\n",
       "      <td>32575</td>\n",
       "      <td>Albuquerque, NM</td>\n",
       "      <td>Los Angeles, CA (Metropolitan Area)</td>\n",
       "      <td>10140</td>\n",
       "      <td>12892</td>\n",
       "      <td>ABQ</td>\n",
       "      <td>...</td>\n",
       "      <td>172.93</td>\n",
       "      <td>DL</td>\n",
       "      <td>0.3790</td>\n",
       "      <td>181.73</td>\n",
       "      <td>WN</td>\n",
       "      <td>0.2572</td>\n",
       "      <td>158.14</td>\n",
       "      <td>NaN</td>\n",
       "      <td>NaN</td>\n",
       "      <td>202131014012892ABQLAX</td>\n",
       "    </tr>\n",
       "    <tr>\n",
       "      <th>26</th>\n",
       "      <td>Table1a</td>\n",
       "      <td>2021</td>\n",
       "      <td>3</td>\n",
       "      <td>30140</td>\n",
       "      <td>32575</td>\n",
       "      <td>Albuquerque, NM</td>\n",
       "      <td>Los Angeles, CA (Metropolitan Area)</td>\n",
       "      <td>10140</td>\n",
       "      <td>12954</td>\n",
       "      <td>ABQ</td>\n",
       "      <td>...</td>\n",
       "      <td>201.28</td>\n",
       "      <td>WN</td>\n",
       "      <td>0.5636</td>\n",
       "      <td>187.75</td>\n",
       "      <td>DL</td>\n",
       "      <td>0.1182</td>\n",
       "      <td>180.77</td>\n",
       "      <td>NaN</td>\n",
       "      <td>NaN</td>\n",
       "      <td>202131014012954ABQLGB</td>\n",
       "    </tr>\n",
       "    <tr>\n",
       "      <th>27</th>\n",
       "      <td>Table1a</td>\n",
       "      <td>2021</td>\n",
       "      <td>3</td>\n",
       "      <td>30140</td>\n",
       "      <td>32575</td>\n",
       "      <td>Albuquerque, NM</td>\n",
       "      <td>Los Angeles, CA (Metropolitan Area)</td>\n",
       "      <td>10140</td>\n",
       "      <td>13891</td>\n",
       "      <td>ABQ</td>\n",
       "      <td>...</td>\n",
       "      <td>212.31</td>\n",
       "      <td>WN</td>\n",
       "      <td>0.5933</td>\n",
       "      <td>204.21</td>\n",
       "      <td>WN</td>\n",
       "      <td>0.5933</td>\n",
       "      <td>204.21</td>\n",
       "      <td>NaN</td>\n",
       "      <td>NaN</td>\n",
       "      <td>202131014013891ABQONT</td>\n",
       "    </tr>\n",
       "    <tr>\n",
       "      <th>28</th>\n",
       "      <td>Table1a</td>\n",
       "      <td>2021</td>\n",
       "      <td>3</td>\n",
       "      <td>30140</td>\n",
       "      <td>32575</td>\n",
       "      <td>Albuquerque, NM</td>\n",
       "      <td>Los Angeles, CA (Metropolitan Area)</td>\n",
       "      <td>10140</td>\n",
       "      <td>14908</td>\n",
       "      <td>ABQ</td>\n",
       "      <td>...</td>\n",
       "      <td>222.87</td>\n",
       "      <td>WN</td>\n",
       "      <td>0.6140</td>\n",
       "      <td>216.43</td>\n",
       "      <td>AA</td>\n",
       "      <td>0.3201</td>\n",
       "      <td>215.59</td>\n",
       "      <td>NaN</td>\n",
       "      <td>NaN</td>\n",
       "      <td>202131014014908ABQSNA</td>\n",
       "    </tr>\n",
       "    <tr>\n",
       "      <th>29</th>\n",
       "      <td>Table1a</td>\n",
       "      <td>2021</td>\n",
       "      <td>3</td>\n",
       "      <td>30154</td>\n",
       "      <td>31703</td>\n",
       "      <td>Nantucket, MA</td>\n",
       "      <td>New York City, NY (Metropolitan Area)</td>\n",
       "      <td>10154</td>\n",
       "      <td>11618</td>\n",
       "      <td>ACK</td>\n",
       "      <td>...</td>\n",
       "      <td>165.27</td>\n",
       "      <td>UA</td>\n",
       "      <td>0.5473</td>\n",
       "      <td>169.32</td>\n",
       "      <td>B6</td>\n",
       "      <td>0.4460</td>\n",
       "      <td>160.08</td>\n",
       "      <td>NaN</td>\n",
       "      <td>NaN</td>\n",
       "      <td>202131015411618ACKEWR</td>\n",
       "    </tr>\n",
       "    <tr>\n",
       "      <th>30</th>\n",
       "      <td>Table1a</td>\n",
       "      <td>2021</td>\n",
       "      <td>3</td>\n",
       "      <td>30154</td>\n",
       "      <td>31703</td>\n",
       "      <td>Nantucket, MA</td>\n",
       "      <td>New York City, NY (Metropolitan Area)</td>\n",
       "      <td>10154</td>\n",
       "      <td>12197</td>\n",
       "      <td>ACK</td>\n",
       "      <td>...</td>\n",
       "      <td>189.08</td>\n",
       "      <td>B6</td>\n",
       "      <td>0.9958</td>\n",
       "      <td>188.57</td>\n",
       "      <td>B6</td>\n",
       "      <td>0.9958</td>\n",
       "      <td>188.57</td>\n",
       "      <td>NaN</td>\n",
       "      <td>NaN</td>\n",
       "      <td>202131015412197ACKHPN</td>\n",
       "    </tr>\n",
       "    <tr>\n",
       "      <th>31</th>\n",
       "      <td>Table1a</td>\n",
       "      <td>2021</td>\n",
       "      <td>3</td>\n",
       "      <td>30154</td>\n",
       "      <td>31703</td>\n",
       "      <td>Nantucket, MA</td>\n",
       "      <td>New York City, NY (Metropolitan Area)</td>\n",
       "      <td>10154</td>\n",
       "      <td>12478</td>\n",
       "      <td>ACK</td>\n",
       "      <td>...</td>\n",
       "      <td>156.66</td>\n",
       "      <td>B6</td>\n",
       "      <td>0.7464</td>\n",
       "      <td>155.54</td>\n",
       "      <td>B6</td>\n",
       "      <td>0.7464</td>\n",
       "      <td>155.54</td>\n",
       "      <td>NaN</td>\n",
       "      <td>NaN</td>\n",
       "      <td>202131015412478ACKJFK</td>\n",
       "    </tr>\n",
       "    <tr>\n",
       "      <th>32</th>\n",
       "      <td>Table1a</td>\n",
       "      <td>2021</td>\n",
       "      <td>3</td>\n",
       "      <td>30154</td>\n",
       "      <td>31703</td>\n",
       "      <td>Nantucket, MA</td>\n",
       "      <td>New York City, NY (Metropolitan Area)</td>\n",
       "      <td>10154</td>\n",
       "      <td>12953</td>\n",
       "      <td>ACK</td>\n",
       "      <td>...</td>\n",
       "      <td>157.09</td>\n",
       "      <td>B6</td>\n",
       "      <td>0.8460</td>\n",
       "      <td>153.24</td>\n",
       "      <td>B6</td>\n",
       "      <td>0.8460</td>\n",
       "      <td>153.24</td>\n",
       "      <td>NaN</td>\n",
       "      <td>NaN</td>\n",
       "      <td>202131015412953ACKLGA</td>\n",
       "    </tr>\n",
       "    <tr>\n",
       "      <th>33</th>\n",
       "      <td>Table1a</td>\n",
       "      <td>2021</td>\n",
       "      <td>3</td>\n",
       "      <td>30189</td>\n",
       "      <td>30194</td>\n",
       "      <td>Colorado Springs, CO</td>\n",
       "      <td>Dallas/Fort Worth, TX</td>\n",
       "      <td>11109</td>\n",
       "      <td>11259</td>\n",
       "      <td>COS</td>\n",
       "      <td>...</td>\n",
       "      <td>122.76</td>\n",
       "      <td>WN</td>\n",
       "      <td>1.0000</td>\n",
       "      <td>122.76</td>\n",
       "      <td>WN</td>\n",
       "      <td>1.0000</td>\n",
       "      <td>122.76</td>\n",
       "      <td>NaN</td>\n",
       "      <td>NaN</td>\n",
       "      <td>202131110911259COSDAL</td>\n",
       "    </tr>\n",
       "    <tr>\n",
       "      <th>34</th>\n",
       "      <td>Table1a</td>\n",
       "      <td>2021</td>\n",
       "      <td>3</td>\n",
       "      <td>30189</td>\n",
       "      <td>30194</td>\n",
       "      <td>Colorado Springs, CO</td>\n",
       "      <td>Dallas/Fort Worth, TX</td>\n",
       "      <td>11109</td>\n",
       "      <td>11298</td>\n",
       "      <td>COS</td>\n",
       "      <td>...</td>\n",
       "      <td>154.47</td>\n",
       "      <td>AA</td>\n",
       "      <td>0.9800</td>\n",
       "      <td>153.63</td>\n",
       "      <td>AA</td>\n",
       "      <td>0.9800</td>\n",
       "      <td>153.63</td>\n",
       "      <td>NaN</td>\n",
       "      <td>NaN</td>\n",
       "      <td>202131110911298COSDFW</td>\n",
       "    </tr>\n",
       "    <tr>\n",
       "      <th>35</th>\n",
       "      <td>Table1a</td>\n",
       "      <td>2021</td>\n",
       "      <td>3</td>\n",
       "      <td>30189</td>\n",
       "      <td>30466</td>\n",
       "      <td>Colorado Springs, CO</td>\n",
       "      <td>Phoenix, AZ</td>\n",
       "      <td>11109</td>\n",
       "      <td>14107</td>\n",
       "      <td>COS</td>\n",
       "      <td>...</td>\n",
       "      <td>120.59</td>\n",
       "      <td>WN</td>\n",
       "      <td>0.8219</td>\n",
       "      <td>124.41</td>\n",
       "      <td>F9</td>\n",
       "      <td>0.1164</td>\n",
       "      <td>67.59</td>\n",
       "      <td>NaN</td>\n",
       "      <td>NaN</td>\n",
       "      <td>202131110914107COSPHX</td>\n",
       "    </tr>\n",
       "    <tr>\n",
       "      <th>36</th>\n",
       "      <td>Table1a</td>\n",
       "      <td>2021</td>\n",
       "      <td>3</td>\n",
       "      <td>30189</td>\n",
       "      <td>30852</td>\n",
       "      <td>Colorado Springs, CO</td>\n",
       "      <td>Washington, DC (Metropolitan Area)</td>\n",
       "      <td>11109</td>\n",
       "      <td>10821</td>\n",
       "      <td>COS</td>\n",
       "      <td>...</td>\n",
       "      <td>251.59</td>\n",
       "      <td>WN</td>\n",
       "      <td>0.5386</td>\n",
       "      <td>238.90</td>\n",
       "      <td>WN</td>\n",
       "      <td>0.5386</td>\n",
       "      <td>238.90</td>\n",
       "      <td>NaN</td>\n",
       "      <td>NaN</td>\n",
       "      <td>202131110910821COSBWI</td>\n",
       "    </tr>\n",
       "    <tr>\n",
       "      <th>37</th>\n",
       "      <td>Table1a</td>\n",
       "      <td>2021</td>\n",
       "      <td>3</td>\n",
       "      <td>30189</td>\n",
       "      <td>30852</td>\n",
       "      <td>Colorado Springs, CO</td>\n",
       "      <td>Washington, DC (Metropolitan Area)</td>\n",
       "      <td>11109</td>\n",
       "      <td>11278</td>\n",
       "      <td>COS</td>\n",
       "      <td>...</td>\n",
       "      <td>278.14</td>\n",
       "      <td>AA</td>\n",
       "      <td>0.5724</td>\n",
       "      <td>287.79</td>\n",
       "      <td>WN</td>\n",
       "      <td>0.1886</td>\n",
       "      <td>199.98</td>\n",
       "      <td>NaN</td>\n",
       "      <td>NaN</td>\n",
       "      <td>202131110911278COSDCA</td>\n",
       "    </tr>\n",
       "    <tr>\n",
       "      <th>38</th>\n",
       "      <td>Table1a</td>\n",
       "      <td>2021</td>\n",
       "      <td>3</td>\n",
       "      <td>30189</td>\n",
       "      <td>30852</td>\n",
       "      <td>Colorado Springs, CO</td>\n",
       "      <td>Washington, DC (Metropolitan Area)</td>\n",
       "      <td>11109</td>\n",
       "      <td>12264</td>\n",
       "      <td>COS</td>\n",
       "      <td>...</td>\n",
       "      <td>301.82</td>\n",
       "      <td>UA</td>\n",
       "      <td>0.6045</td>\n",
       "      <td>342.52</td>\n",
       "      <td>WN</td>\n",
       "      <td>0.2763</td>\n",
       "      <td>200.22</td>\n",
       "      <td>NaN</td>\n",
       "      <td>NaN</td>\n",
       "      <td>202131110912264COSIAD</td>\n",
       "    </tr>\n",
       "    <tr>\n",
       "      <th>39</th>\n",
       "      <td>Table1a</td>\n",
       "      <td>2021</td>\n",
       "      <td>3</td>\n",
       "      <td>30189</td>\n",
       "      <td>32575</td>\n",
       "      <td>Colorado Springs, CO</td>\n",
       "      <td>Los Angeles, CA (Metropolitan Area)</td>\n",
       "      <td>11109</td>\n",
       "      <td>10800</td>\n",
       "      <td>COS</td>\n",
       "      <td>...</td>\n",
       "      <td>183.97</td>\n",
       "      <td>WN</td>\n",
       "      <td>0.6558</td>\n",
       "      <td>159.20</td>\n",
       "      <td>WN</td>\n",
       "      <td>0.6558</td>\n",
       "      <td>159.20</td>\n",
       "      <td>NaN</td>\n",
       "      <td>NaN</td>\n",
       "      <td>202131110910800COSBUR</td>\n",
       "    </tr>\n",
       "    <tr>\n",
       "      <th>40</th>\n",
       "      <td>Table1a</td>\n",
       "      <td>2021</td>\n",
       "      <td>3</td>\n",
       "      <td>30189</td>\n",
       "      <td>32575</td>\n",
       "      <td>Colorado Springs, CO</td>\n",
       "      <td>Los Angeles, CA (Metropolitan Area)</td>\n",
       "      <td>11109</td>\n",
       "      <td>12892</td>\n",
       "      <td>COS</td>\n",
       "      <td>...</td>\n",
       "      <td>203.47</td>\n",
       "      <td>UA</td>\n",
       "      <td>0.6444</td>\n",
       "      <td>221.23</td>\n",
       "      <td>WN</td>\n",
       "      <td>0.2251</td>\n",
       "      <td>152.75</td>\n",
       "      <td>NaN</td>\n",
       "      <td>NaN</td>\n",
       "      <td>202131110912892COSLAX</td>\n",
       "    </tr>\n",
       "    <tr>\n",
       "      <th>41</th>\n",
       "      <td>Table1a</td>\n",
       "      <td>2021</td>\n",
       "      <td>3</td>\n",
       "      <td>30189</td>\n",
       "      <td>32575</td>\n",
       "      <td>Colorado Springs, CO</td>\n",
       "      <td>Los Angeles, CA (Metropolitan Area)</td>\n",
       "      <td>11109</td>\n",
       "      <td>12954</td>\n",
       "      <td>COS</td>\n",
       "      <td>...</td>\n",
       "      <td>143.75</td>\n",
       "      <td>WN</td>\n",
       "      <td>0.8571</td>\n",
       "      <td>120.82</td>\n",
       "      <td>WN</td>\n",
       "      <td>0.8571</td>\n",
       "      <td>120.82</td>\n",
       "      <td>NaN</td>\n",
       "      <td>NaN</td>\n",
       "      <td>202131110912954COSLGB</td>\n",
       "    </tr>\n",
       "    <tr>\n",
       "      <th>42</th>\n",
       "      <td>Table1a</td>\n",
       "      <td>2021</td>\n",
       "      <td>3</td>\n",
       "      <td>30189</td>\n",
       "      <td>32575</td>\n",
       "      <td>Colorado Springs, CO</td>\n",
       "      <td>Los Angeles, CA (Metropolitan Area)</td>\n",
       "      <td>11109</td>\n",
       "      <td>13891</td>\n",
       "      <td>COS</td>\n",
       "      <td>...</td>\n",
       "      <td>188.22</td>\n",
       "      <td>WN</td>\n",
       "      <td>0.5619</td>\n",
       "      <td>171.16</td>\n",
       "      <td>WN</td>\n",
       "      <td>0.5619</td>\n",
       "      <td>171.16</td>\n",
       "      <td>NaN</td>\n",
       "      <td>NaN</td>\n",
       "      <td>202131110913891COSONT</td>\n",
       "    </tr>\n",
       "    <tr>\n",
       "      <th>43</th>\n",
       "      <td>Table1a</td>\n",
       "      <td>2021</td>\n",
       "      <td>3</td>\n",
       "      <td>30189</td>\n",
       "      <td>32575</td>\n",
       "      <td>Colorado Springs, CO</td>\n",
       "      <td>Los Angeles, CA (Metropolitan Area)</td>\n",
       "      <td>11109</td>\n",
       "      <td>14908</td>\n",
       "      <td>COS</td>\n",
       "      <td>...</td>\n",
       "      <td>200.83</td>\n",
       "      <td>WN</td>\n",
       "      <td>0.5666</td>\n",
       "      <td>170.91</td>\n",
       "      <td>WN</td>\n",
       "      <td>0.5666</td>\n",
       "      <td>170.91</td>\n",
       "      <td>NaN</td>\n",
       "      <td>NaN</td>\n",
       "      <td>202131110914908COSSNA</td>\n",
       "    </tr>\n",
       "    <tr>\n",
       "      <th>44</th>\n",
       "      <td>Table1a</td>\n",
       "      <td>2021</td>\n",
       "      <td>3</td>\n",
       "      <td>30194</td>\n",
       "      <td>30198</td>\n",
       "      <td>Dallas/Fort Worth, TX</td>\n",
       "      <td>Pittsburgh, PA</td>\n",
       "      <td>11259</td>\n",
       "      <td>14122</td>\n",
       "      <td>DAL</td>\n",
       "      <td>...</td>\n",
       "      <td>209.05</td>\n",
       "      <td>WN</td>\n",
       "      <td>0.9210</td>\n",
       "      <td>206.89</td>\n",
       "      <td>WN</td>\n",
       "      <td>0.9210</td>\n",
       "      <td>206.89</td>\n",
       "      <td>NaN</td>\n",
       "      <td>NaN</td>\n",
       "      <td>202131125914122DALPIT</td>\n",
       "    </tr>\n",
       "    <tr>\n",
       "      <th>45</th>\n",
       "      <td>Table1a</td>\n",
       "      <td>2021</td>\n",
       "      <td>3</td>\n",
       "      <td>30194</td>\n",
       "      <td>30198</td>\n",
       "      <td>Dallas/Fort Worth, TX</td>\n",
       "      <td>Pittsburgh, PA</td>\n",
       "      <td>11298</td>\n",
       "      <td>14122</td>\n",
       "      <td>DFW</td>\n",
       "      <td>...</td>\n",
       "      <td>238.32</td>\n",
       "      <td>AA</td>\n",
       "      <td>0.9359</td>\n",
       "      <td>240.38</td>\n",
       "      <td>NK</td>\n",
       "      <td>0.0138</td>\n",
       "      <td>95.38</td>\n",
       "      <td>NaN</td>\n",
       "      <td>NaN</td>\n",
       "      <td>202131129814122DFWPIT</td>\n",
       "    </tr>\n",
       "    <tr>\n",
       "      <th>46</th>\n",
       "      <td>Table1a</td>\n",
       "      <td>2021</td>\n",
       "      <td>3</td>\n",
       "      <td>30194</td>\n",
       "      <td>30325</td>\n",
       "      <td>Dallas/Fort Worth, TX</td>\n",
       "      <td>Denver, CO</td>\n",
       "      <td>11259</td>\n",
       "      <td>11292</td>\n",
       "      <td>DAL</td>\n",
       "      <td>...</td>\n",
       "      <td>134.10</td>\n",
       "      <td>WN</td>\n",
       "      <td>0.9985</td>\n",
       "      <td>134.14</td>\n",
       "      <td>WN</td>\n",
       "      <td>0.9985</td>\n",
       "      <td>134.14</td>\n",
       "      <td>NaN</td>\n",
       "      <td>NaN</td>\n",
       "      <td>202131125911292DALDEN</td>\n",
       "    </tr>\n",
       "    <tr>\n",
       "      <th>47</th>\n",
       "      <td>Table1a</td>\n",
       "      <td>2021</td>\n",
       "      <td>3</td>\n",
       "      <td>30194</td>\n",
       "      <td>30325</td>\n",
       "      <td>Dallas/Fort Worth, TX</td>\n",
       "      <td>Denver, CO</td>\n",
       "      <td>11298</td>\n",
       "      <td>11292</td>\n",
       "      <td>DFW</td>\n",
       "      <td>...</td>\n",
       "      <td>134.51</td>\n",
       "      <td>AA</td>\n",
       "      <td>0.6307</td>\n",
       "      <td>141.57</td>\n",
       "      <td>UA</td>\n",
       "      <td>0.2787</td>\n",
       "      <td>135.21</td>\n",
       "      <td>NaN</td>\n",
       "      <td>NaN</td>\n",
       "      <td>202131129811292DFWDEN</td>\n",
       "    </tr>\n",
       "    <tr>\n",
       "      <th>48</th>\n",
       "      <td>Table1a</td>\n",
       "      <td>2021</td>\n",
       "      <td>3</td>\n",
       "      <td>30194</td>\n",
       "      <td>30436</td>\n",
       "      <td>Dallas/Fort Worth, TX</td>\n",
       "      <td>Tucson, AZ</td>\n",
       "      <td>11259</td>\n",
       "      <td>15376</td>\n",
       "      <td>DAL</td>\n",
       "      <td>...</td>\n",
       "      <td>208.04</td>\n",
       "      <td>WN</td>\n",
       "      <td>0.9868</td>\n",
       "      <td>206.89</td>\n",
       "      <td>WN</td>\n",
       "      <td>0.9868</td>\n",
       "      <td>206.89</td>\n",
       "      <td>NaN</td>\n",
       "      <td>NaN</td>\n",
       "      <td>202131125915376DALTUS</td>\n",
       "    </tr>\n",
       "    <tr>\n",
       "      <th>49</th>\n",
       "      <td>Table1a</td>\n",
       "      <td>2021</td>\n",
       "      <td>3</td>\n",
       "      <td>30194</td>\n",
       "      <td>30436</td>\n",
       "      <td>Dallas/Fort Worth, TX</td>\n",
       "      <td>Tucson, AZ</td>\n",
       "      <td>11298</td>\n",
       "      <td>15376</td>\n",
       "      <td>DFW</td>\n",
       "      <td>...</td>\n",
       "      <td>228.87</td>\n",
       "      <td>AA</td>\n",
       "      <td>0.9427</td>\n",
       "      <td>229.50</td>\n",
       "      <td>UA</td>\n",
       "      <td>0.0345</td>\n",
       "      <td>211.31</td>\n",
       "      <td>NaN</td>\n",
       "      <td>NaN</td>\n",
       "      <td>202131129815376DFWTUS</td>\n",
       "    </tr>\n",
       "  </tbody>\n",
       "</table>\n",
       "<p>50 rows × 23 columns</p>\n",
       "</div>"
      ],
      "text/plain": [
       "        tbl  Year  quarter  citymarketid_1  citymarketid_2  \\\n",
       "0   Table1a  2021        3           30135           33195   \n",
       "1   Table1a  2021        3           30135           33195   \n",
       "2   Table1a  2021        3           30140           30194   \n",
       "3   Table1a  2021        3           30140           30194   \n",
       "4   Table1a  2021        3           30140           30466   \n",
       "5   Table1a  2021        3           30140           30721   \n",
       "6   Table1a  2021        3           30140           30721   \n",
       "7   Table1a  2021        3           30140           30721   \n",
       "8   Table1a  2021        3           30140           30852   \n",
       "9   Table1a  2021        3           30140           30852   \n",
       "10  Table1a  2021        3           30140           30852   \n",
       "11  Table1a  2021        3           30140           30977   \n",
       "12  Table1a  2021        3           30140           30977   \n",
       "13  Table1a  2021        3           30140           31453   \n",
       "14  Table1a  2021        3           30140           31453   \n",
       "15  Table1a  2021        3           30140           31703   \n",
       "16  Table1a  2021        3           30140           31703   \n",
       "17  Table1a  2021        3           30140           31703   \n",
       "18  Table1a  2021        3           30140           31703   \n",
       "19  Table1a  2021        3           30140           31703   \n",
       "20  Table1a  2021        3           30140           31703   \n",
       "21  Table1a  2021        3           30140           32457   \n",
       "22  Table1a  2021        3           30140           32457   \n",
       "23  Table1a  2021        3           30140           32457   \n",
       "24  Table1a  2021        3           30140           32575   \n",
       "25  Table1a  2021        3           30140           32575   \n",
       "26  Table1a  2021        3           30140           32575   \n",
       "27  Table1a  2021        3           30140           32575   \n",
       "28  Table1a  2021        3           30140           32575   \n",
       "29  Table1a  2021        3           30154           31703   \n",
       "30  Table1a  2021        3           30154           31703   \n",
       "31  Table1a  2021        3           30154           31703   \n",
       "32  Table1a  2021        3           30154           31703   \n",
       "33  Table1a  2021        3           30189           30194   \n",
       "34  Table1a  2021        3           30189           30194   \n",
       "35  Table1a  2021        3           30189           30466   \n",
       "36  Table1a  2021        3           30189           30852   \n",
       "37  Table1a  2021        3           30189           30852   \n",
       "38  Table1a  2021        3           30189           30852   \n",
       "39  Table1a  2021        3           30189           32575   \n",
       "40  Table1a  2021        3           30189           32575   \n",
       "41  Table1a  2021        3           30189           32575   \n",
       "42  Table1a  2021        3           30189           32575   \n",
       "43  Table1a  2021        3           30189           32575   \n",
       "44  Table1a  2021        3           30194           30198   \n",
       "45  Table1a  2021        3           30194           30198   \n",
       "46  Table1a  2021        3           30194           30325   \n",
       "47  Table1a  2021        3           30194           30325   \n",
       "48  Table1a  2021        3           30194           30436   \n",
       "49  Table1a  2021        3           30194           30436   \n",
       "\n",
       "                             city1                                  city2  \\\n",
       "0   Allentown/Bethlehem/Easton, PA          Tampa, FL (Metropolitan Area)   \n",
       "1   Allentown/Bethlehem/Easton, PA          Tampa, FL (Metropolitan Area)   \n",
       "2                  Albuquerque, NM                  Dallas/Fort Worth, TX   \n",
       "3                  Albuquerque, NM                  Dallas/Fort Worth, TX   \n",
       "4                  Albuquerque, NM                            Phoenix, AZ   \n",
       "5                  Albuquerque, NM         Boston, MA (Metropolitan Area)   \n",
       "6                  Albuquerque, NM         Boston, MA (Metropolitan Area)   \n",
       "7                  Albuquerque, NM         Boston, MA (Metropolitan Area)   \n",
       "8                  Albuquerque, NM     Washington, DC (Metropolitan Area)   \n",
       "9                  Albuquerque, NM     Washington, DC (Metropolitan Area)   \n",
       "10                 Albuquerque, NM     Washington, DC (Metropolitan Area)   \n",
       "11                 Albuquerque, NM                            Chicago, IL   \n",
       "12                 Albuquerque, NM                            Chicago, IL   \n",
       "13                 Albuquerque, NM                            Houston, TX   \n",
       "14                 Albuquerque, NM                            Houston, TX   \n",
       "15                 Albuquerque, NM  New York City, NY (Metropolitan Area)   \n",
       "16                 Albuquerque, NM  New York City, NY (Metropolitan Area)   \n",
       "17                 Albuquerque, NM  New York City, NY (Metropolitan Area)   \n",
       "18                 Albuquerque, NM  New York City, NY (Metropolitan Area)   \n",
       "19                 Albuquerque, NM  New York City, NY (Metropolitan Area)   \n",
       "20                 Albuquerque, NM  New York City, NY (Metropolitan Area)   \n",
       "21                 Albuquerque, NM  San Francisco, CA (Metropolitan Area)   \n",
       "22                 Albuquerque, NM  San Francisco, CA (Metropolitan Area)   \n",
       "23                 Albuquerque, NM  San Francisco, CA (Metropolitan Area)   \n",
       "24                 Albuquerque, NM    Los Angeles, CA (Metropolitan Area)   \n",
       "25                 Albuquerque, NM    Los Angeles, CA (Metropolitan Area)   \n",
       "26                 Albuquerque, NM    Los Angeles, CA (Metropolitan Area)   \n",
       "27                 Albuquerque, NM    Los Angeles, CA (Metropolitan Area)   \n",
       "28                 Albuquerque, NM    Los Angeles, CA (Metropolitan Area)   \n",
       "29                   Nantucket, MA  New York City, NY (Metropolitan Area)   \n",
       "30                   Nantucket, MA  New York City, NY (Metropolitan Area)   \n",
       "31                   Nantucket, MA  New York City, NY (Metropolitan Area)   \n",
       "32                   Nantucket, MA  New York City, NY (Metropolitan Area)   \n",
       "33            Colorado Springs, CO                  Dallas/Fort Worth, TX   \n",
       "34            Colorado Springs, CO                  Dallas/Fort Worth, TX   \n",
       "35            Colorado Springs, CO                            Phoenix, AZ   \n",
       "36            Colorado Springs, CO     Washington, DC (Metropolitan Area)   \n",
       "37            Colorado Springs, CO     Washington, DC (Metropolitan Area)   \n",
       "38            Colorado Springs, CO     Washington, DC (Metropolitan Area)   \n",
       "39            Colorado Springs, CO    Los Angeles, CA (Metropolitan Area)   \n",
       "40            Colorado Springs, CO    Los Angeles, CA (Metropolitan Area)   \n",
       "41            Colorado Springs, CO    Los Angeles, CA (Metropolitan Area)   \n",
       "42            Colorado Springs, CO    Los Angeles, CA (Metropolitan Area)   \n",
       "43            Colorado Springs, CO    Los Angeles, CA (Metropolitan Area)   \n",
       "44           Dallas/Fort Worth, TX                         Pittsburgh, PA   \n",
       "45           Dallas/Fort Worth, TX                         Pittsburgh, PA   \n",
       "46           Dallas/Fort Worth, TX                             Denver, CO   \n",
       "47           Dallas/Fort Worth, TX                             Denver, CO   \n",
       "48           Dallas/Fort Worth, TX                             Tucson, AZ   \n",
       "49           Dallas/Fort Worth, TX                             Tucson, AZ   \n",
       "\n",
       "    airportid_1  airportid_2 airport_1  ...    fare  carrier_lg  large_ms  \\\n",
       "0         10135        14112       ABE  ...   81.43          G4    1.0000   \n",
       "1         10135        15304       ABE  ...  208.93          DL    0.4659   \n",
       "2         10140        11259       ABQ  ...  184.56          WN    0.9968   \n",
       "3         10140        11298       ABQ  ...  182.64          AA    0.9774   \n",
       "4         10140        14107       ABQ  ...  177.11          WN    0.6061   \n",
       "5         10140        10721       ABQ  ...  324.97          AA    0.4263   \n",
       "6         10140        13296       ABQ  ...  315.90          WN    0.7285   \n",
       "7         10140        14307       ABQ  ...  329.22          WN    0.5415   \n",
       "8         10140        10821       ABQ  ...  255.89          WN    0.7212   \n",
       "9         10140        11278       ABQ  ...  291.16          AA    0.4404   \n",
       "10        10140        12264       ABQ  ...  343.58          UA    0.5646   \n",
       "11        10140        13232       ABQ  ...  231.66          WN    0.9934   \n",
       "12        10140        13930       ABQ  ...  241.25          AA    0.6869   \n",
       "13        10140        12191       ABQ  ...  203.93          WN    0.9712   \n",
       "14        10140        12266       ABQ  ...  232.85          UA    0.8512   \n",
       "15        10140        11618       ABQ  ...  342.13          UA    0.3845   \n",
       "16        10140        12197       ABQ  ...  356.92          DL    0.6154   \n",
       "17        10140        12391       ABQ  ...  240.10          WN    0.8049   \n",
       "18        10140        12478       ABQ  ...  251.78          B6    0.8338   \n",
       "19        10140        12953       ABQ  ...  295.22          AA    0.5013   \n",
       "20        10140        15070       ABQ  ...  427.50          AA    1.0000   \n",
       "21        10140        13796       ABQ  ...  194.36          WN    0.9638   \n",
       "22        10140        14771       ABQ  ...  246.07          UA    0.6493   \n",
       "23        10140        14831       ABQ  ...  209.22          WN    0.6566   \n",
       "24        10140        10800       ABQ  ...  205.45          WN    0.6592   \n",
       "25        10140        12892       ABQ  ...  172.93          DL    0.3790   \n",
       "26        10140        12954       ABQ  ...  201.28          WN    0.5636   \n",
       "27        10140        13891       ABQ  ...  212.31          WN    0.5933   \n",
       "28        10140        14908       ABQ  ...  222.87          WN    0.6140   \n",
       "29        10154        11618       ACK  ...  165.27          UA    0.5473   \n",
       "30        10154        12197       ACK  ...  189.08          B6    0.9958   \n",
       "31        10154        12478       ACK  ...  156.66          B6    0.7464   \n",
       "32        10154        12953       ACK  ...  157.09          B6    0.8460   \n",
       "33        11109        11259       COS  ...  122.76          WN    1.0000   \n",
       "34        11109        11298       COS  ...  154.47          AA    0.9800   \n",
       "35        11109        14107       COS  ...  120.59          WN    0.8219   \n",
       "36        11109        10821       COS  ...  251.59          WN    0.5386   \n",
       "37        11109        11278       COS  ...  278.14          AA    0.5724   \n",
       "38        11109        12264       COS  ...  301.82          UA    0.6045   \n",
       "39        11109        10800       COS  ...  183.97          WN    0.6558   \n",
       "40        11109        12892       COS  ...  203.47          UA    0.6444   \n",
       "41        11109        12954       COS  ...  143.75          WN    0.8571   \n",
       "42        11109        13891       COS  ...  188.22          WN    0.5619   \n",
       "43        11109        14908       COS  ...  200.83          WN    0.5666   \n",
       "44        11259        14122       DAL  ...  209.05          WN    0.9210   \n",
       "45        11298        14122       DFW  ...  238.32          AA    0.9359   \n",
       "46        11259        11292       DAL  ...  134.10          WN    0.9985   \n",
       "47        11298        11292       DFW  ...  134.51          AA    0.6307   \n",
       "48        11259        15376       DAL  ...  208.04          WN    0.9868   \n",
       "49        11298        15376       DFW  ...  228.87          AA    0.9427   \n",
       "\n",
       "    fare_lg carrier_low   lf_ms  fare_low Geocoded_City1  Geocoded_City2  \\\n",
       "0     81.43          G4  1.0000     81.43            NaN             NaN   \n",
       "1    219.98          UA  0.1193    154.11            NaN             NaN   \n",
       "2    184.44          WN  0.9968    184.44            NaN             NaN   \n",
       "3    183.09          AA  0.9774    183.09            NaN             NaN   \n",
       "4    184.49          AA  0.3939    165.77            NaN             NaN   \n",
       "5    323.73          WN  0.1609    298.20            NaN             NaN   \n",
       "6    270.42          WN  0.7285    270.42            NaN             NaN   \n",
       "7    271.60          WN  0.5415    271.60            NaN             NaN   \n",
       "8    244.89          WN  0.7212    244.89            NaN             NaN   \n",
       "9    296.88          WN  0.3197    247.20            NaN             NaN   \n",
       "10   382.06          WN  0.1402    266.61            NaN             NaN   \n",
       "11   230.85          WN  0.9934    230.85            NaN             NaN   \n",
       "12   229.41          AA  0.6869    229.41            NaN             NaN   \n",
       "13   203.44          WN  0.9712    203.44            NaN             NaN   \n",
       "14   235.69          WN  0.0447    213.54            NaN             NaN   \n",
       "15   382.33          AA  0.3324    296.40            NaN             NaN   \n",
       "16   358.24          AA  0.3462    350.22            NaN             NaN   \n",
       "17   220.94          WN  0.8049    220.94            NaN             NaN   \n",
       "18   234.07          B6  0.8338    234.07            NaN             NaN   \n",
       "19   302.37          WN  0.2145    229.04            NaN             NaN   \n",
       "20   427.50          AA  1.0000    427.50            NaN             NaN   \n",
       "21   193.20          WN  0.9638    193.20            NaN             NaN   \n",
       "22   255.54          WN  0.1346    221.69            NaN             NaN   \n",
       "23   200.07          WN  0.6566    200.07            NaN             NaN   \n",
       "24   205.43          AA  0.2430    196.01            NaN             NaN   \n",
       "25   181.73          WN  0.2572    158.14            NaN             NaN   \n",
       "26   187.75          DL  0.1182    180.77            NaN             NaN   \n",
       "27   204.21          WN  0.5933    204.21            NaN             NaN   \n",
       "28   216.43          AA  0.3201    215.59            NaN             NaN   \n",
       "29   169.32          B6  0.4460    160.08            NaN             NaN   \n",
       "30   188.57          B6  0.9958    188.57            NaN             NaN   \n",
       "31   155.54          B6  0.7464    155.54            NaN             NaN   \n",
       "32   153.24          B6  0.8460    153.24            NaN             NaN   \n",
       "33   122.76          WN  1.0000    122.76            NaN             NaN   \n",
       "34   153.63          AA  0.9800    153.63            NaN             NaN   \n",
       "35   124.41          F9  0.1164     67.59            NaN             NaN   \n",
       "36   238.90          WN  0.5386    238.90            NaN             NaN   \n",
       "37   287.79          WN  0.1886    199.98            NaN             NaN   \n",
       "38   342.52          WN  0.2763    200.22            NaN             NaN   \n",
       "39   159.20          WN  0.6558    159.20            NaN             NaN   \n",
       "40   221.23          WN  0.2251    152.75            NaN             NaN   \n",
       "41   120.82          WN  0.8571    120.82            NaN             NaN   \n",
       "42   171.16          WN  0.5619    171.16            NaN             NaN   \n",
       "43   170.91          WN  0.5666    170.91            NaN             NaN   \n",
       "44   206.89          WN  0.9210    206.89            NaN             NaN   \n",
       "45   240.38          NK  0.0138     95.38            NaN             NaN   \n",
       "46   134.14          WN  0.9985    134.14            NaN             NaN   \n",
       "47   141.57          UA  0.2787    135.21            NaN             NaN   \n",
       "48   206.89          WN  0.9868    206.89            NaN             NaN   \n",
       "49   229.50          UA  0.0345    211.31            NaN             NaN   \n",
       "\n",
       "                  tbl1apk  \n",
       "0   202131013514112ABEPIE  \n",
       "1   202131013515304ABETPA  \n",
       "2   202131014011259ABQDAL  \n",
       "3   202131014011298ABQDFW  \n",
       "4   202131014014107ABQPHX  \n",
       "5   202131014010721ABQBOS  \n",
       "6   202131014013296ABQMHT  \n",
       "7   202131014014307ABQPVD  \n",
       "8   202131014010821ABQBWI  \n",
       "9   202131014011278ABQDCA  \n",
       "10  202131014012264ABQIAD  \n",
       "11  202131014013232ABQMDW  \n",
       "12  202131014013930ABQORD  \n",
       "13  202131014012191ABQHOU  \n",
       "14  202131014012266ABQIAH  \n",
       "15  202131014011618ABQEWR  \n",
       "16  202131014012197ABQHPN  \n",
       "17  202131014012391ABQISP  \n",
       "18  202131014012478ABQJFK  \n",
       "19  202131014012953ABQLGA  \n",
       "20  202131014015070ABQSWF  \n",
       "21  202131014013796ABQOAK  \n",
       "22  202131014014771ABQSFO  \n",
       "23  202131014014831ABQSJC  \n",
       "24  202131014010800ABQBUR  \n",
       "25  202131014012892ABQLAX  \n",
       "26  202131014012954ABQLGB  \n",
       "27  202131014013891ABQONT  \n",
       "28  202131014014908ABQSNA  \n",
       "29  202131015411618ACKEWR  \n",
       "30  202131015412197ACKHPN  \n",
       "31  202131015412478ACKJFK  \n",
       "32  202131015412953ACKLGA  \n",
       "33  202131110911259COSDAL  \n",
       "34  202131110911298COSDFW  \n",
       "35  202131110914107COSPHX  \n",
       "36  202131110910821COSBWI  \n",
       "37  202131110911278COSDCA  \n",
       "38  202131110912264COSIAD  \n",
       "39  202131110910800COSBUR  \n",
       "40  202131110912892COSLAX  \n",
       "41  202131110912954COSLGB  \n",
       "42  202131110913891COSONT  \n",
       "43  202131110914908COSSNA  \n",
       "44  202131125914122DALPIT  \n",
       "45  202131129814122DFWPIT  \n",
       "46  202131125911292DALDEN  \n",
       "47  202131129811292DFWDEN  \n",
       "48  202131125915376DALTUS  \n",
       "49  202131129815376DFWTUS  \n",
       "\n",
       "[50 rows x 23 columns]"
      ]
     },
     "execution_count": 4,
     "metadata": {},
     "output_type": "execute_result"
    }
   ],
   "source": [
    "# Loaded dataset and displayed the first 50 rows\n",
    "flights = pd.read_csv(\"Resources/Consumer_Airfare_Report__Table_1a_-_All_U.S._Airport_Pair_Markets_20240712.csv\", low_memory=False)\n",
    "flights.head(50)"
   ]
  },
  {
   "cell_type": "code",
   "execution_count": 5,
   "id": "3ca912c3-7278-4546-b991-e3c879a6db6f",
   "metadata": {
    "scrolled": true
   },
   "outputs": [
    {
     "data": {
      "text/plain": [
       "Index(['tbl', 'Year', 'quarter', 'citymarketid_1', 'citymarketid_2', 'city1',\n",
       "       'city2', 'airportid_1', 'airportid_2', 'airport_1', 'airport_2',\n",
       "       'nsmiles', 'passengers', 'fare', 'carrier_lg', 'large_ms', 'fare_lg',\n",
       "       'carrier_low', 'lf_ms', 'fare_low', 'Geocoded_City1', 'Geocoded_City2',\n",
       "       'tbl1apk'],\n",
       "      dtype='object')"
      ]
     },
     "execution_count": 5,
     "metadata": {},
     "output_type": "execute_result"
    }
   ],
   "source": [
    "# All the columns in the dataset\n",
    "flights.columns"
   ]
  },
  {
   "cell_type": "code",
   "execution_count": 6,
   "id": "26183519-65b6-4ff0-acdf-fc0862b52699",
   "metadata": {},
   "outputs": [
    {
     "data": {
      "text/plain": [
       "array(['Allentown/Bethlehem/Easton, PA', 'Albuquerque, NM',\n",
       "       'Nantucket, MA', 'Colorado Springs, CO', 'Dallas/Fort Worth, TX',\n",
       "       'Pittsburgh, PA', 'Huntsville, AL', 'Albany, NY', 'Amarillo, TX',\n",
       "       'Denver, CO', 'Atlanta, GA (Metropolitan Area)', 'Austin, TX',\n",
       "       'Asheville, NC', 'Tucson, AZ', 'Phoenix, AZ', 'Hartford, CT',\n",
       "       'Seattle, WA', 'Birmingham, AL', 'El Paso, TX',\n",
       "       'Cleveland, OH (Metropolitan Area)', 'Nashville, TN', 'Boise, ID',\n",
       "       'Boston, MA (Metropolitan Area)', 'Burlington, VT', 'Buffalo, NY',\n",
       "       'Bozeman, MT', 'Washington, DC (Metropolitan Area)', 'Chicago, IL',\n",
       "       'Charleston, SC', 'Cedar Rapids/Iowa City, IA', 'Charlotte, NC',\n",
       "       'Columbus, OH', 'St. Louis, MO', 'Myrtle Beach, SC',\n",
       "       'Jacksonville, FL', 'Detroit, MI', 'Des Moines, IA', 'Houston, TX',\n",
       "       'Orlando, FL', 'Panama City, FL', 'Valparaiso, FL', 'Eugene, OR',\n",
       "       'Key West, FL', 'Fargo, ND', 'Kalispell, MT',\n",
       "       'Minneapolis/St. Paul, MN',\n",
       "       'New York City, NY (Metropolitan Area)', 'Fort Myers, FL',\n",
       "       'Greenville/Spartanburg, SC', 'Grand Rapids, MI',\n",
       "       'Greensboro/High Point, NC', 'Las Vegas, NV', 'Indianapolis, IN',\n",
       "       'Jackson, WY', 'Jackson/Vicksburg, MS',\n",
       "       'San Francisco, CA (Metropolitan Area)',\n",
       "       'Miami, FL (Metropolitan Area)',\n",
       "       'Los Angeles, CA (Metropolitan Area)', 'Little Rock, AR',\n",
       "       'Louisville, KY', 'Cincinnati, OH', 'Sacramento, CA',\n",
       "       'Tampa, FL (Metropolitan Area)', 'Kansas City, MO',\n",
       "       'San Antonio, TX', 'Memphis, TN', 'Omaha, NE', 'Milwaukee, WI',\n",
       "       'Madison, WI', 'New Orleans, LA', \"Martha's Vineyard, MA\",\n",
       "       'San Diego, CA', 'Norfolk, VA (Metropolitan Area)',\n",
       "       'Pensacola, FL', 'Oklahoma City, OK', 'Portland, OR',\n",
       "       'Philadelphia, PA', 'Palm Springs, CA', 'Portland, ME',\n",
       "       'Bend/Redmond, OR', 'Raleigh/Durham, NC', 'Reno, NV',\n",
       "       'Rochester, NY', 'Salt Lake City, UT', 'Savannah, GA',\n",
       "       'Springfield, MO', 'Sarasota/Bradenton, FL', 'Syracuse, NY',\n",
       "       'Knoxville, TN', 'Bismarck/Mandan, ND', 'Columbia, SC',\n",
       "       'Fresno, CA', 'Fayetteville, AR', 'Richmond, VA',\n",
       "       'Atlantic City, NJ', 'Aspen, CO', 'Appleton, WI', 'Bangor, ME',\n",
       "       'Billings, MT', 'Eagle, CO', 'Flint, MI', 'Fort Wayne, IN',\n",
       "       'Harlingen/San Benito, TX', 'Everett, WA', 'Dayton, OH',\n",
       "       'Baton Rouge, LA', 'Tulsa, OK', 'Corpus Christi, TX',\n",
       "       'Daytona Beach, FL', 'Melbourne, FL', 'Spokane, WA',\n",
       "       'Lexington, KY', 'Bellingham, WA', 'Gulfport/Biloxi, MS',\n",
       "       'Tallahassee, FL', 'Bloomington/Normal, IL', 'Harrisburg, PA',\n",
       "       'Montgomery, AL', 'Medford, OR', 'South Bend, IN', 'Lansing, MI',\n",
       "       'Augusta, GA', 'Mobile, AL', 'Minot, ND', 'Bullhead City, AZ',\n",
       "       'Chattanooga, TN', 'Peoria, IL', 'Eureka/Arcata, CA',\n",
       "       'Grand Forks, ND', 'Concord, NC', 'Latrobe, PA', 'Missoula, MT',\n",
       "       'Fort Collins/Loveland, CO', 'Charlottesville, VA',\n",
       "       'Belleville, IL', 'Idaho Falls, ID',\n",
       "       'Pasco/Kennewick/Richland, WA', 'Sioux Falls, SD',\n",
       "       'Hilton Head, SC', 'Ashland, WV', 'New Haven, CT'], dtype=object)"
      ]
     },
     "execution_count": 6,
     "metadata": {},
     "output_type": "execute_result"
    }
   ],
   "source": [
    "# Unique cities\n",
    "flights['city1'].unique()"
   ]
  },
  {
   "cell_type": "code",
   "execution_count": 7,
   "id": "c34d66b3-ac5c-4d9b-ae1d-26090888ddb0",
   "metadata": {},
   "outputs": [
    {
     "name": "stdout",
     "output_type": "stream",
     "text": [
      "<class 'pandas.core.frame.DataFrame'>\n",
      "RangeIndex: 245955 entries, 0 to 245954\n",
      "Data columns (total 23 columns):\n",
      " #   Column          Non-Null Count   Dtype  \n",
      "---  ------          --------------   -----  \n",
      " 0   tbl             245955 non-null  object \n",
      " 1   Year            245955 non-null  int64  \n",
      " 2   quarter         245955 non-null  int64  \n",
      " 3   citymarketid_1  245955 non-null  int64  \n",
      " 4   citymarketid_2  245955 non-null  int64  \n",
      " 5   city1           245955 non-null  object \n",
      " 6   city2           245955 non-null  object \n",
      " 7   airportid_1     245955 non-null  int64  \n",
      " 8   airportid_2     245955 non-null  int64  \n",
      " 9   airport_1       245955 non-null  object \n",
      " 10  airport_2       245955 non-null  object \n",
      " 11  nsmiles         245955 non-null  int64  \n",
      " 12  passengers      245955 non-null  int64  \n",
      " 13  fare            245955 non-null  float64\n",
      " 14  carrier_lg      244415 non-null  object \n",
      " 15  large_ms        244415 non-null  float64\n",
      " 16  fare_lg         244415 non-null  float64\n",
      " 17  carrier_low     244343 non-null  object \n",
      " 18  lf_ms           244343 non-null  float64\n",
      " 19  fare_low        244343 non-null  float64\n",
      " 20  Geocoded_City1  206749 non-null  object \n",
      " 21  Geocoded_City2  206749 non-null  object \n",
      " 22  tbl1apk         245955 non-null  object \n",
      "dtypes: float64(5), int64(8), object(10)\n",
      "memory usage: 43.2+ MB\n"
     ]
    }
   ],
   "source": [
    "# All the datatypes of the columns\n",
    "flights.info()"
   ]
  },
  {
   "cell_type": "markdown",
   "id": "6cdea712-1194-4d7c-a0be-2ec12d4aaa9e",
   "metadata": {},
   "source": [
    "## Customizing Data"
   ]
  },
  {
   "cell_type": "code",
   "execution_count": 121,
   "id": "18b95c1e-369f-4449-bf11-3fb7d213c52f",
   "metadata": {},
   "outputs": [
    {
     "data": {
      "text/html": [
       "<div>\n",
       "<style scoped>\n",
       "    .dataframe tbody tr th:only-of-type {\n",
       "        vertical-align: middle;\n",
       "    }\n",
       "\n",
       "    .dataframe tbody tr th {\n",
       "        vertical-align: top;\n",
       "    }\n",
       "\n",
       "    .dataframe thead th {\n",
       "        text-align: right;\n",
       "    }\n",
       "</style>\n",
       "<table border=\"1\" class=\"dataframe\">\n",
       "  <thead>\n",
       "    <tr style=\"text-align: right;\">\n",
       "      <th></th>\n",
       "      <th>tbl</th>\n",
       "      <th>Year</th>\n",
       "      <th>quarter</th>\n",
       "      <th>citymarketid_1</th>\n",
       "      <th>citymarketid_2</th>\n",
       "      <th>city1</th>\n",
       "      <th>city2</th>\n",
       "      <th>airportid_1</th>\n",
       "      <th>airportid_2</th>\n",
       "      <th>airport_1</th>\n",
       "      <th>...</th>\n",
       "      <th>large_ms</th>\n",
       "      <th>fare_lg</th>\n",
       "      <th>carrier_low</th>\n",
       "      <th>lf_ms</th>\n",
       "      <th>fare_low</th>\n",
       "      <th>Geocoded_City1</th>\n",
       "      <th>Geocoded_City2</th>\n",
       "      <th>tbl1apk</th>\n",
       "      <th>Departure State</th>\n",
       "      <th>Destination State</th>\n",
       "    </tr>\n",
       "  </thead>\n",
       "  <tbody>\n",
       "    <tr>\n",
       "      <th>0</th>\n",
       "      <td>Table1a</td>\n",
       "      <td>2021</td>\n",
       "      <td>3</td>\n",
       "      <td>30135</td>\n",
       "      <td>33195</td>\n",
       "      <td>Allentown/Bethlehem/Easton, PA</td>\n",
       "      <td>Tampa, FL (Metropolitan Area)</td>\n",
       "      <td>10135</td>\n",
       "      <td>14112</td>\n",
       "      <td>ABE</td>\n",
       "      <td>...</td>\n",
       "      <td>1.0000</td>\n",
       "      <td>81.43</td>\n",
       "      <td>G4</td>\n",
       "      <td>1.0000</td>\n",
       "      <td>81.43</td>\n",
       "      <td>NaN</td>\n",
       "      <td>NaN</td>\n",
       "      <td>202131013514112ABEPIE</td>\n",
       "      <td>PA</td>\n",
       "      <td>FL (Metropolitan Area)</td>\n",
       "    </tr>\n",
       "    <tr>\n",
       "      <th>1</th>\n",
       "      <td>Table1a</td>\n",
       "      <td>2021</td>\n",
       "      <td>3</td>\n",
       "      <td>30135</td>\n",
       "      <td>33195</td>\n",
       "      <td>Allentown/Bethlehem/Easton, PA</td>\n",
       "      <td>Tampa, FL (Metropolitan Area)</td>\n",
       "      <td>10135</td>\n",
       "      <td>15304</td>\n",
       "      <td>ABE</td>\n",
       "      <td>...</td>\n",
       "      <td>0.4659</td>\n",
       "      <td>219.98</td>\n",
       "      <td>UA</td>\n",
       "      <td>0.1193</td>\n",
       "      <td>154.11</td>\n",
       "      <td>NaN</td>\n",
       "      <td>NaN</td>\n",
       "      <td>202131013515304ABETPA</td>\n",
       "      <td>PA</td>\n",
       "      <td>FL (Metropolitan Area)</td>\n",
       "    </tr>\n",
       "    <tr>\n",
       "      <th>2</th>\n",
       "      <td>Table1a</td>\n",
       "      <td>2021</td>\n",
       "      <td>3</td>\n",
       "      <td>30140</td>\n",
       "      <td>30194</td>\n",
       "      <td>Albuquerque, NM</td>\n",
       "      <td>Dallas/Fort Worth, TX</td>\n",
       "      <td>10140</td>\n",
       "      <td>11259</td>\n",
       "      <td>ABQ</td>\n",
       "      <td>...</td>\n",
       "      <td>0.9968</td>\n",
       "      <td>184.44</td>\n",
       "      <td>WN</td>\n",
       "      <td>0.9968</td>\n",
       "      <td>184.44</td>\n",
       "      <td>NaN</td>\n",
       "      <td>NaN</td>\n",
       "      <td>202131014011259ABQDAL</td>\n",
       "      <td>NM</td>\n",
       "      <td>TX</td>\n",
       "    </tr>\n",
       "    <tr>\n",
       "      <th>3</th>\n",
       "      <td>Table1a</td>\n",
       "      <td>2021</td>\n",
       "      <td>3</td>\n",
       "      <td>30140</td>\n",
       "      <td>30194</td>\n",
       "      <td>Albuquerque, NM</td>\n",
       "      <td>Dallas/Fort Worth, TX</td>\n",
       "      <td>10140</td>\n",
       "      <td>11298</td>\n",
       "      <td>ABQ</td>\n",
       "      <td>...</td>\n",
       "      <td>0.9774</td>\n",
       "      <td>183.09</td>\n",
       "      <td>AA</td>\n",
       "      <td>0.9774</td>\n",
       "      <td>183.09</td>\n",
       "      <td>NaN</td>\n",
       "      <td>NaN</td>\n",
       "      <td>202131014011298ABQDFW</td>\n",
       "      <td>NM</td>\n",
       "      <td>TX</td>\n",
       "    </tr>\n",
       "    <tr>\n",
       "      <th>4</th>\n",
       "      <td>Table1a</td>\n",
       "      <td>2021</td>\n",
       "      <td>3</td>\n",
       "      <td>30140</td>\n",
       "      <td>30466</td>\n",
       "      <td>Albuquerque, NM</td>\n",
       "      <td>Phoenix, AZ</td>\n",
       "      <td>10140</td>\n",
       "      <td>14107</td>\n",
       "      <td>ABQ</td>\n",
       "      <td>...</td>\n",
       "      <td>0.6061</td>\n",
       "      <td>184.49</td>\n",
       "      <td>AA</td>\n",
       "      <td>0.3939</td>\n",
       "      <td>165.77</td>\n",
       "      <td>NaN</td>\n",
       "      <td>NaN</td>\n",
       "      <td>202131014014107ABQPHX</td>\n",
       "      <td>NM</td>\n",
       "      <td>AZ</td>\n",
       "    </tr>\n",
       "  </tbody>\n",
       "</table>\n",
       "<p>5 rows × 25 columns</p>\n",
       "</div>"
      ],
      "text/plain": [
       "       tbl  Year  quarter  citymarketid_1  citymarketid_2  \\\n",
       "0  Table1a  2021        3           30135           33195   \n",
       "1  Table1a  2021        3           30135           33195   \n",
       "2  Table1a  2021        3           30140           30194   \n",
       "3  Table1a  2021        3           30140           30194   \n",
       "4  Table1a  2021        3           30140           30466   \n",
       "\n",
       "                            city1                          city2  airportid_1  \\\n",
       "0  Allentown/Bethlehem/Easton, PA  Tampa, FL (Metropolitan Area)        10135   \n",
       "1  Allentown/Bethlehem/Easton, PA  Tampa, FL (Metropolitan Area)        10135   \n",
       "2                 Albuquerque, NM          Dallas/Fort Worth, TX        10140   \n",
       "3                 Albuquerque, NM          Dallas/Fort Worth, TX        10140   \n",
       "4                 Albuquerque, NM                    Phoenix, AZ        10140   \n",
       "\n",
       "   airportid_2 airport_1  ... large_ms  fare_lg  carrier_low   lf_ms fare_low  \\\n",
       "0        14112       ABE  ...   1.0000    81.43           G4  1.0000    81.43   \n",
       "1        15304       ABE  ...   0.4659   219.98           UA  0.1193   154.11   \n",
       "2        11259       ABQ  ...   0.9968   184.44           WN  0.9968   184.44   \n",
       "3        11298       ABQ  ...   0.9774   183.09           AA  0.9774   183.09   \n",
       "4        14107       ABQ  ...   0.6061   184.49           AA  0.3939   165.77   \n",
       "\n",
       "   Geocoded_City1  Geocoded_City2                tbl1apk  Departure State  \\\n",
       "0             NaN             NaN  202131013514112ABEPIE               PA   \n",
       "1             NaN             NaN  202131013515304ABETPA               PA   \n",
       "2             NaN             NaN  202131014011259ABQDAL               NM   \n",
       "3             NaN             NaN  202131014011298ABQDFW               NM   \n",
       "4             NaN             NaN  202131014014107ABQPHX               NM   \n",
       "\n",
       "         Destination State  \n",
       "0   FL (Metropolitan Area)  \n",
       "1   FL (Metropolitan Area)  \n",
       "2                       TX  \n",
       "3                       TX  \n",
       "4                       AZ  \n",
       "\n",
       "[5 rows x 25 columns]"
      ]
     },
     "execution_count": 121,
     "metadata": {},
     "output_type": "execute_result"
    }
   ],
   "source": [
    "# Created columns of just the states\n",
    "flights['Departure State'] = flights['city1'].apply(lambda x: x.split(',')[-1])\n",
    "flights['Destination State'] = flights['city2'].apply(lambda x: x.split(',')[-1])\n",
    "\n",
    "flights.head()"
   ]
  },
  {
   "cell_type": "code",
   "execution_count": 123,
   "id": "49e9c8fa-f80b-4ffe-846f-2ac7df04507b",
   "metadata": {},
   "outputs": [],
   "source": [
    "# Created a new dataset with only need columns\n",
    "season_flights = flights[['Year','quarter','city1','city2','passengers','fare','Departure State','Destination State']]"
   ]
  },
  {
   "cell_type": "code",
   "execution_count": 125,
   "id": "6293b54a-67b6-4a01-a74e-57a6f8c2af40",
   "metadata": {},
   "outputs": [
    {
     "data": {
      "text/html": [
       "<div>\n",
       "<style scoped>\n",
       "    .dataframe tbody tr th:only-of-type {\n",
       "        vertical-align: middle;\n",
       "    }\n",
       "\n",
       "    .dataframe tbody tr th {\n",
       "        vertical-align: top;\n",
       "    }\n",
       "\n",
       "    .dataframe thead th {\n",
       "        text-align: right;\n",
       "    }\n",
       "</style>\n",
       "<table border=\"1\" class=\"dataframe\">\n",
       "  <thead>\n",
       "    <tr style=\"text-align: right;\">\n",
       "      <th></th>\n",
       "      <th>Year</th>\n",
       "      <th>Quarter</th>\n",
       "      <th>Departure City</th>\n",
       "      <th>Destination City</th>\n",
       "      <th>Passengers</th>\n",
       "      <th>Fare</th>\n",
       "      <th>Departure State</th>\n",
       "      <th>Destination State</th>\n",
       "    </tr>\n",
       "  </thead>\n",
       "  <tbody>\n",
       "    <tr>\n",
       "      <th>0</th>\n",
       "      <td>2021</td>\n",
       "      <td>3</td>\n",
       "      <td>Allentown/Bethlehem/Easton, PA</td>\n",
       "      <td>Tampa, FL (Metropolitan Area)</td>\n",
       "      <td>180</td>\n",
       "      <td>81.43</td>\n",
       "      <td>PA</td>\n",
       "      <td>FL (Metropolitan Area)</td>\n",
       "    </tr>\n",
       "    <tr>\n",
       "      <th>1</th>\n",
       "      <td>2021</td>\n",
       "      <td>3</td>\n",
       "      <td>Allentown/Bethlehem/Easton, PA</td>\n",
       "      <td>Tampa, FL (Metropolitan Area)</td>\n",
       "      <td>19</td>\n",
       "      <td>208.93</td>\n",
       "      <td>PA</td>\n",
       "      <td>FL (Metropolitan Area)</td>\n",
       "    </tr>\n",
       "    <tr>\n",
       "      <th>2</th>\n",
       "      <td>2021</td>\n",
       "      <td>3</td>\n",
       "      <td>Albuquerque, NM</td>\n",
       "      <td>Dallas/Fort Worth, TX</td>\n",
       "      <td>204</td>\n",
       "      <td>184.56</td>\n",
       "      <td>NM</td>\n",
       "      <td>TX</td>\n",
       "    </tr>\n",
       "    <tr>\n",
       "      <th>3</th>\n",
       "      <td>2021</td>\n",
       "      <td>3</td>\n",
       "      <td>Albuquerque, NM</td>\n",
       "      <td>Dallas/Fort Worth, TX</td>\n",
       "      <td>264</td>\n",
       "      <td>182.64</td>\n",
       "      <td>NM</td>\n",
       "      <td>TX</td>\n",
       "    </tr>\n",
       "    <tr>\n",
       "      <th>4</th>\n",
       "      <td>2021</td>\n",
       "      <td>3</td>\n",
       "      <td>Albuquerque, NM</td>\n",
       "      <td>Phoenix, AZ</td>\n",
       "      <td>398</td>\n",
       "      <td>177.11</td>\n",
       "      <td>NM</td>\n",
       "      <td>AZ</td>\n",
       "    </tr>\n",
       "  </tbody>\n",
       "</table>\n",
       "</div>"
      ],
      "text/plain": [
       "   Year  Quarter                  Departure City  \\\n",
       "0  2021        3  Allentown/Bethlehem/Easton, PA   \n",
       "1  2021        3  Allentown/Bethlehem/Easton, PA   \n",
       "2  2021        3                 Albuquerque, NM   \n",
       "3  2021        3                 Albuquerque, NM   \n",
       "4  2021        3                 Albuquerque, NM   \n",
       "\n",
       "                Destination City  Passengers    Fare Departure State  \\\n",
       "0  Tampa, FL (Metropolitan Area)         180   81.43              PA   \n",
       "1  Tampa, FL (Metropolitan Area)          19  208.93              PA   \n",
       "2          Dallas/Fort Worth, TX         204  184.56              NM   \n",
       "3          Dallas/Fort Worth, TX         264  182.64              NM   \n",
       "4                    Phoenix, AZ         398  177.11              NM   \n",
       "\n",
       "         Destination State  \n",
       "0   FL (Metropolitan Area)  \n",
       "1   FL (Metropolitan Area)  \n",
       "2                       TX  \n",
       "3                       TX  \n",
       "4                       AZ  "
      ]
     },
     "execution_count": 125,
     "metadata": {},
     "output_type": "execute_result"
    }
   ],
   "source": [
    "# Rename columns\n",
    "season_flights = season_flights.rename(columns={'quarter': 'Quarter',\n",
    "                                               'city1': 'Departure City',\n",
    "                                               'city2': 'Destination City',\n",
    "                                               'passengers': 'Passengers',\n",
    "                                               'fare': 'Fare'})\n",
    "season_flights.head()"
   ]
  },
  {
   "cell_type": "code",
   "execution_count": 127,
   "id": "6807ec7e-9e91-4320-8a58-cf8a6a52ece9",
   "metadata": {},
   "outputs": [
    {
     "data": {
      "text/html": [
       "<div>\n",
       "<style scoped>\n",
       "    .dataframe tbody tr th:only-of-type {\n",
       "        vertical-align: middle;\n",
       "    }\n",
       "\n",
       "    .dataframe tbody tr th {\n",
       "        vertical-align: top;\n",
       "    }\n",
       "\n",
       "    .dataframe thead th {\n",
       "        text-align: right;\n",
       "    }\n",
       "</style>\n",
       "<table border=\"1\" class=\"dataframe\">\n",
       "  <thead>\n",
       "    <tr style=\"text-align: right;\">\n",
       "      <th></th>\n",
       "      <th>Year</th>\n",
       "      <th>Quarter</th>\n",
       "      <th>Departure City</th>\n",
       "      <th>Destination City</th>\n",
       "      <th>Passengers</th>\n",
       "      <th>Fare</th>\n",
       "      <th>Departure State</th>\n",
       "      <th>Destination State</th>\n",
       "      <th>Season</th>\n",
       "    </tr>\n",
       "  </thead>\n",
       "  <tbody>\n",
       "    <tr>\n",
       "      <th>0</th>\n",
       "      <td>2021</td>\n",
       "      <td>3</td>\n",
       "      <td>Allentown/Bethlehem/Easton, PA</td>\n",
       "      <td>Tampa, FL (Metropolitan Area)</td>\n",
       "      <td>180</td>\n",
       "      <td>81.43</td>\n",
       "      <td>PA</td>\n",
       "      <td>FL (Metropolitan Area)</td>\n",
       "      <td>Summer</td>\n",
       "    </tr>\n",
       "    <tr>\n",
       "      <th>1</th>\n",
       "      <td>2021</td>\n",
       "      <td>3</td>\n",
       "      <td>Allentown/Bethlehem/Easton, PA</td>\n",
       "      <td>Tampa, FL (Metropolitan Area)</td>\n",
       "      <td>19</td>\n",
       "      <td>208.93</td>\n",
       "      <td>PA</td>\n",
       "      <td>FL (Metropolitan Area)</td>\n",
       "      <td>Summer</td>\n",
       "    </tr>\n",
       "    <tr>\n",
       "      <th>2</th>\n",
       "      <td>2021</td>\n",
       "      <td>3</td>\n",
       "      <td>Albuquerque, NM</td>\n",
       "      <td>Dallas/Fort Worth, TX</td>\n",
       "      <td>204</td>\n",
       "      <td>184.56</td>\n",
       "      <td>NM</td>\n",
       "      <td>TX</td>\n",
       "      <td>Summer</td>\n",
       "    </tr>\n",
       "    <tr>\n",
       "      <th>3</th>\n",
       "      <td>2021</td>\n",
       "      <td>3</td>\n",
       "      <td>Albuquerque, NM</td>\n",
       "      <td>Dallas/Fort Worth, TX</td>\n",
       "      <td>264</td>\n",
       "      <td>182.64</td>\n",
       "      <td>NM</td>\n",
       "      <td>TX</td>\n",
       "      <td>Summer</td>\n",
       "    </tr>\n",
       "    <tr>\n",
       "      <th>4</th>\n",
       "      <td>2021</td>\n",
       "      <td>3</td>\n",
       "      <td>Albuquerque, NM</td>\n",
       "      <td>Phoenix, AZ</td>\n",
       "      <td>398</td>\n",
       "      <td>177.11</td>\n",
       "      <td>NM</td>\n",
       "      <td>AZ</td>\n",
       "      <td>Summer</td>\n",
       "    </tr>\n",
       "  </tbody>\n",
       "</table>\n",
       "</div>"
      ],
      "text/plain": [
       "   Year  Quarter                  Departure City  \\\n",
       "0  2021        3  Allentown/Bethlehem/Easton, PA   \n",
       "1  2021        3  Allentown/Bethlehem/Easton, PA   \n",
       "2  2021        3                 Albuquerque, NM   \n",
       "3  2021        3                 Albuquerque, NM   \n",
       "4  2021        3                 Albuquerque, NM   \n",
       "\n",
       "                Destination City  Passengers    Fare Departure State  \\\n",
       "0  Tampa, FL (Metropolitan Area)         180   81.43              PA   \n",
       "1  Tampa, FL (Metropolitan Area)          19  208.93              PA   \n",
       "2          Dallas/Fort Worth, TX         204  184.56              NM   \n",
       "3          Dallas/Fort Worth, TX         264  182.64              NM   \n",
       "4                    Phoenix, AZ         398  177.11              NM   \n",
       "\n",
       "         Destination State  Season  \n",
       "0   FL (Metropolitan Area)  Summer  \n",
       "1   FL (Metropolitan Area)  Summer  \n",
       "2                       TX  Summer  \n",
       "3                       TX  Summer  \n",
       "4                       AZ  Summer  "
      ]
     },
     "execution_count": 127,
     "metadata": {},
     "output_type": "execute_result"
    }
   ],
   "source": [
    "# Created a seasons column\n",
    "def season(quarter):\n",
    "    if quarter == 1:\n",
    "        return 'Winter'\n",
    "    elif quarter == 2:\n",
    "        return 'Spring'\n",
    "    elif quarter == 3:\n",
    "        return 'Summer'\n",
    "    elif quarter == 4:\n",
    "        return 'Fall'\n",
    "\n",
    "season_flights['Season'] = season_flights['Quarter'].apply(season)\n",
    "season_flights.head()"
   ]
  },
  {
   "cell_type": "code",
   "execution_count": 129,
   "id": "5d03f54b-5f3d-4ed7-bde4-f877d675935d",
   "metadata": {},
   "outputs": [
    {
     "data": {
      "text/html": [
       "<div>\n",
       "<style scoped>\n",
       "    .dataframe tbody tr th:only-of-type {\n",
       "        vertical-align: middle;\n",
       "    }\n",
       "\n",
       "    .dataframe tbody tr th {\n",
       "        vertical-align: top;\n",
       "    }\n",
       "\n",
       "    .dataframe thead th {\n",
       "        text-align: right;\n",
       "    }\n",
       "</style>\n",
       "<table border=\"1\" class=\"dataframe\">\n",
       "  <thead>\n",
       "    <tr style=\"text-align: right;\">\n",
       "      <th></th>\n",
       "      <th>Year</th>\n",
       "      <th>Quarter</th>\n",
       "      <th>Departure City</th>\n",
       "      <th>Destination City</th>\n",
       "      <th>Passengers</th>\n",
       "      <th>Fare</th>\n",
       "      <th>Departure State</th>\n",
       "      <th>Destination State</th>\n",
       "      <th>Season</th>\n",
       "    </tr>\n",
       "  </thead>\n",
       "  <tbody>\n",
       "    <tr>\n",
       "      <th>0</th>\n",
       "      <td>2021</td>\n",
       "      <td>3</td>\n",
       "      <td>Allentown/Bethlehem/Easton, PA</td>\n",
       "      <td>Tampa, FL</td>\n",
       "      <td>180</td>\n",
       "      <td>81.43</td>\n",
       "      <td>PA</td>\n",
       "      <td>FL (Metropolitan Area)</td>\n",
       "      <td>Summer</td>\n",
       "    </tr>\n",
       "    <tr>\n",
       "      <th>1</th>\n",
       "      <td>2021</td>\n",
       "      <td>3</td>\n",
       "      <td>Allentown/Bethlehem/Easton, PA</td>\n",
       "      <td>Tampa, FL</td>\n",
       "      <td>19</td>\n",
       "      <td>208.93</td>\n",
       "      <td>PA</td>\n",
       "      <td>FL (Metropolitan Area)</td>\n",
       "      <td>Summer</td>\n",
       "    </tr>\n",
       "    <tr>\n",
       "      <th>2</th>\n",
       "      <td>2021</td>\n",
       "      <td>3</td>\n",
       "      <td>Albuquerque, NM</td>\n",
       "      <td>Dallas/Fort Worth, TX</td>\n",
       "      <td>204</td>\n",
       "      <td>184.56</td>\n",
       "      <td>NM</td>\n",
       "      <td>TX</td>\n",
       "      <td>Summer</td>\n",
       "    </tr>\n",
       "    <tr>\n",
       "      <th>3</th>\n",
       "      <td>2021</td>\n",
       "      <td>3</td>\n",
       "      <td>Albuquerque, NM</td>\n",
       "      <td>Dallas/Fort Worth, TX</td>\n",
       "      <td>264</td>\n",
       "      <td>182.64</td>\n",
       "      <td>NM</td>\n",
       "      <td>TX</td>\n",
       "      <td>Summer</td>\n",
       "    </tr>\n",
       "    <tr>\n",
       "      <th>4</th>\n",
       "      <td>2021</td>\n",
       "      <td>3</td>\n",
       "      <td>Albuquerque, NM</td>\n",
       "      <td>Phoenix, AZ</td>\n",
       "      <td>398</td>\n",
       "      <td>177.11</td>\n",
       "      <td>NM</td>\n",
       "      <td>AZ</td>\n",
       "      <td>Summer</td>\n",
       "    </tr>\n",
       "  </tbody>\n",
       "</table>\n",
       "</div>"
      ],
      "text/plain": [
       "   Year  Quarter                  Departure City       Destination City  \\\n",
       "0  2021        3  Allentown/Bethlehem/Easton, PA              Tampa, FL   \n",
       "1  2021        3  Allentown/Bethlehem/Easton, PA              Tampa, FL   \n",
       "2  2021        3                 Albuquerque, NM  Dallas/Fort Worth, TX   \n",
       "3  2021        3                 Albuquerque, NM  Dallas/Fort Worth, TX   \n",
       "4  2021        3                 Albuquerque, NM            Phoenix, AZ   \n",
       "\n",
       "   Passengers    Fare Departure State        Destination State  Season  \n",
       "0         180   81.43              PA   FL (Metropolitan Area)  Summer  \n",
       "1          19  208.93              PA   FL (Metropolitan Area)  Summer  \n",
       "2         204  184.56              NM                       TX  Summer  \n",
       "3         264  182.64              NM                       TX  Summer  \n",
       "4         398  177.11              NM                       AZ  Summer  "
      ]
     },
     "execution_count": 129,
     "metadata": {},
     "output_type": "execute_result"
    }
   ],
   "source": [
    "# Reformat the city columns to remove '(Metropolitan Area)'\n",
    "season_flights['Departure City'] = season_flights['Departure City'].str.replace(' (Metropolitan Area)', '')\n",
    "season_flights['Destination City'] = season_flights['Destination City'].str.replace(' (Metropolitan Area)', '')\n",
    "\n",
    "season_flights.head()"
   ]
  },
  {
   "cell_type": "markdown",
   "id": "a5b5def1-d78f-41fe-8f2a-5e2de79cb6cb",
   "metadata": {},
   "source": [
    "## Analysis of Data"
   ]
  },
  {
   "cell_type": "code",
   "execution_count": 109,
   "id": "23ada9db-4831-4350-90b7-a6cc616addd9",
   "metadata": {},
   "outputs": [
    {
     "data": {
      "text/html": [
       "<div>\n",
       "<style scoped>\n",
       "    .dataframe tbody tr th:only-of-type {\n",
       "        vertical-align: middle;\n",
       "    }\n",
       "\n",
       "    .dataframe tbody tr th {\n",
       "        vertical-align: top;\n",
       "    }\n",
       "\n",
       "    .dataframe thead th {\n",
       "        text-align: right;\n",
       "    }\n",
       "</style>\n",
       "<table border=\"1\" class=\"dataframe\">\n",
       "  <thead>\n",
       "    <tr style=\"text-align: right;\">\n",
       "      <th></th>\n",
       "      <th>Season</th>\n",
       "      <th>Destination City</th>\n",
       "      <th>Passengers</th>\n",
       "    </tr>\n",
       "  </thead>\n",
       "  <tbody>\n",
       "    <tr>\n",
       "      <th>389</th>\n",
       "      <td>Winter</td>\n",
       "      <td>New York City, NY</td>\n",
       "      <td>2360690</td>\n",
       "    </tr>\n",
       "    <tr>\n",
       "      <th>442</th>\n",
       "      <td>Winter</td>\n",
       "      <td>Washington, DC</td>\n",
       "      <td>2178756</td>\n",
       "    </tr>\n",
       "    <tr>\n",
       "      <th>418</th>\n",
       "      <td>Winter</td>\n",
       "      <td>San Francisco, CA</td>\n",
       "      <td>2041188</td>\n",
       "    </tr>\n",
       "    <tr>\n",
       "      <th>372</th>\n",
       "      <td>Winter</td>\n",
       "      <td>Los Angeles, CA</td>\n",
       "      <td>1100458</td>\n",
       "    </tr>\n",
       "    <tr>\n",
       "      <th>435</th>\n",
       "      <td>Winter</td>\n",
       "      <td>Tampa, FL</td>\n",
       "      <td>973321</td>\n",
       "    </tr>\n",
       "    <tr>\n",
       "      <th>379</th>\n",
       "      <td>Winter</td>\n",
       "      <td>Miami, FL</td>\n",
       "      <td>938379</td>\n",
       "    </tr>\n",
       "    <tr>\n",
       "      <th>400</th>\n",
       "      <td>Winter</td>\n",
       "      <td>Phoenix, AZ</td>\n",
       "      <td>865791</td>\n",
       "    </tr>\n",
       "    <tr>\n",
       "      <th>394</th>\n",
       "      <td>Winter</td>\n",
       "      <td>Orlando, FL</td>\n",
       "      <td>755691</td>\n",
       "    </tr>\n",
       "    <tr>\n",
       "      <th>423</th>\n",
       "      <td>Winter</td>\n",
       "      <td>Seattle, WA</td>\n",
       "      <td>497357</td>\n",
       "    </tr>\n",
       "    <tr>\n",
       "      <th>358</th>\n",
       "      <td>Winter</td>\n",
       "      <td>Houston, TX</td>\n",
       "      <td>409602</td>\n",
       "    </tr>\n",
       "  </tbody>\n",
       "</table>\n",
       "</div>"
      ],
      "text/plain": [
       "     Season    Destination City  Passengers\n",
       "389  Winter  New York City, NY      2360690\n",
       "442  Winter     Washington, DC      2178756\n",
       "418  Winter  San Francisco, CA      2041188\n",
       "372  Winter    Los Angeles, CA      1100458\n",
       "435  Winter          Tampa, FL       973321\n",
       "379  Winter          Miami, FL       938379\n",
       "400  Winter         Phoenix, AZ      865791\n",
       "394  Winter         Orlando, FL      755691\n",
       "423  Winter         Seattle, WA      497357\n",
       "358  Winter         Houston, TX      409602"
      ]
     },
     "execution_count": 109,
     "metadata": {},
     "output_type": "execute_result"
    }
   ],
   "source": [
    "# Dataframe of most popular destination by season\n",
    "season_city = season_flights.groupby(['Season', 'Destination City'])['Passengers'].sum().reset_index()\n",
    "season_city = season_city.sort_values(['Season', 'Passengers'], ascending=False)\n",
    "season_city.head(10)"
   ]
  },
  {
   "cell_type": "code",
   "execution_count": 111,
   "id": "655f936a-3f98-412d-a1f7-77db9bf5289b",
   "metadata": {},
   "outputs": [
    {
     "data": {
      "text/html": [
       "<div>\n",
       "<style scoped>\n",
       "    .dataframe tbody tr th:only-of-type {\n",
       "        vertical-align: middle;\n",
       "    }\n",
       "\n",
       "    .dataframe tbody tr th {\n",
       "        vertical-align: top;\n",
       "    }\n",
       "\n",
       "    .dataframe thead th {\n",
       "        text-align: right;\n",
       "    }\n",
       "</style>\n",
       "<table border=\"1\" class=\"dataframe\">\n",
       "  <thead>\n",
       "    <tr style=\"text-align: right;\">\n",
       "      <th></th>\n",
       "      <th>Season</th>\n",
       "      <th>Destination City</th>\n",
       "      <th>Passengers</th>\n",
       "    </tr>\n",
       "  </thead>\n",
       "  <tbody>\n",
       "    <tr>\n",
       "      <th>0</th>\n",
       "      <td>Winter</td>\n",
       "      <td>New York City, NY</td>\n",
       "      <td>2360690</td>\n",
       "    </tr>\n",
       "    <tr>\n",
       "      <th>1</th>\n",
       "      <td>Winter</td>\n",
       "      <td>Washington, DC</td>\n",
       "      <td>2178756</td>\n",
       "    </tr>\n",
       "    <tr>\n",
       "      <th>2</th>\n",
       "      <td>Winter</td>\n",
       "      <td>San Francisco, CA</td>\n",
       "      <td>2041188</td>\n",
       "    </tr>\n",
       "    <tr>\n",
       "      <th>3</th>\n",
       "      <td>Winter</td>\n",
       "      <td>Los Angeles, CA</td>\n",
       "      <td>1100458</td>\n",
       "    </tr>\n",
       "    <tr>\n",
       "      <th>4</th>\n",
       "      <td>Winter</td>\n",
       "      <td>Tampa, FL</td>\n",
       "      <td>973321</td>\n",
       "    </tr>\n",
       "    <tr>\n",
       "      <th>5</th>\n",
       "      <td>Winter</td>\n",
       "      <td>Miami, FL</td>\n",
       "      <td>938379</td>\n",
       "    </tr>\n",
       "    <tr>\n",
       "      <th>6</th>\n",
       "      <td>Winter</td>\n",
       "      <td>Phoenix, AZ</td>\n",
       "      <td>865791</td>\n",
       "    </tr>\n",
       "    <tr>\n",
       "      <th>7</th>\n",
       "      <td>Winter</td>\n",
       "      <td>Orlando, FL</td>\n",
       "      <td>755691</td>\n",
       "    </tr>\n",
       "    <tr>\n",
       "      <th>8</th>\n",
       "      <td>Winter</td>\n",
       "      <td>Seattle, WA</td>\n",
       "      <td>497357</td>\n",
       "    </tr>\n",
       "    <tr>\n",
       "      <th>9</th>\n",
       "      <td>Winter</td>\n",
       "      <td>Houston, TX</td>\n",
       "      <td>409602</td>\n",
       "    </tr>\n",
       "    <tr>\n",
       "      <th>10</th>\n",
       "      <td>Summer</td>\n",
       "      <td>New York City, NY</td>\n",
       "      <td>2526282</td>\n",
       "    </tr>\n",
       "    <tr>\n",
       "      <th>11</th>\n",
       "      <td>Summer</td>\n",
       "      <td>Washington, DC</td>\n",
       "      <td>2395355</td>\n",
       "    </tr>\n",
       "    <tr>\n",
       "      <th>12</th>\n",
       "      <td>Summer</td>\n",
       "      <td>San Francisco, CA</td>\n",
       "      <td>2347140</td>\n",
       "    </tr>\n",
       "    <tr>\n",
       "      <th>13</th>\n",
       "      <td>Summer</td>\n",
       "      <td>Los Angeles, CA</td>\n",
       "      <td>1256033</td>\n",
       "    </tr>\n",
       "    <tr>\n",
       "      <th>14</th>\n",
       "      <td>Summer</td>\n",
       "      <td>Tampa, FL</td>\n",
       "      <td>749482</td>\n",
       "    </tr>\n",
       "    <tr>\n",
       "      <th>15</th>\n",
       "      <td>Summer</td>\n",
       "      <td>Seattle, WA</td>\n",
       "      <td>695562</td>\n",
       "    </tr>\n",
       "    <tr>\n",
       "      <th>16</th>\n",
       "      <td>Summer</td>\n",
       "      <td>Miami, FL</td>\n",
       "      <td>683968</td>\n",
       "    </tr>\n",
       "    <tr>\n",
       "      <th>17</th>\n",
       "      <td>Summer</td>\n",
       "      <td>Orlando, FL</td>\n",
       "      <td>670725</td>\n",
       "    </tr>\n",
       "    <tr>\n",
       "      <th>18</th>\n",
       "      <td>Summer</td>\n",
       "      <td>Phoenix, AZ</td>\n",
       "      <td>637869</td>\n",
       "    </tr>\n",
       "    <tr>\n",
       "      <th>19</th>\n",
       "      <td>Summer</td>\n",
       "      <td>Houston, TX</td>\n",
       "      <td>418811</td>\n",
       "    </tr>\n",
       "    <tr>\n",
       "      <th>20</th>\n",
       "      <td>Spring</td>\n",
       "      <td>New York City, NY</td>\n",
       "      <td>2599981</td>\n",
       "    </tr>\n",
       "    <tr>\n",
       "      <th>21</th>\n",
       "      <td>Spring</td>\n",
       "      <td>Washington, DC</td>\n",
       "      <td>2562529</td>\n",
       "    </tr>\n",
       "    <tr>\n",
       "      <th>22</th>\n",
       "      <td>Spring</td>\n",
       "      <td>San Francisco, CA</td>\n",
       "      <td>2321292</td>\n",
       "    </tr>\n",
       "    <tr>\n",
       "      <th>23</th>\n",
       "      <td>Spring</td>\n",
       "      <td>Los Angeles, CA</td>\n",
       "      <td>1216065</td>\n",
       "    </tr>\n",
       "    <tr>\n",
       "      <th>24</th>\n",
       "      <td>Spring</td>\n",
       "      <td>Tampa, FL</td>\n",
       "      <td>887777</td>\n",
       "    </tr>\n",
       "    <tr>\n",
       "      <th>25</th>\n",
       "      <td>Spring</td>\n",
       "      <td>Miami, FL</td>\n",
       "      <td>797782</td>\n",
       "    </tr>\n",
       "    <tr>\n",
       "      <th>26</th>\n",
       "      <td>Spring</td>\n",
       "      <td>Phoenix, AZ</td>\n",
       "      <td>748814</td>\n",
       "    </tr>\n",
       "    <tr>\n",
       "      <th>27</th>\n",
       "      <td>Spring</td>\n",
       "      <td>Orlando, FL</td>\n",
       "      <td>732651</td>\n",
       "    </tr>\n",
       "    <tr>\n",
       "      <th>28</th>\n",
       "      <td>Spring</td>\n",
       "      <td>Seattle, WA</td>\n",
       "      <td>623030</td>\n",
       "    </tr>\n",
       "    <tr>\n",
       "      <th>29</th>\n",
       "      <td>Spring</td>\n",
       "      <td>Houston, TX</td>\n",
       "      <td>427248</td>\n",
       "    </tr>\n",
       "    <tr>\n",
       "      <th>30</th>\n",
       "      <td>Fall</td>\n",
       "      <td>New York City, NY</td>\n",
       "      <td>2575111</td>\n",
       "    </tr>\n",
       "    <tr>\n",
       "      <th>31</th>\n",
       "      <td>Fall</td>\n",
       "      <td>Washington, DC</td>\n",
       "      <td>2388525</td>\n",
       "    </tr>\n",
       "    <tr>\n",
       "      <th>32</th>\n",
       "      <td>Fall</td>\n",
       "      <td>San Francisco, CA</td>\n",
       "      <td>2265491</td>\n",
       "    </tr>\n",
       "    <tr>\n",
       "      <th>33</th>\n",
       "      <td>Fall</td>\n",
       "      <td>Los Angeles, CA</td>\n",
       "      <td>1194521</td>\n",
       "    </tr>\n",
       "    <tr>\n",
       "      <th>34</th>\n",
       "      <td>Fall</td>\n",
       "      <td>Tampa, FL</td>\n",
       "      <td>855853</td>\n",
       "    </tr>\n",
       "    <tr>\n",
       "      <th>35</th>\n",
       "      <td>Fall</td>\n",
       "      <td>Miami, FL</td>\n",
       "      <td>799415</td>\n",
       "    </tr>\n",
       "    <tr>\n",
       "      <th>36</th>\n",
       "      <td>Fall</td>\n",
       "      <td>Phoenix, AZ</td>\n",
       "      <td>778880</td>\n",
       "    </tr>\n",
       "    <tr>\n",
       "      <th>37</th>\n",
       "      <td>Fall</td>\n",
       "      <td>Orlando, FL</td>\n",
       "      <td>694001</td>\n",
       "    </tr>\n",
       "    <tr>\n",
       "      <th>38</th>\n",
       "      <td>Fall</td>\n",
       "      <td>Seattle, WA</td>\n",
       "      <td>572698</td>\n",
       "    </tr>\n",
       "    <tr>\n",
       "      <th>39</th>\n",
       "      <td>Fall</td>\n",
       "      <td>Houston, TX</td>\n",
       "      <td>430150</td>\n",
       "    </tr>\n",
       "  </tbody>\n",
       "</table>\n",
       "</div>"
      ],
      "text/plain": [
       "    Season    Destination City  Passengers\n",
       "0   Winter  New York City, NY      2360690\n",
       "1   Winter     Washington, DC      2178756\n",
       "2   Winter  San Francisco, CA      2041188\n",
       "3   Winter    Los Angeles, CA      1100458\n",
       "4   Winter          Tampa, FL       973321\n",
       "5   Winter          Miami, FL       938379\n",
       "6   Winter         Phoenix, AZ      865791\n",
       "7   Winter         Orlando, FL      755691\n",
       "8   Winter         Seattle, WA      497357\n",
       "9   Winter         Houston, TX      409602\n",
       "10  Summer  New York City, NY      2526282\n",
       "11  Summer     Washington, DC      2395355\n",
       "12  Summer  San Francisco, CA      2347140\n",
       "13  Summer    Los Angeles, CA      1256033\n",
       "14  Summer          Tampa, FL       749482\n",
       "15  Summer         Seattle, WA      695562\n",
       "16  Summer          Miami, FL       683968\n",
       "17  Summer         Orlando, FL      670725\n",
       "18  Summer         Phoenix, AZ      637869\n",
       "19  Summer         Houston, TX      418811\n",
       "20  Spring  New York City, NY      2599981\n",
       "21  Spring     Washington, DC      2562529\n",
       "22  Spring  San Francisco, CA      2321292\n",
       "23  Spring    Los Angeles, CA      1216065\n",
       "24  Spring          Tampa, FL       887777\n",
       "25  Spring          Miami, FL       797782\n",
       "26  Spring         Phoenix, AZ      748814\n",
       "27  Spring         Orlando, FL      732651\n",
       "28  Spring         Seattle, WA      623030\n",
       "29  Spring         Houston, TX      427248\n",
       "30    Fall  New York City, NY      2575111\n",
       "31    Fall     Washington, DC      2388525\n",
       "32    Fall  San Francisco, CA      2265491\n",
       "33    Fall    Los Angeles, CA      1194521\n",
       "34    Fall          Tampa, FL       855853\n",
       "35    Fall          Miami, FL       799415\n",
       "36    Fall         Phoenix, AZ      778880\n",
       "37    Fall         Orlando, FL      694001\n",
       "38    Fall         Seattle, WA      572698\n",
       "39    Fall         Houston, TX      430150"
      ]
     },
     "execution_count": 111,
     "metadata": {},
     "output_type": "execute_result"
    }
   ],
   "source": [
    "# Top 10 popular citites by season\n",
    "popular_city = season_city.groupby('Season').head(10).reset_index(drop=True)\n",
    "popular_city"
   ]
  },
  {
   "cell_type": "code",
   "execution_count": 17,
   "id": "556c536e-b393-4da7-8452-27d714e3c8b9",
   "metadata": {},
   "outputs": [
    {
     "data": {
      "text/html": [
       "<div>\n",
       "<style scoped>\n",
       "    .dataframe tbody tr th:only-of-type {\n",
       "        vertical-align: middle;\n",
       "    }\n",
       "\n",
       "    .dataframe tbody tr th {\n",
       "        vertical-align: top;\n",
       "    }\n",
       "\n",
       "    .dataframe thead th {\n",
       "        text-align: right;\n",
       "    }\n",
       "</style>\n",
       "<table border=\"1\" class=\"dataframe\">\n",
       "  <thead>\n",
       "    <tr style=\"text-align: right;\">\n",
       "      <th></th>\n",
       "      <th>Destination City</th>\n",
       "      <th>Passengers</th>\n",
       "    </tr>\n",
       "  </thead>\n",
       "  <tbody>\n",
       "    <tr>\n",
       "      <th>0</th>\n",
       "      <td>New York City, NY</td>\n",
       "      <td>10062064</td>\n",
       "    </tr>\n",
       "    <tr>\n",
       "      <th>1</th>\n",
       "      <td>Washington, DC</td>\n",
       "      <td>9525165</td>\n",
       "    </tr>\n",
       "    <tr>\n",
       "      <th>2</th>\n",
       "      <td>San Francisco, CA</td>\n",
       "      <td>8975111</td>\n",
       "    </tr>\n",
       "    <tr>\n",
       "      <th>3</th>\n",
       "      <td>Los Angeles, CA</td>\n",
       "      <td>4767077</td>\n",
       "    </tr>\n",
       "    <tr>\n",
       "      <th>4</th>\n",
       "      <td>Tampa, FL</td>\n",
       "      <td>3466433</td>\n",
       "    </tr>\n",
       "    <tr>\n",
       "      <th>5</th>\n",
       "      <td>Miami, FL</td>\n",
       "      <td>3219544</td>\n",
       "    </tr>\n",
       "    <tr>\n",
       "      <th>6</th>\n",
       "      <td>Phoenix, AZ</td>\n",
       "      <td>3031354</td>\n",
       "    </tr>\n",
       "    <tr>\n",
       "      <th>7</th>\n",
       "      <td>Orlando, FL</td>\n",
       "      <td>2853068</td>\n",
       "    </tr>\n",
       "    <tr>\n",
       "      <th>8</th>\n",
       "      <td>Seattle, WA</td>\n",
       "      <td>2388647</td>\n",
       "    </tr>\n",
       "    <tr>\n",
       "      <th>9</th>\n",
       "      <td>Houston, TX</td>\n",
       "      <td>1685811</td>\n",
       "    </tr>\n",
       "  </tbody>\n",
       "</table>\n",
       "</div>"
      ],
      "text/plain": [
       "     Destination City  Passengers\n",
       "0  New York City, NY     10062064\n",
       "1     Washington, DC      9525165\n",
       "2  San Francisco, CA      8975111\n",
       "3    Los Angeles, CA      4767077\n",
       "4          Tampa, FL      3466433\n",
       "5          Miami, FL      3219544\n",
       "6         Phoenix, AZ     3031354\n",
       "7         Orlando, FL     2853068\n",
       "8         Seattle, WA     2388647\n",
       "9         Houston, TX     1685811"
      ]
     },
     "execution_count": 17,
     "metadata": {},
     "output_type": "execute_result"
    }
   ],
   "source": [
    "# Top 10 citites\n",
    "city_totals = season_flights.groupby('Destination City')['Passengers'].sum().reset_index()\n",
    "city_totals = city_totals.sort_values(by='Passengers', ascending=False).reset_index(drop=True)\n",
    "top_10 = city_totals.head(10)\n",
    "top_10"
   ]
  },
  {
   "cell_type": "code",
   "execution_count": 18,
   "id": "e1de9f0c-1593-4968-8db8-a4bcfd9a3d93",
   "metadata": {},
   "outputs": [
    {
     "data": {
      "text/html": [
       "<div>\n",
       "<style scoped>\n",
       "    .dataframe tbody tr th:only-of-type {\n",
       "        vertical-align: middle;\n",
       "    }\n",
       "\n",
       "    .dataframe tbody tr th {\n",
       "        vertical-align: top;\n",
       "    }\n",
       "\n",
       "    .dataframe thead th {\n",
       "        text-align: right;\n",
       "    }\n",
       "</style>\n",
       "<table border=\"1\" class=\"dataframe\">\n",
       "  <thead>\n",
       "    <tr style=\"text-align: right;\">\n",
       "      <th></th>\n",
       "      <th>Destination City</th>\n",
       "      <th>5 Year Interval</th>\n",
       "      <th>Passengers</th>\n",
       "    </tr>\n",
       "  </thead>\n",
       "  <tbody>\n",
       "    <tr>\n",
       "      <th>0</th>\n",
       "      <td>Houston, TX</td>\n",
       "      <td>1990</td>\n",
       "      <td>55340</td>\n",
       "    </tr>\n",
       "    <tr>\n",
       "      <th>1</th>\n",
       "      <td>Houston, TX</td>\n",
       "      <td>1995</td>\n",
       "      <td>233305</td>\n",
       "    </tr>\n",
       "    <tr>\n",
       "      <th>2</th>\n",
       "      <td>Houston, TX</td>\n",
       "      <td>2000</td>\n",
       "      <td>278361</td>\n",
       "    </tr>\n",
       "    <tr>\n",
       "      <th>3</th>\n",
       "      <td>Houston, TX</td>\n",
       "      <td>2005</td>\n",
       "      <td>293975</td>\n",
       "    </tr>\n",
       "    <tr>\n",
       "      <th>4</th>\n",
       "      <td>Houston, TX</td>\n",
       "      <td>2010</td>\n",
       "      <td>291361</td>\n",
       "    </tr>\n",
       "    <tr>\n",
       "      <th>5</th>\n",
       "      <td>Houston, TX</td>\n",
       "      <td>2015</td>\n",
       "      <td>313213</td>\n",
       "    </tr>\n",
       "    <tr>\n",
       "      <th>6</th>\n",
       "      <td>Houston, TX</td>\n",
       "      <td>2020</td>\n",
       "      <td>220256</td>\n",
       "    </tr>\n",
       "    <tr>\n",
       "      <th>7</th>\n",
       "      <td>Los Angeles, CA</td>\n",
       "      <td>1990</td>\n",
       "      <td>124759</td>\n",
       "    </tr>\n",
       "    <tr>\n",
       "      <th>8</th>\n",
       "      <td>Los Angeles, CA</td>\n",
       "      <td>1995</td>\n",
       "      <td>513086</td>\n",
       "    </tr>\n",
       "    <tr>\n",
       "      <th>9</th>\n",
       "      <td>Los Angeles, CA</td>\n",
       "      <td>2000</td>\n",
       "      <td>725471</td>\n",
       "    </tr>\n",
       "  </tbody>\n",
       "</table>\n",
       "</div>"
      ],
      "text/plain": [
       "   Destination City  5 Year Interval  Passengers\n",
       "0       Houston, TX             1990       55340\n",
       "1       Houston, TX             1995      233305\n",
       "2       Houston, TX             2000      278361\n",
       "3       Houston, TX             2005      293975\n",
       "4       Houston, TX             2010      291361\n",
       "5       Houston, TX             2015      313213\n",
       "6       Houston, TX             2020      220256\n",
       "7  Los Angeles, CA              1990      124759\n",
       "8  Los Angeles, CA              1995      513086\n",
       "9  Los Angeles, CA              2000      725471"
      ]
     },
     "execution_count": 18,
     "metadata": {},
     "output_type": "execute_result"
    }
   ],
   "source": [
    "# Top 10 popular citites over 5 year intervals\n",
    "season_flights['5 Year Interval'] = (season_flights['Year'] // 5) * 5\n",
    "popular_city_time = season_flights[season_flights['Destination City'].isin(top_10['Destination City'])]\n",
    "popular_city_time = popular_city_time.groupby(['Destination City', '5 Year Interval'])['Passengers'].sum().reset_index()\n",
    "popular_city_time.head(10)"
   ]
  },
  {
   "cell_type": "code",
   "execution_count": 19,
   "id": "55d2375c-397d-4562-a9a4-f79f723b4366",
   "metadata": {},
   "outputs": [
    {
     "data": {
      "text/html": [
       "<div>\n",
       "<style scoped>\n",
       "    .dataframe tbody tr th:only-of-type {\n",
       "        vertical-align: middle;\n",
       "    }\n",
       "\n",
       "    .dataframe tbody tr th {\n",
       "        vertical-align: top;\n",
       "    }\n",
       "\n",
       "    .dataframe thead th {\n",
       "        text-align: right;\n",
       "    }\n",
       "</style>\n",
       "<table border=\"1\" class=\"dataframe\">\n",
       "  <thead>\n",
       "    <tr style=\"text-align: right;\">\n",
       "      <th></th>\n",
       "      <th>Season</th>\n",
       "      <th>Departure City</th>\n",
       "      <th>Destination City</th>\n",
       "      <th>Flights</th>\n",
       "    </tr>\n",
       "  </thead>\n",
       "  <tbody>\n",
       "    <tr>\n",
       "      <th>0</th>\n",
       "      <td>Fall</td>\n",
       "      <td>Los Angeles, CA</td>\n",
       "      <td>New York City, NY</td>\n",
       "      <td>782</td>\n",
       "    </tr>\n",
       "    <tr>\n",
       "      <th>1</th>\n",
       "      <td>Fall</td>\n",
       "      <td>New York City, NY</td>\n",
       "      <td>San Francisco, CA</td>\n",
       "      <td>517</td>\n",
       "    </tr>\n",
       "    <tr>\n",
       "      <th>2</th>\n",
       "      <td>Fall</td>\n",
       "      <td>New York City, NY</td>\n",
       "      <td>Washington, DC</td>\n",
       "      <td>483</td>\n",
       "    </tr>\n",
       "    <tr>\n",
       "      <th>3</th>\n",
       "      <td>Fall</td>\n",
       "      <td>Los Angeles, CA</td>\n",
       "      <td>Washington, DC</td>\n",
       "      <td>443</td>\n",
       "    </tr>\n",
       "    <tr>\n",
       "      <th>4</th>\n",
       "      <td>Fall</td>\n",
       "      <td>Boston, MA</td>\n",
       "      <td>Los Angeles, CA</td>\n",
       "      <td>422</td>\n",
       "    </tr>\n",
       "    <tr>\n",
       "      <th>5</th>\n",
       "      <td>Spring</td>\n",
       "      <td>Los Angeles, CA</td>\n",
       "      <td>New York City, NY</td>\n",
       "      <td>797</td>\n",
       "    </tr>\n",
       "    <tr>\n",
       "      <th>6</th>\n",
       "      <td>Spring</td>\n",
       "      <td>New York City, NY</td>\n",
       "      <td>San Francisco, CA</td>\n",
       "      <td>512</td>\n",
       "    </tr>\n",
       "    <tr>\n",
       "      <th>7</th>\n",
       "      <td>Spring</td>\n",
       "      <td>New York City, NY</td>\n",
       "      <td>Washington, DC</td>\n",
       "      <td>493</td>\n",
       "    </tr>\n",
       "    <tr>\n",
       "      <th>8</th>\n",
       "      <td>Spring</td>\n",
       "      <td>Los Angeles, CA</td>\n",
       "      <td>Washington, DC</td>\n",
       "      <td>449</td>\n",
       "    </tr>\n",
       "    <tr>\n",
       "      <th>9</th>\n",
       "      <td>Spring</td>\n",
       "      <td>Boston, MA</td>\n",
       "      <td>Los Angeles, CA</td>\n",
       "      <td>420</td>\n",
       "    </tr>\n",
       "    <tr>\n",
       "      <th>10</th>\n",
       "      <td>Summer</td>\n",
       "      <td>Los Angeles, CA</td>\n",
       "      <td>New York City, NY</td>\n",
       "      <td>812</td>\n",
       "    </tr>\n",
       "    <tr>\n",
       "      <th>11</th>\n",
       "      <td>Summer</td>\n",
       "      <td>New York City, NY</td>\n",
       "      <td>San Francisco, CA</td>\n",
       "      <td>522</td>\n",
       "    </tr>\n",
       "    <tr>\n",
       "      <th>12</th>\n",
       "      <td>Summer</td>\n",
       "      <td>New York City, NY</td>\n",
       "      <td>Washington, DC</td>\n",
       "      <td>491</td>\n",
       "    </tr>\n",
       "    <tr>\n",
       "      <th>13</th>\n",
       "      <td>Summer</td>\n",
       "      <td>Los Angeles, CA</td>\n",
       "      <td>Washington, DC</td>\n",
       "      <td>448</td>\n",
       "    </tr>\n",
       "    <tr>\n",
       "      <th>14</th>\n",
       "      <td>Summer</td>\n",
       "      <td>Boston, MA</td>\n",
       "      <td>Los Angeles, CA</td>\n",
       "      <td>419</td>\n",
       "    </tr>\n",
       "    <tr>\n",
       "      <th>15</th>\n",
       "      <td>Winter</td>\n",
       "      <td>Los Angeles, CA</td>\n",
       "      <td>New York City, NY</td>\n",
       "      <td>830</td>\n",
       "    </tr>\n",
       "    <tr>\n",
       "      <th>16</th>\n",
       "      <td>Winter</td>\n",
       "      <td>New York City, NY</td>\n",
       "      <td>San Francisco, CA</td>\n",
       "      <td>551</td>\n",
       "    </tr>\n",
       "    <tr>\n",
       "      <th>17</th>\n",
       "      <td>Winter</td>\n",
       "      <td>New York City, NY</td>\n",
       "      <td>Washington, DC</td>\n",
       "      <td>524</td>\n",
       "    </tr>\n",
       "    <tr>\n",
       "      <th>18</th>\n",
       "      <td>Winter</td>\n",
       "      <td>Los Angeles, CA</td>\n",
       "      <td>Washington, DC</td>\n",
       "      <td>478</td>\n",
       "    </tr>\n",
       "    <tr>\n",
       "      <th>19</th>\n",
       "      <td>Winter</td>\n",
       "      <td>Boston, MA</td>\n",
       "      <td>Los Angeles, CA</td>\n",
       "      <td>444</td>\n",
       "    </tr>\n",
       "  </tbody>\n",
       "</table>\n",
       "</div>"
      ],
      "text/plain": [
       "    Season      Departure City    Destination City  Flights\n",
       "0     Fall    Los Angeles, CA   New York City, NY       782\n",
       "1     Fall  New York City, NY   San Francisco, CA       517\n",
       "2     Fall  New York City, NY      Washington, DC       483\n",
       "3     Fall    Los Angeles, CA      Washington, DC       443\n",
       "4     Fall         Boston, MA     Los Angeles, CA       422\n",
       "5   Spring    Los Angeles, CA   New York City, NY       797\n",
       "6   Spring  New York City, NY   San Francisco, CA       512\n",
       "7   Spring  New York City, NY      Washington, DC       493\n",
       "8   Spring    Los Angeles, CA      Washington, DC       449\n",
       "9   Spring         Boston, MA     Los Angeles, CA       420\n",
       "10  Summer    Los Angeles, CA   New York City, NY       812\n",
       "11  Summer  New York City, NY   San Francisco, CA       522\n",
       "12  Summer  New York City, NY      Washington, DC       491\n",
       "13  Summer    Los Angeles, CA      Washington, DC       448\n",
       "14  Summer         Boston, MA     Los Angeles, CA       419\n",
       "15  Winter    Los Angeles, CA   New York City, NY       830\n",
       "16  Winter  New York City, NY   San Francisco, CA       551\n",
       "17  Winter  New York City, NY      Washington, DC       524\n",
       "18  Winter    Los Angeles, CA      Washington, DC       478\n",
       "19  Winter         Boston, MA     Los Angeles, CA       444"
      ]
     },
     "execution_count": 19,
     "metadata": {},
     "output_type": "execute_result"
    }
   ],
   "source": [
    "# Number of flights from one city to another\n",
    "route_counts = season_flights.groupby(['Season', 'Departure City', 'Destination City']).size().reset_index(name='Flights')\n",
    "\n",
    "# Most common route per season\n",
    "most_common_routes = route_counts.groupby('Season').apply(lambda x: x.nlargest(5, 'Flights')).reset_index(drop=True)\n",
    "most_common_routes"
   ]
  },
  {
   "cell_type": "markdown",
   "id": "ee81de1c-26a2-4bec-8b70-2b87eb1c8ae4",
   "metadata": {},
   "source": [
    "## Visuals"
   ]
  },
  {
   "cell_type": "code",
   "execution_count": 237,
   "id": "267aa952-94fe-4ef0-86ac-b788675ded5d",
   "metadata": {},
   "outputs": [
    {
     "data": {
      "image/png": "[encoded data removed]",
      "text/plain": [
       "<Figure size 1400x800 with 1 Axes>"
      ]
     },
     "metadata": {},
     "output_type": "display_data"
    }
   ],
   "source": [
    "# Bar plot for city popularity by season\n",
    "plt.figure(figsize=(14, 8))\n",
    "sns.barplot(data=popular_city, x='Season', y='Passengers', hue='Destination City', palette=['lightblue', 'honeydew', 'lightcoral', 'lightskyblue', 'lightpink', 'lightyellow', 'lavender', 'peachpuff', 'lightseagreen', 'lightcyan'])\n",
    "plt.title('City Popularity by Season')\n",
    "plt.ylabel('Number of Passengers')\n",
    "plt.show()"
   ]
  },
  {
   "cell_type": "code",
   "execution_count": 245,
   "id": "3f448508-1235-4b19-babf-ad2141cb9191",
   "metadata": {},
   "outputs": [
    {
     "data": {
      "application/vnd.plotly.v1+json": {
       "config": {
        "plotlyServerURL": "https://plot.ly"
       },
       "data": [
        {
         "alignmentgroup": "True",
         "hovertemplate": "City=%{x}<br>Season=Fall<br>Number of Passengers=%{y}<extra></extra>",
         "legendgroup": "New York City, NY ",
         "marker": {
          "color": "lightblue",
          "pattern": {
           "shape": ""
          }
         },
         "name": "New York City, NY ",
         "offsetgroup": "New York City, NY ",
         "orientation": "v",
         "showlegend": true,
         "textposition": "auto",
         "type": "bar",
         "x": [
          "New York City, NY "
         ],
         "xaxis": "x",
         "y": [
          2575111
         ],
         "yaxis": "y"
        },
        {
         "alignmentgroup": "True",
         "hovertemplate": "City=%{x}<br>Season=Fall<br>Number of Passengers=%{y}<extra></extra>",
         "legendgroup": "Washington, DC ",
         "marker": {
          "color": "honeydew",
          "pattern": {
           "shape": ""
          }
         },
         "name": "Washington, DC ",
         "offsetgroup": "Washington, DC ",
         "orientation": "v",
         "showlegend": true,
         "textposition": "auto",
         "type": "bar",
         "x": [
          "Washington, DC "
         ],
         "xaxis": "x",
         "y": [
          2388525
         ],
         "yaxis": "y"
        },
        {
         "alignmentgroup": "True",
         "hovertemplate": "City=%{x}<br>Season=Fall<br>Number of Passengers=%{y}<extra></extra>",
         "legendgroup": "San Francisco, CA ",
         "marker": {
          "color": "lightcoral",
          "pattern": {
           "shape": ""
          }
         },
         "name": "San Francisco, CA ",
         "offsetgroup": "San Francisco, CA ",
         "orientation": "v",
         "showlegend": true,
         "textposition": "auto",
         "type": "bar",
         "x": [
          "San Francisco, CA "
         ],
         "xaxis": "x",
         "y": [
          2265491
         ],
         "yaxis": "y"
        },
        {
         "alignmentgroup": "True",
         "hovertemplate": "City=%{x}<br>Season=Fall<br>Number of Passengers=%{y}<extra></extra>",
         "legendgroup": "Los Angeles, CA ",
         "marker": {
          "color": "lightskyblue",
          "pattern": {
           "shape": ""
          }
         },
         "name": "Los Angeles, CA ",
         "offsetgroup": "Los Angeles, CA ",
         "orientation": "v",
         "showlegend": true,
         "textposition": "auto",
         "type": "bar",
         "x": [
          "Los Angeles, CA "
         ],
         "xaxis": "x",
         "y": [
          1194521
         ],
         "yaxis": "y"
        },
        {
         "alignmentgroup": "True",
         "hovertemplate": "City=%{x}<br>Season=Fall<br>Number of Passengers=%{y}<extra></extra>",
         "legendgroup": "Tampa, FL ",
         "marker": {
          "color": "lightpink",
          "pattern": {
           "shape": ""
          }
         },
         "name": "Tampa, FL ",
         "offsetgroup": "Tampa, FL ",
         "orientation": "v",
         "showlegend": true,
         "textposition": "auto",
         "type": "bar",
         "x": [
          "Tampa, FL "
         ],
         "xaxis": "x",
         "y": [
          855853
         ],
         "yaxis": "y"
        },
        {
         "alignmentgroup": "True",
         "hovertemplate": "City=%{x}<br>Season=Fall<br>Number of Passengers=%{y}<extra></extra>",
         "legendgroup": "Miami, FL ",
         "marker": {
          "color": "lightyellow",
          "pattern": {
           "shape": ""
          }
         },
         "name": "Miami, FL ",
         "offsetgroup": "Miami, FL ",
         "orientation": "v",
         "showlegend": true,
         "textposition": "auto",
         "type": "bar",
         "x": [
          "Miami, FL "
         ],
         "xaxis": "x",
         "y": [
          799415
         ],
         "yaxis": "y"
        },
        {
         "alignmentgroup": "True",
         "hovertemplate": "City=%{x}<br>Season=Fall<br>Number of Passengers=%{y}<extra></extra>",
         "legendgroup": "Phoenix, AZ",
         "marker": {
          "color": "lavender",
          "pattern": {
           "shape": ""
          }
         },
         "name": "Phoenix, AZ",
         "offsetgroup": "Phoenix, AZ",
         "orientation": "v",
         "showlegend": true,
         "textposition": "auto",
         "type": "bar",
         "x": [
          "Phoenix, AZ"
         ],
         "xaxis": "x",
         "y": [
          778880
         ],
         "yaxis": "y"
        },
        {
         "alignmentgroup": "True",
         "hovertemplate": "City=%{x}<br>Season=Fall<br>Number of Passengers=%{y}<extra></extra>",
         "legendgroup": "Orlando, FL",
         "marker": {
          "color": "peachpuff",
          "pattern": {
           "shape": ""
          }
         },
         "name": "Orlando, FL",
         "offsetgroup": "Orlando, FL",
         "orientation": "v",
         "showlegend": true,
         "textposition": "auto",
         "type": "bar",
         "x": [
          "Orlando, FL"
         ],
         "xaxis": "x",
         "y": [
          694001
         ],
         "yaxis": "y"
        },
        {
         "alignmentgroup": "True",
         "hovertemplate": "City=%{x}<br>Season=Fall<br>Number of Passengers=%{y}<extra></extra>",
         "legendgroup": "Seattle, WA",
         "marker": {
          "color": "lightseagreen",
          "pattern": {
           "shape": ""
          }
         },
         "name": "Seattle, WA",
         "offsetgroup": "Seattle, WA",
         "orientation": "v",
         "showlegend": true,
         "textposition": "auto",
         "type": "bar",
         "x": [
          "Seattle, WA"
         ],
         "xaxis": "x",
         "y": [
          572698
         ],
         "yaxis": "y"
        },
        {
         "alignmentgroup": "True",
         "hovertemplate": "City=%{x}<br>Season=Fall<br>Number of Passengers=%{y}<extra></extra>",
         "legendgroup": "Houston, TX",
         "marker": {
          "color": "lightcyan",
          "pattern": {
           "shape": ""
          }
         },
         "name": "Houston, TX",
         "offsetgroup": "Houston, TX",
         "orientation": "v",
         "showlegend": true,
         "textposition": "auto",
         "type": "bar",
         "x": [
          "Houston, TX"
         ],
         "xaxis": "x",
         "y": [
          430150
         ],
         "yaxis": "y"
        }
       ],
       "frames": [
        {
         "data": [
          {
           "alignmentgroup": "True",
           "hovertemplate": "City=%{x}<br>Season=Winter<br>Number of Passengers=%{y}<extra></extra>",
           "legendgroup": "New York City, NY ",
           "marker": {
            "color": "lightblue",
            "pattern": {
             "shape": ""
            }
           },
           "name": "New York City, NY ",
           "offsetgroup": "New York City, NY ",
           "orientation": "v",
           "showlegend": true,
           "textposition": "auto",
           "type": "bar",
           "x": [
            "New York City, NY "
           ],
           "xaxis": "x",
           "y": [
            2360690
           ],
           "yaxis": "y"
          },
          {
           "alignmentgroup": "True",
           "hovertemplate": "City=%{x}<br>Season=Winter<br>Number of Passengers=%{y}<extra></extra>",
           "legendgroup": "Washington, DC ",
           "marker": {
            "color": "honeydew",
            "pattern": {
             "shape": ""
            }
           },
           "name": "Washington, DC ",
           "offsetgroup": "Washington, DC ",
           "orientation": "v",
           "showlegend": true,
           "textposition": "auto",
           "type": "bar",
           "x": [
            "Washington, DC "
           ],
           "xaxis": "x",
           "y": [
            2178756
           ],
           "yaxis": "y"
          },
          {
           "alignmentgroup": "True",
           "hovertemplate": "City=%{x}<br>Season=Winter<br>Number of Passengers=%{y}<extra></extra>",
           "legendgroup": "San Francisco, CA ",
           "marker": {
            "color": "lightcoral",
            "pattern": {
             "shape": ""
            }
           },
           "name": "San Francisco, CA ",
           "offsetgroup": "San Francisco, CA ",
           "orientation": "v",
           "showlegend": true,
           "textposition": "auto",
           "type": "bar",
           "x": [
            "San Francisco, CA "
           ],
           "xaxis": "x",
           "y": [
            2041188
           ],
           "yaxis": "y"
          },
          {
           "alignmentgroup": "True",
           "hovertemplate": "City=%{x}<br>Season=Winter<br>Number of Passengers=%{y}<extra></extra>",
           "legendgroup": "Los Angeles, CA ",
           "marker": {
            "color": "lightskyblue",
            "pattern": {
             "shape": ""
            }
           },
           "name": "Los Angeles, CA ",
           "offsetgroup": "Los Angeles, CA ",
           "orientation": "v",
           "showlegend": true,
           "textposition": "auto",
           "type": "bar",
           "x": [
            "Los Angeles, CA "
           ],
           "xaxis": "x",
           "y": [
            1100458
           ],
           "yaxis": "y"
          },
          {
           "alignmentgroup": "True",
           "hovertemplate": "City=%{x}<br>Season=Winter<br>Number of Passengers=%{y}<extra></extra>",
           "legendgroup": "Tampa, FL ",
           "marker": {
            "color": "lightpink",
            "pattern": {
             "shape": ""
            }
           },
           "name": "Tampa, FL ",
           "offsetgroup": "Tampa, FL ",
           "orientation": "v",
           "showlegend": true,
           "textposition": "auto",
           "type": "bar",
           "x": [
            "Tampa, FL "
           ],
           "xaxis": "x",
           "y": [
            973321
           ],
           "yaxis": "y"
          },
          {
           "alignmentgroup": "True",
           "hovertemplate": "City=%{x}<br>Season=Winter<br>Number of Passengers=%{y}<extra></extra>",
           "legendgroup": "Miami, FL ",
           "marker": {
            "color": "lightyellow",
            "pattern": {
             "shape": ""
            }
           },
           "name": "Miami, FL ",
           "offsetgroup": "Miami, FL ",
           "orientation": "v",
           "showlegend": true,
           "textposition": "auto",
           "type": "bar",
           "x": [
            "Miami, FL "
           ],
           "xaxis": "x",
           "y": [
            938379
           ],
           "yaxis": "y"
          },
          {
           "alignmentgroup": "True",
           "hovertemplate": "City=%{x}<br>Season=Winter<br>Number of Passengers=%{y}<extra></extra>",
           "legendgroup": "Phoenix, AZ",
           "marker": {
            "color": "lavender",
            "pattern": {
             "shape": ""
            }
           },
           "name": "Phoenix, AZ",
           "offsetgroup": "Phoenix, AZ",
           "orientation": "v",
           "showlegend": true,
           "textposition": "auto",
           "type": "bar",
           "x": [
            "Phoenix, AZ"
           ],
           "xaxis": "x",
           "y": [
            865791
           ],
           "yaxis": "y"
          },
          {
           "alignmentgroup": "True",
           "hovertemplate": "City=%{x}<br>Season=Winter<br>Number of Passengers=%{y}<extra></extra>",
           "legendgroup": "Orlando, FL",
           "marker": {
            "color": "peachpuff",
            "pattern": {
             "shape": ""
            }
           },
           "name": "Orlando, FL",
           "offsetgroup": "Orlando, FL",
           "orientation": "v",
           "showlegend": true,
           "textposition": "auto",
           "type": "bar",
           "x": [
            "Orlando, FL"
           ],
           "xaxis": "x",
           "y": [
            755691
           ],
           "yaxis": "y"
          },
          {
           "alignmentgroup": "True",
           "hovertemplate": "City=%{x}<br>Season=Winter<br>Number of Passengers=%{y}<extra></extra>",
           "legendgroup": "Seattle, WA",
           "marker": {
            "color": "lightseagreen",
            "pattern": {
             "shape": ""
            }
           },
           "name": "Seattle, WA",
           "offsetgroup": "Seattle, WA",
           "orientation": "v",
           "showlegend": true,
           "textposition": "auto",
           "type": "bar",
           "x": [
            "Seattle, WA"
           ],
           "xaxis": "x",
           "y": [
            497357
           ],
           "yaxis": "y"
          },
          {
           "alignmentgroup": "True",
           "hovertemplate": "City=%{x}<br>Season=Winter<br>Number of Passengers=%{y}<extra></extra>",
           "legendgroup": "Houston, TX",
           "marker": {
            "color": "lightcyan",
            "pattern": {
             "shape": ""
            }
           },
           "name": "Houston, TX",
           "offsetgroup": "Houston, TX",
           "orientation": "v",
           "showlegend": true,
           "textposition": "auto",
           "type": "bar",
           "x": [
            "Houston, TX"
           ],
           "xaxis": "x",
           "y": [
            409602
           ],
           "yaxis": "y"
          }
         ],
         "name": "Winter"
        },
        {
         "data": [
          {
           "alignmentgroup": "True",
           "hovertemplate": "City=%{x}<br>Season=Summer<br>Number of Passengers=%{y}<extra></extra>",
           "legendgroup": "New York City, NY ",
           "marker": {
            "color": "lightblue",
            "pattern": {
             "shape": ""
            }
           },
           "name": "New York City, NY ",
           "offsetgroup": "New York City, NY ",
           "orientation": "v",
           "showlegend": true,
           "textposition": "auto",
           "type": "bar",
           "x": [
            "New York City, NY "
           ],
           "xaxis": "x",
           "y": [
            2526282
           ],
           "yaxis": "y"
          },
          {
           "alignmentgroup": "True",
           "hovertemplate": "City=%{x}<br>Season=Summer<br>Number of Passengers=%{y}<extra></extra>",
           "legendgroup": "Washington, DC ",
           "marker": {
            "color": "honeydew",
            "pattern": {
             "shape": ""
            }
           },
           "name": "Washington, DC ",
           "offsetgroup": "Washington, DC ",
           "orientation": "v",
           "showlegend": true,
           "textposition": "auto",
           "type": "bar",
           "x": [
            "Washington, DC "
           ],
           "xaxis": "x",
           "y": [
            2395355
           ],
           "yaxis": "y"
          },
          {
           "alignmentgroup": "True",
           "hovertemplate": "City=%{x}<br>Season=Summer<br>Number of Passengers=%{y}<extra></extra>",
           "legendgroup": "San Francisco, CA ",
           "marker": {
            "color": "lightcoral",
            "pattern": {
             "shape": ""
            }
           },
           "name": "San Francisco, CA ",
           "offsetgroup": "San Francisco, CA ",
           "orientation": "v",
           "showlegend": true,
           "textposition": "auto",
           "type": "bar",
           "x": [
            "San Francisco, CA "
           ],
           "xaxis": "x",
           "y": [
            2347140
           ],
           "yaxis": "y"
          },
          {
           "alignmentgroup": "True",
           "hovertemplate": "City=%{x}<br>Season=Summer<br>Number of Passengers=%{y}<extra></extra>",
           "legendgroup": "Los Angeles, CA ",
           "marker": {
            "color": "lightskyblue",
            "pattern": {
             "shape": ""
            }
           },
           "name": "Los Angeles, CA ",
           "offsetgroup": "Los Angeles, CA ",
           "orientation": "v",
           "showlegend": true,
           "textposition": "auto",
           "type": "bar",
           "x": [
            "Los Angeles, CA "
           ],
           "xaxis": "x",
           "y": [
            1256033
           ],
           "yaxis": "y"
          },
          {
           "alignmentgroup": "True",
           "hovertemplate": "City=%{x}<br>Season=Summer<br>Number of Passengers=%{y}<extra></extra>",
           "legendgroup": "Tampa, FL ",
           "marker": {
            "color": "lightpink",
            "pattern": {
             "shape": ""
            }
           },
           "name": "Tampa, FL ",
           "offsetgroup": "Tampa, FL ",
           "orientation": "v",
           "showlegend": true,
           "textposition": "auto",
           "type": "bar",
           "x": [
            "Tampa, FL "
           ],
           "xaxis": "x",
           "y": [
            749482
           ],
           "yaxis": "y"
          },
          {
           "alignmentgroup": "True",
           "hovertemplate": "City=%{x}<br>Season=Summer<br>Number of Passengers=%{y}<extra></extra>",
           "legendgroup": "Miami, FL ",
           "marker": {
            "color": "lightyellow",
            "pattern": {
             "shape": ""
            }
           },
           "name": "Miami, FL ",
           "offsetgroup": "Miami, FL ",
           "orientation": "v",
           "showlegend": true,
           "textposition": "auto",
           "type": "bar",
           "x": [
            "Miami, FL "
           ],
           "xaxis": "x",
           "y": [
            683968
           ],
           "yaxis": "y"
          },
          {
           "alignmentgroup": "True",
           "hovertemplate": "City=%{x}<br>Season=Summer<br>Number of Passengers=%{y}<extra></extra>",
           "legendgroup": "Phoenix, AZ",
           "marker": {
            "color": "lavender",
            "pattern": {
             "shape": ""
            }
           },
           "name": "Phoenix, AZ",
           "offsetgroup": "Phoenix, AZ",
           "orientation": "v",
           "showlegend": true,
           "textposition": "auto",
           "type": "bar",
           "x": [
            "Phoenix, AZ"
           ],
           "xaxis": "x",
           "y": [
            637869
           ],
           "yaxis": "y"
          },
          {
           "alignmentgroup": "True",
           "hovertemplate": "City=%{x}<br>Season=Summer<br>Number of Passengers=%{y}<extra></extra>",
           "legendgroup": "Orlando, FL",
           "marker": {
            "color": "peachpuff",
            "pattern": {
             "shape": ""
            }
           },
           "name": "Orlando, FL",
           "offsetgroup": "Orlando, FL",
           "orientation": "v",
           "showlegend": true,
           "textposition": "auto",
           "type": "bar",
           "x": [
            "Orlando, FL"
           ],
           "xaxis": "x",
           "y": [
            670725
           ],
           "yaxis": "y"
          },
          {
           "alignmentgroup": "True",
           "hovertemplate": "City=%{x}<br>Season=Summer<br>Number of Passengers=%{y}<extra></extra>",
           "legendgroup": "Seattle, WA",
           "marker": {
            "color": "lightseagreen",
            "pattern": {
             "shape": ""
            }
           },
           "name": "Seattle, WA",
           "offsetgroup": "Seattle, WA",
           "orientation": "v",
           "showlegend": true,
           "textposition": "auto",
           "type": "bar",
           "x": [
            "Seattle, WA"
           ],
           "xaxis": "x",
           "y": [
            695562
           ],
           "yaxis": "y"
          },
          {
           "alignmentgroup": "True",
           "hovertemplate": "City=%{x}<br>Season=Summer<br>Number of Passengers=%{y}<extra></extra>",
           "legendgroup": "Houston, TX",
           "marker": {
            "color": "lightcyan",
            "pattern": {
             "shape": ""
            }
           },
           "name": "Houston, TX",
           "offsetgroup": "Houston, TX",
           "orientation": "v",
           "showlegend": true,
           "textposition": "auto",
           "type": "bar",
           "x": [
            "Houston, TX"
           ],
           "xaxis": "x",
           "y": [
            418811
           ],
           "yaxis": "y"
          }
         ],
         "name": "Summer"
        },
        {
         "data": [
          {
           "alignmentgroup": "True",
           "hovertemplate": "City=%{x}<br>Season=Spring<br>Number of Passengers=%{y}<extra></extra>",
           "legendgroup": "New York City, NY ",
           "marker": {
            "color": "lightblue",
            "pattern": {
             "shape": ""
            }
           },
           "name": "New York City, NY ",
           "offsetgroup": "New York City, NY ",
           "orientation": "v",
           "showlegend": true,
           "textposition": "auto",
           "type": "bar",
           "x": [
            "New York City, NY "
           ],
           "xaxis": "x",
           "y": [
            2599981
           ],
           "yaxis": "y"
          },
          {
           "alignmentgroup": "True",
           "hovertemplate": "City=%{x}<br>Season=Spring<br>Number of Passengers=%{y}<extra></extra>",
           "legendgroup": "Washington, DC ",
           "marker": {
            "color": "honeydew",
            "pattern": {
             "shape": ""
            }
           },
           "name": "Washington, DC ",
           "offsetgroup": "Washington, DC ",
           "orientation": "v",
           "showlegend": true,
           "textposition": "auto",
           "type": "bar",
           "x": [
            "Washington, DC "
           ],
           "xaxis": "x",
           "y": [
            2562529
           ],
           "yaxis": "y"
          },
          {
           "alignmentgroup": "True",
           "hovertemplate": "City=%{x}<br>Season=Spring<br>Number of Passengers=%{y}<extra></extra>",
           "legendgroup": "San Francisco, CA ",
           "marker": {
            "color": "lightcoral",
            "pattern": {
             "shape": ""
            }
           },
           "name": "San Francisco, CA ",
           "offsetgroup": "San Francisco, CA ",
           "orientation": "v",
           "showlegend": true,
           "textposition": "auto",
           "type": "bar",
           "x": [
            "San Francisco, CA "
           ],
           "xaxis": "x",
           "y": [
            2321292
           ],
           "yaxis": "y"
          },
          {
           "alignmentgroup": "True",
           "hovertemplate": "City=%{x}<br>Season=Spring<br>Number of Passengers=%{y}<extra></extra>",
           "legendgroup": "Los Angeles, CA ",
           "marker": {
            "color": "lightskyblue",
            "pattern": {
             "shape": ""
            }
           },
           "name": "Los Angeles, CA ",
           "offsetgroup": "Los Angeles, CA ",
           "orientation": "v",
           "showlegend": true,
           "textposition": "auto",
           "type": "bar",
           "x": [
            "Los Angeles, CA "
           ],
           "xaxis": "x",
           "y": [
            1216065
           ],
           "yaxis": "y"
          },
          {
           "alignmentgroup": "True",
           "hovertemplate": "City=%{x}<br>Season=Spring<br>Number of Passengers=%{y}<extra></extra>",
           "legendgroup": "Tampa, FL ",
           "marker": {
            "color": "lightpink",
            "pattern": {
             "shape": ""
            }
           },
           "name": "Tampa, FL ",
           "offsetgroup": "Tampa, FL ",
           "orientation": "v",
           "showlegend": true,
           "textposition": "auto",
           "type": "bar",
           "x": [
            "Tampa, FL "
           ],
           "xaxis": "x",
           "y": [
            887777
           ],
           "yaxis": "y"
          },
          {
           "alignmentgroup": "True",
           "hovertemplate": "City=%{x}<br>Season=Spring<br>Number of Passengers=%{y}<extra></extra>",
           "legendgroup": "Miami, FL ",
           "marker": {
            "color": "lightyellow",
            "pattern": {
             "shape": ""
            }
           },
           "name": "Miami, FL ",
           "offsetgroup": "Miami, FL ",
           "orientation": "v",
           "showlegend": true,
           "textposition": "auto",
           "type": "bar",
           "x": [
            "Miami, FL "
           ],
           "xaxis": "x",
           "y": [
            797782
           ],
           "yaxis": "y"
          },
          {
           "alignmentgroup": "True",
           "hovertemplate": "City=%{x}<br>Season=Spring<br>Number of Passengers=%{y}<extra></extra>",
           "legendgroup": "Phoenix, AZ",
           "marker": {
            "color": "lavender",
            "pattern": {
             "shape": ""
            }
           },
           "name": "Phoenix, AZ",
           "offsetgroup": "Phoenix, AZ",
           "orientation": "v",
           "showlegend": true,
           "textposition": "auto",
           "type": "bar",
           "x": [
            "Phoenix, AZ"
           ],
           "xaxis": "x",
           "y": [
            748814
           ],
           "yaxis": "y"
          },
          {
           "alignmentgroup": "True",
           "hovertemplate": "City=%{x}<br>Season=Spring<br>Number of Passengers=%{y}<extra></extra>",
           "legendgroup": "Orlando, FL",
           "marker": {
            "color": "peachpuff",
            "pattern": {
             "shape": ""
            }
           },
           "name": "Orlando, FL",
           "offsetgroup": "Orlando, FL",
           "orientation": "v",
           "showlegend": true,
           "textposition": "auto",
           "type": "bar",
           "x": [
            "Orlando, FL"
           ],
           "xaxis": "x",
           "y": [
            732651
           ],
           "yaxis": "y"
          },
          {
           "alignmentgroup": "True",
           "hovertemplate": "City=%{x}<br>Season=Spring<br>Number of Passengers=%{y}<extra></extra>",
           "legendgroup": "Seattle, WA",
           "marker": {
            "color": "lightseagreen",
            "pattern": {
             "shape": ""
            }
           },
           "name": "Seattle, WA",
           "offsetgroup": "Seattle, WA",
           "orientation": "v",
           "showlegend": true,
           "textposition": "auto",
           "type": "bar",
           "x": [
            "Seattle, WA"
           ],
           "xaxis": "x",
           "y": [
            623030
           ],
           "yaxis": "y"
          },
          {
           "alignmentgroup": "True",
           "hovertemplate": "City=%{x}<br>Season=Spring<br>Number of Passengers=%{y}<extra></extra>",
           "legendgroup": "Houston, TX",
           "marker": {
            "color": "lightcyan",
            "pattern": {
             "shape": ""
            }
           },
           "name": "Houston, TX",
           "offsetgroup": "Houston, TX",
           "orientation": "v",
           "showlegend": true,
           "textposition": "auto",
           "type": "bar",
           "x": [
            "Houston, TX"
           ],
           "xaxis": "x",
           "y": [
            427248
           ],
           "yaxis": "y"
          }
         ],
         "name": "Spring"
        },
        {
         "data": [
          {
           "alignmentgroup": "True",
           "hovertemplate": "City=%{x}<br>Season=Fall<br>Number of Passengers=%{y}<extra></extra>",
           "legendgroup": "New York City, NY ",
           "marker": {
            "color": "lightblue",
            "pattern": {
             "shape": ""
            }
           },
           "name": "New York City, NY ",
           "offsetgroup": "New York City, NY ",
           "orientation": "v",
           "showlegend": true,
           "textposition": "auto",
           "type": "bar",
           "x": [
            "New York City, NY "
           ],
           "xaxis": "x",
           "y": [
            2575111
           ],
           "yaxis": "y"
          },
          {
           "alignmentgroup": "True",
           "hovertemplate": "City=%{x}<br>Season=Fall<br>Number of Passengers=%{y}<extra></extra>",
           "legendgroup": "Washington, DC ",
           "marker": {
            "color": "honeydew",
            "pattern": {
             "shape": ""
            }
           },
           "name": "Washington, DC ",
           "offsetgroup": "Washington, DC ",
           "orientation": "v",
           "showlegend": true,
           "textposition": "auto",
           "type": "bar",
           "x": [
            "Washington, DC "
           ],
           "xaxis": "x",
           "y": [
            2388525
           ],
           "yaxis": "y"
          },
          {
           "alignmentgroup": "True",
           "hovertemplate": "City=%{x}<br>Season=Fall<br>Number of Passengers=%{y}<extra></extra>",
           "legendgroup": "San Francisco, CA ",
           "marker": {
            "color": "lightcoral",
            "pattern": {
             "shape": ""
            }
           },
           "name": "San Francisco, CA ",
           "offsetgroup": "San Francisco, CA ",
           "orientation": "v",
           "showlegend": true,
           "textposition": "auto",
           "type": "bar",
           "x": [
            "San Francisco, CA "
           ],
           "xaxis": "x",
           "y": [
            2265491
           ],
           "yaxis": "y"
          },
          {
           "alignmentgroup": "True",
           "hovertemplate": "City=%{x}<br>Season=Fall<br>Number of Passengers=%{y}<extra></extra>",
           "legendgroup": "Los Angeles, CA ",
           "marker": {
            "color": "lightskyblue",
            "pattern": {
             "shape": ""
            }
           },
           "name": "Los Angeles, CA ",
           "offsetgroup": "Los Angeles, CA ",
           "orientation": "v",
           "showlegend": true,
           "textposition": "auto",
           "type": "bar",
           "x": [
            "Los Angeles, CA "
           ],
           "xaxis": "x",
           "y": [
            1194521
           ],
           "yaxis": "y"
          },
          {
           "alignmentgroup": "True",
           "hovertemplate": "City=%{x}<br>Season=Fall<br>Number of Passengers=%{y}<extra></extra>",
           "legendgroup": "Tampa, FL ",
           "marker": {
            "color": "lightpink",
            "pattern": {
             "shape": ""
            }
           },
           "name": "Tampa, FL ",
           "offsetgroup": "Tampa, FL ",
           "orientation": "v",
           "showlegend": true,
           "textposition": "auto",
           "type": "bar",
           "x": [
            "Tampa, FL "
           ],
           "xaxis": "x",
           "y": [
            855853
           ],
           "yaxis": "y"
          },
          {
           "alignmentgroup": "True",
           "hovertemplate": "City=%{x}<br>Season=Fall<br>Number of Passengers=%{y}<extra></extra>",
           "legendgroup": "Miami, FL ",
           "marker": {
            "color": "lightyellow",
            "pattern": {
             "shape": ""
            }
           },
           "name": "Miami, FL ",
           "offsetgroup": "Miami, FL ",
           "orientation": "v",
           "showlegend": true,
           "textposition": "auto",
           "type": "bar",
           "x": [
            "Miami, FL "
           ],
           "xaxis": "x",
           "y": [
            799415
           ],
           "yaxis": "y"
          },
          {
           "alignmentgroup": "True",
           "hovertemplate": "City=%{x}<br>Season=Fall<br>Number of Passengers=%{y}<extra></extra>",
           "legendgroup": "Phoenix, AZ",
           "marker": {
            "color": "lavender",
            "pattern": {
             "shape": ""
            }
           },
           "name": "Phoenix, AZ",
           "offsetgroup": "Phoenix, AZ",
           "orientation": "v",
           "showlegend": true,
           "textposition": "auto",
           "type": "bar",
           "x": [
            "Phoenix, AZ"
           ],
           "xaxis": "x",
           "y": [
            778880
           ],
           "yaxis": "y"
          },
          {
           "alignmentgroup": "True",
           "hovertemplate": "City=%{x}<br>Season=Fall<br>Number of Passengers=%{y}<extra></extra>",
           "legendgroup": "Orlando, FL",
           "marker": {
            "color": "peachpuff",
            "pattern": {
             "shape": ""
            }
           },
           "name": "Orlando, FL",
           "offsetgroup": "Orlando, FL",
           "orientation": "v",
           "showlegend": true,
           "textposition": "auto",
           "type": "bar",
           "x": [
            "Orlando, FL"
           ],
           "xaxis": "x",
           "y": [
            694001
           ],
           "yaxis": "y"
          },
          {
           "alignmentgroup": "True",
           "hovertemplate": "City=%{x}<br>Season=Fall<br>Number of Passengers=%{y}<extra></extra>",
           "legendgroup": "Seattle, WA",
           "marker": {
            "color": "lightseagreen",
            "pattern": {
             "shape": ""
            }
           },
           "name": "Seattle, WA",
           "offsetgroup": "Seattle, WA",
           "orientation": "v",
           "showlegend": true,
           "textposition": "auto",
           "type": "bar",
           "x": [
            "Seattle, WA"
           ],
           "xaxis": "x",
           "y": [
            572698
           ],
           "yaxis": "y"
          },
          {
           "alignmentgroup": "True",
           "hovertemplate": "City=%{x}<br>Season=Fall<br>Number of Passengers=%{y}<extra></extra>",
           "legendgroup": "Houston, TX",
           "marker": {
            "color": "lightcyan",
            "pattern": {
             "shape": ""
            }
           },
           "name": "Houston, TX",
           "offsetgroup": "Houston, TX",
           "orientation": "v",
           "showlegend": true,
           "textposition": "auto",
           "type": "bar",
           "x": [
            "Houston, TX"
           ],
           "xaxis": "x",
           "y": [
            430150
           ],
           "yaxis": "y"
          }
         ],
         "name": "Fall"
        }
       ],
       "layout": {
        "autosize": true,
        "barmode": "relative",
        "dragmode": "pan",
        "legend": {
         "title": {
          "text": "City"
         },
         "tracegroupgap": 0
        },
        "showlegend": false,
        "sliders": [
         {
          "active": 3,
          "currentvalue": {
           "prefix": "Season="
          },
          "len": 0.9,
          "pad": {
           "b": 10,
           "t": 60
          },
          "steps": [
           {
            "args": [
             [
              "Winter"
             ],
             {
              "frame": {
               "duration": 0,
               "redraw": true
              },
              "fromcurrent": true,
              "mode": "immediate",
              "transition": {
               "duration": 0,
               "easing": "linear"
              }
             }
            ],
            "label": "Winter",
            "method": "animate"
           },
           {
            "args": [
             [
              "Summer"
             ],
             {
              "frame": {
               "duration": 0,
               "redraw": true
              },
              "fromcurrent": true,
              "mode": "immediate",
              "transition": {
               "duration": 0,
               "easing": "linear"
              }
             }
            ],
            "label": "Summer",
            "method": "animate"
           },
           {
            "args": [
             [
              "Spring"
             ],
             {
              "frame": {
               "duration": 0,
               "redraw": true
              },
              "fromcurrent": true,
              "mode": "immediate",
              "transition": {
               "duration": 0,
               "easing": "linear"
              }
             }
            ],
            "label": "Spring",
            "method": "animate"
           },
           {
            "args": [
             [
              "Fall"
             ],
             {
              "frame": {
               "duration": 0,
               "redraw": true
              },
              "fromcurrent": true,
              "mode": "immediate",
              "transition": {
               "duration": 0,
               "easing": "linear"
              }
             }
            ],
            "label": "Fall",
            "method": "animate"
           }
          ],
          "x": 0.1,
          "xanchor": "left",
          "y": 0,
          "yanchor": "top"
         }
        ],
        "template": {
         "data": {
          "bar": [
           {
            "error_x": {
             "color": "#2a3f5f"
            },
            "error_y": {
             "color": "#2a3f5f"
            },
            "marker": {
             "line": {
              "color": "#E5ECF6",
              "width": 0.5
             },
             "pattern": {
              "fillmode": "overlay",
              "size": 10,
              "solidity": 0.2
             }
            },
            "type": "bar"
           }
          ],
          "barpolar": [
           {
            "marker": {
             "line": {
              "color": "#E5ECF6",
              "width": 0.5
             },
             "pattern": {
              "fillmode": "overlay",
              "size": 10,
              "solidity": 0.2
             }
            },
            "type": "barpolar"
           }
          ],
          "carpet": [
           {
            "aaxis": {
             "endlinecolor": "#2a3f5f",
             "gridcolor": "white",
             "linecolor": "white",
             "minorgridcolor": "white",
             "startlinecolor": "#2a3f5f"
            },
            "baxis": {
             "endlinecolor": "#2a3f5f",
             "gridcolor": "white",
             "linecolor": "white",
             "minorgridcolor": "white",
             "startlinecolor": "#2a3f5f"
            },
            "type": "carpet"
           }
          ],
          "choropleth": [
           {
            "colorbar": {
             "outlinewidth": 0,
             "ticks": ""
            },
            "type": "choropleth"
           }
          ],
          "contour": [
           {
            "colorbar": {
             "outlinewidth": 0,
             "ticks": ""
            },
            "colorscale": [
             [
              0,
              "#0d0887"
             ],
             [
              0.1111111111111111,
              "#46039f"
             ],
             [
              0.2222222222222222,
              "#7201a8"
             ],
             [
              0.3333333333333333,
              "#9c179e"
             ],
             [
              0.4444444444444444,
              "#bd3786"
             ],
             [
              0.5555555555555556,
              "#d8576b"
             ],
             [
              0.6666666666666666,
              "#ed7953"
             ],
             [
              0.7777777777777778,
              "#fb9f3a"
             ],
             [
              0.8888888888888888,
              "#fdca26"
             ],
             [
              1,
              "#f0f921"
             ]
            ],
            "type": "contour"
           }
          ],
          "contourcarpet": [
           {
            "colorbar": {
             "outlinewidth": 0,
             "ticks": ""
            },
            "type": "contourcarpet"
           }
          ],
          "heatmap": [
           {
            "colorbar": {
             "outlinewidth": 0,
             "ticks": ""
            },
            "colorscale": [
             [
              0,
              "#0d0887"
             ],
             [
              0.1111111111111111,
              "#46039f"
             ],
             [
              0.2222222222222222,
              "#7201a8"
             ],
             [
              0.3333333333333333,
              "#9c179e"
             ],
             [
              0.4444444444444444,
              "#bd3786"
             ],
             [
              0.5555555555555556,
              "#d8576b"
             ],
             [
              0.6666666666666666,
              "#ed7953"
             ],
             [
              0.7777777777777778,
              "#fb9f3a"
             ],
             [
              0.8888888888888888,
              "#fdca26"
             ],
             [
              1,
              "#f0f921"
             ]
            ],
            "type": "heatmap"
           }
          ],
          "heatmapgl": [
           {
            "colorbar": {
             "outlinewidth": 0,
             "ticks": ""
            },
            "colorscale": [
             [
              0,
              "#0d0887"
             ],
             [
              0.1111111111111111,
              "#46039f"
             ],
             [
              0.2222222222222222,
              "#7201a8"
             ],
             [
              0.3333333333333333,
              "#9c179e"
             ],
             [
              0.4444444444444444,
              "#bd3786"
             ],
             [
              0.5555555555555556,
              "#d8576b"
             ],
             [
              0.6666666666666666,
              "#ed7953"
             ],
             [
              0.7777777777777778,
              "#fb9f3a"
             ],
             [
              0.8888888888888888,
              "#fdca26"
             ],
             [
              1,
              "#f0f921"
             ]
            ],
            "type": "heatmapgl"
           }
          ],
          "histogram": [
           {
            "marker": {
             "pattern": {
              "fillmode": "overlay",
              "size": 10,
              "solidity": 0.2
             }
            },
            "type": "histogram"
           }
          ],
          "histogram2d": [
           {
            "colorbar": {
             "outlinewidth": 0,
             "ticks": ""
            },
            "colorscale": [
             [
              0,
              "#0d0887"
             ],
             [
              0.1111111111111111,
              "#46039f"
             ],
             [
              0.2222222222222222,
              "#7201a8"
             ],
             [
              0.3333333333333333,
              "#9c179e"
             ],
             [
              0.4444444444444444,
              "#bd3786"
             ],
             [
              0.5555555555555556,
              "#d8576b"
             ],
             [
              0.6666666666666666,
              "#ed7953"
             ],
             [
              0.7777777777777778,
              "#fb9f3a"
             ],
             [
              0.8888888888888888,
              "#fdca26"
             ],
             [
              1,
              "#f0f921"
             ]
            ],
            "type": "histogram2d"
           }
          ],
          "histogram2dcontour": [
           {
            "colorbar": {
             "outlinewidth": 0,
             "ticks": ""
            },
            "colorscale": [
             [
              0,
              "#0d0887"
             ],
             [
              0.1111111111111111,
              "#46039f"
             ],
             [
              0.2222222222222222,
              "#7201a8"
             ],
             [
              0.3333333333333333,
              "#9c179e"
             ],
             [
              0.4444444444444444,
              "#bd3786"
             ],
             [
              0.5555555555555556,
              "#d8576b"
             ],
             [
              0.6666666666666666,
              "#ed7953"
             ],
             [
              0.7777777777777778,
              "#fb9f3a"
             ],
             [
              0.8888888888888888,
              "#fdca26"
             ],
             [
              1,
              "#f0f921"
             ]
            ],
            "type": "histogram2dcontour"
           }
          ],
          "mesh3d": [
           {
            "colorbar": {
             "outlinewidth": 0,
             "ticks": ""
            },
            "type": "mesh3d"
           }
          ],
          "parcoords": [
           {
            "line": {
             "colorbar": {
              "outlinewidth": 0,
              "ticks": ""
             }
            },
            "type": "parcoords"
           }
          ],
          "pie": [
           {
            "automargin": true,
            "type": "pie"
           }
          ],
          "scatter": [
           {
            "fillpattern": {
             "fillmode": "overlay",
             "size": 10,
             "solidity": 0.2
            },
            "type": "scatter"
           }
          ],
          "scatter3d": [
           {
            "line": {
             "colorbar": {
              "outlinewidth": 0,
              "ticks": ""
             }
            },
            "marker": {
             "colorbar": {
              "outlinewidth": 0,
              "ticks": ""
             }
            },
            "type": "scatter3d"
           }
          ],
          "scattercarpet": [
           {
            "marker": {
             "colorbar": {
              "outlinewidth": 0,
              "ticks": ""
             }
            },
            "type": "scattercarpet"
           }
          ],
          "scattergeo": [
           {
            "marker": {
             "colorbar": {
              "outlinewidth": 0,
              "ticks": ""
             }
            },
            "type": "scattergeo"
           }
          ],
          "scattergl": [
           {
            "marker": {
             "colorbar": {
              "outlinewidth": 0,
              "ticks": ""
             }
            },
            "type": "scattergl"
           }
          ],
          "scattermapbox": [
           {
            "marker": {
             "colorbar": {
              "outlinewidth": 0,
              "ticks": ""
             }
            },
            "type": "scattermapbox"
           }
          ],
          "scatterpolar": [
           {
            "marker": {
             "colorbar": {
              "outlinewidth": 0,
              "ticks": ""
             }
            },
            "type": "scatterpolar"
           }
          ],
          "scatterpolargl": [
           {
            "marker": {
             "colorbar": {
              "outlinewidth": 0,
              "ticks": ""
             }
            },
            "type": "scatterpolargl"
           }
          ],
          "scatterternary": [
           {
            "marker": {
             "colorbar": {
              "outlinewidth": 0,
              "ticks": ""
             }
            },
            "type": "scatterternary"
           }
          ],
          "surface": [
           {
            "colorbar": {
             "outlinewidth": 0,
             "ticks": ""
            },
            "colorscale": [
             [
              0,
              "#0d0887"
             ],
             [
              0.1111111111111111,
              "#46039f"
             ],
             [
              0.2222222222222222,
              "#7201a8"
             ],
             [
              0.3333333333333333,
              "#9c179e"
             ],
             [
              0.4444444444444444,
              "#bd3786"
             ],
             [
              0.5555555555555556,
              "#d8576b"
             ],
             [
              0.6666666666666666,
              "#ed7953"
             ],
             [
              0.7777777777777778,
              "#fb9f3a"
             ],
             [
              0.8888888888888888,
              "#fdca26"
             ],
             [
              1,
              "#f0f921"
             ]
            ],
            "type": "surface"
           }
          ],
          "table": [
           {
            "cells": {
             "fill": {
              "color": "#EBF0F8"
             },
             "line": {
              "color": "white"
             }
            },
            "header": {
             "fill": {
              "color": "#C8D4E3"
             },
             "line": {
              "color": "white"
             }
            },
            "type": "table"
           }
          ]
         },
         "layout": {
          "annotationdefaults": {
           "arrowcolor": "#2a3f5f",
           "arrowhead": 0,
           "arrowwidth": 1
          },
          "autotypenumbers": "strict",
          "coloraxis": {
           "colorbar": {
            "outlinewidth": 0,
            "ticks": ""
           }
          },
          "colorscale": {
           "diverging": [
            [
             0,
             "#8e0152"
            ],
            [
             0.1,
             "#c51b7d"
            ],
            [
             0.2,
             "#de77ae"
            ],
            [
             0.3,
             "#f1b6da"
            ],
            [
             0.4,
             "#fde0ef"
            ],
            [
             0.5,
             "#f7f7f7"
            ],
            [
             0.6,
             "#e6f5d0"
            ],
            [
             0.7,
             "#b8e186"
            ],
            [
             0.8,
             "#7fbc41"
            ],
            [
             0.9,
             "#4d9221"
            ],
            [
             1,
             "#276419"
            ]
           ],
           "sequential": [
            [
             0,
             "#0d0887"
            ],
            [
             0.1111111111111111,
             "#46039f"
            ],
            [
             0.2222222222222222,
             "#7201a8"
            ],
            [
             0.3333333333333333,
             "#9c179e"
            ],
            [
             0.4444444444444444,
             "#bd3786"
            ],
            [
             0.5555555555555556,
             "#d8576b"
            ],
            [
             0.6666666666666666,
             "#ed7953"
            ],
            [
             0.7777777777777778,
             "#fb9f3a"
            ],
            [
             0.8888888888888888,
             "#fdca26"
            ],
            [
             1,
             "#f0f921"
            ]
           ],
           "sequentialminus": [
            [
             0,
             "#0d0887"
            ],
            [
             0.1111111111111111,
             "#46039f"
            ],
            [
             0.2222222222222222,
             "#7201a8"
            ],
            [
             0.3333333333333333,
             "#9c179e"
            ],
            [
             0.4444444444444444,
             "#bd3786"
            ],
            [
             0.5555555555555556,
             "#d8576b"
            ],
            [
             0.6666666666666666,
             "#ed7953"
            ],
            [
             0.7777777777777778,
             "#fb9f3a"
            ],
            [
             0.8888888888888888,
             "#fdca26"
            ],
            [
             1,
             "#f0f921"
            ]
           ]
          },
          "colorway": [
           "#636efa",
           "#EF553B",
           "#00cc96",
           "#ab63fa",
           "#FFA15A",
           "#19d3f3",
           "#FF6692",
           "#B6E880",
           "#FF97FF",
           "#FECB52"
          ],
          "font": {
           "color": "#2a3f5f"
          },
          "geo": {
           "bgcolor": "white",
           "lakecolor": "white",
           "landcolor": "#E5ECF6",
           "showlakes": true,
           "showland": true,
           "subunitcolor": "white"
          },
          "hoverlabel": {
           "align": "left"
          },
          "hovermode": "closest",
          "mapbox": {
           "style": "light"
          },
          "paper_bgcolor": "white",
          "plot_bgcolor": "#E5ECF6",
          "polar": {
           "angularaxis": {
            "gridcolor": "white",
            "linecolor": "white",
            "ticks": ""
           },
           "bgcolor": "#E5ECF6",
           "radialaxis": {
            "gridcolor": "white",
            "linecolor": "white",
            "ticks": ""
           }
          },
          "scene": {
           "xaxis": {
            "backgroundcolor": "#E5ECF6",
            "gridcolor": "white",
            "gridwidth": 2,
            "linecolor": "white",
            "showbackground": true,
            "ticks": "",
            "zerolinecolor": "white"
           },
           "yaxis": {
            "backgroundcolor": "#E5ECF6",
            "gridcolor": "white",
            "gridwidth": 2,
            "linecolor": "white",
            "showbackground": true,
            "ticks": "",
            "zerolinecolor": "white"
           },
           "zaxis": {
            "backgroundcolor": "#E5ECF6",
            "gridcolor": "white",
            "gridwidth": 2,
            "linecolor": "white",
            "showbackground": true,
            "ticks": "",
            "zerolinecolor": "white"
           }
          },
          "shapedefaults": {
           "line": {
            "color": "#2a3f5f"
           }
          },
          "ternary": {
           "aaxis": {
            "gridcolor": "white",
            "linecolor": "white",
            "ticks": ""
           },
           "baxis": {
            "gridcolor": "white",
            "linecolor": "white",
            "ticks": ""
           },
           "bgcolor": "#E5ECF6",
           "caxis": {
            "gridcolor": "white",
            "linecolor": "white",
            "ticks": ""
           }
          },
          "title": {
           "x": 0.05
          },
          "xaxis": {
           "automargin": true,
           "gridcolor": "white",
           "linecolor": "white",
           "ticks": "",
           "title": {
            "standoff": 15
           },
           "zerolinecolor": "white",
           "zerolinewidth": 2
          },
          "yaxis": {
           "automargin": true,
           "gridcolor": "white",
           "linecolor": "white",
           "ticks": "",
           "title": {
            "standoff": 15
           },
           "zerolinecolor": "white",
           "zerolinewidth": 2
          }
         }
        },
        "title": {
         "text": "City Popularity by Season",
         "x": 0.5
        },
        "updatemenus": [
         {
          "active": 0,
          "buttons": [
           {
            "args": [
             null,
             {
              "frame": {
               "duration": 1000,
               "redraw": true
              },
              "fromcurrent": true,
              "mode": "immediate",
              "transition": {
               "duration": 500,
               "easing": "linear"
              }
             }
            ],
            "label": "&#9654;",
            "method": "animate"
           },
           {
            "args": [
             [
              null
             ],
             {
              "frame": {
               "duration": 0,
               "redraw": true
              },
              "fromcurrent": true,
              "mode": "immediate",
              "transition": {
               "duration": 0,
               "easing": "linear"
              }
             }
            ],
            "label": "&#9724;",
            "method": "animate"
           }
          ],
          "direction": "left",
          "pad": {
           "r": 10,
           "t": 70
          },
          "showactive": false,
          "type": "buttons",
          "x": 0.1,
          "xanchor": "right",
          "y": 0,
          "yanchor": "top"
         }
        ],
        "xaxis": {
         "anchor": "y",
         "autorange": true,
         "categoryarray": [
          "New York City, NY ",
          "Washington, DC ",
          "San Francisco, CA ",
          "Los Angeles, CA ",
          "Tampa, FL ",
          "Miami, FL ",
          "Phoenix, AZ",
          "Orlando, FL",
          "Seattle, WA",
          "Houston, TX"
         ],
         "categoryorder": "array",
         "domain": [
          0,
          1
         ],
         "range": [
          -0.5,
          9.5
         ],
         "title": {
          "text": "Destination City"
         },
         "type": "category"
        },
        "yaxis": {
         "anchor": "x",
         "domain": [
          0,
          1
         ],
         "range": [
          0,
          2859979.1
         ],
         "title": {
          "text": "Number of Passengers"
         },
         "type": "linear"
        }
       }
      },
      "image/png": "[encoded data removed]",
      "text/html": [
       "<div>                            <div id=\"219e6e67-80e2-47f5-81d6-a8ceb2781bbc\" class=\"plotly-graph-div\" style=\"height:525px; width:100%;\"></div>            <script type=\"text/javascript\">                require([\"plotly\"], function(Plotly) {                    window.PLOTLYENV=window.PLOTLYENV || {};                                    if (document.getElementById(\"219e6e67-80e2-47f5-81d6-a8ceb2781bbc\")) {                    Plotly.newPlot(                        \"219e6e67-80e2-47f5-81d6-a8ceb2781bbc\",                        [{\"alignmentgroup\":\"True\",\"hovertemplate\":\"City=%{x}<br>Season=Winter<br>Number of Passengers=%{y}<extra></extra>\",\"legendgroup\":\"New York City, NY \",\"marker\":{\"color\":\"lightblue\",\"pattern\":{\"shape\":\"\"}},\"name\":\"New York City, NY \",\"offsetgroup\":\"New York City, NY \",\"orientation\":\"v\",\"showlegend\":true,\"textposition\":\"auto\",\"x\":[\"New York City, NY \"],\"xaxis\":\"x\",\"y\":[2360690],\"yaxis\":\"y\",\"type\":\"bar\"},{\"alignmentgroup\":\"True\",\"hovertemplate\":\"City=%{x}<br>Season=Winter<br>Number of Passengers=%{y}<extra></extra>\",\"legendgroup\":\"Washington, DC \",\"marker\":{\"color\":\"honeydew\",\"pattern\":{\"shape\":\"\"}},\"name\":\"Washington, DC \",\"offsetgroup\":\"Washington, DC \",\"orientation\":\"v\",\"showlegend\":true,\"textposition\":\"auto\",\"x\":[\"Washington, DC \"],\"xaxis\":\"x\",\"y\":[2178756],\"yaxis\":\"y\",\"type\":\"bar\"},{\"alignmentgroup\":\"True\",\"hovertemplate\":\"City=%{x}<br>Season=Winter<br>Number of Passengers=%{y}<extra></extra>\",\"legendgroup\":\"San Francisco, CA \",\"marker\":{\"color\":\"lightcoral\",\"pattern\":{\"shape\":\"\"}},\"name\":\"San Francisco, CA \",\"offsetgroup\":\"San Francisco, CA \",\"orientation\":\"v\",\"showlegend\":true,\"textposition\":\"auto\",\"x\":[\"San Francisco, CA \"],\"xaxis\":\"x\",\"y\":[2041188],\"yaxis\":\"y\",\"type\":\"bar\"},{\"alignmentgroup\":\"True\",\"hovertemplate\":\"City=%{x}<br>Season=Winter<br>Number of Passengers=%{y}<extra></extra>\",\"legendgroup\":\"Los Angeles, CA \",\"marker\":{\"color\":\"lightskyblue\",\"pattern\":{\"shape\":\"\"}},\"name\":\"Los Angeles, CA \",\"offsetgroup\":\"Los Angeles, CA \",\"orientation\":\"v\",\"showlegend\":true,\"textposition\":\"auto\",\"x\":[\"Los Angeles, CA \"],\"xaxis\":\"x\",\"y\":[1100458],\"yaxis\":\"y\",\"type\":\"bar\"},{\"alignmentgroup\":\"True\",\"hovertemplate\":\"City=%{x}<br>Season=Winter<br>Number of Passengers=%{y}<extra></extra>\",\"legendgroup\":\"Tampa, FL \",\"marker\":{\"color\":\"lightpink\",\"pattern\":{\"shape\":\"\"}},\"name\":\"Tampa, FL \",\"offsetgroup\":\"Tampa, FL \",\"orientation\":\"v\",\"showlegend\":true,\"textposition\":\"auto\",\"x\":[\"Tampa, FL \"],\"xaxis\":\"x\",\"y\":[973321],\"yaxis\":\"y\",\"type\":\"bar\"},{\"alignmentgroup\":\"True\",\"hovertemplate\":\"City=%{x}<br>Season=Winter<br>Number of Passengers=%{y}<extra></extra>\",\"legendgroup\":\"Miami, FL \",\"marker\":{\"color\":\"lightyellow\",\"pattern\":{\"shape\":\"\"}},\"name\":\"Miami, FL \",\"offsetgroup\":\"Miami, FL \",\"orientation\":\"v\",\"showlegend\":true,\"textposition\":\"auto\",\"x\":[\"Miami, FL \"],\"xaxis\":\"x\",\"y\":[938379],\"yaxis\":\"y\",\"type\":\"bar\"},{\"alignmentgroup\":\"True\",\"hovertemplate\":\"City=%{x}<br>Season=Winter<br>Number of Passengers=%{y}<extra></extra>\",\"legendgroup\":\"Phoenix, AZ\",\"marker\":{\"color\":\"lavender\",\"pattern\":{\"shape\":\"\"}},\"name\":\"Phoenix, AZ\",\"offsetgroup\":\"Phoenix, AZ\",\"orientation\":\"v\",\"showlegend\":true,\"textposition\":\"auto\",\"x\":[\"Phoenix, AZ\"],\"xaxis\":\"x\",\"y\":[865791],\"yaxis\":\"y\",\"type\":\"bar\"},{\"alignmentgroup\":\"True\",\"hovertemplate\":\"City=%{x}<br>Season=Winter<br>Number of Passengers=%{y}<extra></extra>\",\"legendgroup\":\"Orlando, FL\",\"marker\":{\"color\":\"peachpuff\",\"pattern\":{\"shape\":\"\"}},\"name\":\"Orlando, FL\",\"offsetgroup\":\"Orlando, FL\",\"orientation\":\"v\",\"showlegend\":true,\"textposition\":\"auto\",\"x\":[\"Orlando, FL\"],\"xaxis\":\"x\",\"y\":[755691],\"yaxis\":\"y\",\"type\":\"bar\"},{\"alignmentgroup\":\"True\",\"hovertemplate\":\"City=%{x}<br>Season=Winter<br>Number of Passengers=%{y}<extra></extra>\",\"legendgroup\":\"Seattle, WA\",\"marker\":{\"color\":\"lightseagreen\",\"pattern\":{\"shape\":\"\"}},\"name\":\"Seattle, WA\",\"offsetgroup\":\"Seattle, WA\",\"orientation\":\"v\",\"showlegend\":true,\"textposition\":\"auto\",\"x\":[\"Seattle, WA\"],\"xaxis\":\"x\",\"y\":[497357],\"yaxis\":\"y\",\"type\":\"bar\"},{\"alignmentgroup\":\"True\",\"hovertemplate\":\"City=%{x}<br>Season=Winter<br>Number of Passengers=%{y}<extra></extra>\",\"legendgroup\":\"Houston, TX\",\"marker\":{\"color\":\"lightcyan\",\"pattern\":{\"shape\":\"\"}},\"name\":\"Houston, TX\",\"offsetgroup\":\"Houston, TX\",\"orientation\":\"v\",\"showlegend\":true,\"textposition\":\"auto\",\"x\":[\"Houston, TX\"],\"xaxis\":\"x\",\"y\":[409602],\"yaxis\":\"y\",\"type\":\"bar\"}],                        {\"template\":{\"data\":{\"histogram2dcontour\":[{\"type\":\"histogram2dcontour\",\"colorbar\":{\"outlinewidth\":0,\"ticks\":\"\"},\"colorscale\":[[0.0,\"#0d0887\"],[0.1111111111111111,\"#46039f\"],[0.2222222222222222,\"#7201a8\"],[0.3333333333333333,\"#9c179e\"],[0.4444444444444444,\"#bd3786\"],[0.5555555555555556,\"#d8576b\"],[0.6666666666666666,\"#ed7953\"],[0.7777777777777778,\"#fb9f3a\"],[0.8888888888888888,\"#fdca26\"],[1.0,\"#f0f921\"]]}],\"choropleth\":[{\"type\":\"choropleth\",\"colorbar\":{\"outlinewidth\":0,\"ticks\":\"\"}}],\"histogram2d\":[{\"type\":\"histogram2d\",\"colorbar\":{\"outlinewidth\":0,\"ticks\":\"\"},\"colorscale\":[[0.0,\"#0d0887\"],[0.1111111111111111,\"#46039f\"],[0.2222222222222222,\"#7201a8\"],[0.3333333333333333,\"#9c179e\"],[0.4444444444444444,\"#bd3786\"],[0.5555555555555556,\"#d8576b\"],[0.6666666666666666,\"#ed7953\"],[0.7777777777777778,\"#fb9f3a\"],[0.8888888888888888,\"#fdca26\"],[1.0,\"#f0f921\"]]}],\"heatmap\":[{\"type\":\"heatmap\",\"colorbar\":{\"outlinewidth\":0,\"ticks\":\"\"},\"colorscale\":[[0.0,\"#0d0887\"],[0.1111111111111111,\"#46039f\"],[0.2222222222222222,\"#7201a8\"],[0.3333333333333333,\"#9c179e\"],[0.4444444444444444,\"#bd3786\"],[0.5555555555555556,\"#d8576b\"],[0.6666666666666666,\"#ed7953\"],[0.7777777777777778,\"#fb9f3a\"],[0.8888888888888888,\"#fdca26\"],[1.0,\"#f0f921\"]]}],\"heatmapgl\":[{\"type\":\"heatmapgl\",\"colorbar\":{\"outlinewidth\":0,\"ticks\":\"\"},\"colorscale\":[[0.0,\"#0d0887\"],[0.1111111111111111,\"#46039f\"],[0.2222222222222222,\"#7201a8\"],[0.3333333333333333,\"#9c179e\"],[0.4444444444444444,\"#bd3786\"],[0.5555555555555556,\"#d8576b\"],[0.6666666666666666,\"#ed7953\"],[0.7777777777777778,\"#fb9f3a\"],[0.8888888888888888,\"#fdca26\"],[1.0,\"#f0f921\"]]}],\"contourcarpet\":[{\"type\":\"contourcarpet\",\"colorbar\":{\"outlinewidth\":0,\"ticks\":\"\"}}],\"contour\":[{\"type\":\"contour\",\"colorbar\":{\"outlinewidth\":0,\"ticks\":\"\"},\"colorscale\":[[0.0,\"#0d0887\"],[0.1111111111111111,\"#46039f\"],[0.2222222222222222,\"#7201a8\"],[0.3333333333333333,\"#9c179e\"],[0.4444444444444444,\"#bd3786\"],[0.5555555555555556,\"#d8576b\"],[0.6666666666666666,\"#ed7953\"],[0.7777777777777778,\"#fb9f3a\"],[0.8888888888888888,\"#fdca26\"],[1.0,\"#f0f921\"]]}],\"surface\":[{\"type\":\"surface\",\"colorbar\":{\"outlinewidth\":0,\"ticks\":\"\"},\"colorscale\":[[0.0,\"#0d0887\"],[0.1111111111111111,\"#46039f\"],[0.2222222222222222,\"#7201a8\"],[0.3333333333333333,\"#9c179e\"],[0.4444444444444444,\"#bd3786\"],[0.5555555555555556,\"#d8576b\"],[0.6666666666666666,\"#ed7953\"],[0.7777777777777778,\"#fb9f3a\"],[0.8888888888888888,\"#fdca26\"],[1.0,\"#f0f921\"]]}],\"mesh3d\":[{\"type\":\"mesh3d\",\"colorbar\":{\"outlinewidth\":0,\"ticks\":\"\"}}],\"scatter\":[{\"fillpattern\":{\"fillmode\":\"overlay\",\"size\":10,\"solidity\":0.2},\"type\":\"scatter\"}],\"parcoords\":[{\"type\":\"parcoords\",\"line\":{\"colorbar\":{\"outlinewidth\":0,\"ticks\":\"\"}}}],\"scatterpolargl\":[{\"type\":\"scatterpolargl\",\"marker\":{\"colorbar\":{\"outlinewidth\":0,\"ticks\":\"\"}}}],\"bar\":[{\"error_x\":{\"color\":\"#2a3f5f\"},\"error_y\":{\"color\":\"#2a3f5f\"},\"marker\":{\"line\":{\"color\":\"#E5ECF6\",\"width\":0.5},\"pattern\":{\"fillmode\":\"overlay\",\"size\":10,\"solidity\":0.2}},\"type\":\"bar\"}],\"scattergeo\":[{\"type\":\"scattergeo\",\"marker\":{\"colorbar\":{\"outlinewidth\":0,\"ticks\":\"\"}}}],\"scatterpolar\":[{\"type\":\"scatterpolar\",\"marker\":{\"colorbar\":{\"outlinewidth\":0,\"ticks\":\"\"}}}],\"histogram\":[{\"marker\":{\"pattern\":{\"fillmode\":\"overlay\",\"size\":10,\"solidity\":0.2}},\"type\":\"histogram\"}],\"scattergl\":[{\"type\":\"scattergl\",\"marker\":{\"colorbar\":{\"outlinewidth\":0,\"ticks\":\"\"}}}],\"scatter3d\":[{\"type\":\"scatter3d\",\"line\":{\"colorbar\":{\"outlinewidth\":0,\"ticks\":\"\"}},\"marker\":{\"colorbar\":{\"outlinewidth\":0,\"ticks\":\"\"}}}],\"scattermapbox\":[{\"type\":\"scattermapbox\",\"marker\":{\"colorbar\":{\"outlinewidth\":0,\"ticks\":\"\"}}}],\"scatterternary\":[{\"type\":\"scatterternary\",\"marker\":{\"colorbar\":{\"outlinewidth\":0,\"ticks\":\"\"}}}],\"scattercarpet\":[{\"type\":\"scattercarpet\",\"marker\":{\"colorbar\":{\"outlinewidth\":0,\"ticks\":\"\"}}}],\"carpet\":[{\"aaxis\":{\"endlinecolor\":\"#2a3f5f\",\"gridcolor\":\"white\",\"linecolor\":\"white\",\"minorgridcolor\":\"white\",\"startlinecolor\":\"#2a3f5f\"},\"baxis\":{\"endlinecolor\":\"#2a3f5f\",\"gridcolor\":\"white\",\"linecolor\":\"white\",\"minorgridcolor\":\"white\",\"startlinecolor\":\"#2a3f5f\"},\"type\":\"carpet\"}],\"table\":[{\"cells\":{\"fill\":{\"color\":\"#EBF0F8\"},\"line\":{\"color\":\"white\"}},\"header\":{\"fill\":{\"color\":\"#C8D4E3\"},\"line\":{\"color\":\"white\"}},\"type\":\"table\"}],\"barpolar\":[{\"marker\":{\"line\":{\"color\":\"#E5ECF6\",\"width\":0.5},\"pattern\":{\"fillmode\":\"overlay\",\"size\":10,\"solidity\":0.2}},\"type\":\"barpolar\"}],\"pie\":[{\"automargin\":true,\"type\":\"pie\"}]},\"layout\":{\"autotypenumbers\":\"strict\",\"colorway\":[\"#636efa\",\"#EF553B\",\"#00cc96\",\"#ab63fa\",\"#FFA15A\",\"#19d3f3\",\"#FF6692\",\"#B6E880\",\"#FF97FF\",\"#FECB52\"],\"font\":{\"color\":\"#2a3f5f\"},\"hovermode\":\"closest\",\"hoverlabel\":{\"align\":\"left\"},\"paper_bgcolor\":\"white\",\"plot_bgcolor\":\"#E5ECF6\",\"polar\":{\"bgcolor\":\"#E5ECF6\",\"angularaxis\":{\"gridcolor\":\"white\",\"linecolor\":\"white\",\"ticks\":\"\"},\"radialaxis\":{\"gridcolor\":\"white\",\"linecolor\":\"white\",\"ticks\":\"\"}},\"ternary\":{\"bgcolor\":\"#E5ECF6\",\"aaxis\":{\"gridcolor\":\"white\",\"linecolor\":\"white\",\"ticks\":\"\"},\"baxis\":{\"gridcolor\":\"white\",\"linecolor\":\"white\",\"ticks\":\"\"},\"caxis\":{\"gridcolor\":\"white\",\"linecolor\":\"white\",\"ticks\":\"\"}},\"coloraxis\":{\"colorbar\":{\"outlinewidth\":0,\"ticks\":\"\"}},\"colorscale\":{\"sequential\":[[0.0,\"#0d0887\"],[0.1111111111111111,\"#46039f\"],[0.2222222222222222,\"#7201a8\"],[0.3333333333333333,\"#9c179e\"],[0.4444444444444444,\"#bd3786\"],[0.5555555555555556,\"#d8576b\"],[0.6666666666666666,\"#ed7953\"],[0.7777777777777778,\"#fb9f3a\"],[0.8888888888888888,\"#fdca26\"],[1.0,\"#f0f921\"]],\"sequentialminus\":[[0.0,\"#0d0887\"],[0.1111111111111111,\"#46039f\"],[0.2222222222222222,\"#7201a8\"],[0.3333333333333333,\"#9c179e\"],[0.4444444444444444,\"#bd3786\"],[0.5555555555555556,\"#d8576b\"],[0.6666666666666666,\"#ed7953\"],[0.7777777777777778,\"#fb9f3a\"],[0.8888888888888888,\"#fdca26\"],[1.0,\"#f0f921\"]],\"diverging\":[[0,\"#8e0152\"],[0.1,\"#c51b7d\"],[0.2,\"#de77ae\"],[0.3,\"#f1b6da\"],[0.4,\"#fde0ef\"],[0.5,\"#f7f7f7\"],[0.6,\"#e6f5d0\"],[0.7,\"#b8e186\"],[0.8,\"#7fbc41\"],[0.9,\"#4d9221\"],[1,\"#276419\"]]},\"xaxis\":{\"gridcolor\":\"white\",\"linecolor\":\"white\",\"ticks\":\"\",\"title\":{\"standoff\":15},\"zerolinecolor\":\"white\",\"automargin\":true,\"zerolinewidth\":2},\"yaxis\":{\"gridcolor\":\"white\",\"linecolor\":\"white\",\"ticks\":\"\",\"title\":{\"standoff\":15},\"zerolinecolor\":\"white\",\"automargin\":true,\"zerolinewidth\":2},\"scene\":{\"xaxis\":{\"backgroundcolor\":\"#E5ECF6\",\"gridcolor\":\"white\",\"linecolor\":\"white\",\"showbackground\":true,\"ticks\":\"\",\"zerolinecolor\":\"white\",\"gridwidth\":2},\"yaxis\":{\"backgroundcolor\":\"#E5ECF6\",\"gridcolor\":\"white\",\"linecolor\":\"white\",\"showbackground\":true,\"ticks\":\"\",\"zerolinecolor\":\"white\",\"gridwidth\":2},\"zaxis\":{\"backgroundcolor\":\"#E5ECF6\",\"gridcolor\":\"white\",\"linecolor\":\"white\",\"showbackground\":true,\"ticks\":\"\",\"zerolinecolor\":\"white\",\"gridwidth\":2}},\"shapedefaults\":{\"line\":{\"color\":\"#2a3f5f\"}},\"annotationdefaults\":{\"arrowcolor\":\"#2a3f5f\",\"arrowhead\":0,\"arrowwidth\":1},\"geo\":{\"bgcolor\":\"white\",\"landcolor\":\"#E5ECF6\",\"subunitcolor\":\"white\",\"showland\":true,\"showlakes\":true,\"lakecolor\":\"white\"},\"title\":{\"x\":0.05},\"mapbox\":{\"style\":\"light\"}}},\"xaxis\":{\"anchor\":\"y\",\"domain\":[0.0,1.0],\"title\":{\"text\":\"Destination City\"},\"categoryorder\":\"array\",\"categoryarray\":[\"New York City, NY \",\"Washington, DC \",\"San Francisco, CA \",\"Los Angeles, CA \",\"Tampa, FL \",\"Miami, FL \",\"Phoenix, AZ\",\"Orlando, FL\",\"Seattle, WA\",\"Houston, TX\"]},\"yaxis\":{\"anchor\":\"x\",\"domain\":[0.0,1.0],\"title\":{\"text\":\"Number of Passengers\"},\"range\":[0,2859979.1]},\"legend\":{\"title\":{\"text\":\"City\"},\"tracegroupgap\":0},\"title\":{\"text\":\"City Popularity by Season\",\"x\":0.5},\"barmode\":\"relative\",\"updatemenus\":[{\"buttons\":[{\"args\":[null,{\"frame\":{\"duration\":1000,\"redraw\":true},\"mode\":\"immediate\",\"fromcurrent\":true,\"transition\":{\"duration\":500,\"easing\":\"linear\"}}],\"label\":\"&#9654;\",\"method\":\"animate\"},{\"args\":[[null],{\"frame\":{\"duration\":0,\"redraw\":true},\"mode\":\"immediate\",\"fromcurrent\":true,\"transition\":{\"duration\":0,\"easing\":\"linear\"}}],\"label\":\"&#9724;\",\"method\":\"animate\"}],\"direction\":\"left\",\"pad\":{\"r\":10,\"t\":70},\"showactive\":false,\"type\":\"buttons\",\"x\":0.1,\"xanchor\":\"right\",\"y\":0,\"yanchor\":\"top\"}],\"sliders\":[{\"active\":0,\"currentvalue\":{\"prefix\":\"Season=\"},\"len\":0.9,\"pad\":{\"b\":10,\"t\":60},\"steps\":[{\"args\":[[\"Winter\"],{\"frame\":{\"duration\":0,\"redraw\":true},\"mode\":\"immediate\",\"fromcurrent\":true,\"transition\":{\"duration\":0,\"easing\":\"linear\"}}],\"label\":\"Winter\",\"method\":\"animate\"},{\"args\":[[\"Summer\"],{\"frame\":{\"duration\":0,\"redraw\":true},\"mode\":\"immediate\",\"fromcurrent\":true,\"transition\":{\"duration\":0,\"easing\":\"linear\"}}],\"label\":\"Summer\",\"method\":\"animate\"},{\"args\":[[\"Spring\"],{\"frame\":{\"duration\":0,\"redraw\":true},\"mode\":\"immediate\",\"fromcurrent\":true,\"transition\":{\"duration\":0,\"easing\":\"linear\"}}],\"label\":\"Spring\",\"method\":\"animate\"},{\"args\":[[\"Fall\"],{\"frame\":{\"duration\":0,\"redraw\":true},\"mode\":\"immediate\",\"fromcurrent\":true,\"transition\":{\"duration\":0,\"easing\":\"linear\"}}],\"label\":\"Fall\",\"method\":\"animate\"}],\"x\":0.1,\"xanchor\":\"left\",\"y\":0,\"yanchor\":\"top\"}],\"showlegend\":false},                        {\"responsive\": true}                    ).then(function(){\n",
       "                            Plotly.addFrames('219e6e67-80e2-47f5-81d6-a8ceb2781bbc', [{\"data\":[{\"alignmentgroup\":\"True\",\"hovertemplate\":\"City=%{x}<br>Season=Winter<br>Number of Passengers=%{y}<extra></extra>\",\"legendgroup\":\"New York City, NY \",\"marker\":{\"color\":\"lightblue\",\"pattern\":{\"shape\":\"\"}},\"name\":\"New York City, NY \",\"offsetgroup\":\"New York City, NY \",\"orientation\":\"v\",\"showlegend\":true,\"textposition\":\"auto\",\"x\":[\"New York City, NY \"],\"xaxis\":\"x\",\"y\":[2360690],\"yaxis\":\"y\",\"type\":\"bar\"},{\"alignmentgroup\":\"True\",\"hovertemplate\":\"City=%{x}<br>Season=Winter<br>Number of Passengers=%{y}<extra></extra>\",\"legendgroup\":\"Washington, DC \",\"marker\":{\"color\":\"honeydew\",\"pattern\":{\"shape\":\"\"}},\"name\":\"Washington, DC \",\"offsetgroup\":\"Washington, DC \",\"orientation\":\"v\",\"showlegend\":true,\"textposition\":\"auto\",\"x\":[\"Washington, DC \"],\"xaxis\":\"x\",\"y\":[2178756],\"yaxis\":\"y\",\"type\":\"bar\"},{\"alignmentgroup\":\"True\",\"hovertemplate\":\"City=%{x}<br>Season=Winter<br>Number of Passengers=%{y}<extra></extra>\",\"legendgroup\":\"San Francisco, CA \",\"marker\":{\"color\":\"lightcoral\",\"pattern\":{\"shape\":\"\"}},\"name\":\"San Francisco, CA \",\"offsetgroup\":\"San Francisco, CA \",\"orientation\":\"v\",\"showlegend\":true,\"textposition\":\"auto\",\"x\":[\"San Francisco, CA \"],\"xaxis\":\"x\",\"y\":[2041188],\"yaxis\":\"y\",\"type\":\"bar\"},{\"alignmentgroup\":\"True\",\"hovertemplate\":\"City=%{x}<br>Season=Winter<br>Number of Passengers=%{y}<extra></extra>\",\"legendgroup\":\"Los Angeles, CA \",\"marker\":{\"color\":\"lightskyblue\",\"pattern\":{\"shape\":\"\"}},\"name\":\"Los Angeles, CA \",\"offsetgroup\":\"Los Angeles, CA \",\"orientation\":\"v\",\"showlegend\":true,\"textposition\":\"auto\",\"x\":[\"Los Angeles, CA \"],\"xaxis\":\"x\",\"y\":[1100458],\"yaxis\":\"y\",\"type\":\"bar\"},{\"alignmentgroup\":\"True\",\"hovertemplate\":\"City=%{x}<br>Season=Winter<br>Number of Passengers=%{y}<extra></extra>\",\"legendgroup\":\"Tampa, FL \",\"marker\":{\"color\":\"lightpink\",\"pattern\":{\"shape\":\"\"}},\"name\":\"Tampa, FL \",\"offsetgroup\":\"Tampa, FL \",\"orientation\":\"v\",\"showlegend\":true,\"textposition\":\"auto\",\"x\":[\"Tampa, FL \"],\"xaxis\":\"x\",\"y\":[973321],\"yaxis\":\"y\",\"type\":\"bar\"},{\"alignmentgroup\":\"True\",\"hovertemplate\":\"City=%{x}<br>Season=Winter<br>Number of Passengers=%{y}<extra></extra>\",\"legendgroup\":\"Miami, FL \",\"marker\":{\"color\":\"lightyellow\",\"pattern\":{\"shape\":\"\"}},\"name\":\"Miami, FL \",\"offsetgroup\":\"Miami, FL \",\"orientation\":\"v\",\"showlegend\":true,\"textposition\":\"auto\",\"x\":[\"Miami, FL \"],\"xaxis\":\"x\",\"y\":[938379],\"yaxis\":\"y\",\"type\":\"bar\"},{\"alignmentgroup\":\"True\",\"hovertemplate\":\"City=%{x}<br>Season=Winter<br>Number of Passengers=%{y}<extra></extra>\",\"legendgroup\":\"Phoenix, AZ\",\"marker\":{\"color\":\"lavender\",\"pattern\":{\"shape\":\"\"}},\"name\":\"Phoenix, AZ\",\"offsetgroup\":\"Phoenix, AZ\",\"orientation\":\"v\",\"showlegend\":true,\"textposition\":\"auto\",\"x\":[\"Phoenix, AZ\"],\"xaxis\":\"x\",\"y\":[865791],\"yaxis\":\"y\",\"type\":\"bar\"},{\"alignmentgroup\":\"True\",\"hovertemplate\":\"City=%{x}<br>Season=Winter<br>Number of Passengers=%{y}<extra></extra>\",\"legendgroup\":\"Orlando, FL\",\"marker\":{\"color\":\"peachpuff\",\"pattern\":{\"shape\":\"\"}},\"name\":\"Orlando, FL\",\"offsetgroup\":\"Orlando, FL\",\"orientation\":\"v\",\"showlegend\":true,\"textposition\":\"auto\",\"x\":[\"Orlando, FL\"],\"xaxis\":\"x\",\"y\":[755691],\"yaxis\":\"y\",\"type\":\"bar\"},{\"alignmentgroup\":\"True\",\"hovertemplate\":\"City=%{x}<br>Season=Winter<br>Number of Passengers=%{y}<extra></extra>\",\"legendgroup\":\"Seattle, WA\",\"marker\":{\"color\":\"lightseagreen\",\"pattern\":{\"shape\":\"\"}},\"name\":\"Seattle, WA\",\"offsetgroup\":\"Seattle, WA\",\"orientation\":\"v\",\"showlegend\":true,\"textposition\":\"auto\",\"x\":[\"Seattle, WA\"],\"xaxis\":\"x\",\"y\":[497357],\"yaxis\":\"y\",\"type\":\"bar\"},{\"alignmentgroup\":\"True\",\"hovertemplate\":\"City=%{x}<br>Season=Winter<br>Number of Passengers=%{y}<extra></extra>\",\"legendgroup\":\"Houston, TX\",\"marker\":{\"color\":\"lightcyan\",\"pattern\":{\"shape\":\"\"}},\"name\":\"Houston, TX\",\"offsetgroup\":\"Houston, TX\",\"orientation\":\"v\",\"showlegend\":true,\"textposition\":\"auto\",\"x\":[\"Houston, TX\"],\"xaxis\":\"x\",\"y\":[409602],\"yaxis\":\"y\",\"type\":\"bar\"}],\"name\":\"Winter\"},{\"data\":[{\"alignmentgroup\":\"True\",\"hovertemplate\":\"City=%{x}<br>Season=Summer<br>Number of Passengers=%{y}<extra></extra>\",\"legendgroup\":\"New York City, NY \",\"marker\":{\"color\":\"lightblue\",\"pattern\":{\"shape\":\"\"}},\"name\":\"New York City, NY \",\"offsetgroup\":\"New York City, NY \",\"orientation\":\"v\",\"showlegend\":true,\"textposition\":\"auto\",\"x\":[\"New York City, NY \"],\"xaxis\":\"x\",\"y\":[2526282],\"yaxis\":\"y\",\"type\":\"bar\"},{\"alignmentgroup\":\"True\",\"hovertemplate\":\"City=%{x}<br>Season=Summer<br>Number of Passengers=%{y}<extra></extra>\",\"legendgroup\":\"Washington, DC \",\"marker\":{\"color\":\"honeydew\",\"pattern\":{\"shape\":\"\"}},\"name\":\"Washington, DC \",\"offsetgroup\":\"Washington, DC \",\"orientation\":\"v\",\"showlegend\":true,\"textposition\":\"auto\",\"x\":[\"Washington, DC \"],\"xaxis\":\"x\",\"y\":[2395355],\"yaxis\":\"y\",\"type\":\"bar\"},{\"alignmentgroup\":\"True\",\"hovertemplate\":\"City=%{x}<br>Season=Summer<br>Number of Passengers=%{y}<extra></extra>\",\"legendgroup\":\"San Francisco, CA \",\"marker\":{\"color\":\"lightcoral\",\"pattern\":{\"shape\":\"\"}},\"name\":\"San Francisco, CA \",\"offsetgroup\":\"San Francisco, CA \",\"orientation\":\"v\",\"showlegend\":true,\"textposition\":\"auto\",\"x\":[\"San Francisco, CA \"],\"xaxis\":\"x\",\"y\":[2347140],\"yaxis\":\"y\",\"type\":\"bar\"},{\"alignmentgroup\":\"True\",\"hovertemplate\":\"City=%{x}<br>Season=Summer<br>Number of Passengers=%{y}<extra></extra>\",\"legendgroup\":\"Los Angeles, CA \",\"marker\":{\"color\":\"lightskyblue\",\"pattern\":{\"shape\":\"\"}},\"name\":\"Los Angeles, CA \",\"offsetgroup\":\"Los Angeles, CA \",\"orientation\":\"v\",\"showlegend\":true,\"textposition\":\"auto\",\"x\":[\"Los Angeles, CA \"],\"xaxis\":\"x\",\"y\":[1256033],\"yaxis\":\"y\",\"type\":\"bar\"},{\"alignmentgroup\":\"True\",\"hovertemplate\":\"City=%{x}<br>Season=Summer<br>Number of Passengers=%{y}<extra></extra>\",\"legendgroup\":\"Tampa, FL \",\"marker\":{\"color\":\"lightpink\",\"pattern\":{\"shape\":\"\"}},\"name\":\"Tampa, FL \",\"offsetgroup\":\"Tampa, FL \",\"orientation\":\"v\",\"showlegend\":true,\"textposition\":\"auto\",\"x\":[\"Tampa, FL \"],\"xaxis\":\"x\",\"y\":[749482],\"yaxis\":\"y\",\"type\":\"bar\"},{\"alignmentgroup\":\"True\",\"hovertemplate\":\"City=%{x}<br>Season=Summer<br>Number of Passengers=%{y}<extra></extra>\",\"legendgroup\":\"Miami, FL \",\"marker\":{\"color\":\"lightyellow\",\"pattern\":{\"shape\":\"\"}},\"name\":\"Miami, FL \",\"offsetgroup\":\"Miami, FL \",\"orientation\":\"v\",\"showlegend\":true,\"textposition\":\"auto\",\"x\":[\"Miami, FL \"],\"xaxis\":\"x\",\"y\":[683968],\"yaxis\":\"y\",\"type\":\"bar\"},{\"alignmentgroup\":\"True\",\"hovertemplate\":\"City=%{x}<br>Season=Summer<br>Number of Passengers=%{y}<extra></extra>\",\"legendgroup\":\"Phoenix, AZ\",\"marker\":{\"color\":\"lavender\",\"pattern\":{\"shape\":\"\"}},\"name\":\"Phoenix, AZ\",\"offsetgroup\":\"Phoenix, AZ\",\"orientation\":\"v\",\"showlegend\":true,\"textposition\":\"auto\",\"x\":[\"Phoenix, AZ\"],\"xaxis\":\"x\",\"y\":[637869],\"yaxis\":\"y\",\"type\":\"bar\"},{\"alignmentgroup\":\"True\",\"hovertemplate\":\"City=%{x}<br>Season=Summer<br>Number of Passengers=%{y}<extra></extra>\",\"legendgroup\":\"Orlando, FL\",\"marker\":{\"color\":\"peachpuff\",\"pattern\":{\"shape\":\"\"}},\"name\":\"Orlando, FL\",\"offsetgroup\":\"Orlando, FL\",\"orientation\":\"v\",\"showlegend\":true,\"textposition\":\"auto\",\"x\":[\"Orlando, FL\"],\"xaxis\":\"x\",\"y\":[670725],\"yaxis\":\"y\",\"type\":\"bar\"},{\"alignmentgroup\":\"True\",\"hovertemplate\":\"City=%{x}<br>Season=Summer<br>Number of Passengers=%{y}<extra></extra>\",\"legendgroup\":\"Seattle, WA\",\"marker\":{\"color\":\"lightseagreen\",\"pattern\":{\"shape\":\"\"}},\"name\":\"Seattle, WA\",\"offsetgroup\":\"Seattle, WA\",\"orientation\":\"v\",\"showlegend\":true,\"textposition\":\"auto\",\"x\":[\"Seattle, WA\"],\"xaxis\":\"x\",\"y\":[695562],\"yaxis\":\"y\",\"type\":\"bar\"},{\"alignmentgroup\":\"True\",\"hovertemplate\":\"City=%{x}<br>Season=Summer<br>Number of Passengers=%{y}<extra></extra>\",\"legendgroup\":\"Houston, TX\",\"marker\":{\"color\":\"lightcyan\",\"pattern\":{\"shape\":\"\"}},\"name\":\"Houston, TX\",\"offsetgroup\":\"Houston, TX\",\"orientation\":\"v\",\"showlegend\":true,\"textposition\":\"auto\",\"x\":[\"Houston, TX\"],\"xaxis\":\"x\",\"y\":[418811],\"yaxis\":\"y\",\"type\":\"bar\"}],\"name\":\"Summer\"},{\"data\":[{\"alignmentgroup\":\"True\",\"hovertemplate\":\"City=%{x}<br>Season=Spring<br>Number of Passengers=%{y}<extra></extra>\",\"legendgroup\":\"New York City, NY \",\"marker\":{\"color\":\"lightblue\",\"pattern\":{\"shape\":\"\"}},\"name\":\"New York City, NY \",\"offsetgroup\":\"New York City, NY \",\"orientation\":\"v\",\"showlegend\":true,\"textposition\":\"auto\",\"x\":[\"New York City, NY \"],\"xaxis\":\"x\",\"y\":[2599981],\"yaxis\":\"y\",\"type\":\"bar\"},{\"alignmentgroup\":\"True\",\"hovertemplate\":\"City=%{x}<br>Season=Spring<br>Number of Passengers=%{y}<extra></extra>\",\"legendgroup\":\"Washington, DC \",\"marker\":{\"color\":\"honeydew\",\"pattern\":{\"shape\":\"\"}},\"name\":\"Washington, DC \",\"offsetgroup\":\"Washington, DC \",\"orientation\":\"v\",\"showlegend\":true,\"textposition\":\"auto\",\"x\":[\"Washington, DC \"],\"xaxis\":\"x\",\"y\":[2562529],\"yaxis\":\"y\",\"type\":\"bar\"},{\"alignmentgroup\":\"True\",\"hovertemplate\":\"City=%{x}<br>Season=Spring<br>Number of Passengers=%{y}<extra></extra>\",\"legendgroup\":\"San Francisco, CA \",\"marker\":{\"color\":\"lightcoral\",\"pattern\":{\"shape\":\"\"}},\"name\":\"San Francisco, CA \",\"offsetgroup\":\"San Francisco, CA \",\"orientation\":\"v\",\"showlegend\":true,\"textposition\":\"auto\",\"x\":[\"San Francisco, CA \"],\"xaxis\":\"x\",\"y\":[2321292],\"yaxis\":\"y\",\"type\":\"bar\"},{\"alignmentgroup\":\"True\",\"hovertemplate\":\"City=%{x}<br>Season=Spring<br>Number of Passengers=%{y}<extra></extra>\",\"legendgroup\":\"Los Angeles, CA \",\"marker\":{\"color\":\"lightskyblue\",\"pattern\":{\"shape\":\"\"}},\"name\":\"Los Angeles, CA \",\"offsetgroup\":\"Los Angeles, CA \",\"orientation\":\"v\",\"showlegend\":true,\"textposition\":\"auto\",\"x\":[\"Los Angeles, CA \"],\"xaxis\":\"x\",\"y\":[1216065],\"yaxis\":\"y\",\"type\":\"bar\"},{\"alignmentgroup\":\"True\",\"hovertemplate\":\"City=%{x}<br>Season=Spring<br>Number of Passengers=%{y}<extra></extra>\",\"legendgroup\":\"Tampa, FL \",\"marker\":{\"color\":\"lightpink\",\"pattern\":{\"shape\":\"\"}},\"name\":\"Tampa, FL \",\"offsetgroup\":\"Tampa, FL \",\"orientation\":\"v\",\"showlegend\":true,\"textposition\":\"auto\",\"x\":[\"Tampa, FL \"],\"xaxis\":\"x\",\"y\":[887777],\"yaxis\":\"y\",\"type\":\"bar\"},{\"alignmentgroup\":\"True\",\"hovertemplate\":\"City=%{x}<br>Season=Spring<br>Number of Passengers=%{y}<extra></extra>\",\"legendgroup\":\"Miami, FL \",\"marker\":{\"color\":\"lightyellow\",\"pattern\":{\"shape\":\"\"}},\"name\":\"Miami, FL \",\"offsetgroup\":\"Miami, FL \",\"orientation\":\"v\",\"showlegend\":true,\"textposition\":\"auto\",\"x\":[\"Miami, FL \"],\"xaxis\":\"x\",\"y\":[797782],\"yaxis\":\"y\",\"type\":\"bar\"},{\"alignmentgroup\":\"True\",\"hovertemplate\":\"City=%{x}<br>Season=Spring<br>Number of Passengers=%{y}<extra></extra>\",\"legendgroup\":\"Phoenix, AZ\",\"marker\":{\"color\":\"lavender\",\"pattern\":{\"shape\":\"\"}},\"name\":\"Phoenix, AZ\",\"offsetgroup\":\"Phoenix, AZ\",\"orientation\":\"v\",\"showlegend\":true,\"textposition\":\"auto\",\"x\":[\"Phoenix, AZ\"],\"xaxis\":\"x\",\"y\":[748814],\"yaxis\":\"y\",\"type\":\"bar\"},{\"alignmentgroup\":\"True\",\"hovertemplate\":\"City=%{x}<br>Season=Spring<br>Number of Passengers=%{y}<extra></extra>\",\"legendgroup\":\"Orlando, FL\",\"marker\":{\"color\":\"peachpuff\",\"pattern\":{\"shape\":\"\"}},\"name\":\"Orlando, FL\",\"offsetgroup\":\"Orlando, FL\",\"orientation\":\"v\",\"showlegend\":true,\"textposition\":\"auto\",\"x\":[\"Orlando, FL\"],\"xaxis\":\"x\",\"y\":[732651],\"yaxis\":\"y\",\"type\":\"bar\"},{\"alignmentgroup\":\"True\",\"hovertemplate\":\"City=%{x}<br>Season=Spring<br>Number of Passengers=%{y}<extra></extra>\",\"legendgroup\":\"Seattle, WA\",\"marker\":{\"color\":\"lightseagreen\",\"pattern\":{\"shape\":\"\"}},\"name\":\"Seattle, WA\",\"offsetgroup\":\"Seattle, WA\",\"orientation\":\"v\",\"showlegend\":true,\"textposition\":\"auto\",\"x\":[\"Seattle, WA\"],\"xaxis\":\"x\",\"y\":[623030],\"yaxis\":\"y\",\"type\":\"bar\"},{\"alignmentgroup\":\"True\",\"hovertemplate\":\"City=%{x}<br>Season=Spring<br>Number of Passengers=%{y}<extra></extra>\",\"legendgroup\":\"Houston, TX\",\"marker\":{\"color\":\"lightcyan\",\"pattern\":{\"shape\":\"\"}},\"name\":\"Houston, TX\",\"offsetgroup\":\"Houston, TX\",\"orientation\":\"v\",\"showlegend\":true,\"textposition\":\"auto\",\"x\":[\"Houston, TX\"],\"xaxis\":\"x\",\"y\":[427248],\"yaxis\":\"y\",\"type\":\"bar\"}],\"name\":\"Spring\"},{\"data\":[{\"alignmentgroup\":\"True\",\"hovertemplate\":\"City=%{x}<br>Season=Fall<br>Number of Passengers=%{y}<extra></extra>\",\"legendgroup\":\"New York City, NY \",\"marker\":{\"color\":\"lightblue\",\"pattern\":{\"shape\":\"\"}},\"name\":\"New York City, NY \",\"offsetgroup\":\"New York City, NY \",\"orientation\":\"v\",\"showlegend\":true,\"textposition\":\"auto\",\"x\":[\"New York City, NY \"],\"xaxis\":\"x\",\"y\":[2575111],\"yaxis\":\"y\",\"type\":\"bar\"},{\"alignmentgroup\":\"True\",\"hovertemplate\":\"City=%{x}<br>Season=Fall<br>Number of Passengers=%{y}<extra></extra>\",\"legendgroup\":\"Washington, DC \",\"marker\":{\"color\":\"honeydew\",\"pattern\":{\"shape\":\"\"}},\"name\":\"Washington, DC \",\"offsetgroup\":\"Washington, DC \",\"orientation\":\"v\",\"showlegend\":true,\"textposition\":\"auto\",\"x\":[\"Washington, DC \"],\"xaxis\":\"x\",\"y\":[2388525],\"yaxis\":\"y\",\"type\":\"bar\"},{\"alignmentgroup\":\"True\",\"hovertemplate\":\"City=%{x}<br>Season=Fall<br>Number of Passengers=%{y}<extra></extra>\",\"legendgroup\":\"San Francisco, CA \",\"marker\":{\"color\":\"lightcoral\",\"pattern\":{\"shape\":\"\"}},\"name\":\"San Francisco, CA \",\"offsetgroup\":\"San Francisco, CA \",\"orientation\":\"v\",\"showlegend\":true,\"textposition\":\"auto\",\"x\":[\"San Francisco, CA \"],\"xaxis\":\"x\",\"y\":[2265491],\"yaxis\":\"y\",\"type\":\"bar\"},{\"alignmentgroup\":\"True\",\"hovertemplate\":\"City=%{x}<br>Season=Fall<br>Number of Passengers=%{y}<extra></extra>\",\"legendgroup\":\"Los Angeles, CA \",\"marker\":{\"color\":\"lightskyblue\",\"pattern\":{\"shape\":\"\"}},\"name\":\"Los Angeles, CA \",\"offsetgroup\":\"Los Angeles, CA \",\"orientation\":\"v\",\"showlegend\":true,\"textposition\":\"auto\",\"x\":[\"Los Angeles, CA \"],\"xaxis\":\"x\",\"y\":[1194521],\"yaxis\":\"y\",\"type\":\"bar\"},{\"alignmentgroup\":\"True\",\"hovertemplate\":\"City=%{x}<br>Season=Fall<br>Number of Passengers=%{y}<extra></extra>\",\"legendgroup\":\"Tampa, FL \",\"marker\":{\"color\":\"lightpink\",\"pattern\":{\"shape\":\"\"}},\"name\":\"Tampa, FL \",\"offsetgroup\":\"Tampa, FL \",\"orientation\":\"v\",\"showlegend\":true,\"textposition\":\"auto\",\"x\":[\"Tampa, FL \"],\"xaxis\":\"x\",\"y\":[855853],\"yaxis\":\"y\",\"type\":\"bar\"},{\"alignmentgroup\":\"True\",\"hovertemplate\":\"City=%{x}<br>Season=Fall<br>Number of Passengers=%{y}<extra></extra>\",\"legendgroup\":\"Miami, FL \",\"marker\":{\"color\":\"lightyellow\",\"pattern\":{\"shape\":\"\"}},\"name\":\"Miami, FL \",\"offsetgroup\":\"Miami, FL \",\"orientation\":\"v\",\"showlegend\":true,\"textposition\":\"auto\",\"x\":[\"Miami, FL \"],\"xaxis\":\"x\",\"y\":[799415],\"yaxis\":\"y\",\"type\":\"bar\"},{\"alignmentgroup\":\"True\",\"hovertemplate\":\"City=%{x}<br>Season=Fall<br>Number of Passengers=%{y}<extra></extra>\",\"legendgroup\":\"Phoenix, AZ\",\"marker\":{\"color\":\"lavender\",\"pattern\":{\"shape\":\"\"}},\"name\":\"Phoenix, AZ\",\"offsetgroup\":\"Phoenix, AZ\",\"orientation\":\"v\",\"showlegend\":true,\"textposition\":\"auto\",\"x\":[\"Phoenix, AZ\"],\"xaxis\":\"x\",\"y\":[778880],\"yaxis\":\"y\",\"type\":\"bar\"},{\"alignmentgroup\":\"True\",\"hovertemplate\":\"City=%{x}<br>Season=Fall<br>Number of Passengers=%{y}<extra></extra>\",\"legendgroup\":\"Orlando, FL\",\"marker\":{\"color\":\"peachpuff\",\"pattern\":{\"shape\":\"\"}},\"name\":\"Orlando, FL\",\"offsetgroup\":\"Orlando, FL\",\"orientation\":\"v\",\"showlegend\":true,\"textposition\":\"auto\",\"x\":[\"Orlando, FL\"],\"xaxis\":\"x\",\"y\":[694001],\"yaxis\":\"y\",\"type\":\"bar\"},{\"alignmentgroup\":\"True\",\"hovertemplate\":\"City=%{x}<br>Season=Fall<br>Number of Passengers=%{y}<extra></extra>\",\"legendgroup\":\"Seattle, WA\",\"marker\":{\"color\":\"lightseagreen\",\"pattern\":{\"shape\":\"\"}},\"name\":\"Seattle, WA\",\"offsetgroup\":\"Seattle, WA\",\"orientation\":\"v\",\"showlegend\":true,\"textposition\":\"auto\",\"x\":[\"Seattle, WA\"],\"xaxis\":\"x\",\"y\":[572698],\"yaxis\":\"y\",\"type\":\"bar\"},{\"alignmentgroup\":\"True\",\"hovertemplate\":\"City=%{x}<br>Season=Fall<br>Number of Passengers=%{y}<extra></extra>\",\"legendgroup\":\"Houston, TX\",\"marker\":{\"color\":\"lightcyan\",\"pattern\":{\"shape\":\"\"}},\"name\":\"Houston, TX\",\"offsetgroup\":\"Houston, TX\",\"orientation\":\"v\",\"showlegend\":true,\"textposition\":\"auto\",\"x\":[\"Houston, TX\"],\"xaxis\":\"x\",\"y\":[430150],\"yaxis\":\"y\",\"type\":\"bar\"}],\"name\":\"Fall\"}]);\n",
       "                        }).then(function(){\n",
       "                            \n",
       "var gd = document.getElementById('219e6e67-80e2-47f5-81d6-a8ceb2781bbc');\n",
       "var x = new MutationObserver(function (mutations, observer) {{\n",
       "        var display = window.getComputedStyle(gd).display;\n",
       "        if (!display || display === 'none') {{\n",
       "            console.log([gd, 'removed!']);\n",
       "            Plotly.purge(gd);\n",
       "            observer.disconnect();\n",
       "        }}\n",
       "}});\n",
       "\n",
       "// Listen for the removal of the full notebook cells\n",
       "var notebookContainer = gd.closest('#notebook-container');\n",
       "if (notebookContainer) {{\n",
       "    x.observe(notebookContainer, {childList: true});\n",
       "}}\n",
       "\n",
       "// Listen for the clearing of the current output cell\n",
       "var outputEl = gd.closest('.output');\n",
       "if (outputEl) {{\n",
       "    x.observe(outputEl, {childList: true});\n",
       "}}\n",
       "\n",
       "                        })                };                });            </script>        </div>"
      ]
     },
     "metadata": {},
     "output_type": "display_data"
    }
   ],
   "source": [
    "# Animated bar plot for city popularity by season\n",
    "fig = px.bar(popular_city, \n",
    "             x='Destination City', \n",
    "             y='Passengers', \n",
    "             color='Destination City',\n",
    "             color_discrete_sequence=['lightblue', 'honeydew', 'lightcoral', 'lightskyblue', 'lightpink', 'lightyellow', 'lavender', 'peachpuff', 'lightseagreen', 'lightcyan'],\n",
    "             animation_frame='Season', \n",
    "             title='City Popularity by Season',\n",
    "             labels={'Passengers': 'Number of Passengers', 'Destination City': 'City'},\n",
    "             range_y=[0, popular_city['Passengers'].max() * 1.1])\n",
    "fig.update_layout(\n",
    "    xaxis_title=\"Destination City\",\n",
    "    yaxis_title=\"Number of Passengers\",\n",
    "    title_x=0.5,\n",
    "    showlegend=False\n",
    ")\n",
    "fig.layout.updatemenus[0].buttons[0].args[1][\"frame\"][\"duration\"] = 1000\n",
    "fig.show()"
   ]
  },
  {
   "cell_type": "code",
   "execution_count": 22,
   "id": "d65a579d-a9a5-4be9-9382-28417aaa2e2e",
   "metadata": {},
   "outputs": [
    {
     "name": "stderr",
     "output_type": "stream",
     "text": [
      "/opt/anaconda3/lib/python3.11/site-packages/seaborn/_oldcore.py:1119: FutureWarning: use_inf_as_na option is deprecated and will be removed in a future version. Convert inf values to NaN before operating instead.\n",
      "  with pd.option_context('mode.use_inf_as_na', True):\n",
      "/opt/anaconda3/lib/python3.11/site-packages/seaborn/_oldcore.py:1119: FutureWarning: use_inf_as_na option is deprecated and will be removed in a future version. Convert inf values to NaN before operating instead.\n",
      "  with pd.option_context('mode.use_inf_as_na', True):\n"
     ]
    },
    {
     "data": {
      "image/png": "[encoded data removed]",
      "text/plain": [
       "<Figure size 1400x800 with 1 Axes>"
      ]
     },
     "metadata": {},
     "output_type": "display_data"
    }
   ],
   "source": [
    "# Line plot for city popularity every 5 years\n",
    "plt.figure(figsize=(14, 8))\n",
    "sns.lineplot(data=popular_city_time, x='5 Year Interval', y='Passengers', hue='Destination City')\n",
    "plt.title('City Popularity Over Time')\n",
    "plt.ylabel('Number of Passengers')\n",
    "plt.show()"
   ]
  },
  {
   "cell_type": "code",
   "execution_count": 131,
   "id": "99f89643-5318-433f-871f-fb0ea670f2a9",
   "metadata": {},
   "outputs": [
    {
     "data": {
      "image/png": "[encoded data removed]",
      "text/plain": [
       "<Figure size 1400x1000 with 2 Axes>"
      ]
     },
     "metadata": {},
     "output_type": "display_data"
    }
   ],
   "source": [
    "# Heatmap of city popularity by season\n",
    "city_season_heatmap_data = season_city.pivot(index='Destination City', columns='Season', values='Passengers')\n",
    "\n",
    "plt.figure(figsize=(14, 10))\n",
    "sns.heatmap(city_season_heatmap_data, annot=False, cmap='YlGnBu')\n",
    "plt.title('City Popularity by Season (Heatmap)')\n",
    "plt.show()"
   ]
  },
  {
   "cell_type": "code",
   "execution_count": 147,
   "id": "e1b9bcdd-1c16-4649-8658-fb4b58077760",
   "metadata": {},
   "outputs": [
    {
     "data": {
      "image/png": "[encoded data removed]",
      "text/plain": [
       "<Figure size 1400x1000 with 2 Axes>"
      ]
     },
     "metadata": {},
     "output_type": "display_data"
    }
   ],
   "source": [
    "# Heatmap of top 5 most common routes per season\n",
    "heatmap_data = most_common_routes.pivot_table(index=['Departure City', 'Destination City'], columns='Season', values='Flights', fill_value=0)\n",
    "\n",
    "# Convert to int\n",
    "heatmap_data = heatmap_data.astype(int)\n",
    "\n",
    "plt.figure(figsize=(14, 10))\n",
    "sns.heatmap(heatmap_data, annot=False, cmap=\"YlGnBu\", fmt=\"d\")\n",
    "plt.title('Heatmap of Top 5 Most Common Routes per Season')\n",
    "plt.ylabel('Route')\n",
    "plt.xlabel('Season')\n",
    "plt.show()"
   ]
  },
  {
   "cell_type": "code",
   "execution_count": 227,
   "id": "0f400471-0c19-43b2-a54a-d853c5086539",
   "metadata": {},
   "outputs": [
    {
     "data": {
      "image/png": "[encoded data removed]",
      "text/plain": [
       "<Figure size 800x800 with 1 Axes>"
      ]
     },
     "metadata": {},
     "output_type": "display_data"
    }
   ],
   "source": [
    "# Calculate the total number of passengers for each season\n",
    "ny_season = popular_city[popular_city['Destination City'] == 'New York City, NY '].groupby('Season')['Passengers'].sum()\n",
    "\n",
    "# Create a pie chart\n",
    "plt.figure(figsize=(8, 8))\n",
    "plt.pie(ny_season, labels=ny_season.index, autopct='%1.1f%%', startangle=140, colors=['peachpuff', 'honeydew', 'mistyrose', 'lightblue'])\n",
    "plt.title('Percentage of Passengers Flying into New York City Each Season')\n",
    "plt.show()"
   ]
  },
  {
   "cell_type": "code",
   "execution_count": 26,
   "id": "e7faea1d-044f-42a2-a296-0b82d0fa7adf",
   "metadata": {},
   "outputs": [],
   "source": [
    "# # Initialize Nominatim API\n",
    "# geolocator = Nominatim(user_agent=\"Airline_Dataset\")\n",
    "\n",
    "# for city in season_flights['Destination City']:\n",
    "#     location = geolocator.geocode(city)\n",
    "#     season_flights.loc[season_flights['Destination City'] == city, 'Latitude'] = location.latitude\n",
    "#     season_flights.loc[season_flights['Destination City'] == city, 'Longitude'] = location.longitude"
   ]
  },
  {
   "cell_type": "code",
   "execution_count": 27,
   "id": "40e9cd52-88a2-481a-9ca2-c2804fb83f4b",
   "metadata": {},
   "outputs": [],
   "source": [
    "# # Map plot\n",
    "# fig = px.scatter_geo(season_city, \n",
    "#                      locations=\"Destination City\", \n",
    "#                      locationmode=\"USA-county\",\n",
    "#                      color=\"Passengers\",\n",
    "#                      hover_name=\"Destination City\", \n",
    "#                      animation_frame=\"Season\",\n",
    "#                      scope=\"usa\",\n",
    "#                      title=\"City Popularity by Season in the U.S.\")\n",
    "# fig.show()"
   ]
  },
  {
   "cell_type": "code",
   "execution_count": null,
   "id": "ff4bb9f0-3fc8-4dc4-a80c-816fa9b4dd71",
   "metadata": {},
   "outputs": [],
   "source": []
  },
  {
   "cell_type": "code",
   "execution_count": null,
   "id": "df106dc9-9e90-42cf-ab36-b30e98c8668f",
   "metadata": {},
   "outputs": [],
   "source": []
  }
 ],
 "metadata": {
  "kernelspec": {
   "display_name": "Python 3 (ipykernel)",
   "language": "python",
   "name": "python3"
  },
  "language_info": {
   "codemirror_mode": {
    "name": "ipython",
    "version": 3
   },
   "file_extension": ".py",
   "mimetype": "text/x-python",
   "name": "python",
   "nbconvert_exporter": "python",
   "pygments_lexer": "ipython3",
   "version": "3.11.7"
  }
 },
 "nbformat": 4,
 "nbformat_minor": 5
}
