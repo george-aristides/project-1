{
 "cells": [
  {
   "cell_type": "code",
   "execution_count": 167,
   "id": "9ceb7f9c-60bb-4b9e-9089-f8741b6c0e75",
   "metadata": {},
   "outputs": [],
   "source": [
    "#Dependancies\n",
    "\n",
    "import pandas as pd\n",
    "import hvplot.pandas\n",
    "import re\n",
    "import matplotlib\n",
    "import matplotlib.pyplot as plt\n",
    "import geopandas as gpd\n",
    "import plotly.express as px\n",
    "from plotly.subplots import make_subplots"
   ]
  },
  {
   "cell_type": "markdown",
   "id": "b47b9c23-7cbc-4741-a0eb-5041491c2454",
   "metadata": {
    "jp-MarkdownHeadingCollapsed": true
   },
   "source": [
    "# Basic setup code."
   ]
  },
  {
   "cell_type": "code",
   "execution_count": 6,
   "id": "916f7110-8ed3-47ef-a77f-7df3c1b30ed1",
   "metadata": {},
   "outputs": [],
   "source": [
    "# Reading csv into a DF\n",
    "airfare = pd.read_csv(\"Consumer_Airfare_Report__Table_1a_-_All_U.S._Airport_Pair_Markets_20240712.csv\", low_memory=False)"
   ]
  },
  {
   "cell_type": "code",
   "execution_count": 7,
   "id": "a11f0ab1-9d84-463f-abcd-7aabaa3d99b4",
   "metadata": {},
   "outputs": [
    {
     "data": {
      "text/html": [
       "<div>\n",
       "<style scoped>\n",
       "    .dataframe tbody tr th:only-of-type {\n",
       "        vertical-align: middle;\n",
       "    }\n",
       "\n",
       "    .dataframe tbody tr th {\n",
       "        vertical-align: top;\n",
       "    }\n",
       "\n",
       "    .dataframe thead th {\n",
       "        text-align: right;\n",
       "    }\n",
       "</style>\n",
       "<table border=\"1\" class=\"dataframe\">\n",
       "  <thead>\n",
       "    <tr style=\"text-align: right;\">\n",
       "      <th></th>\n",
       "      <th>tbl</th>\n",
       "      <th>Year</th>\n",
       "      <th>quarter</th>\n",
       "      <th>citymarketid_1</th>\n",
       "      <th>citymarketid_2</th>\n",
       "      <th>city1</th>\n",
       "      <th>city2</th>\n",
       "      <th>airportid_1</th>\n",
       "      <th>airportid_2</th>\n",
       "      <th>airport_1</th>\n",
       "      <th>...</th>\n",
       "      <th>fare</th>\n",
       "      <th>carrier_lg</th>\n",
       "      <th>large_ms</th>\n",
       "      <th>fare_lg</th>\n",
       "      <th>carrier_low</th>\n",
       "      <th>lf_ms</th>\n",
       "      <th>fare_low</th>\n",
       "      <th>Geocoded_City1</th>\n",
       "      <th>Geocoded_City2</th>\n",
       "      <th>tbl1apk</th>\n",
       "    </tr>\n",
       "  </thead>\n",
       "  <tbody>\n",
       "    <tr>\n",
       "      <th>0</th>\n",
       "      <td>Table1a</td>\n",
       "      <td>2021</td>\n",
       "      <td>3</td>\n",
       "      <td>30135</td>\n",
       "      <td>33195</td>\n",
       "      <td>Allentown/Bethlehem/Easton, PA</td>\n",
       "      <td>Tampa, FL (Metropolitan Area)</td>\n",
       "      <td>10135</td>\n",
       "      <td>14112</td>\n",
       "      <td>ABE</td>\n",
       "      <td>...</td>\n",
       "      <td>81.43</td>\n",
       "      <td>G4</td>\n",
       "      <td>1.0000</td>\n",
       "      <td>81.43</td>\n",
       "      <td>G4</td>\n",
       "      <td>1.0000</td>\n",
       "      <td>81.43</td>\n",
       "      <td>NaN</td>\n",
       "      <td>NaN</td>\n",
       "      <td>202131013514112ABEPIE</td>\n",
       "    </tr>\n",
       "    <tr>\n",
       "      <th>1</th>\n",
       "      <td>Table1a</td>\n",
       "      <td>2021</td>\n",
       "      <td>3</td>\n",
       "      <td>30135</td>\n",
       "      <td>33195</td>\n",
       "      <td>Allentown/Bethlehem/Easton, PA</td>\n",
       "      <td>Tampa, FL (Metropolitan Area)</td>\n",
       "      <td>10135</td>\n",
       "      <td>15304</td>\n",
       "      <td>ABE</td>\n",
       "      <td>...</td>\n",
       "      <td>208.93</td>\n",
       "      <td>DL</td>\n",
       "      <td>0.4659</td>\n",
       "      <td>219.98</td>\n",
       "      <td>UA</td>\n",
       "      <td>0.1193</td>\n",
       "      <td>154.11</td>\n",
       "      <td>NaN</td>\n",
       "      <td>NaN</td>\n",
       "      <td>202131013515304ABETPA</td>\n",
       "    </tr>\n",
       "    <tr>\n",
       "      <th>2</th>\n",
       "      <td>Table1a</td>\n",
       "      <td>2021</td>\n",
       "      <td>3</td>\n",
       "      <td>30140</td>\n",
       "      <td>30194</td>\n",
       "      <td>Albuquerque, NM</td>\n",
       "      <td>Dallas/Fort Worth, TX</td>\n",
       "      <td>10140</td>\n",
       "      <td>11259</td>\n",
       "      <td>ABQ</td>\n",
       "      <td>...</td>\n",
       "      <td>184.56</td>\n",
       "      <td>WN</td>\n",
       "      <td>0.9968</td>\n",
       "      <td>184.44</td>\n",
       "      <td>WN</td>\n",
       "      <td>0.9968</td>\n",
       "      <td>184.44</td>\n",
       "      <td>NaN</td>\n",
       "      <td>NaN</td>\n",
       "      <td>202131014011259ABQDAL</td>\n",
       "    </tr>\n",
       "    <tr>\n",
       "      <th>3</th>\n",
       "      <td>Table1a</td>\n",
       "      <td>2021</td>\n",
       "      <td>3</td>\n",
       "      <td>30140</td>\n",
       "      <td>30194</td>\n",
       "      <td>Albuquerque, NM</td>\n",
       "      <td>Dallas/Fort Worth, TX</td>\n",
       "      <td>10140</td>\n",
       "      <td>11298</td>\n",
       "      <td>ABQ</td>\n",
       "      <td>...</td>\n",
       "      <td>182.64</td>\n",
       "      <td>AA</td>\n",
       "      <td>0.9774</td>\n",
       "      <td>183.09</td>\n",
       "      <td>AA</td>\n",
       "      <td>0.9774</td>\n",
       "      <td>183.09</td>\n",
       "      <td>NaN</td>\n",
       "      <td>NaN</td>\n",
       "      <td>202131014011298ABQDFW</td>\n",
       "    </tr>\n",
       "    <tr>\n",
       "      <th>4</th>\n",
       "      <td>Table1a</td>\n",
       "      <td>2021</td>\n",
       "      <td>3</td>\n",
       "      <td>30140</td>\n",
       "      <td>30466</td>\n",
       "      <td>Albuquerque, NM</td>\n",
       "      <td>Phoenix, AZ</td>\n",
       "      <td>10140</td>\n",
       "      <td>14107</td>\n",
       "      <td>ABQ</td>\n",
       "      <td>...</td>\n",
       "      <td>177.11</td>\n",
       "      <td>WN</td>\n",
       "      <td>0.6061</td>\n",
       "      <td>184.49</td>\n",
       "      <td>AA</td>\n",
       "      <td>0.3939</td>\n",
       "      <td>165.77</td>\n",
       "      <td>NaN</td>\n",
       "      <td>NaN</td>\n",
       "      <td>202131014014107ABQPHX</td>\n",
       "    </tr>\n",
       "    <tr>\n",
       "      <th>...</th>\n",
       "      <td>...</td>\n",
       "      <td>...</td>\n",
       "      <td>...</td>\n",
       "      <td>...</td>\n",
       "      <td>...</td>\n",
       "      <td>...</td>\n",
       "      <td>...</td>\n",
       "      <td>...</td>\n",
       "      <td>...</td>\n",
       "      <td>...</td>\n",
       "      <td>...</td>\n",
       "      <td>...</td>\n",
       "      <td>...</td>\n",
       "      <td>...</td>\n",
       "      <td>...</td>\n",
       "      <td>...</td>\n",
       "      <td>...</td>\n",
       "      <td>...</td>\n",
       "      <td>...</td>\n",
       "      <td>...</td>\n",
       "      <td>...</td>\n",
       "    </tr>\n",
       "    <tr>\n",
       "      <th>245950</th>\n",
       "      <td>Table1a</td>\n",
       "      <td>2024</td>\n",
       "      <td>1</td>\n",
       "      <td>35412</td>\n",
       "      <td>31703</td>\n",
       "      <td>Knoxville, TN</td>\n",
       "      <td>New York City, NY (Metropolitan Area)</td>\n",
       "      <td>15412</td>\n",
       "      <td>12953</td>\n",
       "      <td>TYS</td>\n",
       "      <td>...</td>\n",
       "      <td>278.70</td>\n",
       "      <td>DL</td>\n",
       "      <td>0.7503</td>\n",
       "      <td>287.44</td>\n",
       "      <td>AA</td>\n",
       "      <td>0.2359</td>\n",
       "      <td>248.46</td>\n",
       "      <td>NaN</td>\n",
       "      <td>NaN</td>\n",
       "      <td>202411541212953TYSLGA</td>\n",
       "    </tr>\n",
       "    <tr>\n",
       "      <th>245951</th>\n",
       "      <td>Table1a</td>\n",
       "      <td>2024</td>\n",
       "      <td>1</td>\n",
       "      <td>35412</td>\n",
       "      <td>32467</td>\n",
       "      <td>Knoxville, TN</td>\n",
       "      <td>Miami, FL (Metropolitan Area)</td>\n",
       "      <td>15412</td>\n",
       "      <td>11697</td>\n",
       "      <td>TYS</td>\n",
       "      <td>...</td>\n",
       "      <td>148.69</td>\n",
       "      <td>G4</td>\n",
       "      <td>0.8255</td>\n",
       "      <td>114.45</td>\n",
       "      <td>G4</td>\n",
       "      <td>0.8255</td>\n",
       "      <td>114.45</td>\n",
       "      <td>NaN</td>\n",
       "      <td>NaN</td>\n",
       "      <td>202411541211697TYSFLL</td>\n",
       "    </tr>\n",
       "    <tr>\n",
       "      <th>245952</th>\n",
       "      <td>Table1a</td>\n",
       "      <td>2024</td>\n",
       "      <td>1</td>\n",
       "      <td>35412</td>\n",
       "      <td>32467</td>\n",
       "      <td>Knoxville, TN</td>\n",
       "      <td>Miami, FL (Metropolitan Area)</td>\n",
       "      <td>15412</td>\n",
       "      <td>13303</td>\n",
       "      <td>TYS</td>\n",
       "      <td>...</td>\n",
       "      <td>330.19</td>\n",
       "      <td>AA</td>\n",
       "      <td>0.8057</td>\n",
       "      <td>321.92</td>\n",
       "      <td>AA</td>\n",
       "      <td>0.8057</td>\n",
       "      <td>321.92</td>\n",
       "      <td>NaN</td>\n",
       "      <td>NaN</td>\n",
       "      <td>202411541213303TYSMIA</td>\n",
       "    </tr>\n",
       "    <tr>\n",
       "      <th>245953</th>\n",
       "      <td>Table1a</td>\n",
       "      <td>2024</td>\n",
       "      <td>1</td>\n",
       "      <td>35412</td>\n",
       "      <td>33195</td>\n",
       "      <td>Knoxville, TN</td>\n",
       "      <td>Tampa, FL (Metropolitan Area)</td>\n",
       "      <td>15412</td>\n",
       "      <td>14112</td>\n",
       "      <td>TYS</td>\n",
       "      <td>...</td>\n",
       "      <td>95.65</td>\n",
       "      <td>G4</td>\n",
       "      <td>1.0000</td>\n",
       "      <td>95.65</td>\n",
       "      <td>G4</td>\n",
       "      <td>1.0000</td>\n",
       "      <td>95.65</td>\n",
       "      <td>NaN</td>\n",
       "      <td>NaN</td>\n",
       "      <td>202411541214112TYSPIE</td>\n",
       "    </tr>\n",
       "    <tr>\n",
       "      <th>245954</th>\n",
       "      <td>Table1a</td>\n",
       "      <td>2024</td>\n",
       "      <td>1</td>\n",
       "      <td>35412</td>\n",
       "      <td>33195</td>\n",
       "      <td>Knoxville, TN</td>\n",
       "      <td>Tampa, FL (Metropolitan Area)</td>\n",
       "      <td>15412</td>\n",
       "      <td>15304</td>\n",
       "      <td>TYS</td>\n",
       "      <td>...</td>\n",
       "      <td>330.15</td>\n",
       "      <td>AA</td>\n",
       "      <td>0.5212</td>\n",
       "      <td>288.38</td>\n",
       "      <td>AA</td>\n",
       "      <td>0.5212</td>\n",
       "      <td>288.38</td>\n",
       "      <td>NaN</td>\n",
       "      <td>NaN</td>\n",
       "      <td>202411541215304TYSTPA</td>\n",
       "    </tr>\n",
       "  </tbody>\n",
       "</table>\n",
       "<p>245955 rows × 23 columns</p>\n",
       "</div>"
      ],
      "text/plain": [
       "            tbl  Year  quarter  citymarketid_1  citymarketid_2  \\\n",
       "0       Table1a  2021        3           30135           33195   \n",
       "1       Table1a  2021        3           30135           33195   \n",
       "2       Table1a  2021        3           30140           30194   \n",
       "3       Table1a  2021        3           30140           30194   \n",
       "4       Table1a  2021        3           30140           30466   \n",
       "...         ...   ...      ...             ...             ...   \n",
       "245950  Table1a  2024        1           35412           31703   \n",
       "245951  Table1a  2024        1           35412           32467   \n",
       "245952  Table1a  2024        1           35412           32467   \n",
       "245953  Table1a  2024        1           35412           33195   \n",
       "245954  Table1a  2024        1           35412           33195   \n",
       "\n",
       "                                 city1                                  city2  \\\n",
       "0       Allentown/Bethlehem/Easton, PA          Tampa, FL (Metropolitan Area)   \n",
       "1       Allentown/Bethlehem/Easton, PA          Tampa, FL (Metropolitan Area)   \n",
       "2                      Albuquerque, NM                  Dallas/Fort Worth, TX   \n",
       "3                      Albuquerque, NM                  Dallas/Fort Worth, TX   \n",
       "4                      Albuquerque, NM                            Phoenix, AZ   \n",
       "...                                ...                                    ...   \n",
       "245950                   Knoxville, TN  New York City, NY (Metropolitan Area)   \n",
       "245951                   Knoxville, TN          Miami, FL (Metropolitan Area)   \n",
       "245952                   Knoxville, TN          Miami, FL (Metropolitan Area)   \n",
       "245953                   Knoxville, TN          Tampa, FL (Metropolitan Area)   \n",
       "245954                   Knoxville, TN          Tampa, FL (Metropolitan Area)   \n",
       "\n",
       "        airportid_1  airportid_2 airport_1  ...    fare  carrier_lg  large_ms  \\\n",
       "0             10135        14112       ABE  ...   81.43          G4    1.0000   \n",
       "1             10135        15304       ABE  ...  208.93          DL    0.4659   \n",
       "2             10140        11259       ABQ  ...  184.56          WN    0.9968   \n",
       "3             10140        11298       ABQ  ...  182.64          AA    0.9774   \n",
       "4             10140        14107       ABQ  ...  177.11          WN    0.6061   \n",
       "...             ...          ...       ...  ...     ...         ...       ...   \n",
       "245950        15412        12953       TYS  ...  278.70          DL    0.7503   \n",
       "245951        15412        11697       TYS  ...  148.69          G4    0.8255   \n",
       "245952        15412        13303       TYS  ...  330.19          AA    0.8057   \n",
       "245953        15412        14112       TYS  ...   95.65          G4    1.0000   \n",
       "245954        15412        15304       TYS  ...  330.15          AA    0.5212   \n",
       "\n",
       "        fare_lg carrier_low   lf_ms  fare_low Geocoded_City1  Geocoded_City2  \\\n",
       "0         81.43          G4  1.0000     81.43            NaN             NaN   \n",
       "1        219.98          UA  0.1193    154.11            NaN             NaN   \n",
       "2        184.44          WN  0.9968    184.44            NaN             NaN   \n",
       "3        183.09          AA  0.9774    183.09            NaN             NaN   \n",
       "4        184.49          AA  0.3939    165.77            NaN             NaN   \n",
       "...         ...         ...     ...       ...            ...             ...   \n",
       "245950   287.44          AA  0.2359    248.46            NaN             NaN   \n",
       "245951   114.45          G4  0.8255    114.45            NaN             NaN   \n",
       "245952   321.92          AA  0.8057    321.92            NaN             NaN   \n",
       "245953    95.65          G4  1.0000     95.65            NaN             NaN   \n",
       "245954   288.38          AA  0.5212    288.38            NaN             NaN   \n",
       "\n",
       "                      tbl1apk  \n",
       "0       202131013514112ABEPIE  \n",
       "1       202131013515304ABETPA  \n",
       "2       202131014011259ABQDAL  \n",
       "3       202131014011298ABQDFW  \n",
       "4       202131014014107ABQPHX  \n",
       "...                       ...  \n",
       "245950  202411541212953TYSLGA  \n",
       "245951  202411541211697TYSFLL  \n",
       "245952  202411541213303TYSMIA  \n",
       "245953  202411541214112TYSPIE  \n",
       "245954  202411541215304TYSTPA  \n",
       "\n",
       "[245955 rows x 23 columns]"
      ]
     },
     "execution_count": 7,
     "metadata": {},
     "output_type": "execute_result"
    }
   ],
   "source": [
    "# Checking DF structure and details\n",
    "\n",
    "airfare\n",
    "\n",
    "\n"
   ]
  },
  {
   "cell_type": "code",
   "execution_count": 10,
   "id": "c6defbd3-9eec-467b-a0ae-0999384c139e",
   "metadata": {},
   "outputs": [
    {
     "name": "stdout",
     "output_type": "stream",
     "text": [
      "<class 'pandas.core.frame.DataFrame'>\n",
      "RangeIndex: 245955 entries, 0 to 245954\n",
      "Data columns (total 23 columns):\n",
      " #   Column          Non-Null Count   Dtype  \n",
      "---  ------          --------------   -----  \n",
      " 0   tbl             245955 non-null  object \n",
      " 1   Year            245955 non-null  int64  \n",
      " 2   quarter         245955 non-null  int64  \n",
      " 3   citymarketid_1  245955 non-null  int64  \n",
      " 4   citymarketid_2  245955 non-null  int64  \n",
      " 5   city1           245955 non-null  object \n",
      " 6   city2           245955 non-null  object \n",
      " 7   airportid_1     245955 non-null  int64  \n",
      " 8   airportid_2     245955 non-null  int64  \n",
      " 9   airport_1       245955 non-null  object \n",
      " 10  airport_2       245955 non-null  object \n",
      " 11  nsmiles         245955 non-null  int64  \n",
      " 12  passengers      245955 non-null  int64  \n",
      " 13  fare            245955 non-null  float64\n",
      " 14  carrier_lg      244415 non-null  object \n",
      " 15  large_ms        244415 non-null  float64\n",
      " 16  fare_lg         244415 non-null  float64\n",
      " 17  carrier_low     244343 non-null  object \n",
      " 18  lf_ms           244343 non-null  float64\n",
      " 19  fare_low        244343 non-null  float64\n",
      " 20  Geocoded_City1  206749 non-null  object \n",
      " 21  Geocoded_City2  206749 non-null  object \n",
      " 22  tbl1apk         245955 non-null  object \n",
      "dtypes: float64(5), int64(8), object(10)\n",
      "memory usage: 43.2+ MB\n"
     ]
    }
   ],
   "source": [
    "airfare.info()"
   ]
  },
  {
   "cell_type": "code",
   "execution_count": 12,
   "id": "32658b06-9803-4c19-af94-48be6781a2f5",
   "metadata": {},
   "outputs": [],
   "source": [
    "# Testing creation of hashmap for latitude and longitude extraction and replacement\n",
    "\n",
    "\n",
    "\n",
    "# lat_long_map = airfare.loc[airfare[\"Geocoded_City1\"].isna() == False][['airportid_1','Geocoded_City1']]\n",
    "# lat_long_map.drop_duplicates(inplace=True)\n",
    "# lat_long_map.set_index(\"airportid_1\", inplace=True)\n",
    "# lat_long_map\n",
    "# # [\"Geocoded_City1\n",
    "# # airfare[\"Geocoded_City1\"].isna().sum()"
   ]
  },
  {
   "cell_type": "code",
   "execution_count": 14,
   "id": "545bace6-a51e-4b9a-a6c6-5297dc4fea36",
   "metadata": {},
   "outputs": [
    {
     "data": {
      "text/plain": [
       "Index(['tbl', 'Year', 'quarter', 'citymarketid_1', 'citymarketid_2', 'city1',\n",
       "       'city2', 'airportid_1', 'airportid_2', 'airport_1', 'airport_2',\n",
       "       'nsmiles', 'passengers', 'fare', 'carrier_lg', 'large_ms', 'fare_lg',\n",
       "       'carrier_low', 'lf_ms', 'fare_low', 'Geocoded_City1', 'Geocoded_City2',\n",
       "       'tbl1apk'],\n",
       "      dtype='object')"
      ]
     },
     "execution_count": 14,
     "metadata": {},
     "output_type": "execute_result"
    }
   ],
   "source": [
    "columns = airfare.columns\n",
    "columns"
   ]
  },
  {
   "cell_type": "code",
   "execution_count": 16,
   "id": "38cf5641-4d54-42b9-8dd6-213bd659bfc3",
   "metadata": {},
   "outputs": [
    {
     "data": {
      "text/plain": [
       "airport_1\n",
       "LGA    3951\n",
       "JFK    3886\n",
       "EWR    3877\n",
       "ISP    3734\n",
       "HPN    3729\n",
       "SWF    3424\n",
       "NYC     540\n",
       "TSS      30\n",
       "JRB       4\n",
       "Name: count, dtype: int64"
      ]
     },
     "execution_count": 16,
     "metadata": {},
     "output_type": "execute_result"
    }
   ],
   "source": [
    "airfare[airfare[\"city1\"]==\"New York City, NY (Metropolitan Area)\"][\"airport_1\"].value_counts()"
   ]
  },
  {
   "cell_type": "code",
   "execution_count": 18,
   "id": "4583c3ab-b4f6-4578-8969-cb34725d578f",
   "metadata": {},
   "outputs": [],
   "source": [
    "airfare_2k1_4_count = airfare.groupby([\"Year\",\"quarter\"]).count().loc[[2001,2002,2003,2004]]\n",
    "\n",
    "# .loc[[2001, 2004]].reset_index()\n",
    "# airfare_2001.hvplot.line(y=\"tbl\")"
   ]
  },
  {
   "cell_type": "code",
   "execution_count": 20,
   "id": "ba13b24b-3937-4219-b25d-9b6d57bc8e02",
   "metadata": {},
   "outputs": [
    {
     "data": {
      "text/html": [
       "<div>\n",
       "<style scoped>\n",
       "    .dataframe tbody tr th:only-of-type {\n",
       "        vertical-align: middle;\n",
       "    }\n",
       "\n",
       "    .dataframe tbody tr th {\n",
       "        vertical-align: top;\n",
       "    }\n",
       "\n",
       "    .dataframe thead th {\n",
       "        text-align: right;\n",
       "    }\n",
       "</style>\n",
       "<table border=\"1\" class=\"dataframe\">\n",
       "  <thead>\n",
       "    <tr style=\"text-align: right;\">\n",
       "      <th></th>\n",
       "      <th></th>\n",
       "      <th>tbl</th>\n",
       "      <th>citymarketid_1</th>\n",
       "      <th>citymarketid_2</th>\n",
       "      <th>city1</th>\n",
       "      <th>city2</th>\n",
       "      <th>airportid_1</th>\n",
       "      <th>airportid_2</th>\n",
       "      <th>airport_1</th>\n",
       "      <th>airport_2</th>\n",
       "      <th>nsmiles</th>\n",
       "      <th>...</th>\n",
       "      <th>fare</th>\n",
       "      <th>carrier_lg</th>\n",
       "      <th>large_ms</th>\n",
       "      <th>fare_lg</th>\n",
       "      <th>carrier_low</th>\n",
       "      <th>lf_ms</th>\n",
       "      <th>fare_low</th>\n",
       "      <th>Geocoded_City1</th>\n",
       "      <th>Geocoded_City2</th>\n",
       "      <th>tbl1apk</th>\n",
       "    </tr>\n",
       "    <tr>\n",
       "      <th>Year</th>\n",
       "      <th>quarter</th>\n",
       "      <th></th>\n",
       "      <th></th>\n",
       "      <th></th>\n",
       "      <th></th>\n",
       "      <th></th>\n",
       "      <th></th>\n",
       "      <th></th>\n",
       "      <th></th>\n",
       "      <th></th>\n",
       "      <th></th>\n",
       "      <th></th>\n",
       "      <th></th>\n",
       "      <th></th>\n",
       "      <th></th>\n",
       "      <th></th>\n",
       "      <th></th>\n",
       "      <th></th>\n",
       "      <th></th>\n",
       "      <th></th>\n",
       "      <th></th>\n",
       "      <th></th>\n",
       "    </tr>\n",
       "  </thead>\n",
       "  <tbody>\n",
       "    <tr>\n",
       "      <th rowspan=\"4\" valign=\"top\">2001</th>\n",
       "      <th>1</th>\n",
       "      <td>2164</td>\n",
       "      <td>2164</td>\n",
       "      <td>2164</td>\n",
       "      <td>2164</td>\n",
       "      <td>2164</td>\n",
       "      <td>2164</td>\n",
       "      <td>2164</td>\n",
       "      <td>2164</td>\n",
       "      <td>2164</td>\n",
       "      <td>2164</td>\n",
       "      <td>...</td>\n",
       "      <td>2164</td>\n",
       "      <td>2149</td>\n",
       "      <td>2149</td>\n",
       "      <td>2149</td>\n",
       "      <td>2149</td>\n",
       "      <td>2149</td>\n",
       "      <td>2149</td>\n",
       "      <td>2164</td>\n",
       "      <td>2164</td>\n",
       "      <td>2164</td>\n",
       "    </tr>\n",
       "    <tr>\n",
       "      <th>2</th>\n",
       "      <td>2217</td>\n",
       "      <td>2217</td>\n",
       "      <td>2217</td>\n",
       "      <td>2217</td>\n",
       "      <td>2217</td>\n",
       "      <td>2217</td>\n",
       "      <td>2217</td>\n",
       "      <td>2217</td>\n",
       "      <td>2217</td>\n",
       "      <td>2217</td>\n",
       "      <td>...</td>\n",
       "      <td>2217</td>\n",
       "      <td>2199</td>\n",
       "      <td>2199</td>\n",
       "      <td>2199</td>\n",
       "      <td>2199</td>\n",
       "      <td>2199</td>\n",
       "      <td>2199</td>\n",
       "      <td>2217</td>\n",
       "      <td>2217</td>\n",
       "      <td>2217</td>\n",
       "    </tr>\n",
       "    <tr>\n",
       "      <th>3</th>\n",
       "      <td>2181</td>\n",
       "      <td>2181</td>\n",
       "      <td>2181</td>\n",
       "      <td>2181</td>\n",
       "      <td>2181</td>\n",
       "      <td>2181</td>\n",
       "      <td>2181</td>\n",
       "      <td>2181</td>\n",
       "      <td>2181</td>\n",
       "      <td>2181</td>\n",
       "      <td>...</td>\n",
       "      <td>2181</td>\n",
       "      <td>2171</td>\n",
       "      <td>2171</td>\n",
       "      <td>2171</td>\n",
       "      <td>2171</td>\n",
       "      <td>2171</td>\n",
       "      <td>2171</td>\n",
       "      <td>2181</td>\n",
       "      <td>2181</td>\n",
       "      <td>2181</td>\n",
       "    </tr>\n",
       "    <tr>\n",
       "      <th>4</th>\n",
       "      <td>2086</td>\n",
       "      <td>2086</td>\n",
       "      <td>2086</td>\n",
       "      <td>2086</td>\n",
       "      <td>2086</td>\n",
       "      <td>2086</td>\n",
       "      <td>2086</td>\n",
       "      <td>2086</td>\n",
       "      <td>2086</td>\n",
       "      <td>2086</td>\n",
       "      <td>...</td>\n",
       "      <td>2086</td>\n",
       "      <td>2077</td>\n",
       "      <td>2077</td>\n",
       "      <td>2077</td>\n",
       "      <td>2077</td>\n",
       "      <td>2077</td>\n",
       "      <td>2077</td>\n",
       "      <td>2086</td>\n",
       "      <td>2086</td>\n",
       "      <td>2086</td>\n",
       "    </tr>\n",
       "    <tr>\n",
       "      <th rowspan=\"4\" valign=\"top\">2002</th>\n",
       "      <th>1</th>\n",
       "      <td>2127</td>\n",
       "      <td>2127</td>\n",
       "      <td>2127</td>\n",
       "      <td>2127</td>\n",
       "      <td>2127</td>\n",
       "      <td>2127</td>\n",
       "      <td>2127</td>\n",
       "      <td>2127</td>\n",
       "      <td>2127</td>\n",
       "      <td>2127</td>\n",
       "      <td>...</td>\n",
       "      <td>2127</td>\n",
       "      <td>2117</td>\n",
       "      <td>2117</td>\n",
       "      <td>2117</td>\n",
       "      <td>2117</td>\n",
       "      <td>2117</td>\n",
       "      <td>2117</td>\n",
       "      <td>2127</td>\n",
       "      <td>2127</td>\n",
       "      <td>2127</td>\n",
       "    </tr>\n",
       "    <tr>\n",
       "      <th>2</th>\n",
       "      <td>2164</td>\n",
       "      <td>2164</td>\n",
       "      <td>2164</td>\n",
       "      <td>2164</td>\n",
       "      <td>2164</td>\n",
       "      <td>2164</td>\n",
       "      <td>2164</td>\n",
       "      <td>2164</td>\n",
       "      <td>2164</td>\n",
       "      <td>2164</td>\n",
       "      <td>...</td>\n",
       "      <td>2164</td>\n",
       "      <td>2155</td>\n",
       "      <td>2155</td>\n",
       "      <td>2155</td>\n",
       "      <td>2155</td>\n",
       "      <td>2155</td>\n",
       "      <td>2155</td>\n",
       "      <td>2164</td>\n",
       "      <td>2164</td>\n",
       "      <td>2164</td>\n",
       "    </tr>\n",
       "    <tr>\n",
       "      <th>3</th>\n",
       "      <td>2175</td>\n",
       "      <td>2175</td>\n",
       "      <td>2175</td>\n",
       "      <td>2175</td>\n",
       "      <td>2175</td>\n",
       "      <td>2175</td>\n",
       "      <td>2175</td>\n",
       "      <td>2175</td>\n",
       "      <td>2175</td>\n",
       "      <td>2175</td>\n",
       "      <td>...</td>\n",
       "      <td>2175</td>\n",
       "      <td>2162</td>\n",
       "      <td>2162</td>\n",
       "      <td>2162</td>\n",
       "      <td>2162</td>\n",
       "      <td>2162</td>\n",
       "      <td>2162</td>\n",
       "      <td>2175</td>\n",
       "      <td>2175</td>\n",
       "      <td>2175</td>\n",
       "    </tr>\n",
       "    <tr>\n",
       "      <th>4</th>\n",
       "      <td>2123</td>\n",
       "      <td>2123</td>\n",
       "      <td>2123</td>\n",
       "      <td>2123</td>\n",
       "      <td>2123</td>\n",
       "      <td>2123</td>\n",
       "      <td>2123</td>\n",
       "      <td>2123</td>\n",
       "      <td>2123</td>\n",
       "      <td>2123</td>\n",
       "      <td>...</td>\n",
       "      <td>2123</td>\n",
       "      <td>2114</td>\n",
       "      <td>2114</td>\n",
       "      <td>2114</td>\n",
       "      <td>2114</td>\n",
       "      <td>2114</td>\n",
       "      <td>2114</td>\n",
       "      <td>2123</td>\n",
       "      <td>2123</td>\n",
       "      <td>2123</td>\n",
       "    </tr>\n",
       "    <tr>\n",
       "      <th rowspan=\"4\" valign=\"top\">2003</th>\n",
       "      <th>1</th>\n",
       "      <td>2072</td>\n",
       "      <td>2072</td>\n",
       "      <td>2072</td>\n",
       "      <td>2072</td>\n",
       "      <td>2072</td>\n",
       "      <td>2072</td>\n",
       "      <td>2072</td>\n",
       "      <td>2072</td>\n",
       "      <td>2072</td>\n",
       "      <td>2072</td>\n",
       "      <td>...</td>\n",
       "      <td>2072</td>\n",
       "      <td>2063</td>\n",
       "      <td>2063</td>\n",
       "      <td>2063</td>\n",
       "      <td>2063</td>\n",
       "      <td>2063</td>\n",
       "      <td>2063</td>\n",
       "      <td>2072</td>\n",
       "      <td>2072</td>\n",
       "      <td>2072</td>\n",
       "    </tr>\n",
       "    <tr>\n",
       "      <th>2</th>\n",
       "      <td>2138</td>\n",
       "      <td>2138</td>\n",
       "      <td>2138</td>\n",
       "      <td>2138</td>\n",
       "      <td>2138</td>\n",
       "      <td>2138</td>\n",
       "      <td>2138</td>\n",
       "      <td>2138</td>\n",
       "      <td>2138</td>\n",
       "      <td>2138</td>\n",
       "      <td>...</td>\n",
       "      <td>2138</td>\n",
       "      <td>2125</td>\n",
       "      <td>2125</td>\n",
       "      <td>2125</td>\n",
       "      <td>2125</td>\n",
       "      <td>2125</td>\n",
       "      <td>2125</td>\n",
       "      <td>2138</td>\n",
       "      <td>2138</td>\n",
       "      <td>2138</td>\n",
       "    </tr>\n",
       "    <tr>\n",
       "      <th>3</th>\n",
       "      <td>2148</td>\n",
       "      <td>2148</td>\n",
       "      <td>2148</td>\n",
       "      <td>2148</td>\n",
       "      <td>2148</td>\n",
       "      <td>2148</td>\n",
       "      <td>2148</td>\n",
       "      <td>2148</td>\n",
       "      <td>2148</td>\n",
       "      <td>2148</td>\n",
       "      <td>...</td>\n",
       "      <td>2148</td>\n",
       "      <td>2140</td>\n",
       "      <td>2140</td>\n",
       "      <td>2140</td>\n",
       "      <td>2140</td>\n",
       "      <td>2140</td>\n",
       "      <td>2140</td>\n",
       "      <td>2148</td>\n",
       "      <td>2148</td>\n",
       "      <td>2148</td>\n",
       "    </tr>\n",
       "    <tr>\n",
       "      <th>4</th>\n",
       "      <td>2130</td>\n",
       "      <td>2130</td>\n",
       "      <td>2130</td>\n",
       "      <td>2130</td>\n",
       "      <td>2130</td>\n",
       "      <td>2130</td>\n",
       "      <td>2130</td>\n",
       "      <td>2130</td>\n",
       "      <td>2130</td>\n",
       "      <td>2130</td>\n",
       "      <td>...</td>\n",
       "      <td>2130</td>\n",
       "      <td>2121</td>\n",
       "      <td>2121</td>\n",
       "      <td>2121</td>\n",
       "      <td>2121</td>\n",
       "      <td>2121</td>\n",
       "      <td>2121</td>\n",
       "      <td>2130</td>\n",
       "      <td>2130</td>\n",
       "      <td>2130</td>\n",
       "    </tr>\n",
       "    <tr>\n",
       "      <th rowspan=\"4\" valign=\"top\">2004</th>\n",
       "      <th>1</th>\n",
       "      <td>2083</td>\n",
       "      <td>2083</td>\n",
       "      <td>2083</td>\n",
       "      <td>2083</td>\n",
       "      <td>2083</td>\n",
       "      <td>2083</td>\n",
       "      <td>2083</td>\n",
       "      <td>2083</td>\n",
       "      <td>2083</td>\n",
       "      <td>2083</td>\n",
       "      <td>...</td>\n",
       "      <td>2083</td>\n",
       "      <td>2072</td>\n",
       "      <td>2072</td>\n",
       "      <td>2072</td>\n",
       "      <td>2072</td>\n",
       "      <td>2072</td>\n",
       "      <td>2072</td>\n",
       "      <td>2083</td>\n",
       "      <td>2083</td>\n",
       "      <td>2083</td>\n",
       "    </tr>\n",
       "    <tr>\n",
       "      <th>2</th>\n",
       "      <td>2172</td>\n",
       "      <td>2172</td>\n",
       "      <td>2172</td>\n",
       "      <td>2172</td>\n",
       "      <td>2172</td>\n",
       "      <td>2172</td>\n",
       "      <td>2172</td>\n",
       "      <td>2172</td>\n",
       "      <td>2172</td>\n",
       "      <td>2172</td>\n",
       "      <td>...</td>\n",
       "      <td>2172</td>\n",
       "      <td>2162</td>\n",
       "      <td>2162</td>\n",
       "      <td>2162</td>\n",
       "      <td>2162</td>\n",
       "      <td>2162</td>\n",
       "      <td>2162</td>\n",
       "      <td>2172</td>\n",
       "      <td>2172</td>\n",
       "      <td>2172</td>\n",
       "    </tr>\n",
       "    <tr>\n",
       "      <th>3</th>\n",
       "      <td>2157</td>\n",
       "      <td>2157</td>\n",
       "      <td>2157</td>\n",
       "      <td>2157</td>\n",
       "      <td>2157</td>\n",
       "      <td>2157</td>\n",
       "      <td>2157</td>\n",
       "      <td>2157</td>\n",
       "      <td>2157</td>\n",
       "      <td>2157</td>\n",
       "      <td>...</td>\n",
       "      <td>2157</td>\n",
       "      <td>2147</td>\n",
       "      <td>2147</td>\n",
       "      <td>2147</td>\n",
       "      <td>2147</td>\n",
       "      <td>2147</td>\n",
       "      <td>2147</td>\n",
       "      <td>2157</td>\n",
       "      <td>2157</td>\n",
       "      <td>2157</td>\n",
       "    </tr>\n",
       "    <tr>\n",
       "      <th>4</th>\n",
       "      <td>2054</td>\n",
       "      <td>2054</td>\n",
       "      <td>2054</td>\n",
       "      <td>2054</td>\n",
       "      <td>2054</td>\n",
       "      <td>2054</td>\n",
       "      <td>2054</td>\n",
       "      <td>2054</td>\n",
       "      <td>2054</td>\n",
       "      <td>2054</td>\n",
       "      <td>...</td>\n",
       "      <td>2054</td>\n",
       "      <td>2047</td>\n",
       "      <td>2047</td>\n",
       "      <td>2047</td>\n",
       "      <td>2047</td>\n",
       "      <td>2047</td>\n",
       "      <td>2047</td>\n",
       "      <td>2054</td>\n",
       "      <td>2054</td>\n",
       "      <td>2054</td>\n",
       "    </tr>\n",
       "  </tbody>\n",
       "</table>\n",
       "<p>16 rows × 21 columns</p>\n",
       "</div>"
      ],
      "text/plain": [
       "               tbl  citymarketid_1  citymarketid_2  city1  city2  airportid_1  \\\n",
       "Year quarter                                                                    \n",
       "2001 1        2164            2164            2164   2164   2164         2164   \n",
       "     2        2217            2217            2217   2217   2217         2217   \n",
       "     3        2181            2181            2181   2181   2181         2181   \n",
       "     4        2086            2086            2086   2086   2086         2086   \n",
       "2002 1        2127            2127            2127   2127   2127         2127   \n",
       "     2        2164            2164            2164   2164   2164         2164   \n",
       "     3        2175            2175            2175   2175   2175         2175   \n",
       "     4        2123            2123            2123   2123   2123         2123   \n",
       "2003 1        2072            2072            2072   2072   2072         2072   \n",
       "     2        2138            2138            2138   2138   2138         2138   \n",
       "     3        2148            2148            2148   2148   2148         2148   \n",
       "     4        2130            2130            2130   2130   2130         2130   \n",
       "2004 1        2083            2083            2083   2083   2083         2083   \n",
       "     2        2172            2172            2172   2172   2172         2172   \n",
       "     3        2157            2157            2157   2157   2157         2157   \n",
       "     4        2054            2054            2054   2054   2054         2054   \n",
       "\n",
       "              airportid_2  airport_1  airport_2  nsmiles  ...  fare  \\\n",
       "Year quarter                                              ...         \n",
       "2001 1               2164       2164       2164     2164  ...  2164   \n",
       "     2               2217       2217       2217     2217  ...  2217   \n",
       "     3               2181       2181       2181     2181  ...  2181   \n",
       "     4               2086       2086       2086     2086  ...  2086   \n",
       "2002 1               2127       2127       2127     2127  ...  2127   \n",
       "     2               2164       2164       2164     2164  ...  2164   \n",
       "     3               2175       2175       2175     2175  ...  2175   \n",
       "     4               2123       2123       2123     2123  ...  2123   \n",
       "2003 1               2072       2072       2072     2072  ...  2072   \n",
       "     2               2138       2138       2138     2138  ...  2138   \n",
       "     3               2148       2148       2148     2148  ...  2148   \n",
       "     4               2130       2130       2130     2130  ...  2130   \n",
       "2004 1               2083       2083       2083     2083  ...  2083   \n",
       "     2               2172       2172       2172     2172  ...  2172   \n",
       "     3               2157       2157       2157     2157  ...  2157   \n",
       "     4               2054       2054       2054     2054  ...  2054   \n",
       "\n",
       "              carrier_lg  large_ms  fare_lg  carrier_low  lf_ms  fare_low  \\\n",
       "Year quarter                                                                \n",
       "2001 1              2149      2149     2149         2149   2149      2149   \n",
       "     2              2199      2199     2199         2199   2199      2199   \n",
       "     3              2171      2171     2171         2171   2171      2171   \n",
       "     4              2077      2077     2077         2077   2077      2077   \n",
       "2002 1              2117      2117     2117         2117   2117      2117   \n",
       "     2              2155      2155     2155         2155   2155      2155   \n",
       "     3              2162      2162     2162         2162   2162      2162   \n",
       "     4              2114      2114     2114         2114   2114      2114   \n",
       "2003 1              2063      2063     2063         2063   2063      2063   \n",
       "     2              2125      2125     2125         2125   2125      2125   \n",
       "     3              2140      2140     2140         2140   2140      2140   \n",
       "     4              2121      2121     2121         2121   2121      2121   \n",
       "2004 1              2072      2072     2072         2072   2072      2072   \n",
       "     2              2162      2162     2162         2162   2162      2162   \n",
       "     3              2147      2147     2147         2147   2147      2147   \n",
       "     4              2047      2047     2047         2047   2047      2047   \n",
       "\n",
       "              Geocoded_City1  Geocoded_City2  tbl1apk  \n",
       "Year quarter                                           \n",
       "2001 1                  2164            2164     2164  \n",
       "     2                  2217            2217     2217  \n",
       "     3                  2181            2181     2181  \n",
       "     4                  2086            2086     2086  \n",
       "2002 1                  2127            2127     2127  \n",
       "     2                  2164            2164     2164  \n",
       "     3                  2175            2175     2175  \n",
       "     4                  2123            2123     2123  \n",
       "2003 1                  2072            2072     2072  \n",
       "     2                  2138            2138     2138  \n",
       "     3                  2148            2148     2148  \n",
       "     4                  2130            2130     2130  \n",
       "2004 1                  2083            2083     2083  \n",
       "     2                  2172            2172     2172  \n",
       "     3                  2157            2157     2157  \n",
       "     4                  2054            2054     2054  \n",
       "\n",
       "[16 rows x 21 columns]"
      ]
     },
     "execution_count": 20,
     "metadata": {},
     "output_type": "execute_result"
    }
   ],
   "source": [
    "airfare_2k1_4_count"
   ]
  },
  {
   "cell_type": "code",
   "execution_count": 22,
   "id": "57144966-8904-449f-a8bf-1eff461de43d",
   "metadata": {},
   "outputs": [
    {
     "data": {
      "text/plain": [
       "<Axes: xlabel='Year,quarter'>"
      ]
     },
     "execution_count": 22,
     "metadata": {},
     "output_type": "execute_result"
    },
    {
     "data": {
      "image/png": "[encoded data removed]",
      "text/plain": [
       "<Figure size 2000x1000 with 1 Axes>"
      ]
     },
     "metadata": {},
     "output_type": "display_data"
    }
   ],
   "source": [
    "airfare_2k1_4_count.plot(y=\"tbl\", figsize=(20,10))"
   ]
  },
  {
   "cell_type": "markdown",
   "id": "08eede86-3783-4857-8a0a-0d84f8ab5860",
   "metadata": {},
   "source": []
  },
  {
   "cell_type": "code",
   "execution_count": null,
   "id": "11c2d834-95d0-4b84-afdd-e9409a0fb5ae",
   "metadata": {},
   "outputs": [],
   "source": []
  },
  {
   "cell_type": "code",
   "execution_count": null,
   "id": "480cac56-3a6a-4126-897f-a26c9e6ebc38",
   "metadata": {},
   "outputs": [],
   "source": []
  },
  {
   "cell_type": "code",
   "execution_count": null,
   "id": "c15aca68-b1f9-4ff2-bc93-ef9d9a5c6f69",
   "metadata": {},
   "outputs": [],
   "source": []
  },
  {
   "cell_type": "markdown",
   "id": "a78955c8-7fdb-4dea-84a7-87d8796e927b",
   "metadata": {},
   "source": [
    "# GEOMAPPING"
   ]
  },
  {
   "cell_type": "markdown",
   "id": "9c1a9727-7e60-4d6e-ada9-dc51519e7540",
   "metadata": {
    "jp-MarkdownHeadingCollapsed": true
   },
   "source": [
    "### LAT-LONG DF"
   ]
  },
  {
   "cell_type": "code",
   "execution_count": 30,
   "id": "6a776a93-fab1-4a45-b517-0673b9f90ce5",
   "metadata": {},
   "outputs": [],
   "source": [
    "# Creating lat_long_map as a DF considering it as a hashmap for airport ID with respect to latitudes and longitudes.\n",
    "\n",
    "\n",
    "lat_long_map = airfare.loc[airfare[\"Geocoded_City1\"].isna() == False][['airportid_1','Geocoded_City1']]\n",
    "lat_long_map.drop_duplicates(inplace=True)\n",
    "lat_long_map.set_index(\"airportid_1\", inplace=True)"
   ]
  },
  {
   "cell_type": "code",
   "execution_count": 32,
   "id": "3a95809d-a935-48a6-a11a-ad0b4bd30102",
   "metadata": {},
   "outputs": [
    {
     "data": {
      "text/html": [
       "<div>\n",
       "<style scoped>\n",
       "    .dataframe tbody tr th:only-of-type {\n",
       "        vertical-align: middle;\n",
       "    }\n",
       "\n",
       "    .dataframe tbody tr th {\n",
       "        vertical-align: top;\n",
       "    }\n",
       "\n",
       "    .dataframe thead th {\n",
       "        text-align: right;\n",
       "    }\n",
       "</style>\n",
       "<table border=\"1\" class=\"dataframe\">\n",
       "  <thead>\n",
       "    <tr style=\"text-align: right;\">\n",
       "      <th></th>\n",
       "      <th>Geocoded_City1</th>\n",
       "    </tr>\n",
       "    <tr>\n",
       "      <th>airportid_1</th>\n",
       "      <th></th>\n",
       "    </tr>\n",
       "  </thead>\n",
       "  <tbody>\n",
       "    <tr>\n",
       "      <th>11298</th>\n",
       "      <td>Dallas/Fort Worth, TX\\n(40.11086, -77.035636)</td>\n",
       "    </tr>\n",
       "    <tr>\n",
       "      <th>11298</th>\n",
       "      <td>(40.11086, -77.035636)</td>\n",
       "    </tr>\n",
       "  </tbody>\n",
       "</table>\n",
       "</div>"
      ],
      "text/plain": [
       "                                            Geocoded_City1\n",
       "airportid_1                                               \n",
       "11298        Dallas/Fort Worth, TX\\n(40.11086, -77.035636)\n",
       "11298                               (40.11086, -77.035636)"
      ]
     },
     "metadata": {},
     "output_type": "display_data"
    },
    {
     "data": {
      "text/html": [
       "<div>\n",
       "<style scoped>\n",
       "    .dataframe tbody tr th:only-of-type {\n",
       "        vertical-align: middle;\n",
       "    }\n",
       "\n",
       "    .dataframe tbody tr th {\n",
       "        vertical-align: top;\n",
       "    }\n",
       "\n",
       "    .dataframe thead th {\n",
       "        text-align: right;\n",
       "    }\n",
       "</style>\n",
       "<table border=\"1\" class=\"dataframe\">\n",
       "  <thead>\n",
       "    <tr style=\"text-align: right;\">\n",
       "      <th></th>\n",
       "      <th>Geocoded_City1</th>\n",
       "    </tr>\n",
       "    <tr>\n",
       "      <th>airportid_1</th>\n",
       "      <th></th>\n",
       "    </tr>\n",
       "  </thead>\n",
       "  <tbody>\n",
       "    <tr>\n",
       "      <th>11259</th>\n",
       "      <td>Dallas/Fort Worth, TX\\n(40.11086, -77.035636)</td>\n",
       "    </tr>\n",
       "    <tr>\n",
       "      <th>11259</th>\n",
       "      <td>(40.11086, -77.035636)</td>\n",
       "    </tr>\n",
       "  </tbody>\n",
       "</table>\n",
       "</div>"
      ],
      "text/plain": [
       "                                            Geocoded_City1\n",
       "airportid_1                                               \n",
       "11259        Dallas/Fort Worth, TX\\n(40.11086, -77.035636)\n",
       "11259                               (40.11086, -77.035636)"
      ]
     },
     "metadata": {},
     "output_type": "display_data"
    }
   ],
   "source": [
    "# Same City, different airport IDs but same latitude and longitude\n",
    "\n",
    "display(lat_long_map.loc[11298])\n",
    "display(lat_long_map.loc[11259])"
   ]
  },
  {
   "cell_type": "code",
   "execution_count": 34,
   "id": "fdddd491-be64-45c1-bff7-768d4a82ad87",
   "metadata": {},
   "outputs": [
    {
     "data": {
      "text/html": [
       "<div>\n",
       "<style scoped>\n",
       "    .dataframe tbody tr th:only-of-type {\n",
       "        vertical-align: middle;\n",
       "    }\n",
       "\n",
       "    .dataframe tbody tr th {\n",
       "        vertical-align: top;\n",
       "    }\n",
       "\n",
       "    .dataframe thead th {\n",
       "        text-align: right;\n",
       "    }\n",
       "</style>\n",
       "<table border=\"1\" class=\"dataframe\">\n",
       "  <thead>\n",
       "    <tr style=\"text-align: right;\">\n",
       "      <th></th>\n",
       "      <th>Geocoded_City1</th>\n",
       "    </tr>\n",
       "    <tr>\n",
       "      <th>airportid_1</th>\n",
       "      <th></th>\n",
       "    </tr>\n",
       "  </thead>\n",
       "  <tbody>\n",
       "    <tr>\n",
       "      <th>15370</th>\n",
       "      <td>Tulsa, OK\\n(61.096484, -160.967455)</td>\n",
       "    </tr>\n",
       "    <tr>\n",
       "      <th>15370</th>\n",
       "      <td>(61.096484, -160.967455)</td>\n",
       "    </tr>\n",
       "  </tbody>\n",
       "</table>\n",
       "</div>"
      ],
      "text/plain": [
       "                                  Geocoded_City1\n",
       "airportid_1                                     \n",
       "15370        Tulsa, OK\\n(61.096484, -160.967455)\n",
       "15370                   (61.096484, -160.967455)"
      ]
     },
     "execution_count": 34,
     "metadata": {},
     "output_type": "execute_result"
    }
   ],
   "source": [
    "# Testing lat long extraction example.\n",
    "lat_long_map.loc[15370]"
   ]
  },
  {
   "cell_type": "code",
   "execution_count": 36,
   "id": "5ae56a83-61b5-4407-b197-d1524eee0b81",
   "metadata": {},
   "outputs": [],
   "source": [
    "# Extract coordinates function using regular expression pattern matching.\n",
    "\n",
    "def extract_coord(row):\n",
    "\n",
    "    pattern = r'(?:(?:[A-Za-z\\s]+,\\s*[A-Z]{2})?\\n?)?\\(([-+]?\\d*\\.\\d+),\\s*([-+]?\\d*\\.\\d+)\\)'\n",
    "\n",
    "    match = re.search(pattern,row)\n",
    "    \n",
    "    if match:\n",
    "        # city = match.group(1)\n",
    "        lat = float(match.group(1))\n",
    "        lon = float(match.group(2))\n",
    "        return lat, lon\n",
    "    else:\n",
    "        return None, None\n",
    "\n"
   ]
  },
  {
   "cell_type": "code",
   "execution_count": null,
   "id": "cf32decc-43d1-4551-9379-c6b4003574a4",
   "metadata": {},
   "outputs": [],
   "source": []
  },
  {
   "cell_type": "code",
   "execution_count": 39,
   "id": "2437016b-3cf1-4b83-80af-c2a964220fbb",
   "metadata": {},
   "outputs": [
    {
     "data": {
      "text/plain": [
       "317"
      ]
     },
     "execution_count": 39,
     "metadata": {},
     "output_type": "execute_result"
    }
   ],
   "source": [
    "len(lat_long_map)"
   ]
  },
  {
   "cell_type": "code",
   "execution_count": 41,
   "id": "57e5bbba-d780-4bcb-8189-6eba5581a5ae",
   "metadata": {},
   "outputs": [
    {
     "data": {
      "text/html": [
       "<div>\n",
       "<style scoped>\n",
       "    .dataframe tbody tr th:only-of-type {\n",
       "        vertical-align: middle;\n",
       "    }\n",
       "\n",
       "    .dataframe tbody tr th {\n",
       "        vertical-align: top;\n",
       "    }\n",
       "\n",
       "    .dataframe thead th {\n",
       "        text-align: right;\n",
       "    }\n",
       "</style>\n",
       "<table border=\"1\" class=\"dataframe\">\n",
       "  <thead>\n",
       "    <tr style=\"text-align: right;\">\n",
       "      <th></th>\n",
       "      <th>Geocoded_City1</th>\n",
       "      <th>lat</th>\n",
       "      <th>long</th>\n",
       "    </tr>\n",
       "    <tr>\n",
       "      <th>airportid_1</th>\n",
       "      <th></th>\n",
       "      <th></th>\n",
       "      <th></th>\n",
       "    </tr>\n",
       "  </thead>\n",
       "  <tbody>\n",
       "    <tr>\n",
       "      <th>14869</th>\n",
       "      <td>Salt Lake City, UT\\n(40.758478, -111.888142)</td>\n",
       "      <td>40.758478</td>\n",
       "      <td>-111.888142</td>\n",
       "    </tr>\n",
       "    <tr>\n",
       "      <th>11109</th>\n",
       "      <td>Colorado Springs, CO\\n(38.835224, -104.819798)</td>\n",
       "      <td>38.835224</td>\n",
       "      <td>-104.819798</td>\n",
       "    </tr>\n",
       "    <tr>\n",
       "      <th>14122</th>\n",
       "      <td>Pittsburgh, PA\\n(40.442169, -79.994945)</td>\n",
       "      <td>40.442169</td>\n",
       "      <td>-79.994945</td>\n",
       "    </tr>\n",
       "    <tr>\n",
       "      <th>12889</th>\n",
       "      <td>Las Vegas, NV\\n(36.169202, -115.140597)</td>\n",
       "      <td>36.169202</td>\n",
       "      <td>-115.140597</td>\n",
       "    </tr>\n",
       "    <tr>\n",
       "      <th>12217</th>\n",
       "      <td>Huntsville, AL\\n(34.729538, -86.585283)</td>\n",
       "      <td>34.729538</td>\n",
       "      <td>-86.585283</td>\n",
       "    </tr>\n",
       "    <tr>\n",
       "      <th>...</th>\n",
       "      <td>...</td>\n",
       "      <td>...</td>\n",
       "      <td>...</td>\n",
       "    </tr>\n",
       "    <tr>\n",
       "      <th>14112</th>\n",
       "      <td>(37.8606, -78.804199)</td>\n",
       "      <td>37.860600</td>\n",
       "      <td>-78.804199</td>\n",
       "    </tr>\n",
       "    <tr>\n",
       "      <th>14252</th>\n",
       "      <td>(37.123874, -76.391902)</td>\n",
       "      <td>37.123874</td>\n",
       "      <td>-76.391902</td>\n",
       "    </tr>\n",
       "    <tr>\n",
       "      <th>14696</th>\n",
       "      <td>(41.675032, -86.251962)</td>\n",
       "      <td>41.675032</td>\n",
       "      <td>-86.251962</td>\n",
       "    </tr>\n",
       "    <tr>\n",
       "      <th>14783</th>\n",
       "      <td>(39.79936, -89.643624)</td>\n",
       "      <td>39.799360</td>\n",
       "      <td>-89.643624</td>\n",
       "    </tr>\n",
       "    <tr>\n",
       "      <th>15370</th>\n",
       "      <td>(61.096484, -160.967455)</td>\n",
       "      <td>61.096484</td>\n",
       "      <td>-160.967455</td>\n",
       "    </tr>\n",
       "  </tbody>\n",
       "</table>\n",
       "<p>317 rows × 3 columns</p>\n",
       "</div>"
      ],
      "text/plain": [
       "                                             Geocoded_City1        lat  \\\n",
       "airportid_1                                                              \n",
       "14869          Salt Lake City, UT\\n(40.758478, -111.888142)  40.758478   \n",
       "11109        Colorado Springs, CO\\n(38.835224, -104.819798)  38.835224   \n",
       "14122               Pittsburgh, PA\\n(40.442169, -79.994945)  40.442169   \n",
       "12889               Las Vegas, NV\\n(36.169202, -115.140597)  36.169202   \n",
       "12217               Huntsville, AL\\n(34.729538, -86.585283)  34.729538   \n",
       "...                                                     ...        ...   \n",
       "14112                                 (37.8606, -78.804199)  37.860600   \n",
       "14252                               (37.123874, -76.391902)  37.123874   \n",
       "14696                               (41.675032, -86.251962)  41.675032   \n",
       "14783                                (39.79936, -89.643624)  39.799360   \n",
       "15370                              (61.096484, -160.967455)  61.096484   \n",
       "\n",
       "                   long  \n",
       "airportid_1              \n",
       "14869       -111.888142  \n",
       "11109       -104.819798  \n",
       "14122        -79.994945  \n",
       "12889       -115.140597  \n",
       "12217        -86.585283  \n",
       "...                 ...  \n",
       "14112        -78.804199  \n",
       "14252        -76.391902  \n",
       "14696        -86.251962  \n",
       "14783        -89.643624  \n",
       "15370       -160.967455  \n",
       "\n",
       "[317 rows x 3 columns]"
      ]
     },
     "execution_count": 41,
     "metadata": {},
     "output_type": "execute_result"
    }
   ],
   "source": [
    "# Extracting Latitude longitudes based on Geocoded_City1 into the hash map.\n",
    "\n",
    "lat_long_map[[\"lat\",\"long\"]] = lat_long_map[\"Geocoded_City1\"].apply(lambda x: pd.Series(extract_coord(x)))\n",
    "lat_long_map"
   ]
  },
  {
   "cell_type": "code",
   "execution_count": 43,
   "id": "4f78bd1a-76dd-4a28-adce-7eba7159f753",
   "metadata": {},
   "outputs": [],
   "source": [
    "# Reseting index before we drop duplicated airport ids.\n",
    "\n",
    "lat_long_map.reset_index(inplace=True)"
   ]
  },
  {
   "cell_type": "code",
   "execution_count": 45,
   "id": "7654ceec-fda6-4ec5-8733-5735348622c6",
   "metadata": {},
   "outputs": [
    {
     "data": {
      "text/html": [
       "<div>\n",
       "<style scoped>\n",
       "    .dataframe tbody tr th:only-of-type {\n",
       "        vertical-align: middle;\n",
       "    }\n",
       "\n",
       "    .dataframe tbody tr th {\n",
       "        vertical-align: top;\n",
       "    }\n",
       "\n",
       "    .dataframe thead th {\n",
       "        text-align: right;\n",
       "    }\n",
       "</style>\n",
       "<table border=\"1\" class=\"dataframe\">\n",
       "  <thead>\n",
       "    <tr style=\"text-align: right;\">\n",
       "      <th></th>\n",
       "      <th>airportid_1</th>\n",
       "      <th>Geocoded_City1</th>\n",
       "      <th>lat</th>\n",
       "      <th>long</th>\n",
       "    </tr>\n",
       "  </thead>\n",
       "  <tbody>\n",
       "    <tr>\n",
       "      <th>0</th>\n",
       "      <td>14869</td>\n",
       "      <td>Salt Lake City, UT\\n(40.758478, -111.888142)</td>\n",
       "      <td>40.758478</td>\n",
       "      <td>-111.888142</td>\n",
       "    </tr>\n",
       "    <tr>\n",
       "      <th>1</th>\n",
       "      <td>11109</td>\n",
       "      <td>Colorado Springs, CO\\n(38.835224, -104.819798)</td>\n",
       "      <td>38.835224</td>\n",
       "      <td>-104.819798</td>\n",
       "    </tr>\n",
       "    <tr>\n",
       "      <th>2</th>\n",
       "      <td>14122</td>\n",
       "      <td>Pittsburgh, PA\\n(40.442169, -79.994945)</td>\n",
       "      <td>40.442169</td>\n",
       "      <td>-79.994945</td>\n",
       "    </tr>\n",
       "    <tr>\n",
       "      <th>3</th>\n",
       "      <td>12889</td>\n",
       "      <td>Las Vegas, NV\\n(36.169202, -115.140597)</td>\n",
       "      <td>36.169202</td>\n",
       "      <td>-115.140597</td>\n",
       "    </tr>\n",
       "    <tr>\n",
       "      <th>4</th>\n",
       "      <td>12217</td>\n",
       "      <td>Huntsville, AL\\n(34.729538, -86.585283)</td>\n",
       "      <td>34.729538</td>\n",
       "      <td>-86.585283</td>\n",
       "    </tr>\n",
       "    <tr>\n",
       "      <th>...</th>\n",
       "      <td>...</td>\n",
       "      <td>...</td>\n",
       "      <td>...</td>\n",
       "      <td>...</td>\n",
       "    </tr>\n",
       "    <tr>\n",
       "      <th>312</th>\n",
       "      <td>14112</td>\n",
       "      <td>(37.8606, -78.804199)</td>\n",
       "      <td>37.860600</td>\n",
       "      <td>-78.804199</td>\n",
       "    </tr>\n",
       "    <tr>\n",
       "      <th>313</th>\n",
       "      <td>14252</td>\n",
       "      <td>(37.123874, -76.391902)</td>\n",
       "      <td>37.123874</td>\n",
       "      <td>-76.391902</td>\n",
       "    </tr>\n",
       "    <tr>\n",
       "      <th>314</th>\n",
       "      <td>14696</td>\n",
       "      <td>(41.675032, -86.251962)</td>\n",
       "      <td>41.675032</td>\n",
       "      <td>-86.251962</td>\n",
       "    </tr>\n",
       "    <tr>\n",
       "      <th>315</th>\n",
       "      <td>14783</td>\n",
       "      <td>(39.79936, -89.643624)</td>\n",
       "      <td>39.799360</td>\n",
       "      <td>-89.643624</td>\n",
       "    </tr>\n",
       "    <tr>\n",
       "      <th>316</th>\n",
       "      <td>15370</td>\n",
       "      <td>(61.096484, -160.967455)</td>\n",
       "      <td>61.096484</td>\n",
       "      <td>-160.967455</td>\n",
       "    </tr>\n",
       "  </tbody>\n",
       "</table>\n",
       "<p>317 rows × 4 columns</p>\n",
       "</div>"
      ],
      "text/plain": [
       "     airportid_1                                  Geocoded_City1        lat  \\\n",
       "0          14869    Salt Lake City, UT\\n(40.758478, -111.888142)  40.758478   \n",
       "1          11109  Colorado Springs, CO\\n(38.835224, -104.819798)  38.835224   \n",
       "2          14122         Pittsburgh, PA\\n(40.442169, -79.994945)  40.442169   \n",
       "3          12889         Las Vegas, NV\\n(36.169202, -115.140597)  36.169202   \n",
       "4          12217         Huntsville, AL\\n(34.729538, -86.585283)  34.729538   \n",
       "..           ...                                             ...        ...   \n",
       "312        14112                           (37.8606, -78.804199)  37.860600   \n",
       "313        14252                         (37.123874, -76.391902)  37.123874   \n",
       "314        14696                         (41.675032, -86.251962)  41.675032   \n",
       "315        14783                          (39.79936, -89.643624)  39.799360   \n",
       "316        15370                        (61.096484, -160.967455)  61.096484   \n",
       "\n",
       "           long  \n",
       "0   -111.888142  \n",
       "1   -104.819798  \n",
       "2    -79.994945  \n",
       "3   -115.140597  \n",
       "4    -86.585283  \n",
       "..          ...  \n",
       "312  -78.804199  \n",
       "313  -76.391902  \n",
       "314  -86.251962  \n",
       "315  -89.643624  \n",
       "316 -160.967455  \n",
       "\n",
       "[317 rows x 4 columns]"
      ]
     },
     "execution_count": 45,
     "metadata": {},
     "output_type": "execute_result"
    }
   ],
   "source": [
    "#view\n",
    "\n",
    "lat_long_map"
   ]
  },
  {
   "cell_type": "code",
   "execution_count": 47,
   "id": "0b47ea03-77ad-484c-9408-00a185003cc7",
   "metadata": {},
   "outputs": [
    {
     "data": {
      "text/html": [
       "<div>\n",
       "<style scoped>\n",
       "    .dataframe tbody tr th:only-of-type {\n",
       "        vertical-align: middle;\n",
       "    }\n",
       "\n",
       "    .dataframe tbody tr th {\n",
       "        vertical-align: top;\n",
       "    }\n",
       "\n",
       "    .dataframe thead th {\n",
       "        text-align: right;\n",
       "    }\n",
       "</style>\n",
       "<table border=\"1\" class=\"dataframe\">\n",
       "  <thead>\n",
       "    <tr style=\"text-align: right;\">\n",
       "      <th></th>\n",
       "      <th>airportid_1</th>\n",
       "      <th>Geocoded_City1</th>\n",
       "      <th>lat</th>\n",
       "      <th>long</th>\n",
       "    </tr>\n",
       "  </thead>\n",
       "  <tbody>\n",
       "    <tr>\n",
       "      <th>0</th>\n",
       "      <td>14869</td>\n",
       "      <td>Salt Lake City, UT\\n(40.758478, -111.888142)</td>\n",
       "      <td>40.758478</td>\n",
       "      <td>-111.888142</td>\n",
       "    </tr>\n",
       "    <tr>\n",
       "      <th>1</th>\n",
       "      <td>11109</td>\n",
       "      <td>Colorado Springs, CO\\n(38.835224, -104.819798)</td>\n",
       "      <td>38.835224</td>\n",
       "      <td>-104.819798</td>\n",
       "    </tr>\n",
       "    <tr>\n",
       "      <th>2</th>\n",
       "      <td>14122</td>\n",
       "      <td>Pittsburgh, PA\\n(40.442169, -79.994945)</td>\n",
       "      <td>40.442169</td>\n",
       "      <td>-79.994945</td>\n",
       "    </tr>\n",
       "    <tr>\n",
       "      <th>3</th>\n",
       "      <td>12889</td>\n",
       "      <td>Las Vegas, NV\\n(36.169202, -115.140597)</td>\n",
       "      <td>36.169202</td>\n",
       "      <td>-115.140597</td>\n",
       "    </tr>\n",
       "    <tr>\n",
       "      <th>4</th>\n",
       "      <td>12217</td>\n",
       "      <td>Huntsville, AL\\n(34.729538, -86.585283)</td>\n",
       "      <td>34.729538</td>\n",
       "      <td>-86.585283</td>\n",
       "    </tr>\n",
       "    <tr>\n",
       "      <th>...</th>\n",
       "      <td>...</td>\n",
       "      <td>...</td>\n",
       "      <td>...</td>\n",
       "      <td>...</td>\n",
       "    </tr>\n",
       "    <tr>\n",
       "      <th>304</th>\n",
       "      <td>10408</td>\n",
       "      <td>(44.261982, -88.40724)</td>\n",
       "      <td>44.261982</td>\n",
       "      <td>-88.407240</td>\n",
       "    </tr>\n",
       "    <tr>\n",
       "      <th>305</th>\n",
       "      <td>10676</td>\n",
       "      <td>(38.512629, -89.984229)</td>\n",
       "      <td>38.512629</td>\n",
       "      <td>-89.984229</td>\n",
       "    </tr>\n",
       "    <tr>\n",
       "      <th>308</th>\n",
       "      <td>12280</td>\n",
       "      <td>(43.490842, -112.039087)</td>\n",
       "      <td>43.490842</td>\n",
       "      <td>-112.039087</td>\n",
       "    </tr>\n",
       "    <tr>\n",
       "      <th>313</th>\n",
       "      <td>14252</td>\n",
       "      <td>(37.123874, -76.391902)</td>\n",
       "      <td>37.123874</td>\n",
       "      <td>-76.391902</td>\n",
       "    </tr>\n",
       "    <tr>\n",
       "      <th>315</th>\n",
       "      <td>14783</td>\n",
       "      <td>(39.79936, -89.643624)</td>\n",
       "      <td>39.799360</td>\n",
       "      <td>-89.643624</td>\n",
       "    </tr>\n",
       "  </tbody>\n",
       "</table>\n",
       "<p>183 rows × 4 columns</p>\n",
       "</div>"
      ],
      "text/plain": [
       "     airportid_1                                  Geocoded_City1        lat  \\\n",
       "0          14869    Salt Lake City, UT\\n(40.758478, -111.888142)  40.758478   \n",
       "1          11109  Colorado Springs, CO\\n(38.835224, -104.819798)  38.835224   \n",
       "2          14122         Pittsburgh, PA\\n(40.442169, -79.994945)  40.442169   \n",
       "3          12889         Las Vegas, NV\\n(36.169202, -115.140597)  36.169202   \n",
       "4          12217         Huntsville, AL\\n(34.729538, -86.585283)  34.729538   \n",
       "..           ...                                             ...        ...   \n",
       "304        10408                          (44.261982, -88.40724)  44.261982   \n",
       "305        10676                         (38.512629, -89.984229)  38.512629   \n",
       "308        12280                        (43.490842, -112.039087)  43.490842   \n",
       "313        14252                         (37.123874, -76.391902)  37.123874   \n",
       "315        14783                          (39.79936, -89.643624)  39.799360   \n",
       "\n",
       "           long  \n",
       "0   -111.888142  \n",
       "1   -104.819798  \n",
       "2    -79.994945  \n",
       "3   -115.140597  \n",
       "4    -86.585283  \n",
       "..          ...  \n",
       "304  -88.407240  \n",
       "305  -89.984229  \n",
       "308 -112.039087  \n",
       "313  -76.391902  \n",
       "315  -89.643624  \n",
       "\n",
       "[183 rows x 4 columns]"
      ]
     },
     "execution_count": 47,
     "metadata": {},
     "output_type": "execute_result"
    }
   ],
   "source": [
    "# Dropping duplicates based on airport ids.\n",
    "\n",
    "lat_long_map.drop_duplicates(subset=['airportid_1'], inplace=True)\n",
    "lat_long_map"
   ]
  },
  {
   "cell_type": "code",
   "execution_count": 49,
   "id": "8662dfd7-ee75-47ff-9da0-88cfec8d6ac0",
   "metadata": {},
   "outputs": [
    {
     "data": {
      "text/html": [
       "<div>\n",
       "<style scoped>\n",
       "    .dataframe tbody tr th:only-of-type {\n",
       "        vertical-align: middle;\n",
       "    }\n",
       "\n",
       "    .dataframe tbody tr th {\n",
       "        vertical-align: top;\n",
       "    }\n",
       "\n",
       "    .dataframe thead th {\n",
       "        text-align: right;\n",
       "    }\n",
       "</style>\n",
       "<table border=\"1\" class=\"dataframe\">\n",
       "  <thead>\n",
       "    <tr style=\"text-align: right;\">\n",
       "      <th></th>\n",
       "      <th>Geocoded_City1</th>\n",
       "      <th>lat</th>\n",
       "      <th>long</th>\n",
       "    </tr>\n",
       "    <tr>\n",
       "      <th>airportid_1</th>\n",
       "      <th></th>\n",
       "      <th></th>\n",
       "      <th></th>\n",
       "    </tr>\n",
       "  </thead>\n",
       "  <tbody>\n",
       "    <tr>\n",
       "      <th>14869</th>\n",
       "      <td>Salt Lake City, UT\\n(40.758478, -111.888142)</td>\n",
       "      <td>40.758478</td>\n",
       "      <td>-111.888142</td>\n",
       "    </tr>\n",
       "    <tr>\n",
       "      <th>11109</th>\n",
       "      <td>Colorado Springs, CO\\n(38.835224, -104.819798)</td>\n",
       "      <td>38.835224</td>\n",
       "      <td>-104.819798</td>\n",
       "    </tr>\n",
       "    <tr>\n",
       "      <th>14122</th>\n",
       "      <td>Pittsburgh, PA\\n(40.442169, -79.994945)</td>\n",
       "      <td>40.442169</td>\n",
       "      <td>-79.994945</td>\n",
       "    </tr>\n",
       "    <tr>\n",
       "      <th>12889</th>\n",
       "      <td>Las Vegas, NV\\n(36.169202, -115.140597)</td>\n",
       "      <td>36.169202</td>\n",
       "      <td>-115.140597</td>\n",
       "    </tr>\n",
       "    <tr>\n",
       "      <th>12217</th>\n",
       "      <td>Huntsville, AL\\n(34.729538, -86.585283)</td>\n",
       "      <td>34.729538</td>\n",
       "      <td>-86.585283</td>\n",
       "    </tr>\n",
       "    <tr>\n",
       "      <th>...</th>\n",
       "      <td>...</td>\n",
       "      <td>...</td>\n",
       "      <td>...</td>\n",
       "    </tr>\n",
       "    <tr>\n",
       "      <th>10408</th>\n",
       "      <td>(44.261982, -88.40724)</td>\n",
       "      <td>44.261982</td>\n",
       "      <td>-88.407240</td>\n",
       "    </tr>\n",
       "    <tr>\n",
       "      <th>10676</th>\n",
       "      <td>(38.512629, -89.984229)</td>\n",
       "      <td>38.512629</td>\n",
       "      <td>-89.984229</td>\n",
       "    </tr>\n",
       "    <tr>\n",
       "      <th>12280</th>\n",
       "      <td>(43.490842, -112.039087)</td>\n",
       "      <td>43.490842</td>\n",
       "      <td>-112.039087</td>\n",
       "    </tr>\n",
       "    <tr>\n",
       "      <th>14252</th>\n",
       "      <td>(37.123874, -76.391902)</td>\n",
       "      <td>37.123874</td>\n",
       "      <td>-76.391902</td>\n",
       "    </tr>\n",
       "    <tr>\n",
       "      <th>14783</th>\n",
       "      <td>(39.79936, -89.643624)</td>\n",
       "      <td>39.799360</td>\n",
       "      <td>-89.643624</td>\n",
       "    </tr>\n",
       "  </tbody>\n",
       "</table>\n",
       "<p>183 rows × 3 columns</p>\n",
       "</div>"
      ],
      "text/plain": [
       "                                             Geocoded_City1        lat  \\\n",
       "airportid_1                                                              \n",
       "14869          Salt Lake City, UT\\n(40.758478, -111.888142)  40.758478   \n",
       "11109        Colorado Springs, CO\\n(38.835224, -104.819798)  38.835224   \n",
       "14122               Pittsburgh, PA\\n(40.442169, -79.994945)  40.442169   \n",
       "12889               Las Vegas, NV\\n(36.169202, -115.140597)  36.169202   \n",
       "12217               Huntsville, AL\\n(34.729538, -86.585283)  34.729538   \n",
       "...                                                     ...        ...   \n",
       "10408                                (44.261982, -88.40724)  44.261982   \n",
       "10676                               (38.512629, -89.984229)  38.512629   \n",
       "12280                              (43.490842, -112.039087)  43.490842   \n",
       "14252                               (37.123874, -76.391902)  37.123874   \n",
       "14783                                (39.79936, -89.643624)  39.799360   \n",
       "\n",
       "                   long  \n",
       "airportid_1              \n",
       "14869       -111.888142  \n",
       "11109       -104.819798  \n",
       "14122        -79.994945  \n",
       "12889       -115.140597  \n",
       "12217        -86.585283  \n",
       "...                 ...  \n",
       "10408        -88.407240  \n",
       "10676        -89.984229  \n",
       "12280       -112.039087  \n",
       "14252        -76.391902  \n",
       "14783        -89.643624  \n",
       "\n",
       "[183 rows x 3 columns]"
      ]
     },
     "execution_count": 49,
     "metadata": {},
     "output_type": "execute_result"
    }
   ],
   "source": [
    "# Setting back airport id as index\n",
    "\n",
    "lat_long_map.set_index(\"airportid_1\", inplace=True)\n",
    "lat_long_map"
   ]
  },
  {
   "cell_type": "code",
   "execution_count": 51,
   "id": "c95fde4d-caf0-4167-945c-3d9f8ce16df2",
   "metadata": {},
   "outputs": [
    {
     "data": {
      "text/plain": [
       "Geocoded_City1    Dallas/Fort Worth, TX\\n(40.11086, -77.035636)\n",
       "lat                                                    40.11086\n",
       "long                                                 -77.035636\n",
       "Name: 11259, dtype: object"
      ]
     },
     "execution_count": 51,
     "metadata": {},
     "output_type": "execute_result"
    }
   ],
   "source": [
    "lat_long_map.loc[11259]"
   ]
  },
  {
   "cell_type": "code",
   "execution_count": null,
   "id": "4b11ad0f-a2ec-420d-9b06-3c68e788a796",
   "metadata": {},
   "outputs": [],
   "source": []
  },
  {
   "cell_type": "code",
   "execution_count": null,
   "id": "24451481-3465-4867-8ca6-1807a9914e04",
   "metadata": {},
   "outputs": [],
   "source": []
  },
  {
   "cell_type": "markdown",
   "id": "930d6eea-eeea-4c1c-91e3-a55e56fd4067",
   "metadata": {
    "jp-MarkdownHeadingCollapsed": true
   },
   "source": [
    "### Complete run through for extract_coord"
   ]
  },
  {
   "cell_type": "code",
   "execution_count": 56,
   "id": "1a289926-3612-416b-9654-a30fc7f19a22",
   "metadata": {},
   "outputs": [],
   "source": [
    "# Making dupe to prevent affecting main DF\n",
    "airfare_fix_geomap = airfare"
   ]
  },
  {
   "cell_type": "code",
   "execution_count": 58,
   "id": "6d456e92-9009-440a-be84-0802bb6dc2da",
   "metadata": {},
   "outputs": [
    {
     "data": {
      "text/html": [
       "<div>\n",
       "<style scoped>\n",
       "    .dataframe tbody tr th:only-of-type {\n",
       "        vertical-align: middle;\n",
       "    }\n",
       "\n",
       "    .dataframe tbody tr th {\n",
       "        vertical-align: top;\n",
       "    }\n",
       "\n",
       "    .dataframe thead th {\n",
       "        text-align: right;\n",
       "    }\n",
       "</style>\n",
       "<table border=\"1\" class=\"dataframe\">\n",
       "  <thead>\n",
       "    <tr style=\"text-align: right;\">\n",
       "      <th></th>\n",
       "      <th>city1</th>\n",
       "      <th>airportid_1</th>\n",
       "      <th>Geocoded_City1</th>\n",
       "    </tr>\n",
       "  </thead>\n",
       "  <tbody>\n",
       "    <tr>\n",
       "      <th>5931</th>\n",
       "      <td>Dallas/Fort Worth, TX</td>\n",
       "      <td>11259</td>\n",
       "      <td>Dallas/Fort Worth, TX\\n(40.11086, -77.035636)</td>\n",
       "    </tr>\n",
       "    <tr>\n",
       "      <th>5952</th>\n",
       "      <td>Dallas/Fort Worth, TX</td>\n",
       "      <td>11259</td>\n",
       "      <td>Dallas/Fort Worth, TX\\n(40.11086, -77.035636)</td>\n",
       "    </tr>\n",
       "    <tr>\n",
       "      <th>5955</th>\n",
       "      <td>Dallas/Fort Worth, TX</td>\n",
       "      <td>11259</td>\n",
       "      <td>Dallas/Fort Worth, TX\\n(40.11086, -77.035636)</td>\n",
       "    </tr>\n",
       "    <tr>\n",
       "      <th>5957</th>\n",
       "      <td>Dallas/Fort Worth, TX</td>\n",
       "      <td>11298</td>\n",
       "      <td>Dallas/Fort Worth, TX\\n(40.11086, -77.035636)</td>\n",
       "    </tr>\n",
       "    <tr>\n",
       "      <th>5998</th>\n",
       "      <td>Dallas/Fort Worth, TX</td>\n",
       "      <td>11259</td>\n",
       "      <td>Dallas/Fort Worth, TX\\n(40.11086, -77.035636)</td>\n",
       "    </tr>\n",
       "    <tr>\n",
       "      <th>...</th>\n",
       "      <td>...</td>\n",
       "      <td>...</td>\n",
       "      <td>...</td>\n",
       "    </tr>\n",
       "    <tr>\n",
       "      <th>221784</th>\n",
       "      <td>Dallas/Fort Worth, TX</td>\n",
       "      <td>11298</td>\n",
       "      <td>(40.11086, -77.035636)</td>\n",
       "    </tr>\n",
       "    <tr>\n",
       "      <th>221785</th>\n",
       "      <td>Dallas/Fort Worth, TX</td>\n",
       "      <td>11298</td>\n",
       "      <td>(40.11086, -77.035636)</td>\n",
       "    </tr>\n",
       "    <tr>\n",
       "      <th>221786</th>\n",
       "      <td>Dallas/Fort Worth, TX</td>\n",
       "      <td>11298</td>\n",
       "      <td>(40.11086, -77.035636)</td>\n",
       "    </tr>\n",
       "    <tr>\n",
       "      <th>221787</th>\n",
       "      <td>Dallas/Fort Worth, TX</td>\n",
       "      <td>11298</td>\n",
       "      <td>(40.11086, -77.035636)</td>\n",
       "    </tr>\n",
       "    <tr>\n",
       "      <th>221788</th>\n",
       "      <td>Dallas/Fort Worth, TX</td>\n",
       "      <td>11298</td>\n",
       "      <td>(40.11086, -77.035636)</td>\n",
       "    </tr>\n",
       "  </tbody>\n",
       "</table>\n",
       "<p>12184 rows × 3 columns</p>\n",
       "</div>"
      ],
      "text/plain": [
       "                        city1  airportid_1  \\\n",
       "5931    Dallas/Fort Worth, TX        11259   \n",
       "5952    Dallas/Fort Worth, TX        11259   \n",
       "5955    Dallas/Fort Worth, TX        11259   \n",
       "5957    Dallas/Fort Worth, TX        11298   \n",
       "5998    Dallas/Fort Worth, TX        11259   \n",
       "...                       ...          ...   \n",
       "221784  Dallas/Fort Worth, TX        11298   \n",
       "221785  Dallas/Fort Worth, TX        11298   \n",
       "221786  Dallas/Fort Worth, TX        11298   \n",
       "221787  Dallas/Fort Worth, TX        11298   \n",
       "221788  Dallas/Fort Worth, TX        11298   \n",
       "\n",
       "                                       Geocoded_City1  \n",
       "5931    Dallas/Fort Worth, TX\\n(40.11086, -77.035636)  \n",
       "5952    Dallas/Fort Worth, TX\\n(40.11086, -77.035636)  \n",
       "5955    Dallas/Fort Worth, TX\\n(40.11086, -77.035636)  \n",
       "5957    Dallas/Fort Worth, TX\\n(40.11086, -77.035636)  \n",
       "5998    Dallas/Fort Worth, TX\\n(40.11086, -77.035636)  \n",
       "...                                               ...  \n",
       "221784                         (40.11086, -77.035636)  \n",
       "221785                         (40.11086, -77.035636)  \n",
       "221786                         (40.11086, -77.035636)  \n",
       "221787                         (40.11086, -77.035636)  \n",
       "221788                         (40.11086, -77.035636)  \n",
       "\n",
       "[12184 rows x 3 columns]"
      ]
     },
     "execution_count": 58,
     "metadata": {},
     "output_type": "execute_result"
    }
   ],
   "source": [
    "# More testing DF snippets\n",
    "\n",
    "airfare_fix_geomap.loc[(airfare_fix_geomap[\"Geocoded_City1\"].isna() == False) & (airfare_fix_geomap[\"city1\"] == \"Dallas/Fort Worth, TX\")][['city1','airportid_1','Geocoded_City1']]\n",
    "\n",
    "\n",
    "\n",
    "\n"
   ]
  },
  {
   "cell_type": "code",
   "execution_count": 60,
   "id": "0e800dbf-4e2b-4e4b-ac0c-0d309b80a1df",
   "metadata": {},
   "outputs": [
    {
     "data": {
      "text/plain": [
       "39206"
      ]
     },
     "metadata": {},
     "output_type": "display_data"
    },
    {
     "data": {
      "text/plain": [
       "39206"
      ]
     },
     "metadata": {},
     "output_type": "display_data"
    }
   ],
   "source": [
    "display(airfare_fix_geomap['Geocoded_City1'].isna().sum())\n",
    "display(airfare_fix_geomap['Geocoded_City2'].isna().sum())"
   ]
  },
  {
   "cell_type": "code",
   "execution_count": null,
   "id": "9eeb29cd-16b2-408c-80aa-d56a3e23f96a",
   "metadata": {},
   "outputs": [],
   "source": []
  },
  {
   "cell_type": "code",
   "execution_count": null,
   "id": "27be0c37-e589-4a64-928e-d716cf621dfb",
   "metadata": {},
   "outputs": [],
   "source": []
  },
  {
   "cell_type": "code",
   "execution_count": null,
   "id": "63477e6b-a1e4-4c1c-9eef-3c7e97175068",
   "metadata": {},
   "outputs": [],
   "source": []
  },
  {
   "cell_type": "code",
   "execution_count": 65,
   "id": "567008f0-b5c8-4d83-a724-d73b1b312539",
   "metadata": {},
   "outputs": [],
   "source": [
    "# Applying hash map to airfare duplicate to check geocoded city lat long fix.\n",
    "\n",
    "airfare_fix_geomap['Geocoded_City1'] = airfare_fix_geomap['Geocoded_City1'].fillna(\n",
    "    airfare_fix_geomap['airportid_1'].map(lat_long_map['Geocoded_City1'])\n",
    ")\n",
    "\n",
    "airfare_fix_geomap['Geocoded_City2'] = airfare_fix_geomap['Geocoded_City2'].fillna(\n",
    "    airfare_fix_geomap['airportid_2'].map(lat_long_map['Geocoded_City1'])\n",
    ")"
   ]
  },
  {
   "cell_type": "code",
   "execution_count": 67,
   "id": "d693060e-8544-40a9-937a-bda974709eb5",
   "metadata": {},
   "outputs": [
    {
     "data": {
      "text/plain": [
       "27"
      ]
     },
     "metadata": {},
     "output_type": "display_data"
    },
    {
     "data": {
      "text/plain": [
       "884"
      ]
     },
     "metadata": {},
     "output_type": "display_data"
    }
   ],
   "source": [
    "#Checking nulls\n",
    "\n",
    "\n",
    "display(airfare_fix_geomap[\"Geocoded_City1\"].isna().sum())\n",
    "display(airfare_fix_geomap[\"Geocoded_City2\"].isna().sum())\n",
    "# airfare_fix_geomap.loc[(airfare_fix_geomap[\"Geocoded_City1\"].isna() == False)].sum()"
   ]
  },
  {
   "cell_type": "code",
   "execution_count": 69,
   "id": "8bd5c437-f183-444a-9df8-1f334aae30aa",
   "metadata": {},
   "outputs": [
    {
     "data": {
      "text/html": [
       "<div>\n",
       "<style scoped>\n",
       "    .dataframe tbody tr th:only-of-type {\n",
       "        vertical-align: middle;\n",
       "    }\n",
       "\n",
       "    .dataframe tbody tr th {\n",
       "        vertical-align: top;\n",
       "    }\n",
       "\n",
       "    .dataframe thead th {\n",
       "        text-align: right;\n",
       "    }\n",
       "</style>\n",
       "<table border=\"1\" class=\"dataframe\">\n",
       "  <thead>\n",
       "    <tr style=\"text-align: right;\">\n",
       "      <th></th>\n",
       "      <th>tbl</th>\n",
       "      <th>Year</th>\n",
       "      <th>quarter</th>\n",
       "      <th>citymarketid_1</th>\n",
       "      <th>citymarketid_2</th>\n",
       "      <th>city1</th>\n",
       "      <th>city2</th>\n",
       "      <th>airportid_1</th>\n",
       "      <th>airportid_2</th>\n",
       "      <th>airport_1</th>\n",
       "      <th>...</th>\n",
       "      <th>fare</th>\n",
       "      <th>carrier_lg</th>\n",
       "      <th>large_ms</th>\n",
       "      <th>fare_lg</th>\n",
       "      <th>carrier_low</th>\n",
       "      <th>lf_ms</th>\n",
       "      <th>fare_low</th>\n",
       "      <th>Geocoded_City1</th>\n",
       "      <th>Geocoded_City2</th>\n",
       "      <th>tbl1apk</th>\n",
       "    </tr>\n",
       "  </thead>\n",
       "  <tbody>\n",
       "    <tr>\n",
       "      <th>137</th>\n",
       "      <td>Table1a</td>\n",
       "      <td>2021</td>\n",
       "      <td>3</td>\n",
       "      <td>30194</td>\n",
       "      <td>32896</td>\n",
       "      <td>Dallas/Fort Worth, TX</td>\n",
       "      <td>Lubbock, TX</td>\n",
       "      <td>11259</td>\n",
       "      <td>12896</td>\n",
       "      <td>DAL</td>\n",
       "      <td>...</td>\n",
       "      <td>144.64</td>\n",
       "      <td>WN</td>\n",
       "      <td>1.0000</td>\n",
       "      <td>144.64</td>\n",
       "      <td>WN</td>\n",
       "      <td>1.0000</td>\n",
       "      <td>144.64</td>\n",
       "      <td>Dallas/Fort Worth, TX\\n(40.11086, -77.035636)</td>\n",
       "      <td>NaN</td>\n",
       "      <td>202131125912896DALLBB</td>\n",
       "    </tr>\n",
       "    <tr>\n",
       "      <th>138</th>\n",
       "      <td>Table1a</td>\n",
       "      <td>2021</td>\n",
       "      <td>3</td>\n",
       "      <td>30194</td>\n",
       "      <td>32896</td>\n",
       "      <td>Dallas/Fort Worth, TX</td>\n",
       "      <td>Lubbock, TX</td>\n",
       "      <td>11298</td>\n",
       "      <td>12896</td>\n",
       "      <td>DFW</td>\n",
       "      <td>...</td>\n",
       "      <td>159.46</td>\n",
       "      <td>AA</td>\n",
       "      <td>0.9950</td>\n",
       "      <td>159.64</td>\n",
       "      <td>AA</td>\n",
       "      <td>0.9950</td>\n",
       "      <td>159.64</td>\n",
       "      <td>Dallas/Fort Worth, TX\\n(40.11086, -77.035636)</td>\n",
       "      <td>NaN</td>\n",
       "      <td>202131129812896DFWLBB</td>\n",
       "    </tr>\n",
       "    <tr>\n",
       "      <th>141</th>\n",
       "      <td>Table1a</td>\n",
       "      <td>2021</td>\n",
       "      <td>3</td>\n",
       "      <td>30194</td>\n",
       "      <td>33158</td>\n",
       "      <td>Dallas/Fort Worth, TX</td>\n",
       "      <td>Midland/Odessa, TX</td>\n",
       "      <td>11259</td>\n",
       "      <td>13158</td>\n",
       "      <td>DAL</td>\n",
       "      <td>...</td>\n",
       "      <td>153.29</td>\n",
       "      <td>WN</td>\n",
       "      <td>0.9964</td>\n",
       "      <td>153.41</td>\n",
       "      <td>WN</td>\n",
       "      <td>0.9964</td>\n",
       "      <td>153.41</td>\n",
       "      <td>Dallas/Fort Worth, TX\\n(40.11086, -77.035636)</td>\n",
       "      <td>NaN</td>\n",
       "      <td>202131125913158DALMAF</td>\n",
       "    </tr>\n",
       "    <tr>\n",
       "      <th>142</th>\n",
       "      <td>Table1a</td>\n",
       "      <td>2021</td>\n",
       "      <td>3</td>\n",
       "      <td>30194</td>\n",
       "      <td>33158</td>\n",
       "      <td>Dallas/Fort Worth, TX</td>\n",
       "      <td>Midland/Odessa, TX</td>\n",
       "      <td>11298</td>\n",
       "      <td>13158</td>\n",
       "      <td>DFW</td>\n",
       "      <td>...</td>\n",
       "      <td>175.23</td>\n",
       "      <td>AA</td>\n",
       "      <td>0.9792</td>\n",
       "      <td>174.90</td>\n",
       "      <td>AA</td>\n",
       "      <td>0.9792</td>\n",
       "      <td>174.90</td>\n",
       "      <td>Dallas/Fort Worth, TX\\n(40.11086, -77.035636)</td>\n",
       "      <td>NaN</td>\n",
       "      <td>202131129813158DFWMAF</td>\n",
       "    </tr>\n",
       "    <tr>\n",
       "      <th>166</th>\n",
       "      <td>Table1a</td>\n",
       "      <td>2021</td>\n",
       "      <td>3</td>\n",
       "      <td>30194</td>\n",
       "      <td>34027</td>\n",
       "      <td>Dallas/Fort Worth, TX</td>\n",
       "      <td>West Palm Beach/Palm Beach, FL</td>\n",
       "      <td>11259</td>\n",
       "      <td>14027</td>\n",
       "      <td>DAL</td>\n",
       "      <td>...</td>\n",
       "      <td>260.03</td>\n",
       "      <td>DL</td>\n",
       "      <td>0.5909</td>\n",
       "      <td>272.26</td>\n",
       "      <td>WN</td>\n",
       "      <td>0.4091</td>\n",
       "      <td>242.37</td>\n",
       "      <td>Dallas/Fort Worth, TX\\n(40.11086, -77.035636)</td>\n",
       "      <td>NaN</td>\n",
       "      <td>202131125914027DALPBI</td>\n",
       "    </tr>\n",
       "  </tbody>\n",
       "</table>\n",
       "<p>5 rows × 23 columns</p>\n",
       "</div>"
      ],
      "text/plain": [
       "         tbl  Year  quarter  citymarketid_1  citymarketid_2  \\\n",
       "137  Table1a  2021        3           30194           32896   \n",
       "138  Table1a  2021        3           30194           32896   \n",
       "141  Table1a  2021        3           30194           33158   \n",
       "142  Table1a  2021        3           30194           33158   \n",
       "166  Table1a  2021        3           30194           34027   \n",
       "\n",
       "                     city1                           city2  airportid_1  \\\n",
       "137  Dallas/Fort Worth, TX                     Lubbock, TX        11259   \n",
       "138  Dallas/Fort Worth, TX                     Lubbock, TX        11298   \n",
       "141  Dallas/Fort Worth, TX              Midland/Odessa, TX        11259   \n",
       "142  Dallas/Fort Worth, TX              Midland/Odessa, TX        11298   \n",
       "166  Dallas/Fort Worth, TX  West Palm Beach/Palm Beach, FL        11259   \n",
       "\n",
       "     airportid_2 airport_1  ...    fare  carrier_lg  large_ms  fare_lg  \\\n",
       "137        12896       DAL  ...  144.64          WN    1.0000   144.64   \n",
       "138        12896       DFW  ...  159.46          AA    0.9950   159.64   \n",
       "141        13158       DAL  ...  153.29          WN    0.9964   153.41   \n",
       "142        13158       DFW  ...  175.23          AA    0.9792   174.90   \n",
       "166        14027       DAL  ...  260.03          DL    0.5909   272.26   \n",
       "\n",
       "    carrier_low   lf_ms  fare_low  \\\n",
       "137          WN  1.0000    144.64   \n",
       "138          AA  0.9950    159.64   \n",
       "141          WN  0.9964    153.41   \n",
       "142          AA  0.9792    174.90   \n",
       "166          WN  0.4091    242.37   \n",
       "\n",
       "                                    Geocoded_City1  Geocoded_City2  \\\n",
       "137  Dallas/Fort Worth, TX\\n(40.11086, -77.035636)             NaN   \n",
       "138  Dallas/Fort Worth, TX\\n(40.11086, -77.035636)             NaN   \n",
       "141  Dallas/Fort Worth, TX\\n(40.11086, -77.035636)             NaN   \n",
       "142  Dallas/Fort Worth, TX\\n(40.11086, -77.035636)             NaN   \n",
       "166  Dallas/Fort Worth, TX\\n(40.11086, -77.035636)             NaN   \n",
       "\n",
       "                   tbl1apk  \n",
       "137  202131125912896DALLBB  \n",
       "138  202131129812896DFWLBB  \n",
       "141  202131125913158DALMAF  \n",
       "142  202131129813158DFWMAF  \n",
       "166  202131125914027DALPBI  \n",
       "\n",
       "[5 rows x 23 columns]"
      ]
     },
     "execution_count": 69,
     "metadata": {},
     "output_type": "execute_result"
    }
   ],
   "source": [
    "airfare_fix_geomap.loc[(airfare_fix_geomap[\"Geocoded_City2\"].isna() == True)].head()"
   ]
  },
  {
   "cell_type": "code",
   "execution_count": 71,
   "id": "2380faa6-b5f1-4a8c-a910-076b0bdb7d53",
   "metadata": {},
   "outputs": [
    {
     "data": {
      "text/plain": [
       "Geocoded_City1    0\n",
       "Geocoded_City2    0\n",
       "dtype: int64"
      ]
     },
     "execution_count": 71,
     "metadata": {},
     "output_type": "execute_result"
    }
   ],
   "source": [
    "airfare_fix_geomap.dropna(subset=[\"Geocoded_City1\", \"Geocoded_City2\"], how='any',inplace=True)\n",
    "airfare_fix_geomap[['Geocoded_City1','Geocoded_City2']].isna().sum()"
   ]
  },
  {
   "cell_type": "markdown",
   "id": "1f27b926-86c6-41d2-87ad-58f25ed9bd90",
   "metadata": {
    "jp-MarkdownHeadingCollapsed": true
   },
   "source": [
    "### Getting separate dfs for latitude and longitudes pre-mapping"
   ]
  },
  {
   "cell_type": "code",
   "execution_count": 74,
   "id": "62388295-fd1c-467a-a8cc-2b6dc8adc1be",
   "metadata": {},
   "outputs": [],
   "source": [
    "# Setting latitude longitude DFs for mapping in future.\n",
    "\n",
    "geocoded_city1 = airfare_fix_geomap[[\"Year\",\"quarter\",\"airportid_1\",\"Geocoded_City1\"]]\n",
    "geocoded_city2 = airfare_fix_geomap[[\"Year\",\"quarter\",\"airportid_2\",\"Geocoded_City2\"]]"
   ]
  },
  {
   "cell_type": "code",
   "execution_count": 76,
   "id": "31112d8c-8e7b-4713-a02f-c606259e09e2",
   "metadata": {},
   "outputs": [
    {
     "data": {
      "text/html": [
       "<div>\n",
       "<style scoped>\n",
       "    .dataframe tbody tr th:only-of-type {\n",
       "        vertical-align: middle;\n",
       "    }\n",
       "\n",
       "    .dataframe tbody tr th {\n",
       "        vertical-align: top;\n",
       "    }\n",
       "\n",
       "    .dataframe thead th {\n",
       "        text-align: right;\n",
       "    }\n",
       "</style>\n",
       "<table border=\"1\" class=\"dataframe\">\n",
       "  <thead>\n",
       "    <tr style=\"text-align: right;\">\n",
       "      <th></th>\n",
       "      <th>Year</th>\n",
       "      <th>quarter</th>\n",
       "      <th>airportid_1</th>\n",
       "      <th>Geocoded_City1</th>\n",
       "    </tr>\n",
       "  </thead>\n",
       "  <tbody>\n",
       "    <tr>\n",
       "      <th>0</th>\n",
       "      <td>2021</td>\n",
       "      <td>3</td>\n",
       "      <td>10135</td>\n",
       "      <td>Allentown/Bethlehem/Easton, PA\\n(40.602753, -7...</td>\n",
       "    </tr>\n",
       "    <tr>\n",
       "      <th>1</th>\n",
       "      <td>2021</td>\n",
       "      <td>3</td>\n",
       "      <td>10135</td>\n",
       "      <td>Allentown/Bethlehem/Easton, PA\\n(40.602753, -7...</td>\n",
       "    </tr>\n",
       "    <tr>\n",
       "      <th>2</th>\n",
       "      <td>2021</td>\n",
       "      <td>3</td>\n",
       "      <td>10140</td>\n",
       "      <td>Albuquerque, NM\\n(35.084248, -106.649241)</td>\n",
       "    </tr>\n",
       "    <tr>\n",
       "      <th>3</th>\n",
       "      <td>2021</td>\n",
       "      <td>3</td>\n",
       "      <td>10140</td>\n",
       "      <td>Albuquerque, NM\\n(35.084248, -106.649241)</td>\n",
       "    </tr>\n",
       "    <tr>\n",
       "      <th>4</th>\n",
       "      <td>2021</td>\n",
       "      <td>3</td>\n",
       "      <td>10140</td>\n",
       "      <td>Albuquerque, NM\\n(35.084248, -106.649241)</td>\n",
       "    </tr>\n",
       "  </tbody>\n",
       "</table>\n",
       "</div>"
      ],
      "text/plain": [
       "   Year  quarter  airportid_1  \\\n",
       "0  2021        3        10135   \n",
       "1  2021        3        10135   \n",
       "2  2021        3        10140   \n",
       "3  2021        3        10140   \n",
       "4  2021        3        10140   \n",
       "\n",
       "                                      Geocoded_City1  \n",
       "0  Allentown/Bethlehem/Easton, PA\\n(40.602753, -7...  \n",
       "1  Allentown/Bethlehem/Easton, PA\\n(40.602753, -7...  \n",
       "2          Albuquerque, NM\\n(35.084248, -106.649241)  \n",
       "3          Albuquerque, NM\\n(35.084248, -106.649241)  \n",
       "4          Albuquerque, NM\\n(35.084248, -106.649241)  "
      ]
     },
     "metadata": {},
     "output_type": "display_data"
    },
    {
     "data": {
      "text/html": [
       "<div>\n",
       "<style scoped>\n",
       "    .dataframe tbody tr th:only-of-type {\n",
       "        vertical-align: middle;\n",
       "    }\n",
       "\n",
       "    .dataframe tbody tr th {\n",
       "        vertical-align: top;\n",
       "    }\n",
       "\n",
       "    .dataframe thead th {\n",
       "        text-align: right;\n",
       "    }\n",
       "</style>\n",
       "<table border=\"1\" class=\"dataframe\">\n",
       "  <thead>\n",
       "    <tr style=\"text-align: right;\">\n",
       "      <th></th>\n",
       "      <th>Year</th>\n",
       "      <th>quarter</th>\n",
       "      <th>airportid_2</th>\n",
       "      <th>Geocoded_City2</th>\n",
       "    </tr>\n",
       "  </thead>\n",
       "  <tbody>\n",
       "    <tr>\n",
       "      <th>0</th>\n",
       "      <td>2021</td>\n",
       "      <td>3</td>\n",
       "      <td>14112</td>\n",
       "      <td>Tampa, FL (Metropolitan Area)\\n(37.8606, -78.8...</td>\n",
       "    </tr>\n",
       "    <tr>\n",
       "      <th>1</th>\n",
       "      <td>2021</td>\n",
       "      <td>3</td>\n",
       "      <td>15304</td>\n",
       "      <td>Tampa, FL (Metropolitan Area)\\n(37.8606, -78.8...</td>\n",
       "    </tr>\n",
       "    <tr>\n",
       "      <th>2</th>\n",
       "      <td>2021</td>\n",
       "      <td>3</td>\n",
       "      <td>11259</td>\n",
       "      <td>Dallas/Fort Worth, TX\\n(40.11086, -77.035636)</td>\n",
       "    </tr>\n",
       "    <tr>\n",
       "      <th>3</th>\n",
       "      <td>2021</td>\n",
       "      <td>3</td>\n",
       "      <td>11298</td>\n",
       "      <td>Dallas/Fort Worth, TX\\n(40.11086, -77.035636)</td>\n",
       "    </tr>\n",
       "    <tr>\n",
       "      <th>4</th>\n",
       "      <td>2021</td>\n",
       "      <td>3</td>\n",
       "      <td>14107</td>\n",
       "      <td>Phoenix, AZ\\n(30.406931, -87.217578)</td>\n",
       "    </tr>\n",
       "  </tbody>\n",
       "</table>\n",
       "</div>"
      ],
      "text/plain": [
       "   Year  quarter  airportid_2  \\\n",
       "0  2021        3        14112   \n",
       "1  2021        3        15304   \n",
       "2  2021        3        11259   \n",
       "3  2021        3        11298   \n",
       "4  2021        3        14107   \n",
       "\n",
       "                                      Geocoded_City2  \n",
       "0  Tampa, FL (Metropolitan Area)\\n(37.8606, -78.8...  \n",
       "1  Tampa, FL (Metropolitan Area)\\n(37.8606, -78.8...  \n",
       "2      Dallas/Fort Worth, TX\\n(40.11086, -77.035636)  \n",
       "3      Dallas/Fort Worth, TX\\n(40.11086, -77.035636)  \n",
       "4               Phoenix, AZ\\n(30.406931, -87.217578)  "
      ]
     },
     "metadata": {},
     "output_type": "display_data"
    }
   ],
   "source": [
    "display(geocoded_city1.head())\n",
    "display(geocoded_city2.head())"
   ]
  },
  {
   "cell_type": "code",
   "execution_count": 78,
   "id": "e27a45f1-22e9-4e7f-8e0d-b4582baa4d0a",
   "metadata": {},
   "outputs": [
    {
     "data": {
      "text/plain": [
       "Year              0\n",
       "quarter           0\n",
       "airportid_1       0\n",
       "Geocoded_City1    0\n",
       "dtype: int64"
      ]
     },
     "metadata": {},
     "output_type": "display_data"
    },
    {
     "data": {
      "text/plain": [
       "Year              0\n",
       "quarter           0\n",
       "airportid_2       0\n",
       "Geocoded_City2    0\n",
       "dtype: int64"
      ]
     },
     "metadata": {},
     "output_type": "display_data"
    }
   ],
   "source": [
    "# Checking nulls to be fixed using lat_long_map DF.\n",
    "display(geocoded_city1.isna().sum())\n",
    "display(geocoded_city2.isna().sum())"
   ]
  },
  {
   "cell_type": "code",
   "execution_count": 80,
   "id": "7b655089-7d7e-437a-b27a-ea939ab2714a",
   "metadata": {},
   "outputs": [
    {
     "data": {
      "text/plain": [
       "245044"
      ]
     },
     "metadata": {},
     "output_type": "display_data"
    },
    {
     "data": {
      "text/plain": [
       "245044"
      ]
     },
     "metadata": {},
     "output_type": "display_data"
    }
   ],
   "source": [
    "# Checking length consistancies.\n",
    "\n",
    "display(len(geocoded_city1))\n",
    "display(len(geocoded_city2))"
   ]
  },
  {
   "cell_type": "code",
   "execution_count": 82,
   "id": "f0363d65-2ef0-420a-9c08-ad2ff2e8aba1",
   "metadata": {},
   "outputs": [],
   "source": [
    "# Extract all final latitudes and longitudes before mapping\n",
    "\n",
    "# geocoded_city1['state'] = airfare[\"Geocoded_City1\"].apply(extract_state)\n",
    "# geocoded_city2['state'] = airfare[\"Geocoded_City2\"].apply(extract_state)"
   ]
  },
  {
   "cell_type": "code",
   "execution_count": 84,
   "id": "ffd4fef5-169a-4cec-8092-9d51523a02ef",
   "metadata": {},
   "outputs": [
    {
     "name": "stderr",
     "output_type": "stream",
     "text": [
      "/var/folders/h4/xm09cdqx717237dwyz2xxbbw0000gn/T/ipykernel_2817/3050531088.py:1: SettingWithCopyWarning: \n",
      "A value is trying to be set on a copy of a slice from a DataFrame.\n",
      "Try using .loc[row_indexer,col_indexer] = value instead\n",
      "\n",
      "See the caveats in the documentation: https://pandas.pydata.org/pandas-docs/stable/user_guide/indexing.html#returning-a-view-versus-a-copy\n",
      "  geocoded_city1[[\"lat\",\"long\"]] = geocoded_city1[\"Geocoded_City1\"].apply(lambda x: pd.Series(extract_coord(x)))\n",
      "/var/folders/h4/xm09cdqx717237dwyz2xxbbw0000gn/T/ipykernel_2817/3050531088.py:1: SettingWithCopyWarning: \n",
      "A value is trying to be set on a copy of a slice from a DataFrame.\n",
      "Try using .loc[row_indexer,col_indexer] = value instead\n",
      "\n",
      "See the caveats in the documentation: https://pandas.pydata.org/pandas-docs/stable/user_guide/indexing.html#returning-a-view-versus-a-copy\n",
      "  geocoded_city1[[\"lat\",\"long\"]] = geocoded_city1[\"Geocoded_City1\"].apply(lambda x: pd.Series(extract_coord(x)))\n",
      "/var/folders/h4/xm09cdqx717237dwyz2xxbbw0000gn/T/ipykernel_2817/3050531088.py:2: SettingWithCopyWarning: \n",
      "A value is trying to be set on a copy of a slice from a DataFrame.\n",
      "Try using .loc[row_indexer,col_indexer] = value instead\n",
      "\n",
      "See the caveats in the documentation: https://pandas.pydata.org/pandas-docs/stable/user_guide/indexing.html#returning-a-view-versus-a-copy\n",
      "  geocoded_city2[[\"lat\",\"long\"]] = geocoded_city2[\"Geocoded_City2\"].apply(lambda x: pd.Series(extract_coord(x)))\n",
      "/var/folders/h4/xm09cdqx717237dwyz2xxbbw0000gn/T/ipykernel_2817/3050531088.py:2: SettingWithCopyWarning: \n",
      "A value is trying to be set on a copy of a slice from a DataFrame.\n",
      "Try using .loc[row_indexer,col_indexer] = value instead\n",
      "\n",
      "See the caveats in the documentation: https://pandas.pydata.org/pandas-docs/stable/user_guide/indexing.html#returning-a-view-versus-a-copy\n",
      "  geocoded_city2[[\"lat\",\"long\"]] = geocoded_city2[\"Geocoded_City2\"].apply(lambda x: pd.Series(extract_coord(x)))\n"
     ]
    }
   ],
   "source": [
    "geocoded_city1[[\"lat\",\"long\"]] = geocoded_city1[\"Geocoded_City1\"].apply(lambda x: pd.Series(extract_coord(x)))\n",
    "geocoded_city2[[\"lat\",\"long\"]] = geocoded_city2[\"Geocoded_City2\"].apply(lambda x: pd.Series(extract_coord(x)))"
   ]
  },
  {
   "cell_type": "code",
   "execution_count": 86,
   "id": "6d6a1198-cef6-4153-a26b-a3e97b8fa09b",
   "metadata": {},
   "outputs": [
    {
     "data": {
      "text/html": [
       "<div>\n",
       "<style scoped>\n",
       "    .dataframe tbody tr th:only-of-type {\n",
       "        vertical-align: middle;\n",
       "    }\n",
       "\n",
       "    .dataframe tbody tr th {\n",
       "        vertical-align: top;\n",
       "    }\n",
       "\n",
       "    .dataframe thead th {\n",
       "        text-align: right;\n",
       "    }\n",
       "</style>\n",
       "<table border=\"1\" class=\"dataframe\">\n",
       "  <thead>\n",
       "    <tr style=\"text-align: right;\">\n",
       "      <th></th>\n",
       "      <th>Year</th>\n",
       "      <th>quarter</th>\n",
       "      <th>airportid_1</th>\n",
       "      <th>Geocoded_City1</th>\n",
       "      <th>lat</th>\n",
       "      <th>long</th>\n",
       "    </tr>\n",
       "  </thead>\n",
       "  <tbody>\n",
       "    <tr>\n",
       "      <th>0</th>\n",
       "      <td>2021</td>\n",
       "      <td>3</td>\n",
       "      <td>10135</td>\n",
       "      <td>Allentown/Bethlehem/Easton, PA\\n(40.602753, -7...</td>\n",
       "      <td>40.602753</td>\n",
       "      <td>-75.469759</td>\n",
       "    </tr>\n",
       "    <tr>\n",
       "      <th>1</th>\n",
       "      <td>2021</td>\n",
       "      <td>3</td>\n",
       "      <td>10135</td>\n",
       "      <td>Allentown/Bethlehem/Easton, PA\\n(40.602753, -7...</td>\n",
       "      <td>40.602753</td>\n",
       "      <td>-75.469759</td>\n",
       "    </tr>\n",
       "    <tr>\n",
       "      <th>2</th>\n",
       "      <td>2021</td>\n",
       "      <td>3</td>\n",
       "      <td>10140</td>\n",
       "      <td>Albuquerque, NM\\n(35.084248, -106.649241)</td>\n",
       "      <td>35.084248</td>\n",
       "      <td>-106.649241</td>\n",
       "    </tr>\n",
       "    <tr>\n",
       "      <th>3</th>\n",
       "      <td>2021</td>\n",
       "      <td>3</td>\n",
       "      <td>10140</td>\n",
       "      <td>Albuquerque, NM\\n(35.084248, -106.649241)</td>\n",
       "      <td>35.084248</td>\n",
       "      <td>-106.649241</td>\n",
       "    </tr>\n",
       "    <tr>\n",
       "      <th>4</th>\n",
       "      <td>2021</td>\n",
       "      <td>3</td>\n",
       "      <td>10140</td>\n",
       "      <td>Albuquerque, NM\\n(35.084248, -106.649241)</td>\n",
       "      <td>35.084248</td>\n",
       "      <td>-106.649241</td>\n",
       "    </tr>\n",
       "    <tr>\n",
       "      <th>...</th>\n",
       "      <td>...</td>\n",
       "      <td>...</td>\n",
       "      <td>...</td>\n",
       "      <td>...</td>\n",
       "      <td>...</td>\n",
       "      <td>...</td>\n",
       "    </tr>\n",
       "    <tr>\n",
       "      <th>245950</th>\n",
       "      <td>2024</td>\n",
       "      <td>1</td>\n",
       "      <td>15412</td>\n",
       "      <td>Knoxville, TN\\n(35.962631, -83.916677)</td>\n",
       "      <td>35.962631</td>\n",
       "      <td>-83.916677</td>\n",
       "    </tr>\n",
       "    <tr>\n",
       "      <th>245951</th>\n",
       "      <td>2024</td>\n",
       "      <td>1</td>\n",
       "      <td>15412</td>\n",
       "      <td>Knoxville, TN\\n(35.962631, -83.916677)</td>\n",
       "      <td>35.962631</td>\n",
       "      <td>-83.916677</td>\n",
       "    </tr>\n",
       "    <tr>\n",
       "      <th>245952</th>\n",
       "      <td>2024</td>\n",
       "      <td>1</td>\n",
       "      <td>15412</td>\n",
       "      <td>Knoxville, TN\\n(35.962631, -83.916677)</td>\n",
       "      <td>35.962631</td>\n",
       "      <td>-83.916677</td>\n",
       "    </tr>\n",
       "    <tr>\n",
       "      <th>245953</th>\n",
       "      <td>2024</td>\n",
       "      <td>1</td>\n",
       "      <td>15412</td>\n",
       "      <td>Knoxville, TN\\n(35.962631, -83.916677)</td>\n",
       "      <td>35.962631</td>\n",
       "      <td>-83.916677</td>\n",
       "    </tr>\n",
       "    <tr>\n",
       "      <th>245954</th>\n",
       "      <td>2024</td>\n",
       "      <td>1</td>\n",
       "      <td>15412</td>\n",
       "      <td>Knoxville, TN\\n(35.962631, -83.916677)</td>\n",
       "      <td>35.962631</td>\n",
       "      <td>-83.916677</td>\n",
       "    </tr>\n",
       "  </tbody>\n",
       "</table>\n",
       "<p>245044 rows × 6 columns</p>\n",
       "</div>"
      ],
      "text/plain": [
       "        Year  quarter  airportid_1  \\\n",
       "0       2021        3        10135   \n",
       "1       2021        3        10135   \n",
       "2       2021        3        10140   \n",
       "3       2021        3        10140   \n",
       "4       2021        3        10140   \n",
       "...      ...      ...          ...   \n",
       "245950  2024        1        15412   \n",
       "245951  2024        1        15412   \n",
       "245952  2024        1        15412   \n",
       "245953  2024        1        15412   \n",
       "245954  2024        1        15412   \n",
       "\n",
       "                                           Geocoded_City1        lat  \\\n",
       "0       Allentown/Bethlehem/Easton, PA\\n(40.602753, -7...  40.602753   \n",
       "1       Allentown/Bethlehem/Easton, PA\\n(40.602753, -7...  40.602753   \n",
       "2               Albuquerque, NM\\n(35.084248, -106.649241)  35.084248   \n",
       "3               Albuquerque, NM\\n(35.084248, -106.649241)  35.084248   \n",
       "4               Albuquerque, NM\\n(35.084248, -106.649241)  35.084248   \n",
       "...                                                   ...        ...   \n",
       "245950             Knoxville, TN\\n(35.962631, -83.916677)  35.962631   \n",
       "245951             Knoxville, TN\\n(35.962631, -83.916677)  35.962631   \n",
       "245952             Knoxville, TN\\n(35.962631, -83.916677)  35.962631   \n",
       "245953             Knoxville, TN\\n(35.962631, -83.916677)  35.962631   \n",
       "245954             Knoxville, TN\\n(35.962631, -83.916677)  35.962631   \n",
       "\n",
       "              long  \n",
       "0       -75.469759  \n",
       "1       -75.469759  \n",
       "2      -106.649241  \n",
       "3      -106.649241  \n",
       "4      -106.649241  \n",
       "...            ...  \n",
       "245950  -83.916677  \n",
       "245951  -83.916677  \n",
       "245952  -83.916677  \n",
       "245953  -83.916677  \n",
       "245954  -83.916677  \n",
       "\n",
       "[245044 rows x 6 columns]"
      ]
     },
     "metadata": {},
     "output_type": "display_data"
    },
    {
     "data": {
      "text/html": [
       "<div>\n",
       "<style scoped>\n",
       "    .dataframe tbody tr th:only-of-type {\n",
       "        vertical-align: middle;\n",
       "    }\n",
       "\n",
       "    .dataframe tbody tr th {\n",
       "        vertical-align: top;\n",
       "    }\n",
       "\n",
       "    .dataframe thead th {\n",
       "        text-align: right;\n",
       "    }\n",
       "</style>\n",
       "<table border=\"1\" class=\"dataframe\">\n",
       "  <thead>\n",
       "    <tr style=\"text-align: right;\">\n",
       "      <th></th>\n",
       "      <th>Year</th>\n",
       "      <th>quarter</th>\n",
       "      <th>airportid_2</th>\n",
       "      <th>Geocoded_City2</th>\n",
       "      <th>lat</th>\n",
       "      <th>long</th>\n",
       "    </tr>\n",
       "  </thead>\n",
       "  <tbody>\n",
       "    <tr>\n",
       "      <th>0</th>\n",
       "      <td>2021</td>\n",
       "      <td>3</td>\n",
       "      <td>14112</td>\n",
       "      <td>Tampa, FL (Metropolitan Area)\\n(37.8606, -78.8...</td>\n",
       "      <td>37.860600</td>\n",
       "      <td>-78.804199</td>\n",
       "    </tr>\n",
       "    <tr>\n",
       "      <th>1</th>\n",
       "      <td>2021</td>\n",
       "      <td>3</td>\n",
       "      <td>15304</td>\n",
       "      <td>Tampa, FL (Metropolitan Area)\\n(37.8606, -78.8...</td>\n",
       "      <td>37.860600</td>\n",
       "      <td>-78.804199</td>\n",
       "    </tr>\n",
       "    <tr>\n",
       "      <th>2</th>\n",
       "      <td>2021</td>\n",
       "      <td>3</td>\n",
       "      <td>11259</td>\n",
       "      <td>Dallas/Fort Worth, TX\\n(40.11086, -77.035636)</td>\n",
       "      <td>40.110860</td>\n",
       "      <td>-77.035636</td>\n",
       "    </tr>\n",
       "    <tr>\n",
       "      <th>3</th>\n",
       "      <td>2021</td>\n",
       "      <td>3</td>\n",
       "      <td>11298</td>\n",
       "      <td>Dallas/Fort Worth, TX\\n(40.11086, -77.035636)</td>\n",
       "      <td>40.110860</td>\n",
       "      <td>-77.035636</td>\n",
       "    </tr>\n",
       "    <tr>\n",
       "      <th>4</th>\n",
       "      <td>2021</td>\n",
       "      <td>3</td>\n",
       "      <td>14107</td>\n",
       "      <td>Phoenix, AZ\\n(30.406931, -87.217578)</td>\n",
       "      <td>30.406931</td>\n",
       "      <td>-87.217578</td>\n",
       "    </tr>\n",
       "    <tr>\n",
       "      <th>...</th>\n",
       "      <td>...</td>\n",
       "      <td>...</td>\n",
       "      <td>...</td>\n",
       "      <td>...</td>\n",
       "      <td>...</td>\n",
       "      <td>...</td>\n",
       "    </tr>\n",
       "    <tr>\n",
       "      <th>245950</th>\n",
       "      <td>2024</td>\n",
       "      <td>1</td>\n",
       "      <td>12953</td>\n",
       "      <td>New York City, NY (Metropolitan Area)\\n(40.123...</td>\n",
       "      <td>40.123164</td>\n",
       "      <td>-75.333718</td>\n",
       "    </tr>\n",
       "    <tr>\n",
       "      <th>245951</th>\n",
       "      <td>2024</td>\n",
       "      <td>1</td>\n",
       "      <td>11697</td>\n",
       "      <td>Miami, FL (Metropolitan Area)\\n(44.977479, -93...</td>\n",
       "      <td>44.977479</td>\n",
       "      <td>-93.264346</td>\n",
       "    </tr>\n",
       "    <tr>\n",
       "      <th>245952</th>\n",
       "      <td>2024</td>\n",
       "      <td>1</td>\n",
       "      <td>13303</td>\n",
       "      <td>Miami, FL (Metropolitan Area)\\n(44.977479, -93...</td>\n",
       "      <td>44.977479</td>\n",
       "      <td>-93.264346</td>\n",
       "    </tr>\n",
       "    <tr>\n",
       "      <th>245953</th>\n",
       "      <td>2024</td>\n",
       "      <td>1</td>\n",
       "      <td>14112</td>\n",
       "      <td>Tampa, FL (Metropolitan Area)\\n(37.8606, -78.8...</td>\n",
       "      <td>37.860600</td>\n",
       "      <td>-78.804199</td>\n",
       "    </tr>\n",
       "    <tr>\n",
       "      <th>245954</th>\n",
       "      <td>2024</td>\n",
       "      <td>1</td>\n",
       "      <td>15304</td>\n",
       "      <td>Tampa, FL (Metropolitan Area)\\n(37.8606, -78.8...</td>\n",
       "      <td>37.860600</td>\n",
       "      <td>-78.804199</td>\n",
       "    </tr>\n",
       "  </tbody>\n",
       "</table>\n",
       "<p>245044 rows × 6 columns</p>\n",
       "</div>"
      ],
      "text/plain": [
       "        Year  quarter  airportid_2  \\\n",
       "0       2021        3        14112   \n",
       "1       2021        3        15304   \n",
       "2       2021        3        11259   \n",
       "3       2021        3        11298   \n",
       "4       2021        3        14107   \n",
       "...      ...      ...          ...   \n",
       "245950  2024        1        12953   \n",
       "245951  2024        1        11697   \n",
       "245952  2024        1        13303   \n",
       "245953  2024        1        14112   \n",
       "245954  2024        1        15304   \n",
       "\n",
       "                                           Geocoded_City2        lat  \\\n",
       "0       Tampa, FL (Metropolitan Area)\\n(37.8606, -78.8...  37.860600   \n",
       "1       Tampa, FL (Metropolitan Area)\\n(37.8606, -78.8...  37.860600   \n",
       "2           Dallas/Fort Worth, TX\\n(40.11086, -77.035636)  40.110860   \n",
       "3           Dallas/Fort Worth, TX\\n(40.11086, -77.035636)  40.110860   \n",
       "4                    Phoenix, AZ\\n(30.406931, -87.217578)  30.406931   \n",
       "...                                                   ...        ...   \n",
       "245950  New York City, NY (Metropolitan Area)\\n(40.123...  40.123164   \n",
       "245951  Miami, FL (Metropolitan Area)\\n(44.977479, -93...  44.977479   \n",
       "245952  Miami, FL (Metropolitan Area)\\n(44.977479, -93...  44.977479   \n",
       "245953  Tampa, FL (Metropolitan Area)\\n(37.8606, -78.8...  37.860600   \n",
       "245954  Tampa, FL (Metropolitan Area)\\n(37.8606, -78.8...  37.860600   \n",
       "\n",
       "             long  \n",
       "0      -78.804199  \n",
       "1      -78.804199  \n",
       "2      -77.035636  \n",
       "3      -77.035636  \n",
       "4      -87.217578  \n",
       "...           ...  \n",
       "245950 -75.333718  \n",
       "245951 -93.264346  \n",
       "245952 -93.264346  \n",
       "245953 -78.804199  \n",
       "245954 -78.804199  \n",
       "\n",
       "[245044 rows x 6 columns]"
      ]
     },
     "metadata": {},
     "output_type": "display_data"
    }
   ],
   "source": [
    "display(geocoded_city1)\n",
    "display(geocoded_city2)"
   ]
  },
  {
   "cell_type": "code",
   "execution_count": null,
   "id": "5db01995-5f0d-4376-a05e-b768d243b3dd",
   "metadata": {},
   "outputs": [],
   "source": []
  },
  {
   "cell_type": "markdown",
   "id": "805f8791-a0d6-4dea-a7d3-b021802acae5",
   "metadata": {},
   "source": [
    "### COLOR GRADIENT and MAPPING"
   ]
  },
  {
   "cell_type": "code",
   "execution_count": 90,
   "id": "27640fb2-488c-407d-98e9-099b61b9bc53",
   "metadata": {},
   "outputs": [],
   "source": [
    "# Creating frequency list for departure aports in 2001\n",
    "\n",
    "airportid_1_freq_2k1 = geocoded_city1.loc[geocoded_city1[\"Year\"]==2001][['airportid_1']].value_counts()"
   ]
  },
  {
   "cell_type": "code",
   "execution_count": 92,
   "id": "f5fd2b46-7c2b-4a29-9f89-7319f5ffadf5",
   "metadata": {},
   "outputs": [],
   "source": [
    "# Creating frequency list for arrival aports in 2001\n",
    "\n",
    "airportid_2_freq_2k1 = geocoded_city2.loc[geocoded_city1[\"Year\"]==2001][['airportid_2']].value_counts().to_list()\n",
    "airportid_2_freq_2k2 = geocoded_city2.loc[geocoded_city1[\"Year\"]==2002][['airportid_2']].value_counts().to_list()\n",
    "airportid_2_freq_2k3 = geocoded_city2.loc[geocoded_city1[\"Year\"]==2003][['airportid_2']].value_counts().to_list()\n",
    "airportid_2_freq_2k4 = geocoded_city2.loc[geocoded_city1[\"Year\"]==2004][['airportid_2']].value_counts().to_list()\n",
    "\n",
    "# airportid_2_freq_2k1[0:10]"
   ]
  },
  {
   "cell_type": "code",
   "execution_count": 94,
   "id": "52345684-d9b2-4b03-bd90-756bd72965f3",
   "metadata": {},
   "outputs": [
    {
     "data": {
      "text/plain": [
       "118"
      ]
     },
     "metadata": {},
     "output_type": "display_data"
    },
    {
     "data": {
      "text/plain": [
       "106"
      ]
     },
     "metadata": {},
     "output_type": "display_data"
    }
   ],
   "source": [
    "# Getting lenght to create color gradient.\n",
    "\n",
    "display(len(airportid_1_freq_2k1))\n",
    "display(len(airportid_2_freq_2k1))"
   ]
  },
  {
   "cell_type": "code",
   "execution_count": 96,
   "id": "33dacc96-853f-4416-9558-4a80c1425586",
   "metadata": {},
   "outputs": [],
   "source": [
    "# Filter the dataframes between the years 2001 and 2004 for accurate understanding of the impact, if any of 9/11.\n",
    "\n",
    "filtered_df1 = geocoded_city1[(geocoded_city1['Year'] >= 2001) & (geocoded_city1['Year'] <= 2004)]\n",
    "filtered_df2 = geocoded_city2[(geocoded_city2['Year'] >= 2001) & (geocoded_city2['Year'] <= 2004)]"
   ]
  },
  {
   "cell_type": "code",
   "execution_count": 98,
   "id": "a4ab72c4-a191-4ab2-98ba-f15877444d90",
   "metadata": {},
   "outputs": [
    {
     "data": {
      "text/html": [
       "<div>\n",
       "<style scoped>\n",
       "    .dataframe tbody tr th:only-of-type {\n",
       "        vertical-align: middle;\n",
       "    }\n",
       "\n",
       "    .dataframe tbody tr th {\n",
       "        vertical-align: top;\n",
       "    }\n",
       "\n",
       "    .dataframe thead th {\n",
       "        text-align: right;\n",
       "    }\n",
       "</style>\n",
       "<table border=\"1\" class=\"dataframe\">\n",
       "  <thead>\n",
       "    <tr style=\"text-align: right;\">\n",
       "      <th></th>\n",
       "      <th>Year</th>\n",
       "      <th>quarter</th>\n",
       "      <th>airportid_1</th>\n",
       "      <th>Geocoded_City1</th>\n",
       "      <th>lat</th>\n",
       "      <th>long</th>\n",
       "    </tr>\n",
       "  </thead>\n",
       "  <tbody>\n",
       "    <tr>\n",
       "      <th>5926</th>\n",
       "      <td>2003</td>\n",
       "      <td>2</td>\n",
       "      <td>10257</td>\n",
       "      <td>Albany, NY\\n(42.651242, -73.755418)</td>\n",
       "      <td>42.651242</td>\n",
       "      <td>-73.755418</td>\n",
       "    </tr>\n",
       "    <tr>\n",
       "      <th>5929</th>\n",
       "      <td>2001</td>\n",
       "      <td>1</td>\n",
       "      <td>10693</td>\n",
       "      <td>Nashville, TN\\n(36.166687, -86.779932)</td>\n",
       "      <td>36.166687</td>\n",
       "      <td>-86.779932</td>\n",
       "    </tr>\n",
       "    <tr>\n",
       "      <th>5932</th>\n",
       "      <td>2002</td>\n",
       "      <td>1</td>\n",
       "      <td>14307</td>\n",
       "      <td>Boston, MA (Metropolitan Area)\\n(42.358894, -7...</td>\n",
       "      <td>42.358894</td>\n",
       "      <td>-71.056742</td>\n",
       "    </tr>\n",
       "    <tr>\n",
       "      <th>5936</th>\n",
       "      <td>2002</td>\n",
       "      <td>1</td>\n",
       "      <td>12266</td>\n",
       "      <td>Houston, TX\\n(29.760803, -95.369506)</td>\n",
       "      <td>29.760803</td>\n",
       "      <td>-95.369506</td>\n",
       "    </tr>\n",
       "    <tr>\n",
       "      <th>5938</th>\n",
       "      <td>2003</td>\n",
       "      <td>4</td>\n",
       "      <td>13296</td>\n",
       "      <td>Boston, MA (Metropolitan Area)\\n(42.358894, -7...</td>\n",
       "      <td>42.358894</td>\n",
       "      <td>-71.056742</td>\n",
       "    </tr>\n",
       "    <tr>\n",
       "      <th>...</th>\n",
       "      <td>...</td>\n",
       "      <td>...</td>\n",
       "      <td>...</td>\n",
       "      <td>...</td>\n",
       "      <td>...</td>\n",
       "      <td>...</td>\n",
       "    </tr>\n",
       "    <tr>\n",
       "      <th>179491</th>\n",
       "      <td>2002</td>\n",
       "      <td>2</td>\n",
       "      <td>13931</td>\n",
       "      <td>Norfolk, VA (Metropolitan Area)\\n(36.846164, -...</td>\n",
       "      <td>36.846164</td>\n",
       "      <td>-76.285913</td>\n",
       "    </tr>\n",
       "    <tr>\n",
       "      <th>179493</th>\n",
       "      <td>2004</td>\n",
       "      <td>1</td>\n",
       "      <td>11433</td>\n",
       "      <td>Detroit, MI\\n(42.332916, -83.047853)</td>\n",
       "      <td>42.332916</td>\n",
       "      <td>-83.047853</td>\n",
       "    </tr>\n",
       "    <tr>\n",
       "      <th>179504</th>\n",
       "      <td>2003</td>\n",
       "      <td>1</td>\n",
       "      <td>10397</td>\n",
       "      <td>Atlanta, GA (Metropolitan Area)\\n(33.748547, -...</td>\n",
       "      <td>33.748547</td>\n",
       "      <td>-84.391502</td>\n",
       "    </tr>\n",
       "    <tr>\n",
       "      <th>179506</th>\n",
       "      <td>2003</td>\n",
       "      <td>3</td>\n",
       "      <td>11042</td>\n",
       "      <td>Cleveland, OH (Metropolitan Area)\\n(41.505546,...</td>\n",
       "      <td>41.505546</td>\n",
       "      <td>-81.691500</td>\n",
       "    </tr>\n",
       "    <tr>\n",
       "      <th>179509</th>\n",
       "      <td>2004</td>\n",
       "      <td>2</td>\n",
       "      <td>10257</td>\n",
       "      <td>Albany, NY\\n(42.651242, -73.755418)</td>\n",
       "      <td>42.651242</td>\n",
       "      <td>-73.755418</td>\n",
       "    </tr>\n",
       "  </tbody>\n",
       "</table>\n",
       "<p>34191 rows × 6 columns</p>\n",
       "</div>"
      ],
      "text/plain": [
       "        Year  quarter  airportid_1  \\\n",
       "5926    2003        2        10257   \n",
       "5929    2001        1        10693   \n",
       "5932    2002        1        14307   \n",
       "5936    2002        1        12266   \n",
       "5938    2003        4        13296   \n",
       "...      ...      ...          ...   \n",
       "179491  2002        2        13931   \n",
       "179493  2004        1        11433   \n",
       "179504  2003        1        10397   \n",
       "179506  2003        3        11042   \n",
       "179509  2004        2        10257   \n",
       "\n",
       "                                           Geocoded_City1        lat  \\\n",
       "5926                  Albany, NY\\n(42.651242, -73.755418)  42.651242   \n",
       "5929               Nashville, TN\\n(36.166687, -86.779932)  36.166687   \n",
       "5932    Boston, MA (Metropolitan Area)\\n(42.358894, -7...  42.358894   \n",
       "5936                 Houston, TX\\n(29.760803, -95.369506)  29.760803   \n",
       "5938    Boston, MA (Metropolitan Area)\\n(42.358894, -7...  42.358894   \n",
       "...                                                   ...        ...   \n",
       "179491  Norfolk, VA (Metropolitan Area)\\n(36.846164, -...  36.846164   \n",
       "179493               Detroit, MI\\n(42.332916, -83.047853)  42.332916   \n",
       "179504  Atlanta, GA (Metropolitan Area)\\n(33.748547, -...  33.748547   \n",
       "179506  Cleveland, OH (Metropolitan Area)\\n(41.505546,...  41.505546   \n",
       "179509                Albany, NY\\n(42.651242, -73.755418)  42.651242   \n",
       "\n",
       "             long  \n",
       "5926   -73.755418  \n",
       "5929   -86.779932  \n",
       "5932   -71.056742  \n",
       "5936   -95.369506  \n",
       "5938   -71.056742  \n",
       "...           ...  \n",
       "179491 -76.285913  \n",
       "179493 -83.047853  \n",
       "179504 -84.391502  \n",
       "179506 -81.691500  \n",
       "179509 -73.755418  \n",
       "\n",
       "[34191 rows x 6 columns]"
      ]
     },
     "execution_count": 98,
     "metadata": {},
     "output_type": "execute_result"
    }
   ],
   "source": [
    "filtered_df1"
   ]
  },
  {
   "cell_type": "code",
   "execution_count": 100,
   "id": "dae2af2f-f389-47b7-ad96-d209228550d7",
   "metadata": {},
   "outputs": [],
   "source": [
    "# Counting the airports to calculate frequencies.\n",
    "\n",
    "df1_counts = filtered_df1.groupby(['Year','quarter','airportid_1', 'Geocoded_City1', 'lat', 'long']).size().reset_index(name='count')\n",
    "df2_counts = filtered_df2.groupby(['Year','quarter','airportid_2', 'Geocoded_City2', 'lat', 'long']).size().reset_index(name='count')"
   ]
  },
  {
   "cell_type": "code",
   "execution_count": 102,
   "id": "070f87df-d6c6-43a0-91d0-714dd47f665b",
   "metadata": {},
   "outputs": [],
   "source": [
    "# Creating the animation frames for the plotting\n",
    "\n",
    "df1_counts['animation_frame'] = df1_counts['Year'].astype(str) + \" Q\" + df1_counts['quarter'].astype(str)\n",
    "df2_counts['animation_frame'] = df2_counts['Year'].astype(str) + \" Q\" + df2_counts['quarter'].astype(str)"
   ]
  },
  {
   "cell_type": "code",
   "execution_count": 104,
   "id": "cc5bc72e-8d39-47c0-9855-1b6ba1ca5375",
   "metadata": {},
   "outputs": [],
   "source": [
    "# Normalizing counts to map to color scale.\n",
    "\n",
    "df1_counts['normalized_count'] = (df1_counts['count'] - df1_counts['count'].min()) / (df1_counts['count'].max() - df1_counts['count'].min())\n",
    "df2_counts['normalized_count'] = (df2_counts['count'] - df2_counts['count'].min()) / (df2_counts['count'].max() - df2_counts['count'].min())"
   ]
  },
  {
   "cell_type": "code",
   "execution_count": 106,
   "id": "e747cc1a-df43-4988-a91d-739a2bef9321",
   "metadata": {},
   "outputs": [
    {
     "data": {
      "text/html": [
       "<div>\n",
       "<style scoped>\n",
       "    .dataframe tbody tr th:only-of-type {\n",
       "        vertical-align: middle;\n",
       "    }\n",
       "\n",
       "    .dataframe tbody tr th {\n",
       "        vertical-align: top;\n",
       "    }\n",
       "\n",
       "    .dataframe thead th {\n",
       "        text-align: right;\n",
       "    }\n",
       "</style>\n",
       "<table border=\"1\" class=\"dataframe\">\n",
       "  <thead>\n",
       "    <tr style=\"text-align: right;\">\n",
       "      <th></th>\n",
       "      <th>Year</th>\n",
       "      <th>quarter</th>\n",
       "      <th>airportid_1</th>\n",
       "      <th>Geocoded_City1</th>\n",
       "      <th>lat</th>\n",
       "      <th>long</th>\n",
       "      <th>count</th>\n",
       "      <th>animation_frame</th>\n",
       "      <th>normalized_count</th>\n",
       "    </tr>\n",
       "  </thead>\n",
       "  <tbody>\n",
       "    <tr>\n",
       "      <th>0</th>\n",
       "      <td>2001</td>\n",
       "      <td>1</td>\n",
       "      <td>10140</td>\n",
       "      <td>Albuquerque, NM\\n(35.084248, -106.649241)</td>\n",
       "      <td>35.084248</td>\n",
       "      <td>-106.649241</td>\n",
       "      <td>28</td>\n",
       "      <td>2001 Q1</td>\n",
       "      <td>0.341772</td>\n",
       "    </tr>\n",
       "    <tr>\n",
       "      <th>1</th>\n",
       "      <td>2001</td>\n",
       "      <td>1</td>\n",
       "      <td>10158</td>\n",
       "      <td>Atlantic City, NJ\\n(33.748547, -84.391502)</td>\n",
       "      <td>33.748547</td>\n",
       "      <td>-84.391502</td>\n",
       "      <td>3</td>\n",
       "      <td>2001 Q1</td>\n",
       "      <td>0.025316</td>\n",
       "    </tr>\n",
       "    <tr>\n",
       "      <th>2</th>\n",
       "      <td>2001</td>\n",
       "      <td>1</td>\n",
       "      <td>10257</td>\n",
       "      <td>Albany, NY\\n(42.651242, -73.755418)</td>\n",
       "      <td>42.651242</td>\n",
       "      <td>-73.755418</td>\n",
       "      <td>13</td>\n",
       "      <td>2001 Q1</td>\n",
       "      <td>0.151899</td>\n",
       "    </tr>\n",
       "    <tr>\n",
       "      <th>3</th>\n",
       "      <td>2001</td>\n",
       "      <td>1</td>\n",
       "      <td>10279</td>\n",
       "      <td>Amarillo, TX\\n(35.207009, -101.832013)</td>\n",
       "      <td>35.207009</td>\n",
       "      <td>-101.832013</td>\n",
       "      <td>5</td>\n",
       "      <td>2001 Q1</td>\n",
       "      <td>0.050633</td>\n",
       "    </tr>\n",
       "    <tr>\n",
       "      <th>4</th>\n",
       "      <td>2001</td>\n",
       "      <td>1</td>\n",
       "      <td>10372</td>\n",
       "      <td>Aspen, CO\\n(39.190665, -106.819201)</td>\n",
       "      <td>39.190665</td>\n",
       "      <td>-106.819201</td>\n",
       "      <td>6</td>\n",
       "      <td>2001 Q1</td>\n",
       "      <td>0.063291</td>\n",
       "    </tr>\n",
       "    <tr>\n",
       "      <th>...</th>\n",
       "      <td>...</td>\n",
       "      <td>...</td>\n",
       "      <td>...</td>\n",
       "      <td>...</td>\n",
       "      <td>...</td>\n",
       "      <td>...</td>\n",
       "      <td>...</td>\n",
       "      <td>...</td>\n",
       "      <td>...</td>\n",
       "    </tr>\n",
       "    <tr>\n",
       "      <th>1775</th>\n",
       "      <td>2004</td>\n",
       "      <td>4</td>\n",
       "      <td>15304</td>\n",
       "      <td>Tampa, FL (Metropolitan Area)\\n(37.8606, -78.8...</td>\n",
       "      <td>37.860600</td>\n",
       "      <td>-78.804199</td>\n",
       "      <td>4</td>\n",
       "      <td>2004 Q4</td>\n",
       "      <td>0.037975</td>\n",
       "    </tr>\n",
       "    <tr>\n",
       "      <th>1776</th>\n",
       "      <td>2004</td>\n",
       "      <td>4</td>\n",
       "      <td>15370</td>\n",
       "      <td>Tulsa, OK\\n(61.096484, -160.967455)</td>\n",
       "      <td>61.096484</td>\n",
       "      <td>-160.967455</td>\n",
       "      <td>3</td>\n",
       "      <td>2004 Q4</td>\n",
       "      <td>0.025316</td>\n",
       "    </tr>\n",
       "    <tr>\n",
       "      <th>1777</th>\n",
       "      <td>2004</td>\n",
       "      <td>4</td>\n",
       "      <td>15376</td>\n",
       "      <td>Tucson, AZ\\n(35.167852, -103.726151)</td>\n",
       "      <td>35.167852</td>\n",
       "      <td>-103.726151</td>\n",
       "      <td>3</td>\n",
       "      <td>2004 Q4</td>\n",
       "      <td>0.025316</td>\n",
       "    </tr>\n",
       "    <tr>\n",
       "      <th>1778</th>\n",
       "      <td>2004</td>\n",
       "      <td>4</td>\n",
       "      <td>15412</td>\n",
       "      <td>Knoxville, TN\\n(35.962631, -83.916677)</td>\n",
       "      <td>35.962631</td>\n",
       "      <td>-83.916677</td>\n",
       "      <td>9</td>\n",
       "      <td>2004 Q4</td>\n",
       "      <td>0.101266</td>\n",
       "    </tr>\n",
       "    <tr>\n",
       "      <th>1779</th>\n",
       "      <td>2004</td>\n",
       "      <td>4</td>\n",
       "      <td>15919</td>\n",
       "      <td>Fayetteville, AR\\n(36.061928, -94.160583)</td>\n",
       "      <td>36.061928</td>\n",
       "      <td>-94.160583</td>\n",
       "      <td>6</td>\n",
       "      <td>2004 Q4</td>\n",
       "      <td>0.063291</td>\n",
       "    </tr>\n",
       "  </tbody>\n",
       "</table>\n",
       "<p>1780 rows × 9 columns</p>\n",
       "</div>"
      ],
      "text/plain": [
       "      Year  quarter  airportid_1  \\\n",
       "0     2001        1        10140   \n",
       "1     2001        1        10158   \n",
       "2     2001        1        10257   \n",
       "3     2001        1        10279   \n",
       "4     2001        1        10372   \n",
       "...    ...      ...          ...   \n",
       "1775  2004        4        15304   \n",
       "1776  2004        4        15370   \n",
       "1777  2004        4        15376   \n",
       "1778  2004        4        15412   \n",
       "1779  2004        4        15919   \n",
       "\n",
       "                                         Geocoded_City1        lat  \\\n",
       "0             Albuquerque, NM\\n(35.084248, -106.649241)  35.084248   \n",
       "1            Atlantic City, NJ\\n(33.748547, -84.391502)  33.748547   \n",
       "2                   Albany, NY\\n(42.651242, -73.755418)  42.651242   \n",
       "3                Amarillo, TX\\n(35.207009, -101.832013)  35.207009   \n",
       "4                   Aspen, CO\\n(39.190665, -106.819201)  39.190665   \n",
       "...                                                 ...        ...   \n",
       "1775  Tampa, FL (Metropolitan Area)\\n(37.8606, -78.8...  37.860600   \n",
       "1776                Tulsa, OK\\n(61.096484, -160.967455)  61.096484   \n",
       "1777               Tucson, AZ\\n(35.167852, -103.726151)  35.167852   \n",
       "1778             Knoxville, TN\\n(35.962631, -83.916677)  35.962631   \n",
       "1779          Fayetteville, AR\\n(36.061928, -94.160583)  36.061928   \n",
       "\n",
       "            long  count animation_frame  normalized_count  \n",
       "0    -106.649241     28         2001 Q1          0.341772  \n",
       "1     -84.391502      3         2001 Q1          0.025316  \n",
       "2     -73.755418     13         2001 Q1          0.151899  \n",
       "3    -101.832013      5         2001 Q1          0.050633  \n",
       "4    -106.819201      6         2001 Q1          0.063291  \n",
       "...          ...    ...             ...               ...  \n",
       "1775  -78.804199      4         2004 Q4          0.037975  \n",
       "1776 -160.967455      3         2004 Q4          0.025316  \n",
       "1777 -103.726151      3         2004 Q4          0.025316  \n",
       "1778  -83.916677      9         2004 Q4          0.101266  \n",
       "1779  -94.160583      6         2004 Q4          0.063291  \n",
       "\n",
       "[1780 rows x 9 columns]"
      ]
     },
     "execution_count": 106,
     "metadata": {},
     "output_type": "execute_result"
    }
   ],
   "source": [
    "# df1_counts.loc[df1_counts[\"Year\"]==2001]\n",
    "df1_counts"
   ]
  },
  {
   "cell_type": "code",
   "execution_count": 161,
   "id": "d6d9c961-3266-406e-bfb0-146f18186c0b",
   "metadata": {},
   "outputs": [],
   "source": [
    "#Plot departure data\n",
    "\n",
    "fig1 = px.scatter_geo(df1_counts,\n",
    "                      lat='lat',\n",
    "                      lon='long',\n",
    "                      color='normalized_count',\n",
    "                      hover_name='Geocoded_City1',\n",
    "                      color_continuous_scale='RdYlGn_r',\n",
    "                      scope='usa',\n",
    "                      animation_frame='animation_frame',\n",
    "                      category_orders={'animation_frame': sorted(df1_counts['animation_frame'].unique())}\n",
    "                     )\n"
   ]
  },
  {
   "cell_type": "code",
   "execution_count": null,
   "id": "3c466fc4-21f1-4ae1-8335-fa0c75e4d473",
   "metadata": {},
   "outputs": [],
   "source": []
  },
  {
   "cell_type": "code",
   "execution_count": 163,
   "id": "ececbb69-2137-4900-bdcc-c46fa08564b8",
   "metadata": {},
   "outputs": [],
   "source": [
    "# Plot arrival data\n",
    "\n",
    "fig2 = px.scatter_geo(df2_counts,\n",
    "                      lat='lat',\n",
    "                      lon='long',\n",
    "                      color='normalized_count',\n",
    "                      hover_name='Geocoded_City2',\n",
    "                      color_continuous_scale='RdYlGn_r',\n",
    "                      scope='usa',\n",
    "                      animation_frame='animation_frame',\n",
    "                      category_orders={'animation_frame': sorted(df2_counts['animation_frame'].unique())}\n",
    "                     )"
   ]
  },
  {
   "cell_type": "code",
   "execution_count": 169,
   "id": "1030d081-22eb-4cbb-b7f5-deef95f9b465",
   "metadata": {},
   "outputs": [],
   "source": [
    "fig = make_subplots(rows=1, cols=2, subplot_titles=('Geocoded City 1', 'Geocoded City 2'), specs=[[{'type': 'scattergeo'}, {'type': 'scattergeo'}]])\n",
    "\n",
    "# Step 4: Add traces from fig1 and fig2 to the subplots\n",
    "for trace in fig1.data:\n",
    "    fig.add_trace(trace, row=1, col=1)\n",
    "\n",
    "for trace in fig2.data:\n",
    "    fig.add_trace(trace, row=1, col=2)"
   ]
  },
  {
   "cell_type": "code",
   "execution_count": 171,
   "id": "056cad3f-b089-458c-ad69-c53bc93d2ef3",
   "metadata": {},
   "outputs": [
    {
     "data": {
      "application/vnd.plotly.v1+json": {
       "config": {
        "plotlyServerURL": "https://plot.ly"
       },
       "data": [
        {
         "geo": "geo",
         "hovertemplate": "<b>%{hovertext}</b><br><br>animation_frame=2001 Q1<br>lat=%{lat}<br>long=%{lon}<br>normalized_count=%{marker.color}<extra></extra>",
         "hovertext": [
          "Albuquerque, NM\n(35.084248, -106.649241)",
          "Atlantic City, NJ\n(33.748547, -84.391502)",
          "Albany, NY\n(42.651242, -73.755418)",
          "Amarillo, TX\n(35.207009, -101.832013)",
          "Aspen, CO\n(39.190665, -106.819201)",
          "Atlanta, GA (Metropolitan Area)\n(33.748547, -84.391502)",
          "Austin, TX\n(30.264979, -97.746598)",
          "Hartford, CT\n(41.765775, -72.673356)",
          "Birmingham, AL\n(33.522859, -86.807705)",
          "Nashville, TN\n(36.166687, -86.779932)",
          "Boise, ID\n(43.597772, -83.884521)",
          "Boston, MA (Metropolitan Area)\n(42.358894, -71.056742)",
          "Baton Rouge, LA\n(30.443319, -91.187488)",
          "Burlington, VT\n(44.475949, -73.212481)",
          "Buffalo, NY\n(39.945422, -78.64671)",
          "Los Angeles, CA (Metropolitan Area)\n(34.052238, -118.243344)",
          "Washington, DC (Metropolitan Area)\n(38.892062, -77.019912)",
          "Columbia, SC\n(39.962649, -82.996216)",
          "Cleveland, OH (Metropolitan Area)\n(41.505546, -81.6915)",
          "Chicago, IL\n(41.775002, -87.696388)",
          "Charleston, SC\n(32.77647, -79.931027)",
          "Cleveland, OH (Metropolitan Area)\n(41.505546, -81.6915)",
          "Charlotte, NC\n(35.222936, -80.840161)",
          "Columbus, OH\n(39.962649, -82.996216)",
          "Colorado Springs, CO\n(38.835224, -104.819798)",
          "Corpus Christi, TX\n(27.796416, -97.404131)",
          "Cincinnati, OH\n(39.104427, -84.513808)",
          "Daytona Beach, FL\n(29.207056, -81.020739)",
          "Dallas/Fort Worth, TX\n(40.11086, -77.035636)",
          "Dayton, OH\n(39.760982, -84.192203)",
          "Washington, DC (Metropolitan Area)\n(38.892062, -77.019912)",
          "Denver, CO\n(39.738453, -104.984853)",
          "Dallas/Fort Worth, TX\n(40.11086, -77.035636)",
          "Des Moines, IA\n(41.588822, -93.620309)",
          "Detroit, MI\n(42.332916, -83.047853)",
          "Houston, TX\n(29.760803, -95.369506)",
          "Eagle, CO\n(38.8339, -120.040604)",
          "El Paso, TX\n(31.76006, -106.492257)",
          "Eugene, OR\n(37.533089, -75.823024)",
          "New York City, NY (Metropolitan Area)\n(40.123164, -75.333718)",
          "Key West, FL\n(70.129129, -143.63129)",
          "Miami, FL (Metropolitan Area)\n(44.977479, -93.264346)",
          "Gulfport/Biloxi, MS\n(30.369834, -89.091582)",
          "Grand Rapids, MI\n(47.925705, -97.036068)",
          "Greensboro/High Point, NC\n(36.072701, -79.793899)",
          "Greenville/Spartanburg, SC\n(44.513288, -88.013256)",
          "Houston, TX\n(29.760803, -95.369506)",
          "New York City, NY (Metropolitan Area)\n(40.123164, -75.333718)",
          "Harlingen/San Benito, TX\n(40.8078, -73.945801)",
          "Huntsville, AL\n(34.729538, -86.585283)",
          "Washington, DC (Metropolitan Area)\n(38.892062, -77.019912)",
          "Houston, TX\n(29.760803, -95.369506)",
          "Indianapolis, IN\n(39.76845, -86.156212)",
          "New York City, NY (Metropolitan Area)\n(40.123164, -75.333718)",
          "Jackson/Vicksburg, MS\n(30.325968, -81.65676)",
          "Jacksonville, FL\n(30.325968, -81.65676)",
          "New York City, NY (Metropolitan Area)\n(40.123164, -75.333718)",
          "Las Vegas, NV\n(36.169202, -115.140597)",
          "Los Angeles, CA (Metropolitan Area)\n(34.052238, -118.243344)",
          "New York City, NY (Metropolitan Area)\n(40.123164, -75.333718)",
          "Los Angeles, CA (Metropolitan Area)\n(34.052238, -118.243344)",
          "Little Rock, AR\n(34.748745, -92.275105)",
          "Kansas City, MO\n(39.099792, -94.578559)",
          "Orlando, FL\n(28.538331, -81.378879)",
          "Chicago, IL\n(41.775002, -87.696388)",
          "Memphis, TN\n(35.143378, -90.052136)",
          "Boston, MA (Metropolitan Area)\n(42.358894, -71.056742)",
          "Miami, FL (Metropolitan Area)\n(44.977479, -93.264346)",
          "Kansas City, MO\n(39.099792, -94.578559)",
          "Milwaukee, WI\n(43.041072, -87.909421)",
          "Melbourne, FL\n(28.079931, -80.603516)",
          "Madison, WI\n(43.073926, -89.385244)",
          "Minneapolis/St. Paul, MN\n(44.977479, -93.264346)",
          "New Orleans, LA\n(29.950621, -90.074948)",
          "Myrtle Beach, SC\n(33.68785, -78.883852)",
          "New York City, NY (Metropolitan Area)\n(40.123164, -75.333718)",
          "San Francisco, CA (Metropolitan Area)\n(37.78008, -122.420168)",
          "Oklahoma City, OK\n(35.468494, -97.521264)",
          "Omaha, NE\n(46.07035, -93.666319)",
          "Los Angeles, CA (Metropolitan Area)\n(34.052238, -118.243344)",
          "Chicago, IL\n(41.775002, -87.696388)",
          "Norfolk, VA (Metropolitan Area)\n(36.846164, -76.285913)",
          "Portland, OR\n(45.516018, -122.681425)",
          "Norfolk, VA (Metropolitan Area)\n(36.846164, -76.285913)",
          "Philadelphia, PA\n(39.951061, -75.16562)",
          "Phoenix, AZ\n(30.406931, -87.217578)",
          "Pittsburgh, PA\n(40.442169, -79.994945)",
          "Palm Springs, CA\n(33.830302, -116.546843)",
          "Boston, MA (Metropolitan Area)\n(42.358894, -71.056742)",
          "Raleigh/Durham, NC\n(42.673348, -72.179683)",
          "Reno, NV\n(30.177159, -95.162771)",
          "Rochester, NY\n(43.155708, -77.612547)",
          "Fort Myers, FL\n(40.253979, -103.801495)",
          "San Diego, CA\n(32.71576, -117.163817)",
          "San Antonio, TX\n(29.425173, -98.494599)",
          "Savannah, GA\n(40.115007, -111.654713)",
          "Louisville, KY\n(38.256078, -85.751569)",
          "Seattle, WA\n(47.603229, -122.33028)",
          "San Francisco, CA (Metropolitan Area)\n(37.78008, -122.420168)",
          "San Francisco, CA (Metropolitan Area)\n(37.78008, -122.420168)",
          "Salt Lake City, UT\n(40.758478, -111.888142)",
          "Sacramento, CA\n(38.582087, -121.50012)",
          "Los Angeles, CA (Metropolitan Area)\n(34.052238, -118.243344)",
          "St. Louis, MO\n(38.630276, -90.200309)",
          "New York City, NY (Metropolitan Area)\n(40.123164, -75.333718)",
          "Syracuse, NY\n(43.047945, -76.147448)",
          "Tallahassee, FL\n(38.921902, -120.020798)",
          "Tampa, FL (Metropolitan Area)\n(37.8606, -78.804199)",
          "Tulsa, OK\n(61.096484, -160.967455)",
          "Tucson, AZ\n(35.167852, -103.726151)",
          "Knoxville, TN\n(35.962631, -83.916677)",
          "Washington, DC (Metropolitan Area)\n(38.892062, -77.019912)"
         ],
         "lat": [
          35.084248,
          33.748547,
          42.651242,
          35.207009,
          39.190665,
          33.748547,
          30.264979,
          41.765775,
          33.522859,
          36.166687,
          43.597772,
          42.358894,
          30.443319,
          44.475949,
          39.945422,
          34.052238,
          38.892062,
          39.962649,
          41.505546,
          41.775002,
          32.77647,
          41.505546,
          35.222936,
          39.962649,
          38.835224,
          27.796416,
          39.104427,
          29.207056,
          40.11086,
          39.760982,
          38.892062,
          39.738453,
          40.11086,
          41.588822,
          42.332916,
          29.760803,
          38.8339,
          31.76006,
          37.533089,
          40.123164,
          70.129129,
          44.977479,
          30.369834,
          47.925705,
          36.072701,
          44.513288,
          29.760803,
          40.123164,
          40.8078,
          34.729538,
          38.892062,
          29.760803,
          39.76845,
          40.123164,
          30.325968,
          30.325968,
          40.123164,
          36.169202,
          34.052238,
          40.123164,
          34.052238,
          34.748745,
          39.099792,
          28.538331,
          41.775002,
          35.143378,
          42.358894,
          44.977479,
          39.099792,
          43.041072,
          28.079931,
          43.073926,
          44.977479,
          29.950621,
          33.68785,
          40.123164,
          37.78008,
          35.468494,
          46.07035,
          34.052238,
          41.775002,
          36.846164,
          45.516018,
          36.846164,
          39.951061,
          30.406931,
          40.442169,
          33.830302,
          42.358894,
          42.673348,
          30.177159,
          43.155708,
          40.253979,
          32.71576,
          29.425173,
          40.115007,
          38.256078,
          47.603229,
          37.78008,
          37.78008,
          40.758478,
          38.582087,
          34.052238,
          38.630276,
          40.123164,
          43.047945,
          38.921902,
          37.8606,
          61.096484,
          35.167852,
          35.962631,
          38.892062
         ],
         "legendgroup": "",
         "lon": [
          -106.649241,
          -84.391502,
          -73.755418,
          -101.832013,
          -106.819201,
          -84.391502,
          -97.746598,
          -72.673356,
          -86.807705,
          -86.779932,
          -83.884521,
          -71.056742,
          -91.187488,
          -73.212481,
          -78.64671,
          -118.243344,
          -77.019912,
          -82.996216,
          -81.6915,
          -87.696388,
          -79.931027,
          -81.6915,
          -80.840161,
          -82.996216,
          -104.819798,
          -97.404131,
          -84.513808,
          -81.020739,
          -77.035636,
          -84.192203,
          -77.019912,
          -104.984853,
          -77.035636,
          -93.620309,
          -83.047853,
          -95.369506,
          -120.040604,
          -106.492257,
          -75.823024,
          -75.333718,
          -143.63129,
          -93.264346,
          -89.091582,
          -97.036068,
          -79.793899,
          -88.013256,
          -95.369506,
          -75.333718,
          -73.945801,
          -86.585283,
          -77.019912,
          -95.369506,
          -86.156212,
          -75.333718,
          -81.65676,
          -81.65676,
          -75.333718,
          -115.140597,
          -118.243344,
          -75.333718,
          -118.243344,
          -92.275105,
          -94.578559,
          -81.378879,
          -87.696388,
          -90.052136,
          -71.056742,
          -93.264346,
          -94.578559,
          -87.909421,
          -80.603516,
          -89.385244,
          -93.264346,
          -90.074948,
          -78.883852,
          -75.333718,
          -122.420168,
          -97.521264,
          -93.666319,
          -118.243344,
          -87.696388,
          -76.285913,
          -122.681425,
          -76.285913,
          -75.16562,
          -87.217578,
          -79.994945,
          -116.546843,
          -71.056742,
          -72.179683,
          -95.162771,
          -77.612547,
          -103.801495,
          -117.163817,
          -98.494599,
          -111.654713,
          -85.751569,
          -122.33028,
          -122.420168,
          -122.420168,
          -111.888142,
          -121.50012,
          -118.243344,
          -90.200309,
          -75.333718,
          -76.147448,
          -120.020798,
          -78.804199,
          -160.967455,
          -103.726151,
          -83.916677,
          -77.019912
         ],
         "marker": {
          "color": [
           0.34177215189873417,
           0.02531645569620253,
           0.1518987341772152,
           0.05063291139240506,
           0.06329113924050633,
           0.45569620253164556,
           0.379746835443038,
           0.21518987341772153,
           0.3037974683544304,
           0.17721518987341772,
           0.08860759493670886,
           0.9113924050632911,
           0.012658227848101266,
           0.06329113924050633,
           0.26582278481012656,
           0.4936708860759494,
           0,
           0.12658227848101267,
           0.4936708860759494,
           0.21518987341772153,
           0.12658227848101267,
           0.5316455696202531,
           0.379746835443038,
           0.34177215189873417,
           0.1518987341772152,
           0.05063291139240506,
           0.3291139240506329,
           0.06329113924050633,
           0.8227848101265823,
           0.24050632911392406,
           0,
           0.31645569620253167,
           0.8607594936708861,
           0.11392405063291139,
           0.31645569620253167,
           0.5443037974683544,
           0.10126582278481013,
           0.16455696202531644,
           0.08860759493670886,
           0.3924050632911392,
           0.05063291139240506,
           0.4810126582278481,
           0.02531645569620253,
           0.17721518987341772,
           0.13924050632911392,
           0.0759493670886076,
           0.620253164556962,
           0.4177215189873418,
           0.02531645569620253,
           0.0379746835443038,
           0,
           0.620253164556962,
           0.2911392405063291,
           0.4050632911392405,
           0.02531645569620253,
           0.2911392405063291,
           0.4177215189873418,
           0.26582278481012656,
           0.5316455696202531,
           0.43037974683544306,
           0.43037974683544306,
           0.08860759493670886,
           0.46835443037974683,
           0.0759493670886076,
           0.9493670886075949,
           0.189873417721519,
           0.810126582278481,
           0.4810126582278481,
           0.05063291139240506,
           0.16455696202531644,
           0.11392405063291139,
           0.10126582278481013,
           0.16455696202531644,
           0.17721518987341772,
           0.0759493670886076,
           0.20253164556962025,
           0.12658227848101267,
           0.0759493670886076,
           0.06329113924050633,
           0.5189873417721519,
           0.9746835443037974,
           0.0759493670886076,
           0.08860759493670886,
           0.06329113924050633,
           0.0379746835443038,
           0.08860759493670886,
           0.0759493670886076,
           0.02531645569620253,
           0.8354430379746836,
           0.08860759493670886,
           0.06329113924050633,
           0.0379746835443038,
           0.13924050632911392,
           0.0759493670886076,
           0.0759493670886076,
           0.02531645569620253,
           0.13924050632911392,
           0.06329113924050633,
           0.13924050632911392,
           0.12658227848101267,
           0.0759493670886076,
           0.02531645569620253,
           0.5189873417721519,
           0.06329113924050633,
           0.4050632911392405,
           0.0379746835443038,
           0,
           0.05063291139240506,
           0.02531645569620253,
           0.02531645569620253,
           0.0759493670886076,
           0
          ],
          "coloraxis": "coloraxis",
          "symbol": "circle"
         },
         "mode": "markers",
         "name": "",
         "showlegend": false,
         "type": "scattergeo"
        },
        {
         "geo": "geo2",
         "hovertemplate": "<b>%{hovertext}</b><br><br>animation_frame=2001 Q1<br>lat=%{lat}<br>long=%{lon}<br>normalized_count=%{marker.color}<extra></extra>",
         "hovertext": [
          "Hartford, CT\n(41.765775, -72.673356)",
          "Nashville, TN\n(36.166687, -86.779932)",
          "Boston, MA (Metropolitan Area)\n(42.358894, -71.056742)",
          "Buffalo, NY\n(39.945422, -78.64671)",
          "Los Angeles, CA (Metropolitan Area)\n(34.052238, -118.243344)",
          "Washington, DC (Metropolitan Area)\n(38.892062, -77.019912)",
          "Cleveland, OH (Metropolitan Area)\n(41.505546, -81.6915)",
          "Chicago, IL\n(41.775002, -87.696388)",
          "Cleveland, OH (Metropolitan Area)\n(41.505546, -81.6915)",
          "Charlotte, NC\n(35.222936, -80.840161)",
          "Columbus, OH\n(39.962649, -82.996216)",
          "Cincinnati, OH\n(39.104427, -84.513808)",
          "Dallas/Fort Worth, TX\n(40.11086, -77.035636)",
          "Dayton, OH\n(39.760982, -84.192203)",
          "Washington, DC (Metropolitan Area)\n(38.892062, -77.019912)",
          "Denver, CO\n(39.738453, -104.984853)",
          "Dallas/Fort Worth, TX\n(40.11086, -77.035636)",
          "Des Moines, IA\n(41.588822, -93.620309)",
          "Detroit, MI\n(42.332916, -83.047853)",
          "Houston, TX\n(29.760803, -95.369506)",
          "Eagle, CO\n(38.8339, -120.040604)",
          "El Paso, TX\n(31.76006, -106.492257)",
          "New York City, NY (Metropolitan Area)\n(40.123164, -75.333718)",
          "Key West, FL\n(70.129129, -143.63129)",
          "Miami, FL (Metropolitan Area)\n(44.977479, -93.264346)",
          "Spokane, WA\n(47.658999, -117.425022)",
          "Greensboro/High Point, NC\n(36.072701, -79.793899)",
          "Houston, TX\n(29.760803, -95.369506)",
          "New York City, NY (Metropolitan Area)\n(40.123164, -75.333718)",
          "Harlingen/San Benito, TX\n(40.8078, -73.945801)",
          "Washington, DC (Metropolitan Area)\n(38.892062, -77.019912)",
          "Houston, TX\n(29.760803, -95.369506)",
          "Wichita, KS\n(39.960481, -75.605214)",
          "Indianapolis, IN\n(39.76845, -86.156212)",
          "New York City, NY (Metropolitan Area)\n(40.123164, -75.333718)",
          "Jackson/Vicksburg, MS\n(30.325968, -81.65676)",
          "Jacksonville, FL\n(30.325968, -81.65676)",
          "New York City, NY (Metropolitan Area)\n(40.123164, -75.333718)",
          "Las Vegas, NV\n(36.169202, -115.140597)",
          "Los Angeles, CA (Metropolitan Area)\n(34.052238, -118.243344)",
          "Lubbock, TX\n(41.181125, -96.030508)",
          "New York City, NY (Metropolitan Area)\n(40.123164, -75.333718)",
          "Los Angeles, CA (Metropolitan Area)\n(34.052238, -118.243344)",
          "Little Rock, AR\n(34.748745, -92.275105)",
          "Midland/Odessa, TX\n(31.997433, -102.078043)",
          "Kansas City, MO\n(39.099792, -94.578559)",
          "Orlando, FL\n(28.538331, -81.378879)",
          "Harrisburg, PA\n(40.259572, -76.881821)",
          "Chicago, IL\n(41.775002, -87.696388)",
          "Memphis, TN\n(35.143378, -90.052136)",
          "Mission/McAllen/Edinburg, TX\n(43.153621, -93.201042)",
          "Boston, MA (Metropolitan Area)\n(42.358894, -71.056742)",
          "Miami, FL (Metropolitan Area)\n(44.977479, -93.264346)",
          "Kansas City, MO\n(39.099792, -94.578559)",
          "Milwaukee, WI\n(43.041072, -87.909421)",
          "Minneapolis/St. Paul, MN\n(44.977479, -93.264346)",
          "New Orleans, LA\n(29.950621, -90.074948)",
          "Myrtle Beach, SC\n(33.68785, -78.883852)",
          "New York City, NY (Metropolitan Area)\n(40.123164, -75.333718)",
          "San Francisco, CA (Metropolitan Area)\n(37.78008, -122.420168)",
          "Oklahoma City, OK\n(35.468494, -97.521264)",
          "Omaha, NE\n(46.07035, -93.666319)",
          "Los Angeles, CA (Metropolitan Area)\n(34.052238, -118.243344)",
          "Chicago, IL\n(41.775002, -87.696388)",
          "Norfolk, VA (Metropolitan Area)\n(36.846164, -76.285913)",
          "West Palm Beach/Palm Beach, FL\n(33.90976, -98.500854)",
          "Portland, OR\n(45.516018, -122.681425)",
          "Norfolk, VA (Metropolitan Area)\n(36.846164, -76.285913)",
          "Philadelphia, PA\n(39.951061, -75.16562)",
          "Phoenix, AZ\n(30.406931, -87.217578)",
          "Tampa, FL (Metropolitan Area)\n(37.8606, -78.804199)",
          "Pittsburgh, PA\n(40.442169, -79.994945)",
          "Palm Springs, CA\n(33.830302, -116.546843)",
          "Boston, MA (Metropolitan Area)\n(42.358894, -71.056742)",
          "Portland, ME\n(45.516018, -122.681425)",
          "Raleigh/Durham, NC\n(42.673348, -72.179683)",
          "Richmond, VA\n(37.540759, -77.433932)",
          "Reno, NV\n(30.177159, -95.162771)",
          "Rochester, NY\n(43.155708, -77.612547)",
          "Fort Myers, FL\n(40.253979, -103.801495)",
          "San Diego, CA\n(32.71576, -117.163817)",
          "San Antonio, TX\n(29.425173, -98.494599)",
          "Savannah, GA\n(40.115007, -111.654713)",
          "Santa Barbara, CA\n(34.420867, -119.698342)",
          "Louisville, KY\n(38.256078, -85.751569)",
          "Seattle, WA\n(47.603229, -122.33028)",
          "San Francisco, CA (Metropolitan Area)\n(37.78008, -122.420168)",
          "San Francisco, CA (Metropolitan Area)\n(37.78008, -122.420168)",
          "Salt Lake City, UT\n(40.758478, -111.888142)",
          "Sacramento, CA\n(38.582087, -121.50012)",
          "Los Angeles, CA (Metropolitan Area)\n(34.052238, -118.243344)",
          "Sarasota/Bradenton, FL\n(27.336483, -82.538602)",
          "St. Louis, MO\n(38.630276, -90.200309)",
          "New York City, NY (Metropolitan Area)\n(40.123164, -75.333718)",
          "Syracuse, NY\n(43.047945, -76.147448)",
          "Tallahassee, FL\n(38.921902, -120.020798)",
          "Tampa, FL (Metropolitan Area)\n(37.8606, -78.804199)",
          "Tulsa, OK\n(61.096484, -160.967455)",
          "Tucson, AZ\n(35.167852, -103.726151)",
          "Washington, DC (Metropolitan Area)\n(38.892062, -77.019912)"
         ],
         "lat": [
          41.765775,
          36.166687,
          42.358894,
          39.945422,
          34.052238,
          38.892062,
          41.505546,
          41.775002,
          41.505546,
          35.222936,
          39.962649,
          39.104427,
          40.11086,
          39.760982,
          38.892062,
          39.738453,
          40.11086,
          41.588822,
          42.332916,
          29.760803,
          38.8339,
          31.76006,
          40.123164,
          70.129129,
          44.977479,
          47.658999,
          36.072701,
          29.760803,
          40.123164,
          40.8078,
          38.892062,
          29.760803,
          39.960481,
          39.76845,
          40.123164,
          30.325968,
          30.325968,
          40.123164,
          36.169202,
          34.052238,
          41.181125,
          40.123164,
          34.052238,
          34.748745,
          31.997433,
          39.099792,
          28.538331,
          40.259572,
          41.775002,
          35.143378,
          43.153621,
          42.358894,
          44.977479,
          39.099792,
          43.041072,
          44.977479,
          29.950621,
          33.68785,
          40.123164,
          37.78008,
          35.468494,
          46.07035,
          34.052238,
          41.775002,
          36.846164,
          33.90976,
          45.516018,
          36.846164,
          39.951061,
          30.406931,
          37.8606,
          40.442169,
          33.830302,
          42.358894,
          45.516018,
          42.673348,
          37.540759,
          30.177159,
          43.155708,
          40.253979,
          32.71576,
          29.425173,
          40.115007,
          34.420867,
          38.256078,
          47.603229,
          37.78008,
          37.78008,
          40.758478,
          38.582087,
          34.052238,
          27.336483,
          38.630276,
          40.123164,
          43.047945,
          38.921902,
          37.8606,
          61.096484,
          35.167852,
          38.892062
         ],
         "legendgroup": "",
         "lon": [
          -72.673356,
          -86.779932,
          -71.056742,
          -78.64671,
          -118.243344,
          -77.019912,
          -81.6915,
          -87.696388,
          -81.6915,
          -80.840161,
          -82.996216,
          -84.513808,
          -77.035636,
          -84.192203,
          -77.019912,
          -104.984853,
          -77.035636,
          -93.620309,
          -83.047853,
          -95.369506,
          -120.040604,
          -106.492257,
          -75.333718,
          -143.63129,
          -93.264346,
          -117.425022,
          -79.793899,
          -95.369506,
          -75.333718,
          -73.945801,
          -77.019912,
          -95.369506,
          -75.605214,
          -86.156212,
          -75.333718,
          -81.65676,
          -81.65676,
          -75.333718,
          -115.140597,
          -118.243344,
          -96.030508,
          -75.333718,
          -118.243344,
          -92.275105,
          -102.078043,
          -94.578559,
          -81.378879,
          -76.881821,
          -87.696388,
          -90.052136,
          -93.201042,
          -71.056742,
          -93.264346,
          -94.578559,
          -87.909421,
          -93.264346,
          -90.074948,
          -78.883852,
          -75.333718,
          -122.420168,
          -97.521264,
          -93.666319,
          -118.243344,
          -87.696388,
          -76.285913,
          -98.500854,
          -122.681425,
          -76.285913,
          -75.16562,
          -87.217578,
          -78.804199,
          -79.994945,
          -116.546843,
          -71.056742,
          -122.681425,
          -72.179683,
          -77.433932,
          -95.162771,
          -77.612547,
          -103.801495,
          -117.163817,
          -98.494599,
          -111.654713,
          -119.698342,
          -85.751569,
          -122.33028,
          -122.420168,
          -122.420168,
          -111.888142,
          -121.50012,
          -118.243344,
          -82.538602,
          -90.200309,
          -75.333718,
          -76.147448,
          -120.020798,
          -78.804199,
          -160.967455,
          -103.726151,
          -77.019912
         ],
         "marker": {
          "color": [
           0.06593406593406594,
           0.2087912087912088,
           0.02197802197802198,
           0.02197802197802198,
           0.38461538461538464,
           0.9340659340659341,
           0.06593406593406594,
           0.02197802197802198,
           0.06593406593406594,
           0.02197802197802198,
           0.054945054945054944,
           0.04395604395604396,
           0.18681318681318682,
           0.06593406593406594,
           0.9340659340659341,
           0.08791208791208792,
           0.1978021978021978,
           0.01098901098901099,
           0.06593406593406594,
           0.21978021978021978,
           0.01098901098901099,
           0.03296703296703297,
           0.5934065934065934,
           0.02197802197802198,
           0.42857142857142855,
           0.07692307692307693,
           0.07692307692307693,
           0.25274725274725274,
           0.5384615384615384,
           0.01098901098901099,
           0.9340659340659341,
           0.25274725274725274,
           0,
           0.12087912087912088,
           0.5824175824175825,
           0.06593406593406594,
           0.12087912087912088,
           0.5714285714285714,
           0.13186813186813187,
           0.38461538461538464,
           0.04395604395604396,
           0.5934065934065934,
           0.34065934065934067,
           0.06593406593406594,
           0.04395604395604396,
           0.2087912087912088,
           0.3076923076923077,
           0.01098901098901099,
           0.0989010989010989,
           0.15384615384615385,
           0.04395604395604396,
           0.02197802197802198,
           0.43956043956043955,
           0,
           0.15384615384615385,
           0.2087912087912088,
           0.2087912087912088,
           0.054945054945054944,
           0.2857142857142857,
           0.6483516483516484,
           0.21978021978021978,
           0.2087912087912088,
           0.38461538461538464,
           0.0989010989010989,
           0.24175824175824176,
           0.3076923076923077,
           0.27472527472527475,
           0.18681318681318682,
           0.25274725274725274,
           0.2857142857142857,
           0.17582417582417584,
           0.2857142857142857,
           0.08791208791208792,
           0.02197802197802198,
           0.054945054945054944,
           0.3076923076923077,
           0.16483516483516483,
           0.18681318681318682,
           0.14285714285714285,
           0.0989010989010989,
           0.2857142857142857,
           0.25274725274725274,
           0.0989010989010989,
           0.02197802197802198,
           0.10989010989010989,
           0.2967032967032967,
           0.6703296703296703,
           0.6593406593406593,
           0.25274725274725274,
           0.24175824175824176,
           0.38461538461538464,
           0.10989010989010989,
           0.31868131868131866,
           0.5494505494505495,
           0.07692307692307693,
           0.01098901098901099,
           0.7472527472527473,
           0.21978021978021978,
           0.1978021978021978,
           0.3626373626373626
          ],
          "coloraxis": "coloraxis",
          "symbol": "circle"
         },
         "mode": "markers",
         "name": "",
         "showlegend": false,
         "type": "scattergeo"
        }
       ],
       "layout": {
        "annotations": [
         {
          "font": {
           "size": 16
          },
          "showarrow": false,
          "text": "Geocoded City 1",
          "x": 0.225,
          "xanchor": "center",
          "xref": "paper",
          "y": 1,
          "yanchor": "bottom",
          "yref": "paper"
         },
         {
          "font": {
           "size": 16
          },
          "showarrow": false,
          "text": "Geocoded City 2",
          "x": 0.775,
          "xanchor": "center",
          "xref": "paper",
          "y": 1,
          "yanchor": "bottom",
          "yref": "paper"
         }
        ],
        "coloraxis": {
         "colorbar": {
          "title": {
           "text": "Airport Counts"
          }
         }
        },
        "geo": {
         "countrycolor": "black",
         "domain": {
          "x": [
           0,
           0.45
          ],
          "y": [
           0,
           1
          ]
         },
         "scope": "usa",
         "showcountries": true,
         "showsubunits": true,
         "subunitcolor": "black"
        },
        "geo2": {
         "countrycolor": "black",
         "domain": {
          "x": [
           0.55,
           1
          ],
          "y": [
           0,
           1
          ]
         },
         "scope": "usa",
         "showcountries": true,
         "showsubunits": true,
         "subunitcolor": "black"
        },
        "height": 600,
        "sliders": [
         {
          "currentvalue": {
           "font": {
            "color": "black",
            "size": 20
           },
           "offset": 50,
           "prefix": "",
           "visible": true,
           "xanchor": "center"
          },
          "len": 0.9,
          "pad": {
           "b": 10,
           "t": 50
          },
          "steps": [
           {
            "args": [
             [
              "2001 Q1"
             ],
             {
              "frame": {
               "duration": 500,
               "redraw": true
              },
              "mode": "immediate",
              "transition": {
               "duration": 300,
               "easing": "quadratic-in-out"
              }
             }
            ],
            "label": "2001 Q1",
            "method": "animate"
           },
           {
            "args": [
             [
              "2001 Q2"
             ],
             {
              "frame": {
               "duration": 500,
               "redraw": true
              },
              "mode": "immediate",
              "transition": {
               "duration": 300,
               "easing": "quadratic-in-out"
              }
             }
            ],
            "label": "2001 Q2",
            "method": "animate"
           },
           {
            "args": [
             [
              "2001 Q3"
             ],
             {
              "frame": {
               "duration": 500,
               "redraw": true
              },
              "mode": "immediate",
              "transition": {
               "duration": 300,
               "easing": "quadratic-in-out"
              }
             }
            ],
            "label": "2001 Q3",
            "method": "animate"
           },
           {
            "args": [
             [
              "2001 Q4"
             ],
             {
              "frame": {
               "duration": 500,
               "redraw": true
              },
              "mode": "immediate",
              "transition": {
               "duration": 300,
               "easing": "quadratic-in-out"
              }
             }
            ],
            "label": "2001 Q4",
            "method": "animate"
           },
           {
            "args": [
             [
              "2002 Q1"
             ],
             {
              "frame": {
               "duration": 500,
               "redraw": true
              },
              "mode": "immediate",
              "transition": {
               "duration": 300,
               "easing": "quadratic-in-out"
              }
             }
            ],
            "label": "2002 Q1",
            "method": "animate"
           },
           {
            "args": [
             [
              "2002 Q2"
             ],
             {
              "frame": {
               "duration": 500,
               "redraw": true
              },
              "mode": "immediate",
              "transition": {
               "duration": 300,
               "easing": "quadratic-in-out"
              }
             }
            ],
            "label": "2002 Q2",
            "method": "animate"
           },
           {
            "args": [
             [
              "2002 Q3"
             ],
             {
              "frame": {
               "duration": 500,
               "redraw": true
              },
              "mode": "immediate",
              "transition": {
               "duration": 300,
               "easing": "quadratic-in-out"
              }
             }
            ],
            "label": "2002 Q3",
            "method": "animate"
           },
           {
            "args": [
             [
              "2002 Q4"
             ],
             {
              "frame": {
               "duration": 500,
               "redraw": true
              },
              "mode": "immediate",
              "transition": {
               "duration": 300,
               "easing": "quadratic-in-out"
              }
             }
            ],
            "label": "2002 Q4",
            "method": "animate"
           },
           {
            "args": [
             [
              "2003 Q1"
             ],
             {
              "frame": {
               "duration": 500,
               "redraw": true
              },
              "mode": "immediate",
              "transition": {
               "duration": 300,
               "easing": "quadratic-in-out"
              }
             }
            ],
            "label": "2003 Q1",
            "method": "animate"
           },
           {
            "args": [
             [
              "2003 Q2"
             ],
             {
              "frame": {
               "duration": 500,
               "redraw": true
              },
              "mode": "immediate",
              "transition": {
               "duration": 300,
               "easing": "quadratic-in-out"
              }
             }
            ],
            "label": "2003 Q2",
            "method": "animate"
           },
           {
            "args": [
             [
              "2003 Q3"
             ],
             {
              "frame": {
               "duration": 500,
               "redraw": true
              },
              "mode": "immediate",
              "transition": {
               "duration": 300,
               "easing": "quadratic-in-out"
              }
             }
            ],
            "label": "2003 Q3",
            "method": "animate"
           },
           {
            "args": [
             [
              "2003 Q4"
             ],
             {
              "frame": {
               "duration": 500,
               "redraw": true
              },
              "mode": "immediate",
              "transition": {
               "duration": 300,
               "easing": "quadratic-in-out"
              }
             }
            ],
            "label": "2003 Q4",
            "method": "animate"
           },
           {
            "args": [
             [
              "2004 Q1"
             ],
             {
              "frame": {
               "duration": 500,
               "redraw": true
              },
              "mode": "immediate",
              "transition": {
               "duration": 300,
               "easing": "quadratic-in-out"
              }
             }
            ],
            "label": "2004 Q1",
            "method": "animate"
           },
           {
            "args": [
             [
              "2004 Q2"
             ],
             {
              "frame": {
               "duration": 500,
               "redraw": true
              },
              "mode": "immediate",
              "transition": {
               "duration": 300,
               "easing": "quadratic-in-out"
              }
             }
            ],
            "label": "2004 Q2",
            "method": "animate"
           },
           {
            "args": [
             [
              "2004 Q3"
             ],
             {
              "frame": {
               "duration": 500,
               "redraw": true
              },
              "mode": "immediate",
              "transition": {
               "duration": 300,
               "easing": "quadratic-in-out"
              }
             }
            ],
            "label": "2004 Q3",
            "method": "animate"
           },
           {
            "args": [
             [
              "2004 Q4"
             ],
             {
              "frame": {
               "duration": 500,
               "redraw": true
              },
              "mode": "immediate",
              "transition": {
               "duration": 300,
               "easing": "quadratic-in-out"
              }
             }
            ],
            "label": "2004 Q4",
            "method": "animate"
           }
          ],
          "x": 0.1,
          "y": 0
         }
        ],
        "template": {
         "data": {
          "bar": [
           {
            "error_x": {
             "color": "#2a3f5f"
            },
            "error_y": {
             "color": "#2a3f5f"
            },
            "marker": {
             "line": {
              "color": "#E5ECF6",
              "width": 0.5
             },
             "pattern": {
              "fillmode": "overlay",
              "size": 10,
              "solidity": 0.2
             }
            },
            "type": "bar"
           }
          ],
          "barpolar": [
           {
            "marker": {
             "line": {
              "color": "#E5ECF6",
              "width": 0.5
             },
             "pattern": {
              "fillmode": "overlay",
              "size": 10,
              "solidity": 0.2
             }
            },
            "type": "barpolar"
           }
          ],
          "carpet": [
           {
            "aaxis": {
             "endlinecolor": "#2a3f5f",
             "gridcolor": "white",
             "linecolor": "white",
             "minorgridcolor": "white",
             "startlinecolor": "#2a3f5f"
            },
            "baxis": {
             "endlinecolor": "#2a3f5f",
             "gridcolor": "white",
             "linecolor": "white",
             "minorgridcolor": "white",
             "startlinecolor": "#2a3f5f"
            },
            "type": "carpet"
           }
          ],
          "choropleth": [
           {
            "colorbar": {
             "outlinewidth": 0,
             "ticks": ""
            },
            "type": "choropleth"
           }
          ],
          "contour": [
           {
            "colorbar": {
             "outlinewidth": 0,
             "ticks": ""
            },
            "colorscale": [
             [
              0,
              "#0d0887"
             ],
             [
              0.1111111111111111,
              "#46039f"
             ],
             [
              0.2222222222222222,
              "#7201a8"
             ],
             [
              0.3333333333333333,
              "#9c179e"
             ],
             [
              0.4444444444444444,
              "#bd3786"
             ],
             [
              0.5555555555555556,
              "#d8576b"
             ],
             [
              0.6666666666666666,
              "#ed7953"
             ],
             [
              0.7777777777777778,
              "#fb9f3a"
             ],
             [
              0.8888888888888888,
              "#fdca26"
             ],
             [
              1,
              "#f0f921"
             ]
            ],
            "type": "contour"
           }
          ],
          "contourcarpet": [
           {
            "colorbar": {
             "outlinewidth": 0,
             "ticks": ""
            },
            "type": "contourcarpet"
           }
          ],
          "heatmap": [
           {
            "colorbar": {
             "outlinewidth": 0,
             "ticks": ""
            },
            "colorscale": [
             [
              0,
              "#0d0887"
             ],
             [
              0.1111111111111111,
              "#46039f"
             ],
             [
              0.2222222222222222,
              "#7201a8"
             ],
             [
              0.3333333333333333,
              "#9c179e"
             ],
             [
              0.4444444444444444,
              "#bd3786"
             ],
             [
              0.5555555555555556,
              "#d8576b"
             ],
             [
              0.6666666666666666,
              "#ed7953"
             ],
             [
              0.7777777777777778,
              "#fb9f3a"
             ],
             [
              0.8888888888888888,
              "#fdca26"
             ],
             [
              1,
              "#f0f921"
             ]
            ],
            "type": "heatmap"
           }
          ],
          "heatmapgl": [
           {
            "colorbar": {
             "outlinewidth": 0,
             "ticks": ""
            },
            "colorscale": [
             [
              0,
              "#0d0887"
             ],
             [
              0.1111111111111111,
              "#46039f"
             ],
             [
              0.2222222222222222,
              "#7201a8"
             ],
             [
              0.3333333333333333,
              "#9c179e"
             ],
             [
              0.4444444444444444,
              "#bd3786"
             ],
             [
              0.5555555555555556,
              "#d8576b"
             ],
             [
              0.6666666666666666,
              "#ed7953"
             ],
             [
              0.7777777777777778,
              "#fb9f3a"
             ],
             [
              0.8888888888888888,
              "#fdca26"
             ],
             [
              1,
              "#f0f921"
             ]
            ],
            "type": "heatmapgl"
           }
          ],
          "histogram": [
           {
            "marker": {
             "pattern": {
              "fillmode": "overlay",
              "size": 10,
              "solidity": 0.2
             }
            },
            "type": "histogram"
           }
          ],
          "histogram2d": [
           {
            "colorbar": {
             "outlinewidth": 0,
             "ticks": ""
            },
            "colorscale": [
             [
              0,
              "#0d0887"
             ],
             [
              0.1111111111111111,
              "#46039f"
             ],
             [
              0.2222222222222222,
              "#7201a8"
             ],
             [
              0.3333333333333333,
              "#9c179e"
             ],
             [
              0.4444444444444444,
              "#bd3786"
             ],
             [
              0.5555555555555556,
              "#d8576b"
             ],
             [
              0.6666666666666666,
              "#ed7953"
             ],
             [
              0.7777777777777778,
              "#fb9f3a"
             ],
             [
              0.8888888888888888,
              "#fdca26"
             ],
             [
              1,
              "#f0f921"
             ]
            ],
            "type": "histogram2d"
           }
          ],
          "histogram2dcontour": [
           {
            "colorbar": {
             "outlinewidth": 0,
             "ticks": ""
            },
            "colorscale": [
             [
              0,
              "#0d0887"
             ],
             [
              0.1111111111111111,
              "#46039f"
             ],
             [
              0.2222222222222222,
              "#7201a8"
             ],
             [
              0.3333333333333333,
              "#9c179e"
             ],
             [
              0.4444444444444444,
              "#bd3786"
             ],
             [
              0.5555555555555556,
              "#d8576b"
             ],
             [
              0.6666666666666666,
              "#ed7953"
             ],
             [
              0.7777777777777778,
              "#fb9f3a"
             ],
             [
              0.8888888888888888,
              "#fdca26"
             ],
             [
              1,
              "#f0f921"
             ]
            ],
            "type": "histogram2dcontour"
           }
          ],
          "mesh3d": [
           {
            "colorbar": {
             "outlinewidth": 0,
             "ticks": ""
            },
            "type": "mesh3d"
           }
          ],
          "parcoords": [
           {
            "line": {
             "colorbar": {
              "outlinewidth": 0,
              "ticks": ""
             }
            },
            "type": "parcoords"
           }
          ],
          "pie": [
           {
            "automargin": true,
            "type": "pie"
           }
          ],
          "scatter": [
           {
            "fillpattern": {
             "fillmode": "overlay",
             "size": 10,
             "solidity": 0.2
            },
            "type": "scatter"
           }
          ],
          "scatter3d": [
           {
            "line": {
             "colorbar": {
              "outlinewidth": 0,
              "ticks": ""
             }
            },
            "marker": {
             "colorbar": {
              "outlinewidth": 0,
              "ticks": ""
             }
            },
            "type": "scatter3d"
           }
          ],
          "scattercarpet": [
           {
            "marker": {
             "colorbar": {
              "outlinewidth": 0,
              "ticks": ""
             }
            },
            "type": "scattercarpet"
           }
          ],
          "scattergeo": [
           {
            "marker": {
             "colorbar": {
              "outlinewidth": 0,
              "ticks": ""
             }
            },
            "type": "scattergeo"
           }
          ],
          "scattergl": [
           {
            "marker": {
             "colorbar": {
              "outlinewidth": 0,
              "ticks": ""
             }
            },
            "type": "scattergl"
           }
          ],
          "scattermapbox": [
           {
            "marker": {
             "colorbar": {
              "outlinewidth": 0,
              "ticks": ""
             }
            },
            "type": "scattermapbox"
           }
          ],
          "scatterpolar": [
           {
            "marker": {
             "colorbar": {
              "outlinewidth": 0,
              "ticks": ""
             }
            },
            "type": "scatterpolar"
           }
          ],
          "scatterpolargl": [
           {
            "marker": {
             "colorbar": {
              "outlinewidth": 0,
              "ticks": ""
             }
            },
            "type": "scatterpolargl"
           }
          ],
          "scatterternary": [
           {
            "marker": {
             "colorbar": {
              "outlinewidth": 0,
              "ticks": ""
             }
            },
            "type": "scatterternary"
           }
          ],
          "surface": [
           {
            "colorbar": {
             "outlinewidth": 0,
             "ticks": ""
            },
            "colorscale": [
             [
              0,
              "#0d0887"
             ],
             [
              0.1111111111111111,
              "#46039f"
             ],
             [
              0.2222222222222222,
              "#7201a8"
             ],
             [
              0.3333333333333333,
              "#9c179e"
             ],
             [
              0.4444444444444444,
              "#bd3786"
             ],
             [
              0.5555555555555556,
              "#d8576b"
             ],
             [
              0.6666666666666666,
              "#ed7953"
             ],
             [
              0.7777777777777778,
              "#fb9f3a"
             ],
             [
              0.8888888888888888,
              "#fdca26"
             ],
             [
              1,
              "#f0f921"
             ]
            ],
            "type": "surface"
           }
          ],
          "table": [
           {
            "cells": {
             "fill": {
              "color": "#EBF0F8"
             },
             "line": {
              "color": "white"
             }
            },
            "header": {
             "fill": {
              "color": "#C8D4E3"
             },
             "line": {
              "color": "white"
             }
            },
            "type": "table"
           }
          ]
         },
         "layout": {
          "annotationdefaults": {
           "arrowcolor": "#2a3f5f",
           "arrowhead": 0,
           "arrowwidth": 1
          },
          "autotypenumbers": "strict",
          "coloraxis": {
           "colorbar": {
            "outlinewidth": 0,
            "ticks": ""
           }
          },
          "colorscale": {
           "diverging": [
            [
             0,
             "#8e0152"
            ],
            [
             0.1,
             "#c51b7d"
            ],
            [
             0.2,
             "#de77ae"
            ],
            [
             0.3,
             "#f1b6da"
            ],
            [
             0.4,
             "#fde0ef"
            ],
            [
             0.5,
             "#f7f7f7"
            ],
            [
             0.6,
             "#e6f5d0"
            ],
            [
             0.7,
             "#b8e186"
            ],
            [
             0.8,
             "#7fbc41"
            ],
            [
             0.9,
             "#4d9221"
            ],
            [
             1,
             "#276419"
            ]
           ],
           "sequential": [
            [
             0,
             "#0d0887"
            ],
            [
             0.1111111111111111,
             "#46039f"
            ],
            [
             0.2222222222222222,
             "#7201a8"
            ],
            [
             0.3333333333333333,
             "#9c179e"
            ],
            [
             0.4444444444444444,
             "#bd3786"
            ],
            [
             0.5555555555555556,
             "#d8576b"
            ],
            [
             0.6666666666666666,
             "#ed7953"
            ],
            [
             0.7777777777777778,
             "#fb9f3a"
            ],
            [
             0.8888888888888888,
             "#fdca26"
            ],
            [
             1,
             "#f0f921"
            ]
           ],
           "sequentialminus": [
            [
             0,
             "#0d0887"
            ],
            [
             0.1111111111111111,
             "#46039f"
            ],
            [
             0.2222222222222222,
             "#7201a8"
            ],
            [
             0.3333333333333333,
             "#9c179e"
            ],
            [
             0.4444444444444444,
             "#bd3786"
            ],
            [
             0.5555555555555556,
             "#d8576b"
            ],
            [
             0.6666666666666666,
             "#ed7953"
            ],
            [
             0.7777777777777778,
             "#fb9f3a"
            ],
            [
             0.8888888888888888,
             "#fdca26"
            ],
            [
             1,
             "#f0f921"
            ]
           ]
          },
          "colorway": [
           "#636efa",
           "#EF553B",
           "#00cc96",
           "#ab63fa",
           "#FFA15A",
           "#19d3f3",
           "#FF6692",
           "#B6E880",
           "#FF97FF",
           "#FECB52"
          ],
          "font": {
           "color": "#2a3f5f"
          },
          "geo": {
           "bgcolor": "white",
           "lakecolor": "white",
           "landcolor": "#E5ECF6",
           "showlakes": true,
           "showland": true,
           "subunitcolor": "white"
          },
          "hoverlabel": {
           "align": "left"
          },
          "hovermode": "closest",
          "mapbox": {
           "style": "light"
          },
          "paper_bgcolor": "white",
          "plot_bgcolor": "#E5ECF6",
          "polar": {
           "angularaxis": {
            "gridcolor": "white",
            "linecolor": "white",
            "ticks": ""
           },
           "bgcolor": "#E5ECF6",
           "radialaxis": {
            "gridcolor": "white",
            "linecolor": "white",
            "ticks": ""
           }
          },
          "scene": {
           "xaxis": {
            "backgroundcolor": "#E5ECF6",
            "gridcolor": "white",
            "gridwidth": 2,
            "linecolor": "white",
            "showbackground": true,
            "ticks": "",
            "zerolinecolor": "white"
           },
           "yaxis": {
            "backgroundcolor": "#E5ECF6",
            "gridcolor": "white",
            "gridwidth": 2,
            "linecolor": "white",
            "showbackground": true,
            "ticks": "",
            "zerolinecolor": "white"
           },
           "zaxis": {
            "backgroundcolor": "#E5ECF6",
            "gridcolor": "white",
            "gridwidth": 2,
            "linecolor": "white",
            "showbackground": true,
            "ticks": "",
            "zerolinecolor": "white"
           }
          },
          "shapedefaults": {
           "line": {
            "color": "#2a3f5f"
           }
          },
          "ternary": {
           "aaxis": {
            "gridcolor": "white",
            "linecolor": "white",
            "ticks": ""
           },
           "baxis": {
            "gridcolor": "white",
            "linecolor": "white",
            "ticks": ""
           },
           "bgcolor": "#E5ECF6",
           "caxis": {
            "gridcolor": "white",
            "linecolor": "white",
            "ticks": ""
           }
          },
          "title": {
           "x": 0.05
          },
          "xaxis": {
           "automargin": true,
           "gridcolor": "white",
           "linecolor": "white",
           "ticks": "",
           "title": {
            "standoff": 15
           },
           "zerolinecolor": "white",
           "zerolinewidth": 2
          },
          "yaxis": {
           "automargin": true,
           "gridcolor": "white",
           "linecolor": "white",
           "ticks": "",
           "title": {
            "standoff": 15
           },
           "zerolinecolor": "white",
           "zerolinewidth": 2
          }
         }
        },
        "title": {
         "text": "Airport Departures (2001-2004)"
        },
        "updatemenus": [
         {
          "buttons": [
           {
            "args": [
             null,
             {
              "frame": {
               "duration": 500,
               "redraw": true
              },
              "fromcurrent": true,
              "transition": {
               "duration": 300,
               "easing": "quadratic-in-out"
              }
             }
            ],
            "label": "Play",
            "method": "animate"
           },
           {
            "args": [
             [
              null
             ],
             {
              "frame": {
               "duration": 0,
               "redraw": false
              },
              "mode": "immediate",
              "transition": {
               "duration": 0
              }
             }
            ],
            "label": "Pause",
            "method": "animate"
           }
          ],
          "direction": "left",
          "pad": {
           "r": 10,
           "t": 87
          },
          "showactive": false,
          "type": "buttons",
          "x": 0.1,
          "xanchor": "right",
          "y": 0,
          "yanchor": "top"
         }
        ],
        "width": 1200
       }
      },
      "image/png": "[encoded data removed]",
      "text/html": [
       "<div>                            <div id=\"87ca54bb-7b7f-4a16-abf7-706b026d87f8\" class=\"plotly-graph-div\" style=\"height:600px; width:1200px;\"></div>            <script type=\"text/javascript\">                require([\"plotly\"], function(Plotly) {                    window.PLOTLYENV=window.PLOTLYENV || {};                                    if (document.getElementById(\"87ca54bb-7b7f-4a16-abf7-706b026d87f8\")) {                    Plotly.newPlot(                        \"87ca54bb-7b7f-4a16-abf7-706b026d87f8\",                        [{\"geo\":\"geo\",\"hovertemplate\":\"<b>%{hovertext}</b><br><br>animation_frame=2001 Q1<br>lat=%{lat}<br>long=%{lon}<br>normalized_count=%{marker.color}<extra></extra>\",\"hovertext\":[\"Albuquerque, NM\\n(35.084248, -106.649241)\",\"Atlantic City, NJ\\n(33.748547, -84.391502)\",\"Albany, NY\\n(42.651242, -73.755418)\",\"Amarillo, TX\\n(35.207009, -101.832013)\",\"Aspen, CO\\n(39.190665, -106.819201)\",\"Atlanta, GA (Metropolitan Area)\\n(33.748547, -84.391502)\",\"Austin, TX\\n(30.264979, -97.746598)\",\"Hartford, CT\\n(41.765775, -72.673356)\",\"Birmingham, AL\\n(33.522859, -86.807705)\",\"Nashville, TN\\n(36.166687, -86.779932)\",\"Boise, ID\\n(43.597772, -83.884521)\",\"Boston, MA (Metropolitan Area)\\n(42.358894, -71.056742)\",\"Baton Rouge, LA\\n(30.443319, -91.187488)\",\"Burlington, VT\\n(44.475949, -73.212481)\",\"Buffalo, NY\\n(39.945422, -78.64671)\",\"Los Angeles, CA (Metropolitan Area)\\n(34.052238, -118.243344)\",\"Washington, DC (Metropolitan Area)\\n(38.892062, -77.019912)\",\"Columbia, SC\\n(39.962649, -82.996216)\",\"Cleveland, OH (Metropolitan Area)\\n(41.505546, -81.6915)\",\"Chicago, IL\\n(41.775002, -87.696388)\",\"Charleston, SC\\n(32.77647, -79.931027)\",\"Cleveland, OH (Metropolitan Area)\\n(41.505546, -81.6915)\",\"Charlotte, NC\\n(35.222936, -80.840161)\",\"Columbus, OH\\n(39.962649, -82.996216)\",\"Colorado Springs, CO\\n(38.835224, -104.819798)\",\"Corpus Christi, TX\\n(27.796416, -97.404131)\",\"Cincinnati, OH\\n(39.104427, -84.513808)\",\"Daytona Beach, FL\\n(29.207056, -81.020739)\",\"Dallas/Fort Worth, TX\\n(40.11086, -77.035636)\",\"Dayton, OH\\n(39.760982, -84.192203)\",\"Washington, DC (Metropolitan Area)\\n(38.892062, -77.019912)\",\"Denver, CO\\n(39.738453, -104.984853)\",\"Dallas/Fort Worth, TX\\n(40.11086, -77.035636)\",\"Des Moines, IA\\n(41.588822, -93.620309)\",\"Detroit, MI\\n(42.332916, -83.047853)\",\"Houston, TX\\n(29.760803, -95.369506)\",\"Eagle, CO\\n(38.8339, -120.040604)\",\"El Paso, TX\\n(31.76006, -106.492257)\",\"Eugene, OR\\n(37.533089, -75.823024)\",\"New York City, NY (Metropolitan Area)\\n(40.123164, -75.333718)\",\"Key West, FL\\n(70.129129, -143.63129)\",\"Miami, FL (Metropolitan Area)\\n(44.977479, -93.264346)\",\"Gulfport/Biloxi, MS\\n(30.369834, -89.091582)\",\"Grand Rapids, MI\\n(47.925705, -97.036068)\",\"Greensboro/High Point, NC\\n(36.072701, -79.793899)\",\"Greenville/Spartanburg, SC\\n(44.513288, -88.013256)\",\"Houston, TX\\n(29.760803, -95.369506)\",\"New York City, NY (Metropolitan Area)\\n(40.123164, -75.333718)\",\"Harlingen/San Benito, TX\\n(40.8078, -73.945801)\",\"Huntsville, AL\\n(34.729538, -86.585283)\",\"Washington, DC (Metropolitan Area)\\n(38.892062, -77.019912)\",\"Houston, TX\\n(29.760803, -95.369506)\",\"Indianapolis, IN\\n(39.76845, -86.156212)\",\"New York City, NY (Metropolitan Area)\\n(40.123164, -75.333718)\",\"Jackson/Vicksburg, MS\\n(30.325968, -81.65676)\",\"Jacksonville, FL\\n(30.325968, -81.65676)\",\"New York City, NY (Metropolitan Area)\\n(40.123164, -75.333718)\",\"Las Vegas, NV\\n(36.169202, -115.140597)\",\"Los Angeles, CA (Metropolitan Area)\\n(34.052238, -118.243344)\",\"New York City, NY (Metropolitan Area)\\n(40.123164, -75.333718)\",\"Los Angeles, CA (Metropolitan Area)\\n(34.052238, -118.243344)\",\"Little Rock, AR\\n(34.748745, -92.275105)\",\"Kansas City, MO\\n(39.099792, -94.578559)\",\"Orlando, FL\\n(28.538331, -81.378879)\",\"Chicago, IL\\n(41.775002, -87.696388)\",\"Memphis, TN\\n(35.143378, -90.052136)\",\"Boston, MA (Metropolitan Area)\\n(42.358894, -71.056742)\",\"Miami, FL (Metropolitan Area)\\n(44.977479, -93.264346)\",\"Kansas City, MO\\n(39.099792, -94.578559)\",\"Milwaukee, WI\\n(43.041072, -87.909421)\",\"Melbourne, FL\\n(28.079931, -80.603516)\",\"Madison, WI\\n(43.073926, -89.385244)\",\"Minneapolis/St. Paul, MN\\n(44.977479, -93.264346)\",\"New Orleans, LA\\n(29.950621, -90.074948)\",\"Myrtle Beach, SC\\n(33.68785, -78.883852)\",\"New York City, NY (Metropolitan Area)\\n(40.123164, -75.333718)\",\"San Francisco, CA (Metropolitan Area)\\n(37.78008, -122.420168)\",\"Oklahoma City, OK\\n(35.468494, -97.521264)\",\"Omaha, NE\\n(46.07035, -93.666319)\",\"Los Angeles, CA (Metropolitan Area)\\n(34.052238, -118.243344)\",\"Chicago, IL\\n(41.775002, -87.696388)\",\"Norfolk, VA (Metropolitan Area)\\n(36.846164, -76.285913)\",\"Portland, OR\\n(45.516018, -122.681425)\",\"Norfolk, VA (Metropolitan Area)\\n(36.846164, -76.285913)\",\"Philadelphia, PA\\n(39.951061, -75.16562)\",\"Phoenix, AZ\\n(30.406931, -87.217578)\",\"Pittsburgh, PA\\n(40.442169, -79.994945)\",\"Palm Springs, CA\\n(33.830302, -116.546843)\",\"Boston, MA (Metropolitan Area)\\n(42.358894, -71.056742)\",\"Raleigh/Durham, NC\\n(42.673348, -72.179683)\",\"Reno, NV\\n(30.177159, -95.162771)\",\"Rochester, NY\\n(43.155708, -77.612547)\",\"Fort Myers, FL\\n(40.253979, -103.801495)\",\"San Diego, CA\\n(32.71576, -117.163817)\",\"San Antonio, TX\\n(29.425173, -98.494599)\",\"Savannah, GA\\n(40.115007, -111.654713)\",\"Louisville, KY\\n(38.256078, -85.751569)\",\"Seattle, WA\\n(47.603229, -122.33028)\",\"San Francisco, CA (Metropolitan Area)\\n(37.78008, -122.420168)\",\"San Francisco, CA (Metropolitan Area)\\n(37.78008, -122.420168)\",\"Salt Lake City, UT\\n(40.758478, -111.888142)\",\"Sacramento, CA\\n(38.582087, -121.50012)\",\"Los Angeles, CA (Metropolitan Area)\\n(34.052238, -118.243344)\",\"St. Louis, MO\\n(38.630276, -90.200309)\",\"New York City, NY (Metropolitan Area)\\n(40.123164, -75.333718)\",\"Syracuse, NY\\n(43.047945, -76.147448)\",\"Tallahassee, FL\\n(38.921902, -120.020798)\",\"Tampa, FL (Metropolitan Area)\\n(37.8606, -78.804199)\",\"Tulsa, OK\\n(61.096484, -160.967455)\",\"Tucson, AZ\\n(35.167852, -103.726151)\",\"Knoxville, TN\\n(35.962631, -83.916677)\",\"Washington, DC (Metropolitan Area)\\n(38.892062, -77.019912)\"],\"lat\":[35.084248,33.748547,42.651242,35.207009,39.190665,33.748547,30.264979,41.765775,33.522859,36.166687,43.597772,42.358894,30.443319,44.475949,39.945422,34.052238,38.892062,39.962649,41.505546,41.775002,32.77647,41.505546,35.222936,39.962649,38.835224,27.796416,39.104427,29.207056,40.11086,39.760982,38.892062,39.738453,40.11086,41.588822,42.332916,29.760803,38.8339,31.76006,37.533089,40.123164,70.129129,44.977479,30.369834,47.925705,36.072701,44.513288,29.760803,40.123164,40.8078,34.729538,38.892062,29.760803,39.76845,40.123164,30.325968,30.325968,40.123164,36.169202,34.052238,40.123164,34.052238,34.748745,39.099792,28.538331,41.775002,35.143378,42.358894,44.977479,39.099792,43.041072,28.079931,43.073926,44.977479,29.950621,33.68785,40.123164,37.78008,35.468494,46.07035,34.052238,41.775002,36.846164,45.516018,36.846164,39.951061,30.406931,40.442169,33.830302,42.358894,42.673348,30.177159,43.155708,40.253979,32.71576,29.425173,40.115007,38.256078,47.603229,37.78008,37.78008,40.758478,38.582087,34.052238,38.630276,40.123164,43.047945,38.921902,37.8606,61.096484,35.167852,35.962631,38.892062],\"legendgroup\":\"\",\"lon\":[-106.649241,-84.391502,-73.755418,-101.832013,-106.819201,-84.391502,-97.746598,-72.673356,-86.807705,-86.779932,-83.884521,-71.056742,-91.187488,-73.212481,-78.64671,-118.243344,-77.019912,-82.996216,-81.6915,-87.696388,-79.931027,-81.6915,-80.840161,-82.996216,-104.819798,-97.404131,-84.513808,-81.020739,-77.035636,-84.192203,-77.019912,-104.984853,-77.035636,-93.620309,-83.047853,-95.369506,-120.040604,-106.492257,-75.823024,-75.333718,-143.63129,-93.264346,-89.091582,-97.036068,-79.793899,-88.013256,-95.369506,-75.333718,-73.945801,-86.585283,-77.019912,-95.369506,-86.156212,-75.333718,-81.65676,-81.65676,-75.333718,-115.140597,-118.243344,-75.333718,-118.243344,-92.275105,-94.578559,-81.378879,-87.696388,-90.052136,-71.056742,-93.264346,-94.578559,-87.909421,-80.603516,-89.385244,-93.264346,-90.074948,-78.883852,-75.333718,-122.420168,-97.521264,-93.666319,-118.243344,-87.696388,-76.285913,-122.681425,-76.285913,-75.16562,-87.217578,-79.994945,-116.546843,-71.056742,-72.179683,-95.162771,-77.612547,-103.801495,-117.163817,-98.494599,-111.654713,-85.751569,-122.33028,-122.420168,-122.420168,-111.888142,-121.50012,-118.243344,-90.200309,-75.333718,-76.147448,-120.020798,-78.804199,-160.967455,-103.726151,-83.916677,-77.019912],\"marker\":{\"color\":[0.34177215189873417,0.02531645569620253,0.1518987341772152,0.05063291139240506,0.06329113924050633,0.45569620253164556,0.379746835443038,0.21518987341772153,0.3037974683544304,0.17721518987341772,0.08860759493670886,0.9113924050632911,0.012658227848101266,0.06329113924050633,0.26582278481012656,0.4936708860759494,0.0,0.12658227848101267,0.4936708860759494,0.21518987341772153,0.12658227848101267,0.5316455696202531,0.379746835443038,0.34177215189873417,0.1518987341772152,0.05063291139240506,0.3291139240506329,0.06329113924050633,0.8227848101265823,0.24050632911392406,0.0,0.31645569620253167,0.8607594936708861,0.11392405063291139,0.31645569620253167,0.5443037974683544,0.10126582278481013,0.16455696202531644,0.08860759493670886,0.3924050632911392,0.05063291139240506,0.4810126582278481,0.02531645569620253,0.17721518987341772,0.13924050632911392,0.0759493670886076,0.620253164556962,0.4177215189873418,0.02531645569620253,0.0379746835443038,0.0,0.620253164556962,0.2911392405063291,0.4050632911392405,0.02531645569620253,0.2911392405063291,0.4177215189873418,0.26582278481012656,0.5316455696202531,0.43037974683544306,0.43037974683544306,0.08860759493670886,0.46835443037974683,0.0759493670886076,0.9493670886075949,0.189873417721519,0.810126582278481,0.4810126582278481,0.05063291139240506,0.16455696202531644,0.11392405063291139,0.10126582278481013,0.16455696202531644,0.17721518987341772,0.0759493670886076,0.20253164556962025,0.12658227848101267,0.0759493670886076,0.06329113924050633,0.5189873417721519,0.9746835443037974,0.0759493670886076,0.08860759493670886,0.06329113924050633,0.0379746835443038,0.08860759493670886,0.0759493670886076,0.02531645569620253,0.8354430379746836,0.08860759493670886,0.06329113924050633,0.0379746835443038,0.13924050632911392,0.0759493670886076,0.0759493670886076,0.02531645569620253,0.13924050632911392,0.06329113924050633,0.13924050632911392,0.12658227848101267,0.0759493670886076,0.02531645569620253,0.5189873417721519,0.06329113924050633,0.4050632911392405,0.0379746835443038,0.0,0.05063291139240506,0.02531645569620253,0.02531645569620253,0.0759493670886076,0.0],\"coloraxis\":\"coloraxis\",\"symbol\":\"circle\"},\"mode\":\"markers\",\"name\":\"\",\"showlegend\":false,\"type\":\"scattergeo\"},{\"geo\":\"geo2\",\"hovertemplate\":\"<b>%{hovertext}</b><br><br>animation_frame=2001 Q1<br>lat=%{lat}<br>long=%{lon}<br>normalized_count=%{marker.color}<extra></extra>\",\"hovertext\":[\"Hartford, CT\\n(41.765775, -72.673356)\",\"Nashville, TN\\n(36.166687, -86.779932)\",\"Boston, MA (Metropolitan Area)\\n(42.358894, -71.056742)\",\"Buffalo, NY\\n(39.945422, -78.64671)\",\"Los Angeles, CA (Metropolitan Area)\\n(34.052238, -118.243344)\",\"Washington, DC (Metropolitan Area)\\n(38.892062, -77.019912)\",\"Cleveland, OH (Metropolitan Area)\\n(41.505546, -81.6915)\",\"Chicago, IL\\n(41.775002, -87.696388)\",\"Cleveland, OH (Metropolitan Area)\\n(41.505546, -81.6915)\",\"Charlotte, NC\\n(35.222936, -80.840161)\",\"Columbus, OH\\n(39.962649, -82.996216)\",\"Cincinnati, OH\\n(39.104427, -84.513808)\",\"Dallas/Fort Worth, TX\\n(40.11086, -77.035636)\",\"Dayton, OH\\n(39.760982, -84.192203)\",\"Washington, DC (Metropolitan Area)\\n(38.892062, -77.019912)\",\"Denver, CO\\n(39.738453, -104.984853)\",\"Dallas/Fort Worth, TX\\n(40.11086, -77.035636)\",\"Des Moines, IA\\n(41.588822, -93.620309)\",\"Detroit, MI\\n(42.332916, -83.047853)\",\"Houston, TX\\n(29.760803, -95.369506)\",\"Eagle, CO\\n(38.8339, -120.040604)\",\"El Paso, TX\\n(31.76006, -106.492257)\",\"New York City, NY (Metropolitan Area)\\n(40.123164, -75.333718)\",\"Key West, FL\\n(70.129129, -143.63129)\",\"Miami, FL (Metropolitan Area)\\n(44.977479, -93.264346)\",\"Spokane, WA\\n(47.658999, -117.425022)\",\"Greensboro/High Point, NC\\n(36.072701, -79.793899)\",\"Houston, TX\\n(29.760803, -95.369506)\",\"New York City, NY (Metropolitan Area)\\n(40.123164, -75.333718)\",\"Harlingen/San Benito, TX\\n(40.8078, -73.945801)\",\"Washington, DC (Metropolitan Area)\\n(38.892062, -77.019912)\",\"Houston, TX\\n(29.760803, -95.369506)\",\"Wichita, KS\\n(39.960481, -75.605214)\",\"Indianapolis, IN\\n(39.76845, -86.156212)\",\"New York City, NY (Metropolitan Area)\\n(40.123164, -75.333718)\",\"Jackson/Vicksburg, MS\\n(30.325968, -81.65676)\",\"Jacksonville, FL\\n(30.325968, -81.65676)\",\"New York City, NY (Metropolitan Area)\\n(40.123164, -75.333718)\",\"Las Vegas, NV\\n(36.169202, -115.140597)\",\"Los Angeles, CA (Metropolitan Area)\\n(34.052238, -118.243344)\",\"Lubbock, TX\\n(41.181125, -96.030508)\",\"New York City, NY (Metropolitan Area)\\n(40.123164, -75.333718)\",\"Los Angeles, CA (Metropolitan Area)\\n(34.052238, -118.243344)\",\"Little Rock, AR\\n(34.748745, -92.275105)\",\"Midland/Odessa, TX\\n(31.997433, -102.078043)\",\"Kansas City, MO\\n(39.099792, -94.578559)\",\"Orlando, FL\\n(28.538331, -81.378879)\",\"Harrisburg, PA\\n(40.259572, -76.881821)\",\"Chicago, IL\\n(41.775002, -87.696388)\",\"Memphis, TN\\n(35.143378, -90.052136)\",\"Mission/McAllen/Edinburg, TX\\n(43.153621, -93.201042)\",\"Boston, MA (Metropolitan Area)\\n(42.358894, -71.056742)\",\"Miami, FL (Metropolitan Area)\\n(44.977479, -93.264346)\",\"Kansas City, MO\\n(39.099792, -94.578559)\",\"Milwaukee, WI\\n(43.041072, -87.909421)\",\"Minneapolis/St. Paul, MN\\n(44.977479, -93.264346)\",\"New Orleans, LA\\n(29.950621, -90.074948)\",\"Myrtle Beach, SC\\n(33.68785, -78.883852)\",\"New York City, NY (Metropolitan Area)\\n(40.123164, -75.333718)\",\"San Francisco, CA (Metropolitan Area)\\n(37.78008, -122.420168)\",\"Oklahoma City, OK\\n(35.468494, -97.521264)\",\"Omaha, NE\\n(46.07035, -93.666319)\",\"Los Angeles, CA (Metropolitan Area)\\n(34.052238, -118.243344)\",\"Chicago, IL\\n(41.775002, -87.696388)\",\"Norfolk, VA (Metropolitan Area)\\n(36.846164, -76.285913)\",\"West Palm Beach/Palm Beach, FL\\n(33.90976, -98.500854)\",\"Portland, OR\\n(45.516018, -122.681425)\",\"Norfolk, VA (Metropolitan Area)\\n(36.846164, -76.285913)\",\"Philadelphia, PA\\n(39.951061, -75.16562)\",\"Phoenix, AZ\\n(30.406931, -87.217578)\",\"Tampa, FL (Metropolitan Area)\\n(37.8606, -78.804199)\",\"Pittsburgh, PA\\n(40.442169, -79.994945)\",\"Palm Springs, CA\\n(33.830302, -116.546843)\",\"Boston, MA (Metropolitan Area)\\n(42.358894, -71.056742)\",\"Portland, ME\\n(45.516018, -122.681425)\",\"Raleigh/Durham, NC\\n(42.673348, -72.179683)\",\"Richmond, VA\\n(37.540759, -77.433932)\",\"Reno, NV\\n(30.177159, -95.162771)\",\"Rochester, NY\\n(43.155708, -77.612547)\",\"Fort Myers, FL\\n(40.253979, -103.801495)\",\"San Diego, CA\\n(32.71576, -117.163817)\",\"San Antonio, TX\\n(29.425173, -98.494599)\",\"Savannah, GA\\n(40.115007, -111.654713)\",\"Santa Barbara, CA\\n(34.420867, -119.698342)\",\"Louisville, KY\\n(38.256078, -85.751569)\",\"Seattle, WA\\n(47.603229, -122.33028)\",\"San Francisco, CA (Metropolitan Area)\\n(37.78008, -122.420168)\",\"San Francisco, CA (Metropolitan Area)\\n(37.78008, -122.420168)\",\"Salt Lake City, UT\\n(40.758478, -111.888142)\",\"Sacramento, CA\\n(38.582087, -121.50012)\",\"Los Angeles, CA (Metropolitan Area)\\n(34.052238, -118.243344)\",\"Sarasota/Bradenton, FL\\n(27.336483, -82.538602)\",\"St. Louis, MO\\n(38.630276, -90.200309)\",\"New York City, NY (Metropolitan Area)\\n(40.123164, -75.333718)\",\"Syracuse, NY\\n(43.047945, -76.147448)\",\"Tallahassee, FL\\n(38.921902, -120.020798)\",\"Tampa, FL (Metropolitan Area)\\n(37.8606, -78.804199)\",\"Tulsa, OK\\n(61.096484, -160.967455)\",\"Tucson, AZ\\n(35.167852, -103.726151)\",\"Washington, DC (Metropolitan Area)\\n(38.892062, -77.019912)\"],\"lat\":[41.765775,36.166687,42.358894,39.945422,34.052238,38.892062,41.505546,41.775002,41.505546,35.222936,39.962649,39.104427,40.11086,39.760982,38.892062,39.738453,40.11086,41.588822,42.332916,29.760803,38.8339,31.76006,40.123164,70.129129,44.977479,47.658999,36.072701,29.760803,40.123164,40.8078,38.892062,29.760803,39.960481,39.76845,40.123164,30.325968,30.325968,40.123164,36.169202,34.052238,41.181125,40.123164,34.052238,34.748745,31.997433,39.099792,28.538331,40.259572,41.775002,35.143378,43.153621,42.358894,44.977479,39.099792,43.041072,44.977479,29.950621,33.68785,40.123164,37.78008,35.468494,46.07035,34.052238,41.775002,36.846164,33.90976,45.516018,36.846164,39.951061,30.406931,37.8606,40.442169,33.830302,42.358894,45.516018,42.673348,37.540759,30.177159,43.155708,40.253979,32.71576,29.425173,40.115007,34.420867,38.256078,47.603229,37.78008,37.78008,40.758478,38.582087,34.052238,27.336483,38.630276,40.123164,43.047945,38.921902,37.8606,61.096484,35.167852,38.892062],\"legendgroup\":\"\",\"lon\":[-72.673356,-86.779932,-71.056742,-78.64671,-118.243344,-77.019912,-81.6915,-87.696388,-81.6915,-80.840161,-82.996216,-84.513808,-77.035636,-84.192203,-77.019912,-104.984853,-77.035636,-93.620309,-83.047853,-95.369506,-120.040604,-106.492257,-75.333718,-143.63129,-93.264346,-117.425022,-79.793899,-95.369506,-75.333718,-73.945801,-77.019912,-95.369506,-75.605214,-86.156212,-75.333718,-81.65676,-81.65676,-75.333718,-115.140597,-118.243344,-96.030508,-75.333718,-118.243344,-92.275105,-102.078043,-94.578559,-81.378879,-76.881821,-87.696388,-90.052136,-93.201042,-71.056742,-93.264346,-94.578559,-87.909421,-93.264346,-90.074948,-78.883852,-75.333718,-122.420168,-97.521264,-93.666319,-118.243344,-87.696388,-76.285913,-98.500854,-122.681425,-76.285913,-75.16562,-87.217578,-78.804199,-79.994945,-116.546843,-71.056742,-122.681425,-72.179683,-77.433932,-95.162771,-77.612547,-103.801495,-117.163817,-98.494599,-111.654713,-119.698342,-85.751569,-122.33028,-122.420168,-122.420168,-111.888142,-121.50012,-118.243344,-82.538602,-90.200309,-75.333718,-76.147448,-120.020798,-78.804199,-160.967455,-103.726151,-77.019912],\"marker\":{\"color\":[0.06593406593406594,0.2087912087912088,0.02197802197802198,0.02197802197802198,0.38461538461538464,0.9340659340659341,0.06593406593406594,0.02197802197802198,0.06593406593406594,0.02197802197802198,0.054945054945054944,0.04395604395604396,0.18681318681318682,0.06593406593406594,0.9340659340659341,0.08791208791208792,0.1978021978021978,0.01098901098901099,0.06593406593406594,0.21978021978021978,0.01098901098901099,0.03296703296703297,0.5934065934065934,0.02197802197802198,0.42857142857142855,0.07692307692307693,0.07692307692307693,0.25274725274725274,0.5384615384615384,0.01098901098901099,0.9340659340659341,0.25274725274725274,0.0,0.12087912087912088,0.5824175824175825,0.06593406593406594,0.12087912087912088,0.5714285714285714,0.13186813186813187,0.38461538461538464,0.04395604395604396,0.5934065934065934,0.34065934065934067,0.06593406593406594,0.04395604395604396,0.2087912087912088,0.3076923076923077,0.01098901098901099,0.0989010989010989,0.15384615384615385,0.04395604395604396,0.02197802197802198,0.43956043956043955,0.0,0.15384615384615385,0.2087912087912088,0.2087912087912088,0.054945054945054944,0.2857142857142857,0.6483516483516484,0.21978021978021978,0.2087912087912088,0.38461538461538464,0.0989010989010989,0.24175824175824176,0.3076923076923077,0.27472527472527475,0.18681318681318682,0.25274725274725274,0.2857142857142857,0.17582417582417584,0.2857142857142857,0.08791208791208792,0.02197802197802198,0.054945054945054944,0.3076923076923077,0.16483516483516483,0.18681318681318682,0.14285714285714285,0.0989010989010989,0.2857142857142857,0.25274725274725274,0.0989010989010989,0.02197802197802198,0.10989010989010989,0.2967032967032967,0.6703296703296703,0.6593406593406593,0.25274725274725274,0.24175824175824176,0.38461538461538464,0.10989010989010989,0.31868131868131866,0.5494505494505495,0.07692307692307693,0.01098901098901099,0.7472527472527473,0.21978021978021978,0.1978021978021978,0.3626373626373626],\"coloraxis\":\"coloraxis\",\"symbol\":\"circle\"},\"mode\":\"markers\",\"name\":\"\",\"showlegend\":false,\"type\":\"scattergeo\"}],                        {\"template\":{\"data\":{\"histogram2dcontour\":[{\"type\":\"histogram2dcontour\",\"colorbar\":{\"outlinewidth\":0,\"ticks\":\"\"},\"colorscale\":[[0.0,\"#0d0887\"],[0.1111111111111111,\"#46039f\"],[0.2222222222222222,\"#7201a8\"],[0.3333333333333333,\"#9c179e\"],[0.4444444444444444,\"#bd3786\"],[0.5555555555555556,\"#d8576b\"],[0.6666666666666666,\"#ed7953\"],[0.7777777777777778,\"#fb9f3a\"],[0.8888888888888888,\"#fdca26\"],[1.0,\"#f0f921\"]]}],\"choropleth\":[{\"type\":\"choropleth\",\"colorbar\":{\"outlinewidth\":0,\"ticks\":\"\"}}],\"histogram2d\":[{\"type\":\"histogram2d\",\"colorbar\":{\"outlinewidth\":0,\"ticks\":\"\"},\"colorscale\":[[0.0,\"#0d0887\"],[0.1111111111111111,\"#46039f\"],[0.2222222222222222,\"#7201a8\"],[0.3333333333333333,\"#9c179e\"],[0.4444444444444444,\"#bd3786\"],[0.5555555555555556,\"#d8576b\"],[0.6666666666666666,\"#ed7953\"],[0.7777777777777778,\"#fb9f3a\"],[0.8888888888888888,\"#fdca26\"],[1.0,\"#f0f921\"]]}],\"heatmap\":[{\"type\":\"heatmap\",\"colorbar\":{\"outlinewidth\":0,\"ticks\":\"\"},\"colorscale\":[[0.0,\"#0d0887\"],[0.1111111111111111,\"#46039f\"],[0.2222222222222222,\"#7201a8\"],[0.3333333333333333,\"#9c179e\"],[0.4444444444444444,\"#bd3786\"],[0.5555555555555556,\"#d8576b\"],[0.6666666666666666,\"#ed7953\"],[0.7777777777777778,\"#fb9f3a\"],[0.8888888888888888,\"#fdca26\"],[1.0,\"#f0f921\"]]}],\"heatmapgl\":[{\"type\":\"heatmapgl\",\"colorbar\":{\"outlinewidth\":0,\"ticks\":\"\"},\"colorscale\":[[0.0,\"#0d0887\"],[0.1111111111111111,\"#46039f\"],[0.2222222222222222,\"#7201a8\"],[0.3333333333333333,\"#9c179e\"],[0.4444444444444444,\"#bd3786\"],[0.5555555555555556,\"#d8576b\"],[0.6666666666666666,\"#ed7953\"],[0.7777777777777778,\"#fb9f3a\"],[0.8888888888888888,\"#fdca26\"],[1.0,\"#f0f921\"]]}],\"contourcarpet\":[{\"type\":\"contourcarpet\",\"colorbar\":{\"outlinewidth\":0,\"ticks\":\"\"}}],\"contour\":[{\"type\":\"contour\",\"colorbar\":{\"outlinewidth\":0,\"ticks\":\"\"},\"colorscale\":[[0.0,\"#0d0887\"],[0.1111111111111111,\"#46039f\"],[0.2222222222222222,\"#7201a8\"],[0.3333333333333333,\"#9c179e\"],[0.4444444444444444,\"#bd3786\"],[0.5555555555555556,\"#d8576b\"],[0.6666666666666666,\"#ed7953\"],[0.7777777777777778,\"#fb9f3a\"],[0.8888888888888888,\"#fdca26\"],[1.0,\"#f0f921\"]]}],\"surface\":[{\"type\":\"surface\",\"colorbar\":{\"outlinewidth\":0,\"ticks\":\"\"},\"colorscale\":[[0.0,\"#0d0887\"],[0.1111111111111111,\"#46039f\"],[0.2222222222222222,\"#7201a8\"],[0.3333333333333333,\"#9c179e\"],[0.4444444444444444,\"#bd3786\"],[0.5555555555555556,\"#d8576b\"],[0.6666666666666666,\"#ed7953\"],[0.7777777777777778,\"#fb9f3a\"],[0.8888888888888888,\"#fdca26\"],[1.0,\"#f0f921\"]]}],\"mesh3d\":[{\"type\":\"mesh3d\",\"colorbar\":{\"outlinewidth\":0,\"ticks\":\"\"}}],\"scatter\":[{\"fillpattern\":{\"fillmode\":\"overlay\",\"size\":10,\"solidity\":0.2},\"type\":\"scatter\"}],\"parcoords\":[{\"type\":\"parcoords\",\"line\":{\"colorbar\":{\"outlinewidth\":0,\"ticks\":\"\"}}}],\"scatterpolargl\":[{\"type\":\"scatterpolargl\",\"marker\":{\"colorbar\":{\"outlinewidth\":0,\"ticks\":\"\"}}}],\"bar\":[{\"error_x\":{\"color\":\"#2a3f5f\"},\"error_y\":{\"color\":\"#2a3f5f\"},\"marker\":{\"line\":{\"color\":\"#E5ECF6\",\"width\":0.5},\"pattern\":{\"fillmode\":\"overlay\",\"size\":10,\"solidity\":0.2}},\"type\":\"bar\"}],\"scattergeo\":[{\"type\":\"scattergeo\",\"marker\":{\"colorbar\":{\"outlinewidth\":0,\"ticks\":\"\"}}}],\"scatterpolar\":[{\"type\":\"scatterpolar\",\"marker\":{\"colorbar\":{\"outlinewidth\":0,\"ticks\":\"\"}}}],\"histogram\":[{\"marker\":{\"pattern\":{\"fillmode\":\"overlay\",\"size\":10,\"solidity\":0.2}},\"type\":\"histogram\"}],\"scattergl\":[{\"type\":\"scattergl\",\"marker\":{\"colorbar\":{\"outlinewidth\":0,\"ticks\":\"\"}}}],\"scatter3d\":[{\"type\":\"scatter3d\",\"line\":{\"colorbar\":{\"outlinewidth\":0,\"ticks\":\"\"}},\"marker\":{\"colorbar\":{\"outlinewidth\":0,\"ticks\":\"\"}}}],\"scattermapbox\":[{\"type\":\"scattermapbox\",\"marker\":{\"colorbar\":{\"outlinewidth\":0,\"ticks\":\"\"}}}],\"scatterternary\":[{\"type\":\"scatterternary\",\"marker\":{\"colorbar\":{\"outlinewidth\":0,\"ticks\":\"\"}}}],\"scattercarpet\":[{\"type\":\"scattercarpet\",\"marker\":{\"colorbar\":{\"outlinewidth\":0,\"ticks\":\"\"}}}],\"carpet\":[{\"aaxis\":{\"endlinecolor\":\"#2a3f5f\",\"gridcolor\":\"white\",\"linecolor\":\"white\",\"minorgridcolor\":\"white\",\"startlinecolor\":\"#2a3f5f\"},\"baxis\":{\"endlinecolor\":\"#2a3f5f\",\"gridcolor\":\"white\",\"linecolor\":\"white\",\"minorgridcolor\":\"white\",\"startlinecolor\":\"#2a3f5f\"},\"type\":\"carpet\"}],\"table\":[{\"cells\":{\"fill\":{\"color\":\"#EBF0F8\"},\"line\":{\"color\":\"white\"}},\"header\":{\"fill\":{\"color\":\"#C8D4E3\"},\"line\":{\"color\":\"white\"}},\"type\":\"table\"}],\"barpolar\":[{\"marker\":{\"line\":{\"color\":\"#E5ECF6\",\"width\":0.5},\"pattern\":{\"fillmode\":\"overlay\",\"size\":10,\"solidity\":0.2}},\"type\":\"barpolar\"}],\"pie\":[{\"automargin\":true,\"type\":\"pie\"}]},\"layout\":{\"autotypenumbers\":\"strict\",\"colorway\":[\"#636efa\",\"#EF553B\",\"#00cc96\",\"#ab63fa\",\"#FFA15A\",\"#19d3f3\",\"#FF6692\",\"#B6E880\",\"#FF97FF\",\"#FECB52\"],\"font\":{\"color\":\"#2a3f5f\"},\"hovermode\":\"closest\",\"hoverlabel\":{\"align\":\"left\"},\"paper_bgcolor\":\"white\",\"plot_bgcolor\":\"#E5ECF6\",\"polar\":{\"bgcolor\":\"#E5ECF6\",\"angularaxis\":{\"gridcolor\":\"white\",\"linecolor\":\"white\",\"ticks\":\"\"},\"radialaxis\":{\"gridcolor\":\"white\",\"linecolor\":\"white\",\"ticks\":\"\"}},\"ternary\":{\"bgcolor\":\"#E5ECF6\",\"aaxis\":{\"gridcolor\":\"white\",\"linecolor\":\"white\",\"ticks\":\"\"},\"baxis\":{\"gridcolor\":\"white\",\"linecolor\":\"white\",\"ticks\":\"\"},\"caxis\":{\"gridcolor\":\"white\",\"linecolor\":\"white\",\"ticks\":\"\"}},\"coloraxis\":{\"colorbar\":{\"outlinewidth\":0,\"ticks\":\"\"}},\"colorscale\":{\"sequential\":[[0.0,\"#0d0887\"],[0.1111111111111111,\"#46039f\"],[0.2222222222222222,\"#7201a8\"],[0.3333333333333333,\"#9c179e\"],[0.4444444444444444,\"#bd3786\"],[0.5555555555555556,\"#d8576b\"],[0.6666666666666666,\"#ed7953\"],[0.7777777777777778,\"#fb9f3a\"],[0.8888888888888888,\"#fdca26\"],[1.0,\"#f0f921\"]],\"sequentialminus\":[[0.0,\"#0d0887\"],[0.1111111111111111,\"#46039f\"],[0.2222222222222222,\"#7201a8\"],[0.3333333333333333,\"#9c179e\"],[0.4444444444444444,\"#bd3786\"],[0.5555555555555556,\"#d8576b\"],[0.6666666666666666,\"#ed7953\"],[0.7777777777777778,\"#fb9f3a\"],[0.8888888888888888,\"#fdca26\"],[1.0,\"#f0f921\"]],\"diverging\":[[0,\"#8e0152\"],[0.1,\"#c51b7d\"],[0.2,\"#de77ae\"],[0.3,\"#f1b6da\"],[0.4,\"#fde0ef\"],[0.5,\"#f7f7f7\"],[0.6,\"#e6f5d0\"],[0.7,\"#b8e186\"],[0.8,\"#7fbc41\"],[0.9,\"#4d9221\"],[1,\"#276419\"]]},\"xaxis\":{\"gridcolor\":\"white\",\"linecolor\":\"white\",\"ticks\":\"\",\"title\":{\"standoff\":15},\"zerolinecolor\":\"white\",\"automargin\":true,\"zerolinewidth\":2},\"yaxis\":{\"gridcolor\":\"white\",\"linecolor\":\"white\",\"ticks\":\"\",\"title\":{\"standoff\":15},\"zerolinecolor\":\"white\",\"automargin\":true,\"zerolinewidth\":2},\"scene\":{\"xaxis\":{\"backgroundcolor\":\"#E5ECF6\",\"gridcolor\":\"white\",\"linecolor\":\"white\",\"showbackground\":true,\"ticks\":\"\",\"zerolinecolor\":\"white\",\"gridwidth\":2},\"yaxis\":{\"backgroundcolor\":\"#E5ECF6\",\"gridcolor\":\"white\",\"linecolor\":\"white\",\"showbackground\":true,\"ticks\":\"\",\"zerolinecolor\":\"white\",\"gridwidth\":2},\"zaxis\":{\"backgroundcolor\":\"#E5ECF6\",\"gridcolor\":\"white\",\"linecolor\":\"white\",\"showbackground\":true,\"ticks\":\"\",\"zerolinecolor\":\"white\",\"gridwidth\":2}},\"shapedefaults\":{\"line\":{\"color\":\"#2a3f5f\"}},\"annotationdefaults\":{\"arrowcolor\":\"#2a3f5f\",\"arrowhead\":0,\"arrowwidth\":1},\"geo\":{\"bgcolor\":\"white\",\"landcolor\":\"#E5ECF6\",\"subunitcolor\":\"white\",\"showland\":true,\"showlakes\":true,\"lakecolor\":\"white\"},\"title\":{\"x\":0.05},\"mapbox\":{\"style\":\"light\"}}},\"geo\":{\"domain\":{\"x\":[0.0,0.45],\"y\":[0.0,1.0]},\"scope\":\"usa\",\"showcountries\":true,\"countrycolor\":\"black\",\"showsubunits\":true,\"subunitcolor\":\"black\"},\"geo2\":{\"domain\":{\"x\":[0.55,1.0],\"y\":[0.0,1.0]},\"scope\":\"usa\",\"showcountries\":true,\"countrycolor\":\"black\",\"showsubunits\":true,\"subunitcolor\":\"black\"},\"annotations\":[{\"font\":{\"size\":16},\"showarrow\":false,\"text\":\"Geocoded City 1\",\"x\":0.225,\"xanchor\":\"center\",\"xref\":\"paper\",\"y\":1.0,\"yanchor\":\"bottom\",\"yref\":\"paper\"},{\"font\":{\"size\":16},\"showarrow\":false,\"text\":\"Geocoded City 2\",\"x\":0.775,\"xanchor\":\"center\",\"xref\":\"paper\",\"y\":1.0,\"yanchor\":\"bottom\",\"yref\":\"paper\"}],\"title\":{\"text\":\"Airport Departures (2001-2004)\"},\"coloraxis\":{\"colorbar\":{\"title\":{\"text\":\"Airport Counts\"}}},\"width\":1200,\"height\":600,\"sliders\":[{\"currentvalue\":{\"font\":{\"color\":\"black\",\"size\":20},\"offset\":50,\"prefix\":\"\",\"visible\":true,\"xanchor\":\"center\"},\"len\":0.9,\"pad\":{\"b\":10,\"t\":50},\"steps\":[{\"args\":[[\"2001 Q1\"],{\"mode\":\"immediate\",\"frame\":{\"duration\":500,\"redraw\":true},\"transition\":{\"duration\":300,\"easing\":\"quadratic-in-out\"}}],\"label\":\"2001 Q1\",\"method\":\"animate\"},{\"args\":[[\"2001 Q2\"],{\"mode\":\"immediate\",\"frame\":{\"duration\":500,\"redraw\":true},\"transition\":{\"duration\":300,\"easing\":\"quadratic-in-out\"}}],\"label\":\"2001 Q2\",\"method\":\"animate\"},{\"args\":[[\"2001 Q3\"],{\"mode\":\"immediate\",\"frame\":{\"duration\":500,\"redraw\":true},\"transition\":{\"duration\":300,\"easing\":\"quadratic-in-out\"}}],\"label\":\"2001 Q3\",\"method\":\"animate\"},{\"args\":[[\"2001 Q4\"],{\"mode\":\"immediate\",\"frame\":{\"duration\":500,\"redraw\":true},\"transition\":{\"duration\":300,\"easing\":\"quadratic-in-out\"}}],\"label\":\"2001 Q4\",\"method\":\"animate\"},{\"args\":[[\"2002 Q1\"],{\"mode\":\"immediate\",\"frame\":{\"duration\":500,\"redraw\":true},\"transition\":{\"duration\":300,\"easing\":\"quadratic-in-out\"}}],\"label\":\"2002 Q1\",\"method\":\"animate\"},{\"args\":[[\"2002 Q2\"],{\"mode\":\"immediate\",\"frame\":{\"duration\":500,\"redraw\":true},\"transition\":{\"duration\":300,\"easing\":\"quadratic-in-out\"}}],\"label\":\"2002 Q2\",\"method\":\"animate\"},{\"args\":[[\"2002 Q3\"],{\"mode\":\"immediate\",\"frame\":{\"duration\":500,\"redraw\":true},\"transition\":{\"duration\":300,\"easing\":\"quadratic-in-out\"}}],\"label\":\"2002 Q3\",\"method\":\"animate\"},{\"args\":[[\"2002 Q4\"],{\"mode\":\"immediate\",\"frame\":{\"duration\":500,\"redraw\":true},\"transition\":{\"duration\":300,\"easing\":\"quadratic-in-out\"}}],\"label\":\"2002 Q4\",\"method\":\"animate\"},{\"args\":[[\"2003 Q1\"],{\"mode\":\"immediate\",\"frame\":{\"duration\":500,\"redraw\":true},\"transition\":{\"duration\":300,\"easing\":\"quadratic-in-out\"}}],\"label\":\"2003 Q1\",\"method\":\"animate\"},{\"args\":[[\"2003 Q2\"],{\"mode\":\"immediate\",\"frame\":{\"duration\":500,\"redraw\":true},\"transition\":{\"duration\":300,\"easing\":\"quadratic-in-out\"}}],\"label\":\"2003 Q2\",\"method\":\"animate\"},{\"args\":[[\"2003 Q3\"],{\"mode\":\"immediate\",\"frame\":{\"duration\":500,\"redraw\":true},\"transition\":{\"duration\":300,\"easing\":\"quadratic-in-out\"}}],\"label\":\"2003 Q3\",\"method\":\"animate\"},{\"args\":[[\"2003 Q4\"],{\"mode\":\"immediate\",\"frame\":{\"duration\":500,\"redraw\":true},\"transition\":{\"duration\":300,\"easing\":\"quadratic-in-out\"}}],\"label\":\"2003 Q4\",\"method\":\"animate\"},{\"args\":[[\"2004 Q1\"],{\"mode\":\"immediate\",\"frame\":{\"duration\":500,\"redraw\":true},\"transition\":{\"duration\":300,\"easing\":\"quadratic-in-out\"}}],\"label\":\"2004 Q1\",\"method\":\"animate\"},{\"args\":[[\"2004 Q2\"],{\"mode\":\"immediate\",\"frame\":{\"duration\":500,\"redraw\":true},\"transition\":{\"duration\":300,\"easing\":\"quadratic-in-out\"}}],\"label\":\"2004 Q2\",\"method\":\"animate\"},{\"args\":[[\"2004 Q3\"],{\"mode\":\"immediate\",\"frame\":{\"duration\":500,\"redraw\":true},\"transition\":{\"duration\":300,\"easing\":\"quadratic-in-out\"}}],\"label\":\"2004 Q3\",\"method\":\"animate\"},{\"args\":[[\"2004 Q4\"],{\"mode\":\"immediate\",\"frame\":{\"duration\":500,\"redraw\":true},\"transition\":{\"duration\":300,\"easing\":\"quadratic-in-out\"}}],\"label\":\"2004 Q4\",\"method\":\"animate\"}],\"x\":0.1,\"y\":0}],\"updatemenus\":[{\"buttons\":[{\"args\":[null,{\"frame\":{\"duration\":500,\"redraw\":true},\"fromcurrent\":true,\"transition\":{\"duration\":300,\"easing\":\"quadratic-in-out\"}}],\"label\":\"Play\",\"method\":\"animate\"},{\"args\":[[null],{\"frame\":{\"duration\":0,\"redraw\":false},\"mode\":\"immediate\",\"transition\":{\"duration\":0}}],\"label\":\"Pause\",\"method\":\"animate\"}],\"direction\":\"left\",\"pad\":{\"r\":10,\"t\":87},\"showactive\":false,\"type\":\"buttons\",\"x\":0.1,\"xanchor\":\"right\",\"y\":0,\"yanchor\":\"top\"}]},                        {\"responsive\": true}                    ).then(function(){\n",
       "                            \n",
       "var gd = document.getElementById('87ca54bb-7b7f-4a16-abf7-706b026d87f8');\n",
       "var x = new MutationObserver(function (mutations, observer) {{\n",
       "        var display = window.getComputedStyle(gd).display;\n",
       "        if (!display || display === 'none') {{\n",
       "            console.log([gd, 'removed!']);\n",
       "            Plotly.purge(gd);\n",
       "            observer.disconnect();\n",
       "        }}\n",
       "}});\n",
       "\n",
       "// Listen for the removal of the full notebook cells\n",
       "var notebookContainer = gd.closest('#notebook-container');\n",
       "if (notebookContainer) {{\n",
       "    x.observe(notebookContainer, {childList: true});\n",
       "}}\n",
       "\n",
       "// Listen for the clearing of the current output cell\n",
       "var outputEl = gd.closest('.output');\n",
       "if (outputEl) {{\n",
       "    x.observe(outputEl, {childList: true});\n",
       "}}\n",
       "\n",
       "                        })                };                });            </script>        </div>"
      ]
     },
     "metadata": {},
     "output_type": "display_data"
    }
   ],
   "source": [
    "# Fixing the borders:\n",
    "\n",
    "fig.update_layout(\n",
    "    geo=dict(\n",
    "        scope='usa',\n",
    "        showcountries=True, countrycolor=\"black\",\n",
    "        showsubunits=True, subunitcolor=\"black\"\n",
    "    ),\n",
    "    geo2=dict(\n",
    "        scope='usa',\n",
    "        showcountries=True, countrycolor=\"black\",\n",
    "        showsubunits=True, subunitcolor=\"black\"\n",
    "    ),\n",
    "    coloraxis=dict(\n",
    "        colorbar=dict(\n",
    "            title=\"Airport Counts\"\n",
    "        )\n",
    "    ),\n",
    "    width=1200,  # Adjust the width and height as needed\n",
    "    height=600,\n",
    "    title_text=\"Airport Departures (2001-2004)\",\n",
    "    sliders=[{\n",
    "        'pad': {'b': 10, 't': 50},\n",
    "        'currentvalue': {\n",
    "            'visible': True,\n",
    "            'prefix': '',\n",
    "            'font': {'size': 20, 'color': 'black'},\n",
    "            'offset': 50,\n",
    "            'xanchor': 'center'\n",
    "        },\n",
    "        'len': 0.9,\n",
    "        'x': 0.1,\n",
    "        'y': 0,\n",
    "        'steps': [{\n",
    "            'label': frame,\n",
    "            'method': 'animate',\n",
    "            'args': [[frame], {'mode': 'immediate', 'frame': {'duration': 500, 'redraw': True},\n",
    "                               'transition': {'duration': 300, 'easing': 'quadratic-in-out'}}]\n",
    "        } for frame in sorted(df1_counts['animation_frame'].unique())]\n",
    "    }],\n",
    "    updatemenus=[{\n",
    "        'buttons': [\n",
    "            {\n",
    "                'args': [None, {'frame': {'duration': 500, 'redraw': True},\n",
    "                                'fromcurrent': True,\n",
    "                                'transition': {'duration': 300, 'easing': 'quadratic-in-out'}}],\n",
    "                'label': 'Play',\n",
    "                'method': 'animate'\n",
    "            },\n",
    "            {\n",
    "                'args': [[None], {'frame': {'duration': 0, 'redraw': False},\n",
    "                                  'mode': 'immediate',\n",
    "                                  'transition': {'duration': 0}}],\n",
    "                'label': 'Pause',\n",
    "                'method': 'animate'\n",
    "            }\n",
    "        ],\n",
    "        'direction': 'left',\n",
    "        'pad': {'r': 10, 't': 87},\n",
    "        'showactive': False,\n",
    "        'type': 'buttons',\n",
    "        'x': 0.1,\n",
    "        'xanchor': 'right',\n",
    "        'y': 0,\n",
    "        'yanchor': 'top'\n",
    "    }]\n",
    ")"
   ]
  },
  {
   "cell_type": "code",
   "execution_count": 175,
   "id": "660804a6-f902-47c8-b19b-e796b09cc743",
   "metadata": {},
   "outputs": [
    {
     "data": {
      "application/vnd.plotly.v1+json": {
       "config": {
        "plotlyServerURL": "https://plot.ly"
       },
       "data": [
        {
         "geo": "geo",
         "hovertemplate": "<b>%{hovertext}</b><br><br>animation_frame=2001 Q1<br>lat=%{lat}<br>long=%{lon}<br>normalized_count=%{marker.color}<extra></extra>",
         "hovertext": [
          "Albuquerque, NM\n(35.084248, -106.649241)",
          "Atlantic City, NJ\n(33.748547, -84.391502)",
          "Albany, NY\n(42.651242, -73.755418)",
          "Amarillo, TX\n(35.207009, -101.832013)",
          "Aspen, CO\n(39.190665, -106.819201)",
          "Atlanta, GA (Metropolitan Area)\n(33.748547, -84.391502)",
          "Austin, TX\n(30.264979, -97.746598)",
          "Hartford, CT\n(41.765775, -72.673356)",
          "Birmingham, AL\n(33.522859, -86.807705)",
          "Nashville, TN\n(36.166687, -86.779932)",
          "Boise, ID\n(43.597772, -83.884521)",
          "Boston, MA (Metropolitan Area)\n(42.358894, -71.056742)",
          "Baton Rouge, LA\n(30.443319, -91.187488)",
          "Burlington, VT\n(44.475949, -73.212481)",
          "Buffalo, NY\n(39.945422, -78.64671)",
          "Los Angeles, CA (Metropolitan Area)\n(34.052238, -118.243344)",
          "Washington, DC (Metropolitan Area)\n(38.892062, -77.019912)",
          "Columbia, SC\n(39.962649, -82.996216)",
          "Cleveland, OH (Metropolitan Area)\n(41.505546, -81.6915)",
          "Chicago, IL\n(41.775002, -87.696388)",
          "Charleston, SC\n(32.77647, -79.931027)",
          "Cleveland, OH (Metropolitan Area)\n(41.505546, -81.6915)",
          "Charlotte, NC\n(35.222936, -80.840161)",
          "Columbus, OH\n(39.962649, -82.996216)",
          "Colorado Springs, CO\n(38.835224, -104.819798)",
          "Corpus Christi, TX\n(27.796416, -97.404131)",
          "Cincinnati, OH\n(39.104427, -84.513808)",
          "Daytona Beach, FL\n(29.207056, -81.020739)",
          "Dallas/Fort Worth, TX\n(40.11086, -77.035636)",
          "Dayton, OH\n(39.760982, -84.192203)",
          "Washington, DC (Metropolitan Area)\n(38.892062, -77.019912)",
          "Denver, CO\n(39.738453, -104.984853)",
          "Dallas/Fort Worth, TX\n(40.11086, -77.035636)",
          "Des Moines, IA\n(41.588822, -93.620309)",
          "Detroit, MI\n(42.332916, -83.047853)",
          "Houston, TX\n(29.760803, -95.369506)",
          "Eagle, CO\n(38.8339, -120.040604)",
          "El Paso, TX\n(31.76006, -106.492257)",
          "Eugene, OR\n(37.533089, -75.823024)",
          "New York City, NY (Metropolitan Area)\n(40.123164, -75.333718)",
          "Key West, FL\n(70.129129, -143.63129)",
          "Miami, FL (Metropolitan Area)\n(44.977479, -93.264346)",
          "Gulfport/Biloxi, MS\n(30.369834, -89.091582)",
          "Grand Rapids, MI\n(47.925705, -97.036068)",
          "Greensboro/High Point, NC\n(36.072701, -79.793899)",
          "Greenville/Spartanburg, SC\n(44.513288, -88.013256)",
          "Houston, TX\n(29.760803, -95.369506)",
          "New York City, NY (Metropolitan Area)\n(40.123164, -75.333718)",
          "Harlingen/San Benito, TX\n(40.8078, -73.945801)",
          "Huntsville, AL\n(34.729538, -86.585283)",
          "Washington, DC (Metropolitan Area)\n(38.892062, -77.019912)",
          "Houston, TX\n(29.760803, -95.369506)",
          "Indianapolis, IN\n(39.76845, -86.156212)",
          "New York City, NY (Metropolitan Area)\n(40.123164, -75.333718)",
          "Jackson/Vicksburg, MS\n(30.325968, -81.65676)",
          "Jacksonville, FL\n(30.325968, -81.65676)",
          "New York City, NY (Metropolitan Area)\n(40.123164, -75.333718)",
          "Las Vegas, NV\n(36.169202, -115.140597)",
          "Los Angeles, CA (Metropolitan Area)\n(34.052238, -118.243344)",
          "New York City, NY (Metropolitan Area)\n(40.123164, -75.333718)",
          "Los Angeles, CA (Metropolitan Area)\n(34.052238, -118.243344)",
          "Little Rock, AR\n(34.748745, -92.275105)",
          "Kansas City, MO\n(39.099792, -94.578559)",
          "Orlando, FL\n(28.538331, -81.378879)",
          "Chicago, IL\n(41.775002, -87.696388)",
          "Memphis, TN\n(35.143378, -90.052136)",
          "Boston, MA (Metropolitan Area)\n(42.358894, -71.056742)",
          "Miami, FL (Metropolitan Area)\n(44.977479, -93.264346)",
          "Kansas City, MO\n(39.099792, -94.578559)",
          "Milwaukee, WI\n(43.041072, -87.909421)",
          "Melbourne, FL\n(28.079931, -80.603516)",
          "Madison, WI\n(43.073926, -89.385244)",
          "Minneapolis/St. Paul, MN\n(44.977479, -93.264346)",
          "New Orleans, LA\n(29.950621, -90.074948)",
          "Myrtle Beach, SC\n(33.68785, -78.883852)",
          "New York City, NY (Metropolitan Area)\n(40.123164, -75.333718)",
          "San Francisco, CA (Metropolitan Area)\n(37.78008, -122.420168)",
          "Oklahoma City, OK\n(35.468494, -97.521264)",
          "Omaha, NE\n(46.07035, -93.666319)",
          "Los Angeles, CA (Metropolitan Area)\n(34.052238, -118.243344)",
          "Chicago, IL\n(41.775002, -87.696388)",
          "Norfolk, VA (Metropolitan Area)\n(36.846164, -76.285913)",
          "Portland, OR\n(45.516018, -122.681425)",
          "Norfolk, VA (Metropolitan Area)\n(36.846164, -76.285913)",
          "Philadelphia, PA\n(39.951061, -75.16562)",
          "Phoenix, AZ\n(30.406931, -87.217578)",
          "Pittsburgh, PA\n(40.442169, -79.994945)",
          "Palm Springs, CA\n(33.830302, -116.546843)",
          "Boston, MA (Metropolitan Area)\n(42.358894, -71.056742)",
          "Raleigh/Durham, NC\n(42.673348, -72.179683)",
          "Reno, NV\n(30.177159, -95.162771)",
          "Rochester, NY\n(43.155708, -77.612547)",
          "Fort Myers, FL\n(40.253979, -103.801495)",
          "San Diego, CA\n(32.71576, -117.163817)",
          "San Antonio, TX\n(29.425173, -98.494599)",
          "Savannah, GA\n(40.115007, -111.654713)",
          "Louisville, KY\n(38.256078, -85.751569)",
          "Seattle, WA\n(47.603229, -122.33028)",
          "San Francisco, CA (Metropolitan Area)\n(37.78008, -122.420168)",
          "San Francisco, CA (Metropolitan Area)\n(37.78008, -122.420168)",
          "Salt Lake City, UT\n(40.758478, -111.888142)",
          "Sacramento, CA\n(38.582087, -121.50012)",
          "Los Angeles, CA (Metropolitan Area)\n(34.052238, -118.243344)",
          "St. Louis, MO\n(38.630276, -90.200309)",
          "New York City, NY (Metropolitan Area)\n(40.123164, -75.333718)",
          "Syracuse, NY\n(43.047945, -76.147448)",
          "Tallahassee, FL\n(38.921902, -120.020798)",
          "Tampa, FL (Metropolitan Area)\n(37.8606, -78.804199)",
          "Tulsa, OK\n(61.096484, -160.967455)",
          "Tucson, AZ\n(35.167852, -103.726151)",
          "Knoxville, TN\n(35.962631, -83.916677)",
          "Washington, DC (Metropolitan Area)\n(38.892062, -77.019912)"
         ],
         "lat": [
          35.084248,
          33.748547,
          42.651242,
          35.207009,
          39.190665,
          33.748547,
          30.264979,
          41.765775,
          33.522859,
          36.166687,
          43.597772,
          42.358894,
          30.443319,
          44.475949,
          39.945422,
          34.052238,
          38.892062,
          39.962649,
          41.505546,
          41.775002,
          32.77647,
          41.505546,
          35.222936,
          39.962649,
          38.835224,
          27.796416,
          39.104427,
          29.207056,
          40.11086,
          39.760982,
          38.892062,
          39.738453,
          40.11086,
          41.588822,
          42.332916,
          29.760803,
          38.8339,
          31.76006,
          37.533089,
          40.123164,
          70.129129,
          44.977479,
          30.369834,
          47.925705,
          36.072701,
          44.513288,
          29.760803,
          40.123164,
          40.8078,
          34.729538,
          38.892062,
          29.760803,
          39.76845,
          40.123164,
          30.325968,
          30.325968,
          40.123164,
          36.169202,
          34.052238,
          40.123164,
          34.052238,
          34.748745,
          39.099792,
          28.538331,
          41.775002,
          35.143378,
          42.358894,
          44.977479,
          39.099792,
          43.041072,
          28.079931,
          43.073926,
          44.977479,
          29.950621,
          33.68785,
          40.123164,
          37.78008,
          35.468494,
          46.07035,
          34.052238,
          41.775002,
          36.846164,
          45.516018,
          36.846164,
          39.951061,
          30.406931,
          40.442169,
          33.830302,
          42.358894,
          42.673348,
          30.177159,
          43.155708,
          40.253979,
          32.71576,
          29.425173,
          40.115007,
          38.256078,
          47.603229,
          37.78008,
          37.78008,
          40.758478,
          38.582087,
          34.052238,
          38.630276,
          40.123164,
          43.047945,
          38.921902,
          37.8606,
          61.096484,
          35.167852,
          35.962631,
          38.892062
         ],
         "legendgroup": "",
         "lon": [
          -106.649241,
          -84.391502,
          -73.755418,
          -101.832013,
          -106.819201,
          -84.391502,
          -97.746598,
          -72.673356,
          -86.807705,
          -86.779932,
          -83.884521,
          -71.056742,
          -91.187488,
          -73.212481,
          -78.64671,
          -118.243344,
          -77.019912,
          -82.996216,
          -81.6915,
          -87.696388,
          -79.931027,
          -81.6915,
          -80.840161,
          -82.996216,
          -104.819798,
          -97.404131,
          -84.513808,
          -81.020739,
          -77.035636,
          -84.192203,
          -77.019912,
          -104.984853,
          -77.035636,
          -93.620309,
          -83.047853,
          -95.369506,
          -120.040604,
          -106.492257,
          -75.823024,
          -75.333718,
          -143.63129,
          -93.264346,
          -89.091582,
          -97.036068,
          -79.793899,
          -88.013256,
          -95.369506,
          -75.333718,
          -73.945801,
          -86.585283,
          -77.019912,
          -95.369506,
          -86.156212,
          -75.333718,
          -81.65676,
          -81.65676,
          -75.333718,
          -115.140597,
          -118.243344,
          -75.333718,
          -118.243344,
          -92.275105,
          -94.578559,
          -81.378879,
          -87.696388,
          -90.052136,
          -71.056742,
          -93.264346,
          -94.578559,
          -87.909421,
          -80.603516,
          -89.385244,
          -93.264346,
          -90.074948,
          -78.883852,
          -75.333718,
          -122.420168,
          -97.521264,
          -93.666319,
          -118.243344,
          -87.696388,
          -76.285913,
          -122.681425,
          -76.285913,
          -75.16562,
          -87.217578,
          -79.994945,
          -116.546843,
          -71.056742,
          -72.179683,
          -95.162771,
          -77.612547,
          -103.801495,
          -117.163817,
          -98.494599,
          -111.654713,
          -85.751569,
          -122.33028,
          -122.420168,
          -122.420168,
          -111.888142,
          -121.50012,
          -118.243344,
          -90.200309,
          -75.333718,
          -76.147448,
          -120.020798,
          -78.804199,
          -160.967455,
          -103.726151,
          -83.916677,
          -77.019912
         ],
         "marker": {
          "color": [
           0.34177215189873417,
           0.02531645569620253,
           0.1518987341772152,
           0.05063291139240506,
           0.06329113924050633,
           0.45569620253164556,
           0.379746835443038,
           0.21518987341772153,
           0.3037974683544304,
           0.17721518987341772,
           0.08860759493670886,
           0.9113924050632911,
           0.012658227848101266,
           0.06329113924050633,
           0.26582278481012656,
           0.4936708860759494,
           0,
           0.12658227848101267,
           0.4936708860759494,
           0.21518987341772153,
           0.12658227848101267,
           0.5316455696202531,
           0.379746835443038,
           0.34177215189873417,
           0.1518987341772152,
           0.05063291139240506,
           0.3291139240506329,
           0.06329113924050633,
           0.8227848101265823,
           0.24050632911392406,
           0,
           0.31645569620253167,
           0.8607594936708861,
           0.11392405063291139,
           0.31645569620253167,
           0.5443037974683544,
           0.10126582278481013,
           0.16455696202531644,
           0.08860759493670886,
           0.3924050632911392,
           0.05063291139240506,
           0.4810126582278481,
           0.02531645569620253,
           0.17721518987341772,
           0.13924050632911392,
           0.0759493670886076,
           0.620253164556962,
           0.4177215189873418,
           0.02531645569620253,
           0.0379746835443038,
           0,
           0.620253164556962,
           0.2911392405063291,
           0.4050632911392405,
           0.02531645569620253,
           0.2911392405063291,
           0.4177215189873418,
           0.26582278481012656,
           0.5316455696202531,
           0.43037974683544306,
           0.43037974683544306,
           0.08860759493670886,
           0.46835443037974683,
           0.0759493670886076,
           0.9493670886075949,
           0.189873417721519,
           0.810126582278481,
           0.4810126582278481,
           0.05063291139240506,
           0.16455696202531644,
           0.11392405063291139,
           0.10126582278481013,
           0.16455696202531644,
           0.17721518987341772,
           0.0759493670886076,
           0.20253164556962025,
           0.12658227848101267,
           0.0759493670886076,
           0.06329113924050633,
           0.5189873417721519,
           0.9746835443037974,
           0.0759493670886076,
           0.08860759493670886,
           0.06329113924050633,
           0.0379746835443038,
           0.08860759493670886,
           0.0759493670886076,
           0.02531645569620253,
           0.8354430379746836,
           0.08860759493670886,
           0.06329113924050633,
           0.0379746835443038,
           0.13924050632911392,
           0.0759493670886076,
           0.0759493670886076,
           0.02531645569620253,
           0.13924050632911392,
           0.06329113924050633,
           0.13924050632911392,
           0.12658227848101267,
           0.0759493670886076,
           0.02531645569620253,
           0.5189873417721519,
           0.06329113924050633,
           0.4050632911392405,
           0.0379746835443038,
           0,
           0.05063291139240506,
           0.02531645569620253,
           0.02531645569620253,
           0.0759493670886076,
           0
          ],
          "coloraxis": "coloraxis",
          "symbol": "circle"
         },
         "mode": "markers",
         "name": "",
         "showlegend": false,
         "type": "scattergeo"
        },
        {
         "geo": "geo2",
         "hovertemplate": "<b>%{hovertext}</b><br><br>animation_frame=2001 Q1<br>lat=%{lat}<br>long=%{lon}<br>normalized_count=%{marker.color}<extra></extra>",
         "hovertext": [
          "Hartford, CT\n(41.765775, -72.673356)",
          "Nashville, TN\n(36.166687, -86.779932)",
          "Boston, MA (Metropolitan Area)\n(42.358894, -71.056742)",
          "Buffalo, NY\n(39.945422, -78.64671)",
          "Los Angeles, CA (Metropolitan Area)\n(34.052238, -118.243344)",
          "Washington, DC (Metropolitan Area)\n(38.892062, -77.019912)",
          "Cleveland, OH (Metropolitan Area)\n(41.505546, -81.6915)",
          "Chicago, IL\n(41.775002, -87.696388)",
          "Cleveland, OH (Metropolitan Area)\n(41.505546, -81.6915)",
          "Charlotte, NC\n(35.222936, -80.840161)",
          "Columbus, OH\n(39.962649, -82.996216)",
          "Cincinnati, OH\n(39.104427, -84.513808)",
          "Dallas/Fort Worth, TX\n(40.11086, -77.035636)",
          "Dayton, OH\n(39.760982, -84.192203)",
          "Washington, DC (Metropolitan Area)\n(38.892062, -77.019912)",
          "Denver, CO\n(39.738453, -104.984853)",
          "Dallas/Fort Worth, TX\n(40.11086, -77.035636)",
          "Des Moines, IA\n(41.588822, -93.620309)",
          "Detroit, MI\n(42.332916, -83.047853)",
          "Houston, TX\n(29.760803, -95.369506)",
          "Eagle, CO\n(38.8339, -120.040604)",
          "El Paso, TX\n(31.76006, -106.492257)",
          "New York City, NY (Metropolitan Area)\n(40.123164, -75.333718)",
          "Key West, FL\n(70.129129, -143.63129)",
          "Miami, FL (Metropolitan Area)\n(44.977479, -93.264346)",
          "Spokane, WA\n(47.658999, -117.425022)",
          "Greensboro/High Point, NC\n(36.072701, -79.793899)",
          "Houston, TX\n(29.760803, -95.369506)",
          "New York City, NY (Metropolitan Area)\n(40.123164, -75.333718)",
          "Harlingen/San Benito, TX\n(40.8078, -73.945801)",
          "Washington, DC (Metropolitan Area)\n(38.892062, -77.019912)",
          "Houston, TX\n(29.760803, -95.369506)",
          "Wichita, KS\n(39.960481, -75.605214)",
          "Indianapolis, IN\n(39.76845, -86.156212)",
          "New York City, NY (Metropolitan Area)\n(40.123164, -75.333718)",
          "Jackson/Vicksburg, MS\n(30.325968, -81.65676)",
          "Jacksonville, FL\n(30.325968, -81.65676)",
          "New York City, NY (Metropolitan Area)\n(40.123164, -75.333718)",
          "Las Vegas, NV\n(36.169202, -115.140597)",
          "Los Angeles, CA (Metropolitan Area)\n(34.052238, -118.243344)",
          "Lubbock, TX\n(41.181125, -96.030508)",
          "New York City, NY (Metropolitan Area)\n(40.123164, -75.333718)",
          "Los Angeles, CA (Metropolitan Area)\n(34.052238, -118.243344)",
          "Little Rock, AR\n(34.748745, -92.275105)",
          "Midland/Odessa, TX\n(31.997433, -102.078043)",
          "Kansas City, MO\n(39.099792, -94.578559)",
          "Orlando, FL\n(28.538331, -81.378879)",
          "Harrisburg, PA\n(40.259572, -76.881821)",
          "Chicago, IL\n(41.775002, -87.696388)",
          "Memphis, TN\n(35.143378, -90.052136)",
          "Mission/McAllen/Edinburg, TX\n(43.153621, -93.201042)",
          "Boston, MA (Metropolitan Area)\n(42.358894, -71.056742)",
          "Miami, FL (Metropolitan Area)\n(44.977479, -93.264346)",
          "Kansas City, MO\n(39.099792, -94.578559)",
          "Milwaukee, WI\n(43.041072, -87.909421)",
          "Minneapolis/St. Paul, MN\n(44.977479, -93.264346)",
          "New Orleans, LA\n(29.950621, -90.074948)",
          "Myrtle Beach, SC\n(33.68785, -78.883852)",
          "New York City, NY (Metropolitan Area)\n(40.123164, -75.333718)",
          "San Francisco, CA (Metropolitan Area)\n(37.78008, -122.420168)",
          "Oklahoma City, OK\n(35.468494, -97.521264)",
          "Omaha, NE\n(46.07035, -93.666319)",
          "Los Angeles, CA (Metropolitan Area)\n(34.052238, -118.243344)",
          "Chicago, IL\n(41.775002, -87.696388)",
          "Norfolk, VA (Metropolitan Area)\n(36.846164, -76.285913)",
          "West Palm Beach/Palm Beach, FL\n(33.90976, -98.500854)",
          "Portland, OR\n(45.516018, -122.681425)",
          "Norfolk, VA (Metropolitan Area)\n(36.846164, -76.285913)",
          "Philadelphia, PA\n(39.951061, -75.16562)",
          "Phoenix, AZ\n(30.406931, -87.217578)",
          "Tampa, FL (Metropolitan Area)\n(37.8606, -78.804199)",
          "Pittsburgh, PA\n(40.442169, -79.994945)",
          "Palm Springs, CA\n(33.830302, -116.546843)",
          "Boston, MA (Metropolitan Area)\n(42.358894, -71.056742)",
          "Portland, ME\n(45.516018, -122.681425)",
          "Raleigh/Durham, NC\n(42.673348, -72.179683)",
          "Richmond, VA\n(37.540759, -77.433932)",
          "Reno, NV\n(30.177159, -95.162771)",
          "Rochester, NY\n(43.155708, -77.612547)",
          "Fort Myers, FL\n(40.253979, -103.801495)",
          "San Diego, CA\n(32.71576, -117.163817)",
          "San Antonio, TX\n(29.425173, -98.494599)",
          "Savannah, GA\n(40.115007, -111.654713)",
          "Santa Barbara, CA\n(34.420867, -119.698342)",
          "Louisville, KY\n(38.256078, -85.751569)",
          "Seattle, WA\n(47.603229, -122.33028)",
          "San Francisco, CA (Metropolitan Area)\n(37.78008, -122.420168)",
          "San Francisco, CA (Metropolitan Area)\n(37.78008, -122.420168)",
          "Salt Lake City, UT\n(40.758478, -111.888142)",
          "Sacramento, CA\n(38.582087, -121.50012)",
          "Los Angeles, CA (Metropolitan Area)\n(34.052238, -118.243344)",
          "Sarasota/Bradenton, FL\n(27.336483, -82.538602)",
          "St. Louis, MO\n(38.630276, -90.200309)",
          "New York City, NY (Metropolitan Area)\n(40.123164, -75.333718)",
          "Syracuse, NY\n(43.047945, -76.147448)",
          "Tallahassee, FL\n(38.921902, -120.020798)",
          "Tampa, FL (Metropolitan Area)\n(37.8606, -78.804199)",
          "Tulsa, OK\n(61.096484, -160.967455)",
          "Tucson, AZ\n(35.167852, -103.726151)",
          "Washington, DC (Metropolitan Area)\n(38.892062, -77.019912)"
         ],
         "lat": [
          41.765775,
          36.166687,
          42.358894,
          39.945422,
          34.052238,
          38.892062,
          41.505546,
          41.775002,
          41.505546,
          35.222936,
          39.962649,
          39.104427,
          40.11086,
          39.760982,
          38.892062,
          39.738453,
          40.11086,
          41.588822,
          42.332916,
          29.760803,
          38.8339,
          31.76006,
          40.123164,
          70.129129,
          44.977479,
          47.658999,
          36.072701,
          29.760803,
          40.123164,
          40.8078,
          38.892062,
          29.760803,
          39.960481,
          39.76845,
          40.123164,
          30.325968,
          30.325968,
          40.123164,
          36.169202,
          34.052238,
          41.181125,
          40.123164,
          34.052238,
          34.748745,
          31.997433,
          39.099792,
          28.538331,
          40.259572,
          41.775002,
          35.143378,
          43.153621,
          42.358894,
          44.977479,
          39.099792,
          43.041072,
          44.977479,
          29.950621,
          33.68785,
          40.123164,
          37.78008,
          35.468494,
          46.07035,
          34.052238,
          41.775002,
          36.846164,
          33.90976,
          45.516018,
          36.846164,
          39.951061,
          30.406931,
          37.8606,
          40.442169,
          33.830302,
          42.358894,
          45.516018,
          42.673348,
          37.540759,
          30.177159,
          43.155708,
          40.253979,
          32.71576,
          29.425173,
          40.115007,
          34.420867,
          38.256078,
          47.603229,
          37.78008,
          37.78008,
          40.758478,
          38.582087,
          34.052238,
          27.336483,
          38.630276,
          40.123164,
          43.047945,
          38.921902,
          37.8606,
          61.096484,
          35.167852,
          38.892062
         ],
         "legendgroup": "",
         "lon": [
          -72.673356,
          -86.779932,
          -71.056742,
          -78.64671,
          -118.243344,
          -77.019912,
          -81.6915,
          -87.696388,
          -81.6915,
          -80.840161,
          -82.996216,
          -84.513808,
          -77.035636,
          -84.192203,
          -77.019912,
          -104.984853,
          -77.035636,
          -93.620309,
          -83.047853,
          -95.369506,
          -120.040604,
          -106.492257,
          -75.333718,
          -143.63129,
          -93.264346,
          -117.425022,
          -79.793899,
          -95.369506,
          -75.333718,
          -73.945801,
          -77.019912,
          -95.369506,
          -75.605214,
          -86.156212,
          -75.333718,
          -81.65676,
          -81.65676,
          -75.333718,
          -115.140597,
          -118.243344,
          -96.030508,
          -75.333718,
          -118.243344,
          -92.275105,
          -102.078043,
          -94.578559,
          -81.378879,
          -76.881821,
          -87.696388,
          -90.052136,
          -93.201042,
          -71.056742,
          -93.264346,
          -94.578559,
          -87.909421,
          -93.264346,
          -90.074948,
          -78.883852,
          -75.333718,
          -122.420168,
          -97.521264,
          -93.666319,
          -118.243344,
          -87.696388,
          -76.285913,
          -98.500854,
          -122.681425,
          -76.285913,
          -75.16562,
          -87.217578,
          -78.804199,
          -79.994945,
          -116.546843,
          -71.056742,
          -122.681425,
          -72.179683,
          -77.433932,
          -95.162771,
          -77.612547,
          -103.801495,
          -117.163817,
          -98.494599,
          -111.654713,
          -119.698342,
          -85.751569,
          -122.33028,
          -122.420168,
          -122.420168,
          -111.888142,
          -121.50012,
          -118.243344,
          -82.538602,
          -90.200309,
          -75.333718,
          -76.147448,
          -120.020798,
          -78.804199,
          -160.967455,
          -103.726151,
          -77.019912
         ],
         "marker": {
          "color": [
           0.06593406593406594,
           0.2087912087912088,
           0.02197802197802198,
           0.02197802197802198,
           0.38461538461538464,
           0.9340659340659341,
           0.06593406593406594,
           0.02197802197802198,
           0.06593406593406594,
           0.02197802197802198,
           0.054945054945054944,
           0.04395604395604396,
           0.18681318681318682,
           0.06593406593406594,
           0.9340659340659341,
           0.08791208791208792,
           0.1978021978021978,
           0.01098901098901099,
           0.06593406593406594,
           0.21978021978021978,
           0.01098901098901099,
           0.03296703296703297,
           0.5934065934065934,
           0.02197802197802198,
           0.42857142857142855,
           0.07692307692307693,
           0.07692307692307693,
           0.25274725274725274,
           0.5384615384615384,
           0.01098901098901099,
           0.9340659340659341,
           0.25274725274725274,
           0,
           0.12087912087912088,
           0.5824175824175825,
           0.06593406593406594,
           0.12087912087912088,
           0.5714285714285714,
           0.13186813186813187,
           0.38461538461538464,
           0.04395604395604396,
           0.5934065934065934,
           0.34065934065934067,
           0.06593406593406594,
           0.04395604395604396,
           0.2087912087912088,
           0.3076923076923077,
           0.01098901098901099,
           0.0989010989010989,
           0.15384615384615385,
           0.04395604395604396,
           0.02197802197802198,
           0.43956043956043955,
           0,
           0.15384615384615385,
           0.2087912087912088,
           0.2087912087912088,
           0.054945054945054944,
           0.2857142857142857,
           0.6483516483516484,
           0.21978021978021978,
           0.2087912087912088,
           0.38461538461538464,
           0.0989010989010989,
           0.24175824175824176,
           0.3076923076923077,
           0.27472527472527475,
           0.18681318681318682,
           0.25274725274725274,
           0.2857142857142857,
           0.17582417582417584,
           0.2857142857142857,
           0.08791208791208792,
           0.02197802197802198,
           0.054945054945054944,
           0.3076923076923077,
           0.16483516483516483,
           0.18681318681318682,
           0.14285714285714285,
           0.0989010989010989,
           0.2857142857142857,
           0.25274725274725274,
           0.0989010989010989,
           0.02197802197802198,
           0.10989010989010989,
           0.2967032967032967,
           0.6703296703296703,
           0.6593406593406593,
           0.25274725274725274,
           0.24175824175824176,
           0.38461538461538464,
           0.10989010989010989,
           0.31868131868131866,
           0.5494505494505495,
           0.07692307692307693,
           0.01098901098901099,
           0.7472527472527473,
           0.21978021978021978,
           0.1978021978021978,
           0.3626373626373626
          ],
          "coloraxis": "coloraxis",
          "symbol": "circle"
         },
         "mode": "markers",
         "name": "",
         "showlegend": false,
         "type": "scattergeo"
        }
       ],
       "layout": {
        "annotations": [
         {
          "font": {
           "size": 16
          },
          "showarrow": false,
          "text": "Geocoded City 1",
          "x": 0.225,
          "xanchor": "center",
          "xref": "paper",
          "y": 1,
          "yanchor": "bottom",
          "yref": "paper"
         },
         {
          "font": {
           "size": 16
          },
          "showarrow": false,
          "text": "Geocoded City 2",
          "x": 0.775,
          "xanchor": "center",
          "xref": "paper",
          "y": 1,
          "yanchor": "bottom",
          "yref": "paper"
         }
        ],
        "coloraxis": {
         "colorbar": {
          "title": {
           "text": "Airport Counts"
          }
         }
        },
        "geo": {
         "countrycolor": "black",
         "domain": {
          "x": [
           0,
           0.45
          ],
          "y": [
           0,
           1
          ]
         },
         "scope": "usa",
         "showcountries": true,
         "showsubunits": true,
         "subunitcolor": "black"
        },
        "geo2": {
         "countrycolor": "black",
         "domain": {
          "x": [
           0.55,
           1
          ],
          "y": [
           0,
           1
          ]
         },
         "scope": "usa",
         "showcountries": true,
         "showsubunits": true,
         "subunitcolor": "black"
        },
        "height": 600,
        "sliders": [
         {
          "active": 0,
          "currentvalue": {
           "font": {
            "color": "black",
            "size": 20
           },
           "offset": 50,
           "prefix": "",
           "visible": true,
           "xanchor": "center"
          },
          "len": 0.9,
          "pad": {
           "b": 10,
           "t": 50
          },
          "steps": [
           {
            "args": [
             [
              "2001 Q1"
             ],
             {
              "frame": {
               "duration": 500,
               "redraw": true
              },
              "mode": "immediate",
              "transition": {
               "duration": 300,
               "easing": "quadratic-in-out"
              }
             }
            ],
            "label": "2001 Q1",
            "method": "animate"
           },
           {
            "args": [
             [
              "2001 Q2"
             ],
             {
              "frame": {
               "duration": 500,
               "redraw": true
              },
              "mode": "immediate",
              "transition": {
               "duration": 300,
               "easing": "quadratic-in-out"
              }
             }
            ],
            "label": "2001 Q2",
            "method": "animate"
           },
           {
            "args": [
             [
              "2001 Q3"
             ],
             {
              "frame": {
               "duration": 500,
               "redraw": true
              },
              "mode": "immediate",
              "transition": {
               "duration": 300,
               "easing": "quadratic-in-out"
              }
             }
            ],
            "label": "2001 Q3",
            "method": "animate"
           },
           {
            "args": [
             [
              "2001 Q4"
             ],
             {
              "frame": {
               "duration": 500,
               "redraw": true
              },
              "mode": "immediate",
              "transition": {
               "duration": 300,
               "easing": "quadratic-in-out"
              }
             }
            ],
            "label": "2001 Q4",
            "method": "animate"
           },
           {
            "args": [
             [
              "2002 Q1"
             ],
             {
              "frame": {
               "duration": 500,
               "redraw": true
              },
              "mode": "immediate",
              "transition": {
               "duration": 300,
               "easing": "quadratic-in-out"
              }
             }
            ],
            "label": "2002 Q1",
            "method": "animate"
           },
           {
            "args": [
             [
              "2002 Q2"
             ],
             {
              "frame": {
               "duration": 500,
               "redraw": true
              },
              "mode": "immediate",
              "transition": {
               "duration": 300,
               "easing": "quadratic-in-out"
              }
             }
            ],
            "label": "2002 Q2",
            "method": "animate"
           },
           {
            "args": [
             [
              "2002 Q3"
             ],
             {
              "frame": {
               "duration": 500,
               "redraw": true
              },
              "mode": "immediate",
              "transition": {
               "duration": 300,
               "easing": "quadratic-in-out"
              }
             }
            ],
            "label": "2002 Q3",
            "method": "animate"
           },
           {
            "args": [
             [
              "2002 Q4"
             ],
             {
              "frame": {
               "duration": 500,
               "redraw": true
              },
              "mode": "immediate",
              "transition": {
               "duration": 300,
               "easing": "quadratic-in-out"
              }
             }
            ],
            "label": "2002 Q4",
            "method": "animate"
           },
           {
            "args": [
             [
              "2003 Q1"
             ],
             {
              "frame": {
               "duration": 500,
               "redraw": true
              },
              "mode": "immediate",
              "transition": {
               "duration": 300,
               "easing": "quadratic-in-out"
              }
             }
            ],
            "label": "2003 Q1",
            "method": "animate"
           },
           {
            "args": [
             [
              "2003 Q2"
             ],
             {
              "frame": {
               "duration": 500,
               "redraw": true
              },
              "mode": "immediate",
              "transition": {
               "duration": 300,
               "easing": "quadratic-in-out"
              }
             }
            ],
            "label": "2003 Q2",
            "method": "animate"
           },
           {
            "args": [
             [
              "2003 Q3"
             ],
             {
              "frame": {
               "duration": 500,
               "redraw": true
              },
              "mode": "immediate",
              "transition": {
               "duration": 300,
               "easing": "quadratic-in-out"
              }
             }
            ],
            "label": "2003 Q3",
            "method": "animate"
           },
           {
            "args": [
             [
              "2003 Q4"
             ],
             {
              "frame": {
               "duration": 500,
               "redraw": true
              },
              "mode": "immediate",
              "transition": {
               "duration": 300,
               "easing": "quadratic-in-out"
              }
             }
            ],
            "label": "2003 Q4",
            "method": "animate"
           },
           {
            "args": [
             [
              "2004 Q1"
             ],
             {
              "frame": {
               "duration": 500,
               "redraw": true
              },
              "mode": "immediate",
              "transition": {
               "duration": 300,
               "easing": "quadratic-in-out"
              }
             }
            ],
            "label": "2004 Q1",
            "method": "animate"
           },
           {
            "args": [
             [
              "2004 Q2"
             ],
             {
              "frame": {
               "duration": 500,
               "redraw": true
              },
              "mode": "immediate",
              "transition": {
               "duration": 300,
               "easing": "quadratic-in-out"
              }
             }
            ],
            "label": "2004 Q2",
            "method": "animate"
           },
           {
            "args": [
             [
              "2004 Q3"
             ],
             {
              "frame": {
               "duration": 500,
               "redraw": true
              },
              "mode": "immediate",
              "transition": {
               "duration": 300,
               "easing": "quadratic-in-out"
              }
             }
            ],
            "label": "2004 Q3",
            "method": "animate"
           },
           {
            "args": [
             [
              "2004 Q4"
             ],
             {
              "frame": {
               "duration": 500,
               "redraw": true
              },
              "mode": "immediate",
              "transition": {
               "duration": 300,
               "easing": "quadratic-in-out"
              }
             }
            ],
            "label": "2004 Q4",
            "method": "animate"
           }
          ],
          "x": 0.1,
          "y": 0
         }
        ],
        "template": {
         "data": {
          "bar": [
           {
            "error_x": {
             "color": "#2a3f5f"
            },
            "error_y": {
             "color": "#2a3f5f"
            },
            "marker": {
             "line": {
              "color": "#E5ECF6",
              "width": 0.5
             },
             "pattern": {
              "fillmode": "overlay",
              "size": 10,
              "solidity": 0.2
             }
            },
            "type": "bar"
           }
          ],
          "barpolar": [
           {
            "marker": {
             "line": {
              "color": "#E5ECF6",
              "width": 0.5
             },
             "pattern": {
              "fillmode": "overlay",
              "size": 10,
              "solidity": 0.2
             }
            },
            "type": "barpolar"
           }
          ],
          "carpet": [
           {
            "aaxis": {
             "endlinecolor": "#2a3f5f",
             "gridcolor": "white",
             "linecolor": "white",
             "minorgridcolor": "white",
             "startlinecolor": "#2a3f5f"
            },
            "baxis": {
             "endlinecolor": "#2a3f5f",
             "gridcolor": "white",
             "linecolor": "white",
             "minorgridcolor": "white",
             "startlinecolor": "#2a3f5f"
            },
            "type": "carpet"
           }
          ],
          "choropleth": [
           {
            "colorbar": {
             "outlinewidth": 0,
             "ticks": ""
            },
            "type": "choropleth"
           }
          ],
          "contour": [
           {
            "colorbar": {
             "outlinewidth": 0,
             "ticks": ""
            },
            "colorscale": [
             [
              0,
              "#0d0887"
             ],
             [
              0.1111111111111111,
              "#46039f"
             ],
             [
              0.2222222222222222,
              "#7201a8"
             ],
             [
              0.3333333333333333,
              "#9c179e"
             ],
             [
              0.4444444444444444,
              "#bd3786"
             ],
             [
              0.5555555555555556,
              "#d8576b"
             ],
             [
              0.6666666666666666,
              "#ed7953"
             ],
             [
              0.7777777777777778,
              "#fb9f3a"
             ],
             [
              0.8888888888888888,
              "#fdca26"
             ],
             [
              1,
              "#f0f921"
             ]
            ],
            "type": "contour"
           }
          ],
          "contourcarpet": [
           {
            "colorbar": {
             "outlinewidth": 0,
             "ticks": ""
            },
            "type": "contourcarpet"
           }
          ],
          "heatmap": [
           {
            "colorbar": {
             "outlinewidth": 0,
             "ticks": ""
            },
            "colorscale": [
             [
              0,
              "#0d0887"
             ],
             [
              0.1111111111111111,
              "#46039f"
             ],
             [
              0.2222222222222222,
              "#7201a8"
             ],
             [
              0.3333333333333333,
              "#9c179e"
             ],
             [
              0.4444444444444444,
              "#bd3786"
             ],
             [
              0.5555555555555556,
              "#d8576b"
             ],
             [
              0.6666666666666666,
              "#ed7953"
             ],
             [
              0.7777777777777778,
              "#fb9f3a"
             ],
             [
              0.8888888888888888,
              "#fdca26"
             ],
             [
              1,
              "#f0f921"
             ]
            ],
            "type": "heatmap"
           }
          ],
          "heatmapgl": [
           {
            "colorbar": {
             "outlinewidth": 0,
             "ticks": ""
            },
            "colorscale": [
             [
              0,
              "#0d0887"
             ],
             [
              0.1111111111111111,
              "#46039f"
             ],
             [
              0.2222222222222222,
              "#7201a8"
             ],
             [
              0.3333333333333333,
              "#9c179e"
             ],
             [
              0.4444444444444444,
              "#bd3786"
             ],
             [
              0.5555555555555556,
              "#d8576b"
             ],
             [
              0.6666666666666666,
              "#ed7953"
             ],
             [
              0.7777777777777778,
              "#fb9f3a"
             ],
             [
              0.8888888888888888,
              "#fdca26"
             ],
             [
              1,
              "#f0f921"
             ]
            ],
            "type": "heatmapgl"
           }
          ],
          "histogram": [
           {
            "marker": {
             "pattern": {
              "fillmode": "overlay",
              "size": 10,
              "solidity": 0.2
             }
            },
            "type": "histogram"
           }
          ],
          "histogram2d": [
           {
            "colorbar": {
             "outlinewidth": 0,
             "ticks": ""
            },
            "colorscale": [
             [
              0,
              "#0d0887"
             ],
             [
              0.1111111111111111,
              "#46039f"
             ],
             [
              0.2222222222222222,
              "#7201a8"
             ],
             [
              0.3333333333333333,
              "#9c179e"
             ],
             [
              0.4444444444444444,
              "#bd3786"
             ],
             [
              0.5555555555555556,
              "#d8576b"
             ],
             [
              0.6666666666666666,
              "#ed7953"
             ],
             [
              0.7777777777777778,
              "#fb9f3a"
             ],
             [
              0.8888888888888888,
              "#fdca26"
             ],
             [
              1,
              "#f0f921"
             ]
            ],
            "type": "histogram2d"
           }
          ],
          "histogram2dcontour": [
           {
            "colorbar": {
             "outlinewidth": 0,
             "ticks": ""
            },
            "colorscale": [
             [
              0,
              "#0d0887"
             ],
             [
              0.1111111111111111,
              "#46039f"
             ],
             [
              0.2222222222222222,
              "#7201a8"
             ],
             [
              0.3333333333333333,
              "#9c179e"
             ],
             [
              0.4444444444444444,
              "#bd3786"
             ],
             [
              0.5555555555555556,
              "#d8576b"
             ],
             [
              0.6666666666666666,
              "#ed7953"
             ],
             [
              0.7777777777777778,
              "#fb9f3a"
             ],
             [
              0.8888888888888888,
              "#fdca26"
             ],
             [
              1,
              "#f0f921"
             ]
            ],
            "type": "histogram2dcontour"
           }
          ],
          "mesh3d": [
           {
            "colorbar": {
             "outlinewidth": 0,
             "ticks": ""
            },
            "type": "mesh3d"
           }
          ],
          "parcoords": [
           {
            "line": {
             "colorbar": {
              "outlinewidth": 0,
              "ticks": ""
             }
            },
            "type": "parcoords"
           }
          ],
          "pie": [
           {
            "automargin": true,
            "type": "pie"
           }
          ],
          "scatter": [
           {
            "fillpattern": {
             "fillmode": "overlay",
             "size": 10,
             "solidity": 0.2
            },
            "type": "scatter"
           }
          ],
          "scatter3d": [
           {
            "line": {
             "colorbar": {
              "outlinewidth": 0,
              "ticks": ""
             }
            },
            "marker": {
             "colorbar": {
              "outlinewidth": 0,
              "ticks": ""
             }
            },
            "type": "scatter3d"
           }
          ],
          "scattercarpet": [
           {
            "marker": {
             "colorbar": {
              "outlinewidth": 0,
              "ticks": ""
             }
            },
            "type": "scattercarpet"
           }
          ],
          "scattergeo": [
           {
            "marker": {
             "colorbar": {
              "outlinewidth": 0,
              "ticks": ""
             }
            },
            "type": "scattergeo"
           }
          ],
          "scattergl": [
           {
            "marker": {
             "colorbar": {
              "outlinewidth": 0,
              "ticks": ""
             }
            },
            "type": "scattergl"
           }
          ],
          "scattermapbox": [
           {
            "marker": {
             "colorbar": {
              "outlinewidth": 0,
              "ticks": ""
             }
            },
            "type": "scattermapbox"
           }
          ],
          "scatterpolar": [
           {
            "marker": {
             "colorbar": {
              "outlinewidth": 0,
              "ticks": ""
             }
            },
            "type": "scatterpolar"
           }
          ],
          "scatterpolargl": [
           {
            "marker": {
             "colorbar": {
              "outlinewidth": 0,
              "ticks": ""
             }
            },
            "type": "scatterpolargl"
           }
          ],
          "scatterternary": [
           {
            "marker": {
             "colorbar": {
              "outlinewidth": 0,
              "ticks": ""
             }
            },
            "type": "scatterternary"
           }
          ],
          "surface": [
           {
            "colorbar": {
             "outlinewidth": 0,
             "ticks": ""
            },
            "colorscale": [
             [
              0,
              "#0d0887"
             ],
             [
              0.1111111111111111,
              "#46039f"
             ],
             [
              0.2222222222222222,
              "#7201a8"
             ],
             [
              0.3333333333333333,
              "#9c179e"
             ],
             [
              0.4444444444444444,
              "#bd3786"
             ],
             [
              0.5555555555555556,
              "#d8576b"
             ],
             [
              0.6666666666666666,
              "#ed7953"
             ],
             [
              0.7777777777777778,
              "#fb9f3a"
             ],
             [
              0.8888888888888888,
              "#fdca26"
             ],
             [
              1,
              "#f0f921"
             ]
            ],
            "type": "surface"
           }
          ],
          "table": [
           {
            "cells": {
             "fill": {
              "color": "#EBF0F8"
             },
             "line": {
              "color": "white"
             }
            },
            "header": {
             "fill": {
              "color": "#C8D4E3"
             },
             "line": {
              "color": "white"
             }
            },
            "type": "table"
           }
          ]
         },
         "layout": {
          "annotationdefaults": {
           "arrowcolor": "#2a3f5f",
           "arrowhead": 0,
           "arrowwidth": 1
          },
          "autotypenumbers": "strict",
          "coloraxis": {
           "colorbar": {
            "outlinewidth": 0,
            "ticks": ""
           }
          },
          "colorscale": {
           "diverging": [
            [
             0,
             "#8e0152"
            ],
            [
             0.1,
             "#c51b7d"
            ],
            [
             0.2,
             "#de77ae"
            ],
            [
             0.3,
             "#f1b6da"
            ],
            [
             0.4,
             "#fde0ef"
            ],
            [
             0.5,
             "#f7f7f7"
            ],
            [
             0.6,
             "#e6f5d0"
            ],
            [
             0.7,
             "#b8e186"
            ],
            [
             0.8,
             "#7fbc41"
            ],
            [
             0.9,
             "#4d9221"
            ],
            [
             1,
             "#276419"
            ]
           ],
           "sequential": [
            [
             0,
             "#0d0887"
            ],
            [
             0.1111111111111111,
             "#46039f"
            ],
            [
             0.2222222222222222,
             "#7201a8"
            ],
            [
             0.3333333333333333,
             "#9c179e"
            ],
            [
             0.4444444444444444,
             "#bd3786"
            ],
            [
             0.5555555555555556,
             "#d8576b"
            ],
            [
             0.6666666666666666,
             "#ed7953"
            ],
            [
             0.7777777777777778,
             "#fb9f3a"
            ],
            [
             0.8888888888888888,
             "#fdca26"
            ],
            [
             1,
             "#f0f921"
            ]
           ],
           "sequentialminus": [
            [
             0,
             "#0d0887"
            ],
            [
             0.1111111111111111,
             "#46039f"
            ],
            [
             0.2222222222222222,
             "#7201a8"
            ],
            [
             0.3333333333333333,
             "#9c179e"
            ],
            [
             0.4444444444444444,
             "#bd3786"
            ],
            [
             0.5555555555555556,
             "#d8576b"
            ],
            [
             0.6666666666666666,
             "#ed7953"
            ],
            [
             0.7777777777777778,
             "#fb9f3a"
            ],
            [
             0.8888888888888888,
             "#fdca26"
            ],
            [
             1,
             "#f0f921"
            ]
           ]
          },
          "colorway": [
           "#636efa",
           "#EF553B",
           "#00cc96",
           "#ab63fa",
           "#FFA15A",
           "#19d3f3",
           "#FF6692",
           "#B6E880",
           "#FF97FF",
           "#FECB52"
          ],
          "font": {
           "color": "#2a3f5f"
          },
          "geo": {
           "bgcolor": "white",
           "lakecolor": "white",
           "landcolor": "#E5ECF6",
           "showlakes": true,
           "showland": true,
           "subunitcolor": "white"
          },
          "hoverlabel": {
           "align": "left"
          },
          "hovermode": "closest",
          "mapbox": {
           "style": "light"
          },
          "paper_bgcolor": "white",
          "plot_bgcolor": "#E5ECF6",
          "polar": {
           "angularaxis": {
            "gridcolor": "white",
            "linecolor": "white",
            "ticks": ""
           },
           "bgcolor": "#E5ECF6",
           "radialaxis": {
            "gridcolor": "white",
            "linecolor": "white",
            "ticks": ""
           }
          },
          "scene": {
           "xaxis": {
            "backgroundcolor": "#E5ECF6",
            "gridcolor": "white",
            "gridwidth": 2,
            "linecolor": "white",
            "showbackground": true,
            "ticks": "",
            "zerolinecolor": "white"
           },
           "yaxis": {
            "backgroundcolor": "#E5ECF6",
            "gridcolor": "white",
            "gridwidth": 2,
            "linecolor": "white",
            "showbackground": true,
            "ticks": "",
            "zerolinecolor": "white"
           },
           "zaxis": {
            "backgroundcolor": "#E5ECF6",
            "gridcolor": "white",
            "gridwidth": 2,
            "linecolor": "white",
            "showbackground": true,
            "ticks": "",
            "zerolinecolor": "white"
           }
          },
          "shapedefaults": {
           "line": {
            "color": "#2a3f5f"
           }
          },
          "ternary": {
           "aaxis": {
            "gridcolor": "white",
            "linecolor": "white",
            "ticks": ""
           },
           "baxis": {
            "gridcolor": "white",
            "linecolor": "white",
            "ticks": ""
           },
           "bgcolor": "#E5ECF6",
           "caxis": {
            "gridcolor": "white",
            "linecolor": "white",
            "ticks": ""
           }
          },
          "title": {
           "x": 0.05
          },
          "xaxis": {
           "automargin": true,
           "gridcolor": "white",
           "linecolor": "white",
           "ticks": "",
           "title": {
            "standoff": 15
           },
           "zerolinecolor": "white",
           "zerolinewidth": 2
          },
          "yaxis": {
           "automargin": true,
           "gridcolor": "white",
           "linecolor": "white",
           "ticks": "",
           "title": {
            "standoff": 15
           },
           "zerolinecolor": "white",
           "zerolinewidth": 2
          }
         }
        },
        "title": {
         "text": "Airport Departures (2001-2004)"
        },
        "updatemenus": [
         {
          "active": 0,
          "buttons": [
           {
            "args": [
             null,
             {
              "frame": {
               "duration": 500,
               "redraw": true
              },
              "fromcurrent": true,
              "transition": {
               "duration": 300,
               "easing": "quadratic-in-out"
              }
             }
            ],
            "label": "Play",
            "method": "animate"
           },
           {
            "args": [
             [
              null
             ],
             {
              "frame": {
               "duration": 0,
               "redraw": false
              },
              "mode": "immediate",
              "transition": {
               "duration": 0
              }
             }
            ],
            "label": "Pause",
            "method": "animate"
           }
          ],
          "direction": "left",
          "pad": {
           "r": 10,
           "t": 87
          },
          "showactive": false,
          "type": "buttons",
          "x": 0.1,
          "xanchor": "right",
          "y": 0,
          "yanchor": "top"
         }
        ],
        "width": 1200
       }
      },
      "image/png": "[encoded data removed]",
      "text/html": [
       "<div>                            <div id=\"f2a84252-f410-4d47-9a0d-f190be7af879\" class=\"plotly-graph-div\" style=\"height:600px; width:1200px;\"></div>            <script type=\"text/javascript\">                require([\"plotly\"], function(Plotly) {                    window.PLOTLYENV=window.PLOTLYENV || {};                                    if (document.getElementById(\"f2a84252-f410-4d47-9a0d-f190be7af879\")) {                    Plotly.newPlot(                        \"f2a84252-f410-4d47-9a0d-f190be7af879\",                        [{\"geo\":\"geo\",\"hovertemplate\":\"<b>%{hovertext}</b><br><br>animation_frame=2001 Q1<br>lat=%{lat}<br>long=%{lon}<br>normalized_count=%{marker.color}<extra></extra>\",\"hovertext\":[\"Albuquerque, NM\\n(35.084248, -106.649241)\",\"Atlantic City, NJ\\n(33.748547, -84.391502)\",\"Albany, NY\\n(42.651242, -73.755418)\",\"Amarillo, TX\\n(35.207009, -101.832013)\",\"Aspen, CO\\n(39.190665, -106.819201)\",\"Atlanta, GA (Metropolitan Area)\\n(33.748547, -84.391502)\",\"Austin, TX\\n(30.264979, -97.746598)\",\"Hartford, CT\\n(41.765775, -72.673356)\",\"Birmingham, AL\\n(33.522859, -86.807705)\",\"Nashville, TN\\n(36.166687, -86.779932)\",\"Boise, ID\\n(43.597772, -83.884521)\",\"Boston, MA (Metropolitan Area)\\n(42.358894, -71.056742)\",\"Baton Rouge, LA\\n(30.443319, -91.187488)\",\"Burlington, VT\\n(44.475949, -73.212481)\",\"Buffalo, NY\\n(39.945422, -78.64671)\",\"Los Angeles, CA (Metropolitan Area)\\n(34.052238, -118.243344)\",\"Washington, DC (Metropolitan Area)\\n(38.892062, -77.019912)\",\"Columbia, SC\\n(39.962649, -82.996216)\",\"Cleveland, OH (Metropolitan Area)\\n(41.505546, -81.6915)\",\"Chicago, IL\\n(41.775002, -87.696388)\",\"Charleston, SC\\n(32.77647, -79.931027)\",\"Cleveland, OH (Metropolitan Area)\\n(41.505546, -81.6915)\",\"Charlotte, NC\\n(35.222936, -80.840161)\",\"Columbus, OH\\n(39.962649, -82.996216)\",\"Colorado Springs, CO\\n(38.835224, -104.819798)\",\"Corpus Christi, TX\\n(27.796416, -97.404131)\",\"Cincinnati, OH\\n(39.104427, -84.513808)\",\"Daytona Beach, FL\\n(29.207056, -81.020739)\",\"Dallas/Fort Worth, TX\\n(40.11086, -77.035636)\",\"Dayton, OH\\n(39.760982, -84.192203)\",\"Washington, DC (Metropolitan Area)\\n(38.892062, -77.019912)\",\"Denver, CO\\n(39.738453, -104.984853)\",\"Dallas/Fort Worth, TX\\n(40.11086, -77.035636)\",\"Des Moines, IA\\n(41.588822, -93.620309)\",\"Detroit, MI\\n(42.332916, -83.047853)\",\"Houston, TX\\n(29.760803, -95.369506)\",\"Eagle, CO\\n(38.8339, -120.040604)\",\"El Paso, TX\\n(31.76006, -106.492257)\",\"Eugene, OR\\n(37.533089, -75.823024)\",\"New York City, NY (Metropolitan Area)\\n(40.123164, -75.333718)\",\"Key West, FL\\n(70.129129, -143.63129)\",\"Miami, FL (Metropolitan Area)\\n(44.977479, -93.264346)\",\"Gulfport/Biloxi, MS\\n(30.369834, -89.091582)\",\"Grand Rapids, MI\\n(47.925705, -97.036068)\",\"Greensboro/High Point, NC\\n(36.072701, -79.793899)\",\"Greenville/Spartanburg, SC\\n(44.513288, -88.013256)\",\"Houston, TX\\n(29.760803, -95.369506)\",\"New York City, NY (Metropolitan Area)\\n(40.123164, -75.333718)\",\"Harlingen/San Benito, TX\\n(40.8078, -73.945801)\",\"Huntsville, AL\\n(34.729538, -86.585283)\",\"Washington, DC (Metropolitan Area)\\n(38.892062, -77.019912)\",\"Houston, TX\\n(29.760803, -95.369506)\",\"Indianapolis, IN\\n(39.76845, -86.156212)\",\"New York City, NY (Metropolitan Area)\\n(40.123164, -75.333718)\",\"Jackson/Vicksburg, MS\\n(30.325968, -81.65676)\",\"Jacksonville, FL\\n(30.325968, -81.65676)\",\"New York City, NY (Metropolitan Area)\\n(40.123164, -75.333718)\",\"Las Vegas, NV\\n(36.169202, -115.140597)\",\"Los Angeles, CA (Metropolitan Area)\\n(34.052238, -118.243344)\",\"New York City, NY (Metropolitan Area)\\n(40.123164, -75.333718)\",\"Los Angeles, CA (Metropolitan Area)\\n(34.052238, -118.243344)\",\"Little Rock, AR\\n(34.748745, -92.275105)\",\"Kansas City, MO\\n(39.099792, -94.578559)\",\"Orlando, FL\\n(28.538331, -81.378879)\",\"Chicago, IL\\n(41.775002, -87.696388)\",\"Memphis, TN\\n(35.143378, -90.052136)\",\"Boston, MA (Metropolitan Area)\\n(42.358894, -71.056742)\",\"Miami, FL (Metropolitan Area)\\n(44.977479, -93.264346)\",\"Kansas City, MO\\n(39.099792, -94.578559)\",\"Milwaukee, WI\\n(43.041072, -87.909421)\",\"Melbourne, FL\\n(28.079931, -80.603516)\",\"Madison, WI\\n(43.073926, -89.385244)\",\"Minneapolis/St. Paul, MN\\n(44.977479, -93.264346)\",\"New Orleans, LA\\n(29.950621, -90.074948)\",\"Myrtle Beach, SC\\n(33.68785, -78.883852)\",\"New York City, NY (Metropolitan Area)\\n(40.123164, -75.333718)\",\"San Francisco, CA (Metropolitan Area)\\n(37.78008, -122.420168)\",\"Oklahoma City, OK\\n(35.468494, -97.521264)\",\"Omaha, NE\\n(46.07035, -93.666319)\",\"Los Angeles, CA (Metropolitan Area)\\n(34.052238, -118.243344)\",\"Chicago, IL\\n(41.775002, -87.696388)\",\"Norfolk, VA (Metropolitan Area)\\n(36.846164, -76.285913)\",\"Portland, OR\\n(45.516018, -122.681425)\",\"Norfolk, VA (Metropolitan Area)\\n(36.846164, -76.285913)\",\"Philadelphia, PA\\n(39.951061, -75.16562)\",\"Phoenix, AZ\\n(30.406931, -87.217578)\",\"Pittsburgh, PA\\n(40.442169, -79.994945)\",\"Palm Springs, CA\\n(33.830302, -116.546843)\",\"Boston, MA (Metropolitan Area)\\n(42.358894, -71.056742)\",\"Raleigh/Durham, NC\\n(42.673348, -72.179683)\",\"Reno, NV\\n(30.177159, -95.162771)\",\"Rochester, NY\\n(43.155708, -77.612547)\",\"Fort Myers, FL\\n(40.253979, -103.801495)\",\"San Diego, CA\\n(32.71576, -117.163817)\",\"San Antonio, TX\\n(29.425173, -98.494599)\",\"Savannah, GA\\n(40.115007, -111.654713)\",\"Louisville, KY\\n(38.256078, -85.751569)\",\"Seattle, WA\\n(47.603229, -122.33028)\",\"San Francisco, CA (Metropolitan Area)\\n(37.78008, -122.420168)\",\"San Francisco, CA (Metropolitan Area)\\n(37.78008, -122.420168)\",\"Salt Lake City, UT\\n(40.758478, -111.888142)\",\"Sacramento, CA\\n(38.582087, -121.50012)\",\"Los Angeles, CA (Metropolitan Area)\\n(34.052238, -118.243344)\",\"St. Louis, MO\\n(38.630276, -90.200309)\",\"New York City, NY (Metropolitan Area)\\n(40.123164, -75.333718)\",\"Syracuse, NY\\n(43.047945, -76.147448)\",\"Tallahassee, FL\\n(38.921902, -120.020798)\",\"Tampa, FL (Metropolitan Area)\\n(37.8606, -78.804199)\",\"Tulsa, OK\\n(61.096484, -160.967455)\",\"Tucson, AZ\\n(35.167852, -103.726151)\",\"Knoxville, TN\\n(35.962631, -83.916677)\",\"Washington, DC (Metropolitan Area)\\n(38.892062, -77.019912)\"],\"lat\":[35.084248,33.748547,42.651242,35.207009,39.190665,33.748547,30.264979,41.765775,33.522859,36.166687,43.597772,42.358894,30.443319,44.475949,39.945422,34.052238,38.892062,39.962649,41.505546,41.775002,32.77647,41.505546,35.222936,39.962649,38.835224,27.796416,39.104427,29.207056,40.11086,39.760982,38.892062,39.738453,40.11086,41.588822,42.332916,29.760803,38.8339,31.76006,37.533089,40.123164,70.129129,44.977479,30.369834,47.925705,36.072701,44.513288,29.760803,40.123164,40.8078,34.729538,38.892062,29.760803,39.76845,40.123164,30.325968,30.325968,40.123164,36.169202,34.052238,40.123164,34.052238,34.748745,39.099792,28.538331,41.775002,35.143378,42.358894,44.977479,39.099792,43.041072,28.079931,43.073926,44.977479,29.950621,33.68785,40.123164,37.78008,35.468494,46.07035,34.052238,41.775002,36.846164,45.516018,36.846164,39.951061,30.406931,40.442169,33.830302,42.358894,42.673348,30.177159,43.155708,40.253979,32.71576,29.425173,40.115007,38.256078,47.603229,37.78008,37.78008,40.758478,38.582087,34.052238,38.630276,40.123164,43.047945,38.921902,37.8606,61.096484,35.167852,35.962631,38.892062],\"legendgroup\":\"\",\"lon\":[-106.649241,-84.391502,-73.755418,-101.832013,-106.819201,-84.391502,-97.746598,-72.673356,-86.807705,-86.779932,-83.884521,-71.056742,-91.187488,-73.212481,-78.64671,-118.243344,-77.019912,-82.996216,-81.6915,-87.696388,-79.931027,-81.6915,-80.840161,-82.996216,-104.819798,-97.404131,-84.513808,-81.020739,-77.035636,-84.192203,-77.019912,-104.984853,-77.035636,-93.620309,-83.047853,-95.369506,-120.040604,-106.492257,-75.823024,-75.333718,-143.63129,-93.264346,-89.091582,-97.036068,-79.793899,-88.013256,-95.369506,-75.333718,-73.945801,-86.585283,-77.019912,-95.369506,-86.156212,-75.333718,-81.65676,-81.65676,-75.333718,-115.140597,-118.243344,-75.333718,-118.243344,-92.275105,-94.578559,-81.378879,-87.696388,-90.052136,-71.056742,-93.264346,-94.578559,-87.909421,-80.603516,-89.385244,-93.264346,-90.074948,-78.883852,-75.333718,-122.420168,-97.521264,-93.666319,-118.243344,-87.696388,-76.285913,-122.681425,-76.285913,-75.16562,-87.217578,-79.994945,-116.546843,-71.056742,-72.179683,-95.162771,-77.612547,-103.801495,-117.163817,-98.494599,-111.654713,-85.751569,-122.33028,-122.420168,-122.420168,-111.888142,-121.50012,-118.243344,-90.200309,-75.333718,-76.147448,-120.020798,-78.804199,-160.967455,-103.726151,-83.916677,-77.019912],\"marker\":{\"color\":[0.34177215189873417,0.02531645569620253,0.1518987341772152,0.05063291139240506,0.06329113924050633,0.45569620253164556,0.379746835443038,0.21518987341772153,0.3037974683544304,0.17721518987341772,0.08860759493670886,0.9113924050632911,0.012658227848101266,0.06329113924050633,0.26582278481012656,0.4936708860759494,0.0,0.12658227848101267,0.4936708860759494,0.21518987341772153,0.12658227848101267,0.5316455696202531,0.379746835443038,0.34177215189873417,0.1518987341772152,0.05063291139240506,0.3291139240506329,0.06329113924050633,0.8227848101265823,0.24050632911392406,0.0,0.31645569620253167,0.8607594936708861,0.11392405063291139,0.31645569620253167,0.5443037974683544,0.10126582278481013,0.16455696202531644,0.08860759493670886,0.3924050632911392,0.05063291139240506,0.4810126582278481,0.02531645569620253,0.17721518987341772,0.13924050632911392,0.0759493670886076,0.620253164556962,0.4177215189873418,0.02531645569620253,0.0379746835443038,0.0,0.620253164556962,0.2911392405063291,0.4050632911392405,0.02531645569620253,0.2911392405063291,0.4177215189873418,0.26582278481012656,0.5316455696202531,0.43037974683544306,0.43037974683544306,0.08860759493670886,0.46835443037974683,0.0759493670886076,0.9493670886075949,0.189873417721519,0.810126582278481,0.4810126582278481,0.05063291139240506,0.16455696202531644,0.11392405063291139,0.10126582278481013,0.16455696202531644,0.17721518987341772,0.0759493670886076,0.20253164556962025,0.12658227848101267,0.0759493670886076,0.06329113924050633,0.5189873417721519,0.9746835443037974,0.0759493670886076,0.08860759493670886,0.06329113924050633,0.0379746835443038,0.08860759493670886,0.0759493670886076,0.02531645569620253,0.8354430379746836,0.08860759493670886,0.06329113924050633,0.0379746835443038,0.13924050632911392,0.0759493670886076,0.0759493670886076,0.02531645569620253,0.13924050632911392,0.06329113924050633,0.13924050632911392,0.12658227848101267,0.0759493670886076,0.02531645569620253,0.5189873417721519,0.06329113924050633,0.4050632911392405,0.0379746835443038,0.0,0.05063291139240506,0.02531645569620253,0.02531645569620253,0.0759493670886076,0.0],\"coloraxis\":\"coloraxis\",\"symbol\":\"circle\"},\"mode\":\"markers\",\"name\":\"\",\"showlegend\":false,\"type\":\"scattergeo\"},{\"geo\":\"geo2\",\"hovertemplate\":\"<b>%{hovertext}</b><br><br>animation_frame=2001 Q1<br>lat=%{lat}<br>long=%{lon}<br>normalized_count=%{marker.color}<extra></extra>\",\"hovertext\":[\"Hartford, CT\\n(41.765775, -72.673356)\",\"Nashville, TN\\n(36.166687, -86.779932)\",\"Boston, MA (Metropolitan Area)\\n(42.358894, -71.056742)\",\"Buffalo, NY\\n(39.945422, -78.64671)\",\"Los Angeles, CA (Metropolitan Area)\\n(34.052238, -118.243344)\",\"Washington, DC (Metropolitan Area)\\n(38.892062, -77.019912)\",\"Cleveland, OH (Metropolitan Area)\\n(41.505546, -81.6915)\",\"Chicago, IL\\n(41.775002, -87.696388)\",\"Cleveland, OH (Metropolitan Area)\\n(41.505546, -81.6915)\",\"Charlotte, NC\\n(35.222936, -80.840161)\",\"Columbus, OH\\n(39.962649, -82.996216)\",\"Cincinnati, OH\\n(39.104427, -84.513808)\",\"Dallas/Fort Worth, TX\\n(40.11086, -77.035636)\",\"Dayton, OH\\n(39.760982, -84.192203)\",\"Washington, DC (Metropolitan Area)\\n(38.892062, -77.019912)\",\"Denver, CO\\n(39.738453, -104.984853)\",\"Dallas/Fort Worth, TX\\n(40.11086, -77.035636)\",\"Des Moines, IA\\n(41.588822, -93.620309)\",\"Detroit, MI\\n(42.332916, -83.047853)\",\"Houston, TX\\n(29.760803, -95.369506)\",\"Eagle, CO\\n(38.8339, -120.040604)\",\"El Paso, TX\\n(31.76006, -106.492257)\",\"New York City, NY (Metropolitan Area)\\n(40.123164, -75.333718)\",\"Key West, FL\\n(70.129129, -143.63129)\",\"Miami, FL (Metropolitan Area)\\n(44.977479, -93.264346)\",\"Spokane, WA\\n(47.658999, -117.425022)\",\"Greensboro/High Point, NC\\n(36.072701, -79.793899)\",\"Houston, TX\\n(29.760803, -95.369506)\",\"New York City, NY (Metropolitan Area)\\n(40.123164, -75.333718)\",\"Harlingen/San Benito, TX\\n(40.8078, -73.945801)\",\"Washington, DC (Metropolitan Area)\\n(38.892062, -77.019912)\",\"Houston, TX\\n(29.760803, -95.369506)\",\"Wichita, KS\\n(39.960481, -75.605214)\",\"Indianapolis, IN\\n(39.76845, -86.156212)\",\"New York City, NY (Metropolitan Area)\\n(40.123164, -75.333718)\",\"Jackson/Vicksburg, MS\\n(30.325968, -81.65676)\",\"Jacksonville, FL\\n(30.325968, -81.65676)\",\"New York City, NY (Metropolitan Area)\\n(40.123164, -75.333718)\",\"Las Vegas, NV\\n(36.169202, -115.140597)\",\"Los Angeles, CA (Metropolitan Area)\\n(34.052238, -118.243344)\",\"Lubbock, TX\\n(41.181125, -96.030508)\",\"New York City, NY (Metropolitan Area)\\n(40.123164, -75.333718)\",\"Los Angeles, CA (Metropolitan Area)\\n(34.052238, -118.243344)\",\"Little Rock, AR\\n(34.748745, -92.275105)\",\"Midland/Odessa, TX\\n(31.997433, -102.078043)\",\"Kansas City, MO\\n(39.099792, -94.578559)\",\"Orlando, FL\\n(28.538331, -81.378879)\",\"Harrisburg, PA\\n(40.259572, -76.881821)\",\"Chicago, IL\\n(41.775002, -87.696388)\",\"Memphis, TN\\n(35.143378, -90.052136)\",\"Mission/McAllen/Edinburg, TX\\n(43.153621, -93.201042)\",\"Boston, MA (Metropolitan Area)\\n(42.358894, -71.056742)\",\"Miami, FL (Metropolitan Area)\\n(44.977479, -93.264346)\",\"Kansas City, MO\\n(39.099792, -94.578559)\",\"Milwaukee, WI\\n(43.041072, -87.909421)\",\"Minneapolis/St. Paul, MN\\n(44.977479, -93.264346)\",\"New Orleans, LA\\n(29.950621, -90.074948)\",\"Myrtle Beach, SC\\n(33.68785, -78.883852)\",\"New York City, NY (Metropolitan Area)\\n(40.123164, -75.333718)\",\"San Francisco, CA (Metropolitan Area)\\n(37.78008, -122.420168)\",\"Oklahoma City, OK\\n(35.468494, -97.521264)\",\"Omaha, NE\\n(46.07035, -93.666319)\",\"Los Angeles, CA (Metropolitan Area)\\n(34.052238, -118.243344)\",\"Chicago, IL\\n(41.775002, -87.696388)\",\"Norfolk, VA (Metropolitan Area)\\n(36.846164, -76.285913)\",\"West Palm Beach/Palm Beach, FL\\n(33.90976, -98.500854)\",\"Portland, OR\\n(45.516018, -122.681425)\",\"Norfolk, VA (Metropolitan Area)\\n(36.846164, -76.285913)\",\"Philadelphia, PA\\n(39.951061, -75.16562)\",\"Phoenix, AZ\\n(30.406931, -87.217578)\",\"Tampa, FL (Metropolitan Area)\\n(37.8606, -78.804199)\",\"Pittsburgh, PA\\n(40.442169, -79.994945)\",\"Palm Springs, CA\\n(33.830302, -116.546843)\",\"Boston, MA (Metropolitan Area)\\n(42.358894, -71.056742)\",\"Portland, ME\\n(45.516018, -122.681425)\",\"Raleigh/Durham, NC\\n(42.673348, -72.179683)\",\"Richmond, VA\\n(37.540759, -77.433932)\",\"Reno, NV\\n(30.177159, -95.162771)\",\"Rochester, NY\\n(43.155708, -77.612547)\",\"Fort Myers, FL\\n(40.253979, -103.801495)\",\"San Diego, CA\\n(32.71576, -117.163817)\",\"San Antonio, TX\\n(29.425173, -98.494599)\",\"Savannah, GA\\n(40.115007, -111.654713)\",\"Santa Barbara, CA\\n(34.420867, -119.698342)\",\"Louisville, KY\\n(38.256078, -85.751569)\",\"Seattle, WA\\n(47.603229, -122.33028)\",\"San Francisco, CA (Metropolitan Area)\\n(37.78008, -122.420168)\",\"San Francisco, CA (Metropolitan Area)\\n(37.78008, -122.420168)\",\"Salt Lake City, UT\\n(40.758478, -111.888142)\",\"Sacramento, CA\\n(38.582087, -121.50012)\",\"Los Angeles, CA (Metropolitan Area)\\n(34.052238, -118.243344)\",\"Sarasota/Bradenton, FL\\n(27.336483, -82.538602)\",\"St. Louis, MO\\n(38.630276, -90.200309)\",\"New York City, NY (Metropolitan Area)\\n(40.123164, -75.333718)\",\"Syracuse, NY\\n(43.047945, -76.147448)\",\"Tallahassee, FL\\n(38.921902, -120.020798)\",\"Tampa, FL (Metropolitan Area)\\n(37.8606, -78.804199)\",\"Tulsa, OK\\n(61.096484, -160.967455)\",\"Tucson, AZ\\n(35.167852, -103.726151)\",\"Washington, DC (Metropolitan Area)\\n(38.892062, -77.019912)\"],\"lat\":[41.765775,36.166687,42.358894,39.945422,34.052238,38.892062,41.505546,41.775002,41.505546,35.222936,39.962649,39.104427,40.11086,39.760982,38.892062,39.738453,40.11086,41.588822,42.332916,29.760803,38.8339,31.76006,40.123164,70.129129,44.977479,47.658999,36.072701,29.760803,40.123164,40.8078,38.892062,29.760803,39.960481,39.76845,40.123164,30.325968,30.325968,40.123164,36.169202,34.052238,41.181125,40.123164,34.052238,34.748745,31.997433,39.099792,28.538331,40.259572,41.775002,35.143378,43.153621,42.358894,44.977479,39.099792,43.041072,44.977479,29.950621,33.68785,40.123164,37.78008,35.468494,46.07035,34.052238,41.775002,36.846164,33.90976,45.516018,36.846164,39.951061,30.406931,37.8606,40.442169,33.830302,42.358894,45.516018,42.673348,37.540759,30.177159,43.155708,40.253979,32.71576,29.425173,40.115007,34.420867,38.256078,47.603229,37.78008,37.78008,40.758478,38.582087,34.052238,27.336483,38.630276,40.123164,43.047945,38.921902,37.8606,61.096484,35.167852,38.892062],\"legendgroup\":\"\",\"lon\":[-72.673356,-86.779932,-71.056742,-78.64671,-118.243344,-77.019912,-81.6915,-87.696388,-81.6915,-80.840161,-82.996216,-84.513808,-77.035636,-84.192203,-77.019912,-104.984853,-77.035636,-93.620309,-83.047853,-95.369506,-120.040604,-106.492257,-75.333718,-143.63129,-93.264346,-117.425022,-79.793899,-95.369506,-75.333718,-73.945801,-77.019912,-95.369506,-75.605214,-86.156212,-75.333718,-81.65676,-81.65676,-75.333718,-115.140597,-118.243344,-96.030508,-75.333718,-118.243344,-92.275105,-102.078043,-94.578559,-81.378879,-76.881821,-87.696388,-90.052136,-93.201042,-71.056742,-93.264346,-94.578559,-87.909421,-93.264346,-90.074948,-78.883852,-75.333718,-122.420168,-97.521264,-93.666319,-118.243344,-87.696388,-76.285913,-98.500854,-122.681425,-76.285913,-75.16562,-87.217578,-78.804199,-79.994945,-116.546843,-71.056742,-122.681425,-72.179683,-77.433932,-95.162771,-77.612547,-103.801495,-117.163817,-98.494599,-111.654713,-119.698342,-85.751569,-122.33028,-122.420168,-122.420168,-111.888142,-121.50012,-118.243344,-82.538602,-90.200309,-75.333718,-76.147448,-120.020798,-78.804199,-160.967455,-103.726151,-77.019912],\"marker\":{\"color\":[0.06593406593406594,0.2087912087912088,0.02197802197802198,0.02197802197802198,0.38461538461538464,0.9340659340659341,0.06593406593406594,0.02197802197802198,0.06593406593406594,0.02197802197802198,0.054945054945054944,0.04395604395604396,0.18681318681318682,0.06593406593406594,0.9340659340659341,0.08791208791208792,0.1978021978021978,0.01098901098901099,0.06593406593406594,0.21978021978021978,0.01098901098901099,0.03296703296703297,0.5934065934065934,0.02197802197802198,0.42857142857142855,0.07692307692307693,0.07692307692307693,0.25274725274725274,0.5384615384615384,0.01098901098901099,0.9340659340659341,0.25274725274725274,0.0,0.12087912087912088,0.5824175824175825,0.06593406593406594,0.12087912087912088,0.5714285714285714,0.13186813186813187,0.38461538461538464,0.04395604395604396,0.5934065934065934,0.34065934065934067,0.06593406593406594,0.04395604395604396,0.2087912087912088,0.3076923076923077,0.01098901098901099,0.0989010989010989,0.15384615384615385,0.04395604395604396,0.02197802197802198,0.43956043956043955,0.0,0.15384615384615385,0.2087912087912088,0.2087912087912088,0.054945054945054944,0.2857142857142857,0.6483516483516484,0.21978021978021978,0.2087912087912088,0.38461538461538464,0.0989010989010989,0.24175824175824176,0.3076923076923077,0.27472527472527475,0.18681318681318682,0.25274725274725274,0.2857142857142857,0.17582417582417584,0.2857142857142857,0.08791208791208792,0.02197802197802198,0.054945054945054944,0.3076923076923077,0.16483516483516483,0.18681318681318682,0.14285714285714285,0.0989010989010989,0.2857142857142857,0.25274725274725274,0.0989010989010989,0.02197802197802198,0.10989010989010989,0.2967032967032967,0.6703296703296703,0.6593406593406593,0.25274725274725274,0.24175824175824176,0.38461538461538464,0.10989010989010989,0.31868131868131866,0.5494505494505495,0.07692307692307693,0.01098901098901099,0.7472527472527473,0.21978021978021978,0.1978021978021978,0.3626373626373626],\"coloraxis\":\"coloraxis\",\"symbol\":\"circle\"},\"mode\":\"markers\",\"name\":\"\",\"showlegend\":false,\"type\":\"scattergeo\"}],                        {\"template\":{\"data\":{\"histogram2dcontour\":[{\"type\":\"histogram2dcontour\",\"colorbar\":{\"outlinewidth\":0,\"ticks\":\"\"},\"colorscale\":[[0.0,\"#0d0887\"],[0.1111111111111111,\"#46039f\"],[0.2222222222222222,\"#7201a8\"],[0.3333333333333333,\"#9c179e\"],[0.4444444444444444,\"#bd3786\"],[0.5555555555555556,\"#d8576b\"],[0.6666666666666666,\"#ed7953\"],[0.7777777777777778,\"#fb9f3a\"],[0.8888888888888888,\"#fdca26\"],[1.0,\"#f0f921\"]]}],\"choropleth\":[{\"type\":\"choropleth\",\"colorbar\":{\"outlinewidth\":0,\"ticks\":\"\"}}],\"histogram2d\":[{\"type\":\"histogram2d\",\"colorbar\":{\"outlinewidth\":0,\"ticks\":\"\"},\"colorscale\":[[0.0,\"#0d0887\"],[0.1111111111111111,\"#46039f\"],[0.2222222222222222,\"#7201a8\"],[0.3333333333333333,\"#9c179e\"],[0.4444444444444444,\"#bd3786\"],[0.5555555555555556,\"#d8576b\"],[0.6666666666666666,\"#ed7953\"],[0.7777777777777778,\"#fb9f3a\"],[0.8888888888888888,\"#fdca26\"],[1.0,\"#f0f921\"]]}],\"heatmap\":[{\"type\":\"heatmap\",\"colorbar\":{\"outlinewidth\":0,\"ticks\":\"\"},\"colorscale\":[[0.0,\"#0d0887\"],[0.1111111111111111,\"#46039f\"],[0.2222222222222222,\"#7201a8\"],[0.3333333333333333,\"#9c179e\"],[0.4444444444444444,\"#bd3786\"],[0.5555555555555556,\"#d8576b\"],[0.6666666666666666,\"#ed7953\"],[0.7777777777777778,\"#fb9f3a\"],[0.8888888888888888,\"#fdca26\"],[1.0,\"#f0f921\"]]}],\"heatmapgl\":[{\"type\":\"heatmapgl\",\"colorbar\":{\"outlinewidth\":0,\"ticks\":\"\"},\"colorscale\":[[0.0,\"#0d0887\"],[0.1111111111111111,\"#46039f\"],[0.2222222222222222,\"#7201a8\"],[0.3333333333333333,\"#9c179e\"],[0.4444444444444444,\"#bd3786\"],[0.5555555555555556,\"#d8576b\"],[0.6666666666666666,\"#ed7953\"],[0.7777777777777778,\"#fb9f3a\"],[0.8888888888888888,\"#fdca26\"],[1.0,\"#f0f921\"]]}],\"contourcarpet\":[{\"type\":\"contourcarpet\",\"colorbar\":{\"outlinewidth\":0,\"ticks\":\"\"}}],\"contour\":[{\"type\":\"contour\",\"colorbar\":{\"outlinewidth\":0,\"ticks\":\"\"},\"colorscale\":[[0.0,\"#0d0887\"],[0.1111111111111111,\"#46039f\"],[0.2222222222222222,\"#7201a8\"],[0.3333333333333333,\"#9c179e\"],[0.4444444444444444,\"#bd3786\"],[0.5555555555555556,\"#d8576b\"],[0.6666666666666666,\"#ed7953\"],[0.7777777777777778,\"#fb9f3a\"],[0.8888888888888888,\"#fdca26\"],[1.0,\"#f0f921\"]]}],\"surface\":[{\"type\":\"surface\",\"colorbar\":{\"outlinewidth\":0,\"ticks\":\"\"},\"colorscale\":[[0.0,\"#0d0887\"],[0.1111111111111111,\"#46039f\"],[0.2222222222222222,\"#7201a8\"],[0.3333333333333333,\"#9c179e\"],[0.4444444444444444,\"#bd3786\"],[0.5555555555555556,\"#d8576b\"],[0.6666666666666666,\"#ed7953\"],[0.7777777777777778,\"#fb9f3a\"],[0.8888888888888888,\"#fdca26\"],[1.0,\"#f0f921\"]]}],\"mesh3d\":[{\"type\":\"mesh3d\",\"colorbar\":{\"outlinewidth\":0,\"ticks\":\"\"}}],\"scatter\":[{\"fillpattern\":{\"fillmode\":\"overlay\",\"size\":10,\"solidity\":0.2},\"type\":\"scatter\"}],\"parcoords\":[{\"type\":\"parcoords\",\"line\":{\"colorbar\":{\"outlinewidth\":0,\"ticks\":\"\"}}}],\"scatterpolargl\":[{\"type\":\"scatterpolargl\",\"marker\":{\"colorbar\":{\"outlinewidth\":0,\"ticks\":\"\"}}}],\"bar\":[{\"error_x\":{\"color\":\"#2a3f5f\"},\"error_y\":{\"color\":\"#2a3f5f\"},\"marker\":{\"line\":{\"color\":\"#E5ECF6\",\"width\":0.5},\"pattern\":{\"fillmode\":\"overlay\",\"size\":10,\"solidity\":0.2}},\"type\":\"bar\"}],\"scattergeo\":[{\"type\":\"scattergeo\",\"marker\":{\"colorbar\":{\"outlinewidth\":0,\"ticks\":\"\"}}}],\"scatterpolar\":[{\"type\":\"scatterpolar\",\"marker\":{\"colorbar\":{\"outlinewidth\":0,\"ticks\":\"\"}}}],\"histogram\":[{\"marker\":{\"pattern\":{\"fillmode\":\"overlay\",\"size\":10,\"solidity\":0.2}},\"type\":\"histogram\"}],\"scattergl\":[{\"type\":\"scattergl\",\"marker\":{\"colorbar\":{\"outlinewidth\":0,\"ticks\":\"\"}}}],\"scatter3d\":[{\"type\":\"scatter3d\",\"line\":{\"colorbar\":{\"outlinewidth\":0,\"ticks\":\"\"}},\"marker\":{\"colorbar\":{\"outlinewidth\":0,\"ticks\":\"\"}}}],\"scattermapbox\":[{\"type\":\"scattermapbox\",\"marker\":{\"colorbar\":{\"outlinewidth\":0,\"ticks\":\"\"}}}],\"scatterternary\":[{\"type\":\"scatterternary\",\"marker\":{\"colorbar\":{\"outlinewidth\":0,\"ticks\":\"\"}}}],\"scattercarpet\":[{\"type\":\"scattercarpet\",\"marker\":{\"colorbar\":{\"outlinewidth\":0,\"ticks\":\"\"}}}],\"carpet\":[{\"aaxis\":{\"endlinecolor\":\"#2a3f5f\",\"gridcolor\":\"white\",\"linecolor\":\"white\",\"minorgridcolor\":\"white\",\"startlinecolor\":\"#2a3f5f\"},\"baxis\":{\"endlinecolor\":\"#2a3f5f\",\"gridcolor\":\"white\",\"linecolor\":\"white\",\"minorgridcolor\":\"white\",\"startlinecolor\":\"#2a3f5f\"},\"type\":\"carpet\"}],\"table\":[{\"cells\":{\"fill\":{\"color\":\"#EBF0F8\"},\"line\":{\"color\":\"white\"}},\"header\":{\"fill\":{\"color\":\"#C8D4E3\"},\"line\":{\"color\":\"white\"}},\"type\":\"table\"}],\"barpolar\":[{\"marker\":{\"line\":{\"color\":\"#E5ECF6\",\"width\":0.5},\"pattern\":{\"fillmode\":\"overlay\",\"size\":10,\"solidity\":0.2}},\"type\":\"barpolar\"}],\"pie\":[{\"automargin\":true,\"type\":\"pie\"}]},\"layout\":{\"autotypenumbers\":\"strict\",\"colorway\":[\"#636efa\",\"#EF553B\",\"#00cc96\",\"#ab63fa\",\"#FFA15A\",\"#19d3f3\",\"#FF6692\",\"#B6E880\",\"#FF97FF\",\"#FECB52\"],\"font\":{\"color\":\"#2a3f5f\"},\"hovermode\":\"closest\",\"hoverlabel\":{\"align\":\"left\"},\"paper_bgcolor\":\"white\",\"plot_bgcolor\":\"#E5ECF6\",\"polar\":{\"bgcolor\":\"#E5ECF6\",\"angularaxis\":{\"gridcolor\":\"white\",\"linecolor\":\"white\",\"ticks\":\"\"},\"radialaxis\":{\"gridcolor\":\"white\",\"linecolor\":\"white\",\"ticks\":\"\"}},\"ternary\":{\"bgcolor\":\"#E5ECF6\",\"aaxis\":{\"gridcolor\":\"white\",\"linecolor\":\"white\",\"ticks\":\"\"},\"baxis\":{\"gridcolor\":\"white\",\"linecolor\":\"white\",\"ticks\":\"\"},\"caxis\":{\"gridcolor\":\"white\",\"linecolor\":\"white\",\"ticks\":\"\"}},\"coloraxis\":{\"colorbar\":{\"outlinewidth\":0,\"ticks\":\"\"}},\"colorscale\":{\"sequential\":[[0.0,\"#0d0887\"],[0.1111111111111111,\"#46039f\"],[0.2222222222222222,\"#7201a8\"],[0.3333333333333333,\"#9c179e\"],[0.4444444444444444,\"#bd3786\"],[0.5555555555555556,\"#d8576b\"],[0.6666666666666666,\"#ed7953\"],[0.7777777777777778,\"#fb9f3a\"],[0.8888888888888888,\"#fdca26\"],[1.0,\"#f0f921\"]],\"sequentialminus\":[[0.0,\"#0d0887\"],[0.1111111111111111,\"#46039f\"],[0.2222222222222222,\"#7201a8\"],[0.3333333333333333,\"#9c179e\"],[0.4444444444444444,\"#bd3786\"],[0.5555555555555556,\"#d8576b\"],[0.6666666666666666,\"#ed7953\"],[0.7777777777777778,\"#fb9f3a\"],[0.8888888888888888,\"#fdca26\"],[1.0,\"#f0f921\"]],\"diverging\":[[0,\"#8e0152\"],[0.1,\"#c51b7d\"],[0.2,\"#de77ae\"],[0.3,\"#f1b6da\"],[0.4,\"#fde0ef\"],[0.5,\"#f7f7f7\"],[0.6,\"#e6f5d0\"],[0.7,\"#b8e186\"],[0.8,\"#7fbc41\"],[0.9,\"#4d9221\"],[1,\"#276419\"]]},\"xaxis\":{\"gridcolor\":\"white\",\"linecolor\":\"white\",\"ticks\":\"\",\"title\":{\"standoff\":15},\"zerolinecolor\":\"white\",\"automargin\":true,\"zerolinewidth\":2},\"yaxis\":{\"gridcolor\":\"white\",\"linecolor\":\"white\",\"ticks\":\"\",\"title\":{\"standoff\":15},\"zerolinecolor\":\"white\",\"automargin\":true,\"zerolinewidth\":2},\"scene\":{\"xaxis\":{\"backgroundcolor\":\"#E5ECF6\",\"gridcolor\":\"white\",\"linecolor\":\"white\",\"showbackground\":true,\"ticks\":\"\",\"zerolinecolor\":\"white\",\"gridwidth\":2},\"yaxis\":{\"backgroundcolor\":\"#E5ECF6\",\"gridcolor\":\"white\",\"linecolor\":\"white\",\"showbackground\":true,\"ticks\":\"\",\"zerolinecolor\":\"white\",\"gridwidth\":2},\"zaxis\":{\"backgroundcolor\":\"#E5ECF6\",\"gridcolor\":\"white\",\"linecolor\":\"white\",\"showbackground\":true,\"ticks\":\"\",\"zerolinecolor\":\"white\",\"gridwidth\":2}},\"shapedefaults\":{\"line\":{\"color\":\"#2a3f5f\"}},\"annotationdefaults\":{\"arrowcolor\":\"#2a3f5f\",\"arrowhead\":0,\"arrowwidth\":1},\"geo\":{\"bgcolor\":\"white\",\"landcolor\":\"#E5ECF6\",\"subunitcolor\":\"white\",\"showland\":true,\"showlakes\":true,\"lakecolor\":\"white\"},\"title\":{\"x\":0.05},\"mapbox\":{\"style\":\"light\"}}},\"geo\":{\"domain\":{\"x\":[0.0,0.45],\"y\":[0.0,1.0]},\"scope\":\"usa\",\"showcountries\":true,\"countrycolor\":\"black\",\"showsubunits\":true,\"subunitcolor\":\"black\"},\"geo2\":{\"domain\":{\"x\":[0.55,1.0],\"y\":[0.0,1.0]},\"scope\":\"usa\",\"showcountries\":true,\"countrycolor\":\"black\",\"showsubunits\":true,\"subunitcolor\":\"black\"},\"annotations\":[{\"font\":{\"size\":16},\"showarrow\":false,\"text\":\"Geocoded City 1\",\"x\":0.225,\"xanchor\":\"center\",\"xref\":\"paper\",\"y\":1.0,\"yanchor\":\"bottom\",\"yref\":\"paper\"},{\"font\":{\"size\":16},\"showarrow\":false,\"text\":\"Geocoded City 2\",\"x\":0.775,\"xanchor\":\"center\",\"xref\":\"paper\",\"y\":1.0,\"yanchor\":\"bottom\",\"yref\":\"paper\"}],\"title\":{\"text\":\"Airport Departures (2001-2004)\"},\"coloraxis\":{\"colorbar\":{\"title\":{\"text\":\"Airport Counts\"}}},\"width\":1200,\"height\":600,\"sliders\":[{\"currentvalue\":{\"font\":{\"color\":\"black\",\"size\":20},\"offset\":50,\"prefix\":\"\",\"visible\":true,\"xanchor\":\"center\"},\"len\":0.9,\"pad\":{\"b\":10,\"t\":50},\"steps\":[{\"args\":[[\"2001 Q1\"],{\"mode\":\"immediate\",\"frame\":{\"duration\":500,\"redraw\":true},\"transition\":{\"duration\":300,\"easing\":\"quadratic-in-out\"}}],\"label\":\"2001 Q1\",\"method\":\"animate\"},{\"args\":[[\"2001 Q2\"],{\"mode\":\"immediate\",\"frame\":{\"duration\":500,\"redraw\":true},\"transition\":{\"duration\":300,\"easing\":\"quadratic-in-out\"}}],\"label\":\"2001 Q2\",\"method\":\"animate\"},{\"args\":[[\"2001 Q3\"],{\"mode\":\"immediate\",\"frame\":{\"duration\":500,\"redraw\":true},\"transition\":{\"duration\":300,\"easing\":\"quadratic-in-out\"}}],\"label\":\"2001 Q3\",\"method\":\"animate\"},{\"args\":[[\"2001 Q4\"],{\"mode\":\"immediate\",\"frame\":{\"duration\":500,\"redraw\":true},\"transition\":{\"duration\":300,\"easing\":\"quadratic-in-out\"}}],\"label\":\"2001 Q4\",\"method\":\"animate\"},{\"args\":[[\"2002 Q1\"],{\"mode\":\"immediate\",\"frame\":{\"duration\":500,\"redraw\":true},\"transition\":{\"duration\":300,\"easing\":\"quadratic-in-out\"}}],\"label\":\"2002 Q1\",\"method\":\"animate\"},{\"args\":[[\"2002 Q2\"],{\"mode\":\"immediate\",\"frame\":{\"duration\":500,\"redraw\":true},\"transition\":{\"duration\":300,\"easing\":\"quadratic-in-out\"}}],\"label\":\"2002 Q2\",\"method\":\"animate\"},{\"args\":[[\"2002 Q3\"],{\"mode\":\"immediate\",\"frame\":{\"duration\":500,\"redraw\":true},\"transition\":{\"duration\":300,\"easing\":\"quadratic-in-out\"}}],\"label\":\"2002 Q3\",\"method\":\"animate\"},{\"args\":[[\"2002 Q4\"],{\"mode\":\"immediate\",\"frame\":{\"duration\":500,\"redraw\":true},\"transition\":{\"duration\":300,\"easing\":\"quadratic-in-out\"}}],\"label\":\"2002 Q4\",\"method\":\"animate\"},{\"args\":[[\"2003 Q1\"],{\"mode\":\"immediate\",\"frame\":{\"duration\":500,\"redraw\":true},\"transition\":{\"duration\":300,\"easing\":\"quadratic-in-out\"}}],\"label\":\"2003 Q1\",\"method\":\"animate\"},{\"args\":[[\"2003 Q2\"],{\"mode\":\"immediate\",\"frame\":{\"duration\":500,\"redraw\":true},\"transition\":{\"duration\":300,\"easing\":\"quadratic-in-out\"}}],\"label\":\"2003 Q2\",\"method\":\"animate\"},{\"args\":[[\"2003 Q3\"],{\"mode\":\"immediate\",\"frame\":{\"duration\":500,\"redraw\":true},\"transition\":{\"duration\":300,\"easing\":\"quadratic-in-out\"}}],\"label\":\"2003 Q3\",\"method\":\"animate\"},{\"args\":[[\"2003 Q4\"],{\"mode\":\"immediate\",\"frame\":{\"duration\":500,\"redraw\":true},\"transition\":{\"duration\":300,\"easing\":\"quadratic-in-out\"}}],\"label\":\"2003 Q4\",\"method\":\"animate\"},{\"args\":[[\"2004 Q1\"],{\"mode\":\"immediate\",\"frame\":{\"duration\":500,\"redraw\":true},\"transition\":{\"duration\":300,\"easing\":\"quadratic-in-out\"}}],\"label\":\"2004 Q1\",\"method\":\"animate\"},{\"args\":[[\"2004 Q2\"],{\"mode\":\"immediate\",\"frame\":{\"duration\":500,\"redraw\":true},\"transition\":{\"duration\":300,\"easing\":\"quadratic-in-out\"}}],\"label\":\"2004 Q2\",\"method\":\"animate\"},{\"args\":[[\"2004 Q3\"],{\"mode\":\"immediate\",\"frame\":{\"duration\":500,\"redraw\":true},\"transition\":{\"duration\":300,\"easing\":\"quadratic-in-out\"}}],\"label\":\"2004 Q3\",\"method\":\"animate\"},{\"args\":[[\"2004 Q4\"],{\"mode\":\"immediate\",\"frame\":{\"duration\":500,\"redraw\":true},\"transition\":{\"duration\":300,\"easing\":\"quadratic-in-out\"}}],\"label\":\"2004 Q4\",\"method\":\"animate\"}],\"x\":0.1,\"y\":0}],\"updatemenus\":[{\"buttons\":[{\"args\":[null,{\"frame\":{\"duration\":500,\"redraw\":true},\"fromcurrent\":true,\"transition\":{\"duration\":300,\"easing\":\"quadratic-in-out\"}}],\"label\":\"Play\",\"method\":\"animate\"},{\"args\":[[null],{\"frame\":{\"duration\":0,\"redraw\":false},\"mode\":\"immediate\",\"transition\":{\"duration\":0}}],\"label\":\"Pause\",\"method\":\"animate\"}],\"direction\":\"left\",\"pad\":{\"r\":10,\"t\":87},\"showactive\":false,\"type\":\"buttons\",\"x\":0.1,\"xanchor\":\"right\",\"y\":0,\"yanchor\":\"top\"}]},                        {\"responsive\": true}                    ).then(function(){\n",
       "                            \n",
       "var gd = document.getElementById('f2a84252-f410-4d47-9a0d-f190be7af879');\n",
       "var x = new MutationObserver(function (mutations, observer) {{\n",
       "        var display = window.getComputedStyle(gd).display;\n",
       "        if (!display || display === 'none') {{\n",
       "            console.log([gd, 'removed!']);\n",
       "            Plotly.purge(gd);\n",
       "            observer.disconnect();\n",
       "        }}\n",
       "}});\n",
       "\n",
       "// Listen for the removal of the full notebook cells\n",
       "var notebookContainer = gd.closest('#notebook-container');\n",
       "if (notebookContainer) {{\n",
       "    x.observe(notebookContainer, {childList: true});\n",
       "}}\n",
       "\n",
       "// Listen for the clearing of the current output cell\n",
       "var outputEl = gd.closest('.output');\n",
       "if (outputEl) {{\n",
       "    x.observe(outputEl, {childList: true});\n",
       "}}\n",
       "\n",
       "                        })                };                });            </script>        </div>"
      ]
     },
     "metadata": {},
     "output_type": "display_data"
    }
   ],
   "source": [
    "# Plotting the two maps\n",
    "fig.show()"
   ]
  },
  {
   "cell_type": "markdown",
   "id": "73bd0407-9163-49a2-a883-2f6871ea14d2",
   "metadata": {},
   "source": [
    "# BACKGROUND CODE"
   ]
  },
  {
   "cell_type": "code",
   "execution_count": 118,
   "id": "fcb9eccb-b4a1-40d8-a1d5-5153e0e0d1c2",
   "metadata": {},
   "outputs": [],
   "source": [
    "import re\n",
    "def extract_state(row):\n",
    "    pattern = r',\\s([A-Z]{2})'\n",
    "    match = re.search(pattern,row)\n",
    "    return match.group(1) if match else \"\"\n",
    "\n",
    "\n",
    "airfare['state1'] = airfare['city1'].apply(extract_state)\n",
    "airfare['state2'] = airfare['city2'].apply(extract_state)"
   ]
  },
  {
   "cell_type": "code",
   "execution_count": 120,
   "id": "b865ad53-db54-4971-af72-08eec456a66a",
   "metadata": {},
   "outputs": [
    {
     "data": {
      "text/plain": [
       "0"
      ]
     },
     "execution_count": 120,
     "metadata": {},
     "output_type": "execute_result"
    }
   ],
   "source": [
    "airfare['state2'].isna().sum()"
   ]
  },
  {
   "cell_type": "code",
   "execution_count": null,
   "id": "93181ac5-cd66-48e3-8587-1e635e0c82b7",
   "metadata": {},
   "outputs": [],
   "source": []
  }
 ],
 "metadata": {
  "kernelspec": {
   "display_name": "Python 3 (ipykernel)",
   "language": "python",
   "name": "python3"
  },
  "language_info": {
   "codemirror_mode": {
    "name": "ipython",
    "version": 3
   },
   "file_extension": ".py",
   "mimetype": "text/x-python",
   "name": "python",
   "nbconvert_exporter": "python",
   "pygments_lexer": "ipython3",
   "version": "3.11.7"
  }
 },
 "nbformat": 4,
 "nbformat_minor": 5
}
